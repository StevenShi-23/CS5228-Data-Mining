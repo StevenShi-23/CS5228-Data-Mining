{
 "cells": [
  {
   "cell_type": "code",
   "execution_count": 3,
   "metadata": {
    "collapsed": true
   },
   "outputs": [],
   "source": [
    "import numpy as np\n",
    "import pandas as pd\n",
    "import matplotlib.pyplot as plt\n",
    "from sklearn.linear_model import Ridge\n",
    "from sklearn.model_selection import cross_val_score\n",
    "from sklearn.ensemble import RandomForestRegressor\n",
    "from sklearn.preprocessing import OrdinalEncoder, OneHotEncoder\n",
    "from sklearn.compose import ColumnTransformer"
   ]
  },
  {
   "cell_type": "markdown",
   "metadata": {
    "collapsed": false
   },
   "source": [
    "# 1. Data Pre-processing"
   ]
  },
  {
   "cell_type": "markdown",
   "metadata": {
    "collapsed": false
   },
   "source": [
    "## 1.0 Load dataset"
   ]
  },
  {
   "cell_type": "code",
   "execution_count": 4,
   "metadata": {
    "collapsed": false,
    "pycharm": {
     "name": "#%%\n"
    }
   },
   "outputs": [],
   "source": [
    "df_train = pd.read_csv('dataset/train_yutong.csv')"
   ]
  },
  {
   "cell_type": "code",
   "execution_count": 3,
   "metadata": {
    "collapsed": false,
    "pycharm": {
     "name": "#%%\n"
    }
   },
   "outputs": [
    {
     "name": "stdout",
     "output_type": "stream",
     "text": [
      "<class 'pandas.core.frame.DataFrame'>\n",
      "RangeIndex: 25718 entries, 0 to 25717\n",
      "Data columns (total 36 columns):\n",
      " #   Column              Non-Null Count  Dtype  \n",
      "---  ------              --------------  -----  \n",
      " 0   Unnamed: 0          25718 non-null  int64  \n",
      " 1   listing_id          25718 non-null  int64  \n",
      " 2   name                25718 non-null  object \n",
      " 3   street              25718 non-null  object \n",
      " 4   type                25718 non-null  object \n",
      " 5   bathrooms           24484 non-null  float64\n",
      " 6   district            25718 non-null  int64  \n",
      " 7   region              25718 non-null  object \n",
      " 8   planning_area       25718 non-null  object \n",
      " 9   subszone            25718 non-null  object \n",
      " 10  built_year          25645 non-null  float64\n",
      " 11  no_of_units         24680 non-null  float64\n",
      " 12  area_size           25718 non-null  float64\n",
      " 13  date_listed         25718 non-null  object \n",
      " 14  price               25718 non-null  float64\n",
      " 15  bedrooms            25718 non-null  float64\n",
      " 16  tenure_remains      25718 non-null  int64  \n",
      " 17  tenure_years        25718 non-null  int64  \n",
      " 18  comme_min_distance  25718 non-null  float64\n",
      " 19  comme_no_1km        25718 non-null  int64  \n",
      " 20  comme_no_3km        25718 non-null  int64  \n",
      " 21  gov-m_min_distance  25718 non-null  float64\n",
      " 22  gov-m_no_1km        25718 non-null  int64  \n",
      " 23  gov-m_no_3km        25718 non-null  int64  \n",
      " 24  shopp_min_distance  25718 non-null  float64\n",
      " 25  shopp_no_1km        25718 non-null  int64  \n",
      " 26  shopp_no_3km        25718 non-null  int64  \n",
      " 27  secon_min_distance  25718 non-null  float64\n",
      " 28  secon_no_1km        25718 non-null  int64  \n",
      " 29  secon_no_3km        25718 non-null  int64  \n",
      " 30  prima_min_distance  25718 non-null  float64\n",
      " 31  prima_no_1km        25718 non-null  int64  \n",
      " 32  prima_no_3km        25718 non-null  int64  \n",
      " 33  train_min_distance  25718 non-null  float64\n",
      " 34  train_no_1km        25718 non-null  int64  \n",
      " 35  train_no_3km        25718 non-null  int64  \n",
      "dtypes: float64(12), int64(17), object(7)\n",
      "memory usage: 7.1+ MB\n"
     ]
    }
   ],
   "source": [
    "df_train.info()"
   ]
  },
  {
   "cell_type": "code",
   "execution_count": 4,
   "metadata": {
    "collapsed": false,
    "pycharm": {
     "name": "#%%\n"
    }
   },
   "outputs": [
    {
     "data": {
      "text/html": [
       "<div>\n",
       "<style scoped>\n",
       "    .dataframe tbody tr th:only-of-type {\n",
       "        vertical-align: middle;\n",
       "    }\n",
       "\n",
       "    .dataframe tbody tr th {\n",
       "        vertical-align: top;\n",
       "    }\n",
       "\n",
       "    .dataframe thead th {\n",
       "        text-align: right;\n",
       "    }\n",
       "</style>\n",
       "<table border=\"1\" class=\"dataframe\">\n",
       "  <thead>\n",
       "    <tr style=\"text-align: right;\">\n",
       "      <th></th>\n",
       "      <th>Unnamed: 0</th>\n",
       "      <th>listing_id</th>\n",
       "      <th>name</th>\n",
       "      <th>street</th>\n",
       "      <th>type</th>\n",
       "      <th>bathrooms</th>\n",
       "      <th>district</th>\n",
       "      <th>region</th>\n",
       "      <th>planning_area</th>\n",
       "      <th>subszone</th>\n",
       "      <th>...</th>\n",
       "      <th>shopp_no_3km</th>\n",
       "      <th>secon_min_distance</th>\n",
       "      <th>secon_no_1km</th>\n",
       "      <th>secon_no_3km</th>\n",
       "      <th>prima_min_distance</th>\n",
       "      <th>prima_no_1km</th>\n",
       "      <th>prima_no_3km</th>\n",
       "      <th>train_min_distance</th>\n",
       "      <th>train_no_1km</th>\n",
       "      <th>train_no_3km</th>\n",
       "    </tr>\n",
       "  </thead>\n",
       "  <tbody>\n",
       "    <tr>\n",
       "      <th>0</th>\n",
       "      <td>0</td>\n",
       "      <td>6998418</td>\n",
       "      <td>seascape</td>\n",
       "      <td>57 cove way</td>\n",
       "      <td>condominium</td>\n",
       "      <td>4.0</td>\n",
       "      <td>4</td>\n",
       "      <td>central region</td>\n",
       "      <td>southern islands</td>\n",
       "      <td>sentosa</td>\n",
       "      <td>...</td>\n",
       "      <td>6</td>\n",
       "      <td>2.739930</td>\n",
       "      <td>0</td>\n",
       "      <td>1</td>\n",
       "      <td>2.511796</td>\n",
       "      <td>0</td>\n",
       "      <td>3</td>\n",
       "      <td>2.110841</td>\n",
       "      <td>0</td>\n",
       "      <td>7</td>\n",
       "    </tr>\n",
       "    <tr>\n",
       "      <th>1</th>\n",
       "      <td>1</td>\n",
       "      <td>2046604</td>\n",
       "      <td>la maison</td>\n",
       "      <td>10 moulmein rise</td>\n",
       "      <td>apartment</td>\n",
       "      <td>3.0</td>\n",
       "      <td>11</td>\n",
       "      <td>central region</td>\n",
       "      <td>novena</td>\n",
       "      <td>moulmein</td>\n",
       "      <td>...</td>\n",
       "      <td>70</td>\n",
       "      <td>0.786247</td>\n",
       "      <td>3</td>\n",
       "      <td>27</td>\n",
       "      <td>0.145587</td>\n",
       "      <td>7</td>\n",
       "      <td>35</td>\n",
       "      <td>0.230193</td>\n",
       "      <td>5</td>\n",
       "      <td>53</td>\n",
       "    </tr>\n",
       "    <tr>\n",
       "      <th>2</th>\n",
       "      <td>2</td>\n",
       "      <td>7563513</td>\n",
       "      <td>viva</td>\n",
       "      <td>2 suffolk walk</td>\n",
       "      <td>condominium</td>\n",
       "      <td>3.0</td>\n",
       "      <td>11</td>\n",
       "      <td>central region</td>\n",
       "      <td>novena</td>\n",
       "      <td>moulmein</td>\n",
       "      <td>...</td>\n",
       "      <td>70</td>\n",
       "      <td>0.668196</td>\n",
       "      <td>1</td>\n",
       "      <td>28</td>\n",
       "      <td>0.182761</td>\n",
       "      <td>7</td>\n",
       "      <td>34</td>\n",
       "      <td>0.331496</td>\n",
       "      <td>5</td>\n",
       "      <td>50</td>\n",
       "    </tr>\n",
       "    <tr>\n",
       "      <th>3</th>\n",
       "      <td>3</td>\n",
       "      <td>3071445</td>\n",
       "      <td>urban treasures</td>\n",
       "      <td>205 jalan eunos</td>\n",
       "      <td>condominium</td>\n",
       "      <td>2.0</td>\n",
       "      <td>14</td>\n",
       "      <td>east region</td>\n",
       "      <td>bedok</td>\n",
       "      <td>kaki bukit</td>\n",
       "      <td>...</td>\n",
       "      <td>25</td>\n",
       "      <td>0.308054</td>\n",
       "      <td>1</td>\n",
       "      <td>30</td>\n",
       "      <td>0.300643</td>\n",
       "      <td>4</td>\n",
       "      <td>33</td>\n",
       "      <td>0.426680</td>\n",
       "      <td>5</td>\n",
       "      <td>24</td>\n",
       "    </tr>\n",
       "    <tr>\n",
       "      <th>4</th>\n",
       "      <td>4</td>\n",
       "      <td>9667539</td>\n",
       "      <td>infini at east coast</td>\n",
       "      <td>east coast road</td>\n",
       "      <td>apartment</td>\n",
       "      <td>3.0</td>\n",
       "      <td>15</td>\n",
       "      <td>east region</td>\n",
       "      <td>bedok</td>\n",
       "      <td>frankel</td>\n",
       "      <td>...</td>\n",
       "      <td>18</td>\n",
       "      <td>0.388370</td>\n",
       "      <td>3</td>\n",
       "      <td>20</td>\n",
       "      <td>0.232984</td>\n",
       "      <td>6</td>\n",
       "      <td>22</td>\n",
       "      <td>0.822432</td>\n",
       "      <td>2</td>\n",
       "      <td>18</td>\n",
       "    </tr>\n",
       "  </tbody>\n",
       "</table>\n",
       "<p>5 rows × 36 columns</p>\n",
       "</div>"
      ],
      "text/plain": [
       "   Unnamed: 0  listing_id                  name             street  \\\n",
       "0           0     6998418              seascape       57 cove way    \n",
       "1           1     2046604             la maison  10 moulmein rise    \n",
       "2           2     7563513                  viva    2 suffolk walk    \n",
       "3           3     3071445       urban treasures   205 jalan eunos    \n",
       "4           4     9667539  infini at east coast    east coast road   \n",
       "\n",
       "          type  bathrooms  district          region     planning_area  \\\n",
       "0  condominium        4.0         4  central region  southern islands   \n",
       "1    apartment        3.0        11  central region            novena   \n",
       "2  condominium        3.0        11  central region            novena   \n",
       "3  condominium        2.0        14     east region             bedok   \n",
       "4    apartment        3.0        15     east region             bedok   \n",
       "\n",
       "     subszone  ...  shopp_no_3km  secon_min_distance  secon_no_1km  \\\n",
       "0     sentosa  ...             6            2.739930             0   \n",
       "1    moulmein  ...            70            0.786247             3   \n",
       "2    moulmein  ...            70            0.668196             1   \n",
       "3  kaki bukit  ...            25            0.308054             1   \n",
       "4     frankel  ...            18            0.388370             3   \n",
       "\n",
       "  secon_no_3km  prima_min_distance  prima_no_1km  prima_no_3km  \\\n",
       "0            1            2.511796             0             3   \n",
       "1           27            0.145587             7            35   \n",
       "2           28            0.182761             7            34   \n",
       "3           30            0.300643             4            33   \n",
       "4           20            0.232984             6            22   \n",
       "\n",
       "   train_min_distance  train_no_1km  train_no_3km  \n",
       "0            2.110841             0             7  \n",
       "1            0.230193             5            53  \n",
       "2            0.331496             5            50  \n",
       "3            0.426680             5            24  \n",
       "4            0.822432             2            18  \n",
       "\n",
       "[5 rows x 36 columns]"
      ]
     },
     "execution_count": 4,
     "metadata": {},
     "output_type": "execute_result"
    }
   ],
   "source": [
    "df_train.head()"
   ]
  },
  {
   "cell_type": "code",
   "execution_count": 5,
   "metadata": {
    "collapsed": false,
    "pycharm": {
     "name": "#%%\n"
    }
   },
   "outputs": [
    {
     "data": {
      "text/html": [
       "<div>\n",
       "<style scoped>\n",
       "    .dataframe tbody tr th:only-of-type {\n",
       "        vertical-align: middle;\n",
       "    }\n",
       "\n",
       "    .dataframe tbody tr th {\n",
       "        vertical-align: top;\n",
       "    }\n",
       "\n",
       "    .dataframe thead th {\n",
       "        text-align: right;\n",
       "    }\n",
       "</style>\n",
       "<table border=\"1\" class=\"dataframe\">\n",
       "  <thead>\n",
       "    <tr style=\"text-align: right;\">\n",
       "      <th></th>\n",
       "      <th>Unnamed: 0</th>\n",
       "      <th>listing_id</th>\n",
       "      <th>bathrooms</th>\n",
       "      <th>district</th>\n",
       "      <th>built_year</th>\n",
       "      <th>no_of_units</th>\n",
       "      <th>area_size</th>\n",
       "      <th>price</th>\n",
       "      <th>bedrooms</th>\n",
       "      <th>tenure_remains</th>\n",
       "      <th>...</th>\n",
       "      <th>shopp_no_3km</th>\n",
       "      <th>secon_min_distance</th>\n",
       "      <th>secon_no_1km</th>\n",
       "      <th>secon_no_3km</th>\n",
       "      <th>prima_min_distance</th>\n",
       "      <th>prima_no_1km</th>\n",
       "      <th>prima_no_3km</th>\n",
       "      <th>train_min_distance</th>\n",
       "      <th>train_no_1km</th>\n",
       "      <th>train_no_3km</th>\n",
       "    </tr>\n",
       "  </thead>\n",
       "  <tbody>\n",
       "    <tr>\n",
       "      <th>count</th>\n",
       "      <td>25718.000000</td>\n",
       "      <td>2.571800e+04</td>\n",
       "      <td>24484.000000</td>\n",
       "      <td>25718.000000</td>\n",
       "      <td>25645.000000</td>\n",
       "      <td>24680.000000</td>\n",
       "      <td>25718.000000</td>\n",
       "      <td>2.571800e+04</td>\n",
       "      <td>25718.000000</td>\n",
       "      <td>25718.000000</td>\n",
       "      <td>...</td>\n",
       "      <td>25718.000000</td>\n",
       "      <td>25718.000000</td>\n",
       "      <td>25718.000000</td>\n",
       "      <td>25718.000000</td>\n",
       "      <td>25718.000000</td>\n",
       "      <td>25718.000000</td>\n",
       "      <td>25718.000000</td>\n",
       "      <td>25718.000000</td>\n",
       "      <td>25718.000000</td>\n",
       "      <td>25718.000000</td>\n",
       "    </tr>\n",
       "    <tr>\n",
       "      <th>mean</th>\n",
       "      <td>12858.500000</td>\n",
       "      <td>5.495814e+06</td>\n",
       "      <td>2.281000</td>\n",
       "      <td>12.212497</td>\n",
       "      <td>1995.159524</td>\n",
       "      <td>461.681483</td>\n",
       "      <td>1251.166343</td>\n",
       "      <td>3.003332e+06</td>\n",
       "      <td>2.566879</td>\n",
       "      <td>380276.113889</td>\n",
       "      <td>...</td>\n",
       "      <td>41.989579</td>\n",
       "      <td>0.605690</td>\n",
       "      <td>2.800451</td>\n",
       "      <td>19.775138</td>\n",
       "      <td>0.481503</td>\n",
       "      <td>3.754024</td>\n",
       "      <td>25.373318</td>\n",
       "      <td>0.410230</td>\n",
       "      <td>4.955984</td>\n",
       "      <td>31.333541</td>\n",
       "    </tr>\n",
       "    <tr>\n",
       "      <th>std</th>\n",
       "      <td>7424.291448</td>\n",
       "      <td>2.607456e+06</td>\n",
       "      <td>1.146691</td>\n",
       "      <td>7.011785</td>\n",
       "      <td>33.875646</td>\n",
       "      <td>423.024212</td>\n",
       "      <td>1067.453284</td>\n",
       "      <td>4.340523e+06</td>\n",
       "      <td>1.143536</td>\n",
       "      <td>485386.342802</td>\n",
       "      <td>...</td>\n",
       "      <td>24.588214</td>\n",
       "      <td>0.414985</td>\n",
       "      <td>2.118362</td>\n",
       "      <td>7.724840</td>\n",
       "      <td>0.340616</td>\n",
       "      <td>2.441141</td>\n",
       "      <td>9.615606</td>\n",
       "      <td>0.328124</td>\n",
       "      <td>3.867986</td>\n",
       "      <td>13.351714</td>\n",
       "    </tr>\n",
       "    <tr>\n",
       "      <th>min</th>\n",
       "      <td>0.000000</td>\n",
       "      <td>1.000122e+06</td>\n",
       "      <td>1.000000</td>\n",
       "      <td>1.000000</td>\n",
       "      <td>1910.000000</td>\n",
       "      <td>4.000000</td>\n",
       "      <td>323.000000</td>\n",
       "      <td>5.566000e+05</td>\n",
       "      <td>0.000000</td>\n",
       "      <td>0.000000</td>\n",
       "      <td>...</td>\n",
       "      <td>4.000000</td>\n",
       "      <td>0.014425</td>\n",
       "      <td>0.000000</td>\n",
       "      <td>1.000000</td>\n",
       "      <td>0.008718</td>\n",
       "      <td>0.000000</td>\n",
       "      <td>3.000000</td>\n",
       "      <td>0.000051</td>\n",
       "      <td>0.000000</td>\n",
       "      <td>4.000000</td>\n",
       "    </tr>\n",
       "    <tr>\n",
       "      <th>25%</th>\n",
       "      <td>6429.250000</td>\n",
       "      <td>3.227969e+06</td>\n",
       "      <td>1.000000</td>\n",
       "      <td>7.000000</td>\n",
       "      <td>1985.000000</td>\n",
       "      <td>130.000000</td>\n",
       "      <td>689.000000</td>\n",
       "      <td>1.342000e+06</td>\n",
       "      <td>2.000000</td>\n",
       "      <td>99.000000</td>\n",
       "      <td>...</td>\n",
       "      <td>18.000000</td>\n",
       "      <td>0.319962</td>\n",
       "      <td>1.000000</td>\n",
       "      <td>15.000000</td>\n",
       "      <td>0.270678</td>\n",
       "      <td>2.000000</td>\n",
       "      <td>19.000000</td>\n",
       "      <td>0.178788</td>\n",
       "      <td>2.000000</td>\n",
       "      <td>20.000000</td>\n",
       "    </tr>\n",
       "    <tr>\n",
       "      <th>50%</th>\n",
       "      <td>12858.500000</td>\n",
       "      <td>5.489918e+06</td>\n",
       "      <td>2.000000</td>\n",
       "      <td>11.000000</td>\n",
       "      <td>2013.000000</td>\n",
       "      <td>366.000000</td>\n",
       "      <td>958.000000</td>\n",
       "      <td>1.856800e+06</td>\n",
       "      <td>3.000000</td>\n",
       "      <td>99.000000</td>\n",
       "      <td>...</td>\n",
       "      <td>38.000000</td>\n",
       "      <td>0.522009</td>\n",
       "      <td>3.000000</td>\n",
       "      <td>20.000000</td>\n",
       "      <td>0.401050</td>\n",
       "      <td>3.000000</td>\n",
       "      <td>25.000000</td>\n",
       "      <td>0.332035</td>\n",
       "      <td>4.000000</td>\n",
       "      <td>34.000000</td>\n",
       "    </tr>\n",
       "    <tr>\n",
       "      <th>75%</th>\n",
       "      <td>19287.750000</td>\n",
       "      <td>7.764957e+06</td>\n",
       "      <td>3.000000</td>\n",
       "      <td>18.000000</td>\n",
       "      <td>2017.000000</td>\n",
       "      <td>646.000000</td>\n",
       "      <td>1363.750000</td>\n",
       "      <td>2.956800e+06</td>\n",
       "      <td>3.000000</td>\n",
       "      <td>1000000.000000</td>\n",
       "      <td>...</td>\n",
       "      <td>70.000000</td>\n",
       "      <td>0.773172</td>\n",
       "      <td>4.000000</td>\n",
       "      <td>25.000000</td>\n",
       "      <td>0.605686</td>\n",
       "      <td>5.000000</td>\n",
       "      <td>31.000000</td>\n",
       "      <td>0.534392</td>\n",
       "      <td>7.000000</td>\n",
       "      <td>44.000000</td>\n",
       "    </tr>\n",
       "    <tr>\n",
       "      <th>max</th>\n",
       "      <td>25717.000000</td>\n",
       "      <td>9.999807e+06</td>\n",
       "      <td>8.000000</td>\n",
       "      <td>28.000000</td>\n",
       "      <td>2029.000000</td>\n",
       "      <td>2203.000000</td>\n",
       "      <td>15000.000000</td>\n",
       "      <td>7.480000e+07</td>\n",
       "      <td>8.000000</td>\n",
       "      <td>1000000.000000</td>\n",
       "      <td>...</td>\n",
       "      <td>82.000000</td>\n",
       "      <td>2.739930</td>\n",
       "      <td>9.000000</td>\n",
       "      <td>40.000000</td>\n",
       "      <td>2.511796</td>\n",
       "      <td>14.000000</td>\n",
       "      <td>50.000000</td>\n",
       "      <td>2.110841</td>\n",
       "      <td>20.000000</td>\n",
       "      <td>55.000000</td>\n",
       "    </tr>\n",
       "  </tbody>\n",
       "</table>\n",
       "<p>8 rows × 29 columns</p>\n",
       "</div>"
      ],
      "text/plain": [
       "         Unnamed: 0    listing_id     bathrooms      district    built_year  \\\n",
       "count  25718.000000  2.571800e+04  24484.000000  25718.000000  25645.000000   \n",
       "mean   12858.500000  5.495814e+06      2.281000     12.212497   1995.159524   \n",
       "std     7424.291448  2.607456e+06      1.146691      7.011785     33.875646   \n",
       "min        0.000000  1.000122e+06      1.000000      1.000000   1910.000000   \n",
       "25%     6429.250000  3.227969e+06      1.000000      7.000000   1985.000000   \n",
       "50%    12858.500000  5.489918e+06      2.000000     11.000000   2013.000000   \n",
       "75%    19287.750000  7.764957e+06      3.000000     18.000000   2017.000000   \n",
       "max    25717.000000  9.999807e+06      8.000000     28.000000   2029.000000   \n",
       "\n",
       "        no_of_units     area_size         price      bedrooms  tenure_remains  \\\n",
       "count  24680.000000  25718.000000  2.571800e+04  25718.000000    25718.000000   \n",
       "mean     461.681483   1251.166343  3.003332e+06      2.566879   380276.113889   \n",
       "std      423.024212   1067.453284  4.340523e+06      1.143536   485386.342802   \n",
       "min        4.000000    323.000000  5.566000e+05      0.000000        0.000000   \n",
       "25%      130.000000    689.000000  1.342000e+06      2.000000       99.000000   \n",
       "50%      366.000000    958.000000  1.856800e+06      3.000000       99.000000   \n",
       "75%      646.000000   1363.750000  2.956800e+06      3.000000  1000000.000000   \n",
       "max     2203.000000  15000.000000  7.480000e+07      8.000000  1000000.000000   \n",
       "\n",
       "       ...  shopp_no_3km  secon_min_distance  secon_no_1km  secon_no_3km  \\\n",
       "count  ...  25718.000000        25718.000000  25718.000000  25718.000000   \n",
       "mean   ...     41.989579            0.605690      2.800451     19.775138   \n",
       "std    ...     24.588214            0.414985      2.118362      7.724840   \n",
       "min    ...      4.000000            0.014425      0.000000      1.000000   \n",
       "25%    ...     18.000000            0.319962      1.000000     15.000000   \n",
       "50%    ...     38.000000            0.522009      3.000000     20.000000   \n",
       "75%    ...     70.000000            0.773172      4.000000     25.000000   \n",
       "max    ...     82.000000            2.739930      9.000000     40.000000   \n",
       "\n",
       "       prima_min_distance  prima_no_1km  prima_no_3km  train_min_distance  \\\n",
       "count        25718.000000  25718.000000  25718.000000        25718.000000   \n",
       "mean             0.481503      3.754024     25.373318            0.410230   \n",
       "std              0.340616      2.441141      9.615606            0.328124   \n",
       "min              0.008718      0.000000      3.000000            0.000051   \n",
       "25%              0.270678      2.000000     19.000000            0.178788   \n",
       "50%              0.401050      3.000000     25.000000            0.332035   \n",
       "75%              0.605686      5.000000     31.000000            0.534392   \n",
       "max              2.511796     14.000000     50.000000            2.110841   \n",
       "\n",
       "       train_no_1km  train_no_3km  \n",
       "count  25718.000000  25718.000000  \n",
       "mean       4.955984     31.333541  \n",
       "std        3.867986     13.351714  \n",
       "min        0.000000      4.000000  \n",
       "25%        2.000000     20.000000  \n",
       "50%        4.000000     34.000000  \n",
       "75%        7.000000     44.000000  \n",
       "max       20.000000     55.000000  \n",
       "\n",
       "[8 rows x 29 columns]"
      ]
     },
     "execution_count": 5,
     "metadata": {},
     "output_type": "execute_result"
    }
   ],
   "source": [
    "df_train.describe()"
   ]
  },
  {
   "cell_type": "markdown",
   "metadata": {
    "collapsed": false
   },
   "source": [
    "###  (optional) drop meaningless attributes"
   ]
  },
  {
   "cell_type": "code",
   "execution_count": 5,
   "metadata": {
    "collapsed": false,
    "pycharm": {
     "name": "#%%\n"
    }
   },
   "outputs": [],
   "source": [
    "meaningless_attrs = ['tenure_remains', 'listing_id', 'date_listed','Unnamed: 0','street','name'\n",
    "                    ,'planning_area'\n",
    "                    ,'subszone'     \n",
    "                     ]\n",
    "\n",
    "\n",
    "df_train_small = df_train.drop(labels=meaningless_attrs, axis=1)"
   ]
  },
  {
   "cell_type": "code",
   "execution_count": 6,
   "metadata": {
    "collapsed": false,
    "pycharm": {
     "name": "#%%\n"
    }
   },
   "outputs": [
    {
     "name": "stdout",
     "output_type": "stream",
     "text": [
      "<class 'pandas.core.frame.DataFrame'>\n",
      "RangeIndex: 25718 entries, 0 to 25717\n",
      "Data columns (total 28 columns):\n",
      " #   Column              Non-Null Count  Dtype  \n",
      "---  ------              --------------  -----  \n",
      " 0   type                25718 non-null  object \n",
      " 1   bathrooms           24484 non-null  float64\n",
      " 2   district            25718 non-null  int64  \n",
      " 3   region              25718 non-null  object \n",
      " 4   built_year          25645 non-null  float64\n",
      " 5   no_of_units         24680 non-null  float64\n",
      " 6   area_size           25718 non-null  float64\n",
      " 7   price               25718 non-null  float64\n",
      " 8   bedrooms            25718 non-null  float64\n",
      " 9   tenure_years        25718 non-null  int64  \n",
      " 10  comme_min_distance  25718 non-null  float64\n",
      " 11  comme_no_1km        25718 non-null  int64  \n",
      " 12  comme_no_3km        25718 non-null  int64  \n",
      " 13  gov-m_min_distance  25718 non-null  float64\n",
      " 14  gov-m_no_1km        25718 non-null  int64  \n",
      " 15  gov-m_no_3km        25718 non-null  int64  \n",
      " 16  shopp_min_distance  25718 non-null  float64\n",
      " 17  shopp_no_1km        25718 non-null  int64  \n",
      " 18  shopp_no_3km        25718 non-null  int64  \n",
      " 19  secon_min_distance  25718 non-null  float64\n",
      " 20  secon_no_1km        25718 non-null  int64  \n",
      " 21  secon_no_3km        25718 non-null  int64  \n",
      " 22  prima_min_distance  25718 non-null  float64\n",
      " 23  prima_no_1km        25718 non-null  int64  \n",
      " 24  prima_no_3km        25718 non-null  int64  \n",
      " 25  train_min_distance  25718 non-null  float64\n",
      " 26  train_no_1km        25718 non-null  int64  \n",
      " 27  train_no_3km        25718 non-null  int64  \n",
      "dtypes: float64(12), int64(14), object(2)\n",
      "memory usage: 5.5+ MB\n"
     ]
    }
   ],
   "source": [
    "df_train_small.info()"
   ]
  },
  {
   "cell_type": "markdown",
   "metadata": {
    "collapsed": false
   },
   "source": [
    "## 1.1 Label encoding"
   ]
  },
  {
   "cell_type": "markdown",
   "metadata": {},
   "source": [
    "We need to encode `object` and `int64`."
   ]
  },
  {
   "cell_type": "code",
   "execution_count": 120,
   "metadata": {},
   "outputs": [
    {
     "data": {
      "text/plain": [
       "type                   object\n",
       "bathrooms             float64\n",
       "district                int64\n",
       "region                 object\n",
       "built_year            float64\n",
       "no_of_units           float64\n",
       "area_size             float64\n",
       "price                 float64\n",
       "bedrooms              float64\n",
       "tenure_years            int64\n",
       "comme_min_distance    float64\n",
       "comme_no_1km            int64\n",
       "comme_no_3km            int64\n",
       "gov-m_min_distance    float64\n",
       "gov-m_no_1km            int64\n",
       "gov-m_no_3km            int64\n",
       "shopp_min_distance    float64\n",
       "shopp_no_1km            int64\n",
       "shopp_no_3km            int64\n",
       "secon_min_distance    float64\n",
       "secon_no_1km            int64\n",
       "secon_no_3km            int64\n",
       "prima_min_distance    float64\n",
       "prima_no_1km            int64\n",
       "prima_no_3km            int64\n",
       "train_min_distance    float64\n",
       "train_no_1km            int64\n",
       "train_no_3km            int64\n",
       "dtype: object"
      ]
     },
     "execution_count": 120,
     "metadata": {},
     "output_type": "execute_result"
    }
   ],
   "source": [
    "df_train_small.dtypes"
   ]
  },
  {
   "cell_type": "markdown",
   "metadata": {},
   "source": [
    "### 1.1.A Catagorical features"
   ]
  },
  {
   "cell_type": "code",
   "execution_count": 114,
   "metadata": {
    "collapsed": false,
    "pycharm": {
     "name": "#%%\n"
    }
   },
   "outputs": [
    {
     "data": {
      "text/plain": [
       "Index(['type', 'region'], dtype='object')"
      ]
     },
     "execution_count": 114,
     "metadata": {},
     "output_type": "execute_result"
    }
   ],
   "source": [
    "df_train_small.columns[df_train_small.dtypes==object]"
   ]
  },
  {
   "cell_type": "code",
   "execution_count": 119,
   "metadata": {},
   "outputs": [
    {
     "data": {
      "text/plain": [
       "Index(['district', 'tenure_years', 'comme_no_1km', 'comme_no_3km',\n",
       "       'gov-m_no_1km', 'gov-m_no_3km', 'shopp_no_1km', 'shopp_no_3km',\n",
       "       'secon_no_1km', 'secon_no_3km', 'prima_no_1km', 'prima_no_3km',\n",
       "       'train_no_1km', 'train_no_3km'],\n",
       "      dtype='object')"
      ]
     },
     "execution_count": 119,
     "metadata": {},
     "output_type": "execute_result"
    }
   ],
   "source": [
    "df_train_small.columns[df_train_small.dtypes=='int64']"
   ]
  },
  {
   "cell_type": "code",
   "execution_count": 7,
   "metadata": {
    "collapsed": false,
    "pycharm": {
     "name": "#%%\n"
    }
   },
   "outputs": [],
   "source": [
    "df_train_oh = df_train_small.copy()\n",
    "\n",
    "cat_cols = [ 'type', 'region', 'district','tenure_years']\n",
    "\n",
    "for i in range(len(cat_cols)):\n",
    "    df_train_oh = pd.merge(df_train_oh, pd.get_dummies(df_train_oh[cat_cols[i]], prefix=cat_cols[i]), on=df_train_oh.index.values)\n",
    "    df_train_oh.drop(columns=['key_0', cat_cols[i]], inplace=True)"
   ]
  },
  {
   "cell_type": "markdown",
   "metadata": {},
   "source": [
    "### 1.1.B Int64 to float"
   ]
  },
  {
   "cell_type": "code",
   "execution_count": 8,
   "metadata": {},
   "outputs": [
    {
     "data": {
      "text/plain": [
       "bathrooms                   float64\n",
       "built_year                  float64\n",
       "no_of_units                 float64\n",
       "area_size                   float64\n",
       "price                       float64\n",
       "bedrooms                    float64\n",
       "comme_min_distance          float64\n",
       "comme_no_1km                float64\n",
       "comme_no_3km                float64\n",
       "gov-m_min_distance          float64\n",
       "gov-m_no_1km                float64\n",
       "gov-m_no_3km                float64\n",
       "shopp_min_distance          float64\n",
       "shopp_no_1km                float64\n",
       "shopp_no_3km                float64\n",
       "secon_min_distance          float64\n",
       "secon_no_1km                float64\n",
       "secon_no_3km                float64\n",
       "prima_min_distance          float64\n",
       "prima_no_1km                float64\n",
       "prima_no_3km                float64\n",
       "train_min_distance          float64\n",
       "train_no_1km                float64\n",
       "train_no_3km                float64\n",
       "type_apartment              float64\n",
       "type_condominium            float64\n",
       "region_central region       float64\n",
       "region_east region          float64\n",
       "region_north region         float64\n",
       "region_north-east region    float64\n",
       "region_west region          float64\n",
       "district_1                  float64\n",
       "district_2                  float64\n",
       "district_3                  float64\n",
       "district_4                  float64\n",
       "district_5                  float64\n",
       "district_6                  float64\n",
       "district_7                  float64\n",
       "district_8                  float64\n",
       "district_9                  float64\n",
       "district_10                 float64\n",
       "district_11                 float64\n",
       "district_12                 float64\n",
       "district_13                 float64\n",
       "district_14                 float64\n",
       "district_15                 float64\n",
       "district_16                 float64\n",
       "district_17                 float64\n",
       "district_18                 float64\n",
       "district_19                 float64\n",
       "district_20                 float64\n",
       "district_21                 float64\n",
       "district_22                 float64\n",
       "district_23                 float64\n",
       "district_25                 float64\n",
       "district_26                 float64\n",
       "district_27                 float64\n",
       "district_28                 float64\n",
       "tenure_years_99             float64\n",
       "tenure_years_999            float64\n",
       "dtype: object"
      ]
     },
     "execution_count": 8,
     "metadata": {},
     "output_type": "execute_result"
    }
   ],
   "source": [
    "df_train_oh=df_train_oh.astype(float)\n",
    "df_train_oh.dtypes"
   ]
  },
  {
   "cell_type": "markdown",
   "metadata": {},
   "source": [
    "## 1.2 Fill nan data"
   ]
  },
  {
   "cell_type": "code",
   "execution_count": 9,
   "metadata": {},
   "outputs": [
    {
     "name": "stdout",
     "output_type": "stream",
     "text": [
      "bathrooms          1234\n",
      "no_of_units        1038\n",
      "built_year           73\n",
      "tenure_years_99       0\n",
      "district_28           0\n",
      "dtype: int64\n"
     ]
    }
   ],
   "source": [
    "print(df_train_oh.isnull().sum().sort_values(ascending = False).head(5))"
   ]
  },
  {
   "cell_type": "code",
   "execution_count": 10,
   "metadata": {},
   "outputs": [
    {
     "name": "stdout",
     "output_type": "stream",
     "text": [
      "0\n"
     ]
    }
   ],
   "source": [
    "mean_cols = df_train_oh.mean()\n",
    "train_data = df_train_oh.fillna(mean_cols)\n",
    "\n",
    "print(train_data.isnull().sum().sum())"
   ]
  },
  {
   "cell_type": "markdown",
   "metadata": {
    "collapsed": false
   },
   "source": [
    "## 1.3 Normalization"
   ]
  },
  {
   "cell_type": "code",
   "execution_count": 192,
   "metadata": {},
   "outputs": [
    {
     "data": {
      "text/plain": [
       "Index(['bathrooms', 'built_year', 'no_of_units', 'area_size', 'price',\n",
       "       'bedrooms', 'comme_min_distance', 'comme_no_1km', 'comme_no_3km',\n",
       "       'gov-m_min_distance', 'gov-m_no_1km', 'gov-m_no_3km',\n",
       "       'shopp_min_distance', 'shopp_no_1km', 'shopp_no_3km',\n",
       "       'secon_min_distance', 'secon_no_1km', 'secon_no_3km',\n",
       "       'prima_min_distance', 'prima_no_1km', 'prima_no_3km',\n",
       "       'train_min_distance', 'train_no_1km', 'train_no_3km', 'type_apartment',\n",
       "       'type_condominium', 'region_central region', 'region_east region',\n",
       "       'region_north region', 'region_north-east region', 'region_west region',\n",
       "       'district_1', 'district_2', 'district_3', 'district_4', 'district_5',\n",
       "       'district_6', 'district_7', 'district_8', 'district_9', 'district_10',\n",
       "       'district_11', 'district_12', 'district_13', 'district_14',\n",
       "       'district_15', 'district_16', 'district_17', 'district_18',\n",
       "       'district_19', 'district_20', 'district_21', 'district_22',\n",
       "       'district_23', 'district_25', 'district_26', 'district_27',\n",
       "       'district_28', 'tenure_years_99', 'tenure_years_999'],\n",
       "      dtype='object')"
      ]
     },
     "execution_count": 192,
     "metadata": {},
     "output_type": "execute_result"
    }
   ],
   "source": [
    "train_data.columns"
   ]
  },
  {
   "cell_type": "code",
   "execution_count": 11,
   "metadata": {},
   "outputs": [],
   "source": [
    "from sklearn.preprocessing import StandardScaler"
   ]
  },
  {
   "cell_type": "code",
   "execution_count": 12,
   "metadata": {},
   "outputs": [],
   "source": [
    "standard_vars = ['bathrooms', 'built_year', 'no_of_units', 'area_size','bedrooms', 'comme_min_distance','comme_no_1km', 'comme_no_3km',\n",
    "       'gov-m_min_distance', 'gov-m_no_1km', 'gov-m_no_3km',\n",
    "       'shopp_min_distance', 'shopp_no_1km', 'shopp_no_3km',\n",
    "       'secon_min_distance', 'secon_no_1km', 'secon_no_3km',\n",
    "       'prima_min_distance', 'prima_no_1km', 'prima_no_3km',\n",
    "       'train_min_distance', 'train_no_1km', 'train_no_3km']\n",
    "       \n",
    "non_standard_vars = ['type_apartment',\n",
    "       'type_condominium', 'region_central region', 'region_east region',\n",
    "       'region_north region', 'region_north-east region', 'region_west region',\n",
    "       'district_1', 'district_2', 'district_3', 'district_4', 'district_5',\n",
    "       'district_6', 'district_7', 'district_8', 'district_9', 'district_10',\n",
    "       'district_11', 'district_12', 'district_13', 'district_14',\n",
    "       'district_15', 'district_16', 'district_17', 'district_18',\n",
    "       'district_19', 'district_20', 'district_21', 'district_22',\n",
    "       'district_23', 'district_25', 'district_26', 'district_27',\n",
    "       'district_28', 'tenure_years_99', 'tenure_years_999']\n",
    "\n",
    "df_stand_part = pd.DataFrame(StandardScaler().fit_transform(train_data[standard_vars]), columns=standard_vars,\n",
    "                            index=train_data.index)\n",
    "df_train_stand = pd.concat([train_data[non_standard_vars], df_stand_part], axis=1)"
   ]
  },
  {
   "cell_type": "code",
   "execution_count": 13,
   "metadata": {},
   "outputs": [
    {
     "data": {
      "text/html": [
       "<div>\n",
       "<style scoped>\n",
       "    .dataframe tbody tr th:only-of-type {\n",
       "        vertical-align: middle;\n",
       "    }\n",
       "\n",
       "    .dataframe tbody tr th {\n",
       "        vertical-align: top;\n",
       "    }\n",
       "\n",
       "    .dataframe thead th {\n",
       "        text-align: right;\n",
       "    }\n",
       "</style>\n",
       "<table border=\"1\" class=\"dataframe\">\n",
       "  <thead>\n",
       "    <tr style=\"text-align: right;\">\n",
       "      <th></th>\n",
       "      <th>type_apartment</th>\n",
       "      <th>type_condominium</th>\n",
       "      <th>region_central region</th>\n",
       "      <th>region_east region</th>\n",
       "      <th>region_north region</th>\n",
       "      <th>region_north-east region</th>\n",
       "      <th>region_west region</th>\n",
       "      <th>district_1</th>\n",
       "      <th>district_2</th>\n",
       "      <th>district_3</th>\n",
       "      <th>...</th>\n",
       "      <th>shopp_no_3km</th>\n",
       "      <th>secon_min_distance</th>\n",
       "      <th>secon_no_1km</th>\n",
       "      <th>secon_no_3km</th>\n",
       "      <th>prima_min_distance</th>\n",
       "      <th>prima_no_1km</th>\n",
       "      <th>prima_no_3km</th>\n",
       "      <th>train_min_distance</th>\n",
       "      <th>train_no_1km</th>\n",
       "      <th>train_no_3km</th>\n",
       "    </tr>\n",
       "  </thead>\n",
       "  <tbody>\n",
       "    <tr>\n",
       "      <th>0</th>\n",
       "      <td>0.0</td>\n",
       "      <td>1.0</td>\n",
       "      <td>1.0</td>\n",
       "      <td>0.0</td>\n",
       "      <td>0.0</td>\n",
       "      <td>0.0</td>\n",
       "      <td>0.0</td>\n",
       "      <td>0.0</td>\n",
       "      <td>0.0</td>\n",
       "      <td>0.0</td>\n",
       "      <td>...</td>\n",
       "      <td>-1.463721</td>\n",
       "      <td>5.143039</td>\n",
       "      <td>-1.322015</td>\n",
       "      <td>-2.430536</td>\n",
       "      <td>5.960762</td>\n",
       "      <td>-1.537845</td>\n",
       "      <td>-2.326817</td>\n",
       "      <td>5.182931</td>\n",
       "      <td>-1.281308</td>\n",
       "      <td>-1.822539</td>\n",
       "    </tr>\n",
       "    <tr>\n",
       "      <th>1</th>\n",
       "      <td>1.0</td>\n",
       "      <td>0.0</td>\n",
       "      <td>1.0</td>\n",
       "      <td>0.0</td>\n",
       "      <td>0.0</td>\n",
       "      <td>0.0</td>\n",
       "      <td>0.0</td>\n",
       "      <td>0.0</td>\n",
       "      <td>0.0</td>\n",
       "      <td>0.0</td>\n",
       "      <td>...</td>\n",
       "      <td>1.139203</td>\n",
       "      <td>0.435103</td>\n",
       "      <td>0.094201</td>\n",
       "      <td>0.935295</td>\n",
       "      <td>-0.986220</td>\n",
       "      <td>1.329722</td>\n",
       "      <td>1.001171</td>\n",
       "      <td>-0.548697</td>\n",
       "      <td>0.011380</td>\n",
       "      <td>1.622779</td>\n",
       "    </tr>\n",
       "    <tr>\n",
       "      <th>2</th>\n",
       "      <td>0.0</td>\n",
       "      <td>1.0</td>\n",
       "      <td>1.0</td>\n",
       "      <td>0.0</td>\n",
       "      <td>0.0</td>\n",
       "      <td>0.0</td>\n",
       "      <td>0.0</td>\n",
       "      <td>0.0</td>\n",
       "      <td>0.0</td>\n",
       "      <td>0.0</td>\n",
       "      <td>...</td>\n",
       "      <td>1.139203</td>\n",
       "      <td>0.150626</td>\n",
       "      <td>-0.849943</td>\n",
       "      <td>1.064750</td>\n",
       "      <td>-0.877082</td>\n",
       "      <td>1.329722</td>\n",
       "      <td>0.897172</td>\n",
       "      <td>-0.239956</td>\n",
       "      <td>0.011380</td>\n",
       "      <td>1.398084</td>\n",
       "    </tr>\n",
       "    <tr>\n",
       "      <th>3</th>\n",
       "      <td>0.0</td>\n",
       "      <td>1.0</td>\n",
       "      <td>0.0</td>\n",
       "      <td>1.0</td>\n",
       "      <td>0.0</td>\n",
       "      <td>0.0</td>\n",
       "      <td>0.0</td>\n",
       "      <td>0.0</td>\n",
       "      <td>0.0</td>\n",
       "      <td>0.0</td>\n",
       "      <td>...</td>\n",
       "      <td>-0.690978</td>\n",
       "      <td>-0.717235</td>\n",
       "      <td>-0.849943</td>\n",
       "      <td>1.323660</td>\n",
       "      <td>-0.530989</td>\n",
       "      <td>0.100765</td>\n",
       "      <td>0.793172</td>\n",
       "      <td>0.050133</td>\n",
       "      <td>0.011380</td>\n",
       "      <td>-0.549269</td>\n",
       "    </tr>\n",
       "    <tr>\n",
       "      <th>4</th>\n",
       "      <td>1.0</td>\n",
       "      <td>0.0</td>\n",
       "      <td>0.0</td>\n",
       "      <td>1.0</td>\n",
       "      <td>0.0</td>\n",
       "      <td>0.0</td>\n",
       "      <td>0.0</td>\n",
       "      <td>0.0</td>\n",
       "      <td>0.0</td>\n",
       "      <td>0.0</td>\n",
       "      <td>...</td>\n",
       "      <td>-0.975673</td>\n",
       "      <td>-0.523691</td>\n",
       "      <td>0.094201</td>\n",
       "      <td>0.029110</td>\n",
       "      <td>-0.729630</td>\n",
       "      <td>0.920069</td>\n",
       "      <td>-0.350824</td>\n",
       "      <td>1.256263</td>\n",
       "      <td>-0.764233</td>\n",
       "      <td>-0.998658</td>\n",
       "    </tr>\n",
       "    <tr>\n",
       "      <th>...</th>\n",
       "      <td>...</td>\n",
       "      <td>...</td>\n",
       "      <td>...</td>\n",
       "      <td>...</td>\n",
       "      <td>...</td>\n",
       "      <td>...</td>\n",
       "      <td>...</td>\n",
       "      <td>...</td>\n",
       "      <td>...</td>\n",
       "      <td>...</td>\n",
       "      <td>...</td>\n",
       "      <td>...</td>\n",
       "      <td>...</td>\n",
       "      <td>...</td>\n",
       "      <td>...</td>\n",
       "      <td>...</td>\n",
       "      <td>...</td>\n",
       "      <td>...</td>\n",
       "      <td>...</td>\n",
       "      <td>...</td>\n",
       "      <td>...</td>\n",
       "    </tr>\n",
       "    <tr>\n",
       "      <th>25713</th>\n",
       "      <td>0.0</td>\n",
       "      <td>1.0</td>\n",
       "      <td>1.0</td>\n",
       "      <td>0.0</td>\n",
       "      <td>0.0</td>\n",
       "      <td>0.0</td>\n",
       "      <td>0.0</td>\n",
       "      <td>0.0</td>\n",
       "      <td>0.0</td>\n",
       "      <td>0.0</td>\n",
       "      <td>...</td>\n",
       "      <td>1.220544</td>\n",
       "      <td>-0.757625</td>\n",
       "      <td>0.566274</td>\n",
       "      <td>-0.359256</td>\n",
       "      <td>-0.829750</td>\n",
       "      <td>0.100765</td>\n",
       "      <td>-0.454823</td>\n",
       "      <td>0.160414</td>\n",
       "      <td>-0.505695</td>\n",
       "      <td>1.023593</td>\n",
       "    </tr>\n",
       "    <tr>\n",
       "      <th>25714</th>\n",
       "      <td>0.0</td>\n",
       "      <td>1.0</td>\n",
       "      <td>1.0</td>\n",
       "      <td>0.0</td>\n",
       "      <td>0.0</td>\n",
       "      <td>0.0</td>\n",
       "      <td>0.0</td>\n",
       "      <td>0.0</td>\n",
       "      <td>0.0</td>\n",
       "      <td>0.0</td>\n",
       "      <td>...</td>\n",
       "      <td>1.017191</td>\n",
       "      <td>-0.544238</td>\n",
       "      <td>0.094201</td>\n",
       "      <td>0.676385</td>\n",
       "      <td>-0.298463</td>\n",
       "      <td>-0.718540</td>\n",
       "      <td>0.585173</td>\n",
       "      <td>-0.434884</td>\n",
       "      <td>-0.247158</td>\n",
       "      <td>0.873797</td>\n",
       "    </tr>\n",
       "    <tr>\n",
       "      <th>25715</th>\n",
       "      <td>0.0</td>\n",
       "      <td>1.0</td>\n",
       "      <td>0.0</td>\n",
       "      <td>1.0</td>\n",
       "      <td>0.0</td>\n",
       "      <td>0.0</td>\n",
       "      <td>0.0</td>\n",
       "      <td>0.0</td>\n",
       "      <td>0.0</td>\n",
       "      <td>0.0</td>\n",
       "      <td>...</td>\n",
       "      <td>-1.057014</td>\n",
       "      <td>-1.312238</td>\n",
       "      <td>1.038346</td>\n",
       "      <td>0.288020</td>\n",
       "      <td>-1.044133</td>\n",
       "      <td>0.920069</td>\n",
       "      <td>0.585173</td>\n",
       "      <td>-0.852611</td>\n",
       "      <td>-0.505695</td>\n",
       "      <td>-1.448048</td>\n",
       "    </tr>\n",
       "    <tr>\n",
       "      <th>25716</th>\n",
       "      <td>0.0</td>\n",
       "      <td>1.0</td>\n",
       "      <td>0.0</td>\n",
       "      <td>0.0</td>\n",
       "      <td>0.0</td>\n",
       "      <td>0.0</td>\n",
       "      <td>1.0</td>\n",
       "      <td>0.0</td>\n",
       "      <td>0.0</td>\n",
       "      <td>0.0</td>\n",
       "      <td>...</td>\n",
       "      <td>-0.935002</td>\n",
       "      <td>-0.517946</td>\n",
       "      <td>0.094201</td>\n",
       "      <td>0.805840</td>\n",
       "      <td>-0.188764</td>\n",
       "      <td>-0.308888</td>\n",
       "      <td>-0.142825</td>\n",
       "      <td>-0.745817</td>\n",
       "      <td>-0.764233</td>\n",
       "      <td>-1.373149</td>\n",
       "    </tr>\n",
       "    <tr>\n",
       "      <th>25717</th>\n",
       "      <td>1.0</td>\n",
       "      <td>0.0</td>\n",
       "      <td>1.0</td>\n",
       "      <td>0.0</td>\n",
       "      <td>0.0</td>\n",
       "      <td>0.0</td>\n",
       "      <td>0.0</td>\n",
       "      <td>0.0</td>\n",
       "      <td>0.0</td>\n",
       "      <td>0.0</td>\n",
       "      <td>...</td>\n",
       "      <td>1.017191</td>\n",
       "      <td>0.238663</td>\n",
       "      <td>0.094201</td>\n",
       "      <td>0.158565</td>\n",
       "      <td>0.673297</td>\n",
       "      <td>-0.718540</td>\n",
       "      <td>0.689172</td>\n",
       "      <td>-0.006311</td>\n",
       "      <td>0.528455</td>\n",
       "      <td>1.173390</td>\n",
       "    </tr>\n",
       "  </tbody>\n",
       "</table>\n",
       "<p>25718 rows × 59 columns</p>\n",
       "</div>"
      ],
      "text/plain": [
       "       type_apartment  type_condominium  region_central region  \\\n",
       "0                 0.0               1.0                    1.0   \n",
       "1                 1.0               0.0                    1.0   \n",
       "2                 0.0               1.0                    1.0   \n",
       "3                 0.0               1.0                    0.0   \n",
       "4                 1.0               0.0                    0.0   \n",
       "...               ...               ...                    ...   \n",
       "25713             0.0               1.0                    1.0   \n",
       "25714             0.0               1.0                    1.0   \n",
       "25715             0.0               1.0                    0.0   \n",
       "25716             0.0               1.0                    0.0   \n",
       "25717             1.0               0.0                    1.0   \n",
       "\n",
       "       region_east region  region_north region  region_north-east region  \\\n",
       "0                     0.0                  0.0                       0.0   \n",
       "1                     0.0                  0.0                       0.0   \n",
       "2                     0.0                  0.0                       0.0   \n",
       "3                     1.0                  0.0                       0.0   \n",
       "4                     1.0                  0.0                       0.0   \n",
       "...                   ...                  ...                       ...   \n",
       "25713                 0.0                  0.0                       0.0   \n",
       "25714                 0.0                  0.0                       0.0   \n",
       "25715                 1.0                  0.0                       0.0   \n",
       "25716                 0.0                  0.0                       0.0   \n",
       "25717                 0.0                  0.0                       0.0   \n",
       "\n",
       "       region_west region  district_1  district_2  district_3  ...  \\\n",
       "0                     0.0         0.0         0.0         0.0  ...   \n",
       "1                     0.0         0.0         0.0         0.0  ...   \n",
       "2                     0.0         0.0         0.0         0.0  ...   \n",
       "3                     0.0         0.0         0.0         0.0  ...   \n",
       "4                     0.0         0.0         0.0         0.0  ...   \n",
       "...                   ...         ...         ...         ...  ...   \n",
       "25713                 0.0         0.0         0.0         0.0  ...   \n",
       "25714                 0.0         0.0         0.0         0.0  ...   \n",
       "25715                 0.0         0.0         0.0         0.0  ...   \n",
       "25716                 1.0         0.0         0.0         0.0  ...   \n",
       "25717                 0.0         0.0         0.0         0.0  ...   \n",
       "\n",
       "       shopp_no_3km  secon_min_distance  secon_no_1km  secon_no_3km  \\\n",
       "0         -1.463721            5.143039     -1.322015     -2.430536   \n",
       "1          1.139203            0.435103      0.094201      0.935295   \n",
       "2          1.139203            0.150626     -0.849943      1.064750   \n",
       "3         -0.690978           -0.717235     -0.849943      1.323660   \n",
       "4         -0.975673           -0.523691      0.094201      0.029110   \n",
       "...             ...                 ...           ...           ...   \n",
       "25713      1.220544           -0.757625      0.566274     -0.359256   \n",
       "25714      1.017191           -0.544238      0.094201      0.676385   \n",
       "25715     -1.057014           -1.312238      1.038346      0.288020   \n",
       "25716     -0.935002           -0.517946      0.094201      0.805840   \n",
       "25717      1.017191            0.238663      0.094201      0.158565   \n",
       "\n",
       "       prima_min_distance  prima_no_1km  prima_no_3km  train_min_distance  \\\n",
       "0                5.960762     -1.537845     -2.326817            5.182931   \n",
       "1               -0.986220      1.329722      1.001171           -0.548697   \n",
       "2               -0.877082      1.329722      0.897172           -0.239956   \n",
       "3               -0.530989      0.100765      0.793172            0.050133   \n",
       "4               -0.729630      0.920069     -0.350824            1.256263   \n",
       "...                   ...           ...           ...                 ...   \n",
       "25713           -0.829750      0.100765     -0.454823            0.160414   \n",
       "25714           -0.298463     -0.718540      0.585173           -0.434884   \n",
       "25715           -1.044133      0.920069      0.585173           -0.852611   \n",
       "25716           -0.188764     -0.308888     -0.142825           -0.745817   \n",
       "25717            0.673297     -0.718540      0.689172           -0.006311   \n",
       "\n",
       "       train_no_1km  train_no_3km  \n",
       "0         -1.281308     -1.822539  \n",
       "1          0.011380      1.622779  \n",
       "2          0.011380      1.398084  \n",
       "3          0.011380     -0.549269  \n",
       "4         -0.764233     -0.998658  \n",
       "...             ...           ...  \n",
       "25713     -0.505695      1.023593  \n",
       "25714     -0.247158      0.873797  \n",
       "25715     -0.505695     -1.448048  \n",
       "25716     -0.764233     -1.373149  \n",
       "25717      0.528455      1.173390  \n",
       "\n",
       "[25718 rows x 59 columns]"
      ]
     },
     "execution_count": 13,
     "metadata": {},
     "output_type": "execute_result"
    }
   ],
   "source": [
    "df_train_stand"
   ]
  },
  {
   "cell_type": "markdown",
   "metadata": {
    "collapsed": false
   },
   "source": [
    "# 2. RF Model Training"
   ]
  },
  {
   "cell_type": "code",
   "execution_count": 14,
   "metadata": {
    "collapsed": false,
    "pycharm": {
     "name": "#%%\n"
    }
   },
   "outputs": [],
   "source": [
    "train_X = df_train_stand.loc[:, df_train_stand.columns != \"price\"].values\n",
    "train_y = df_train_oh.price.values"
   ]
  },
  {
   "cell_type": "markdown",
   "metadata": {
    "collapsed": false
   },
   "source": [
    "## 2.1 Split cross-validation set"
   ]
  },
  {
   "cell_type": "code",
   "execution_count": 15,
   "metadata": {
    "collapsed": false,
    "pycharm": {
     "name": "#%%\n"
    }
   },
   "outputs": [],
   "source": [
    "from sklearn.model_selection import train_test_split\n",
    "X_train, X_test, y_train, y_test = train_test_split(train_X, train_y, test_size=0.2, random_state=42)"
   ]
  },
  {
   "cell_type": "code",
   "execution_count": 167,
   "metadata": {},
   "outputs": [
    {
     "data": {
      "text/plain": [
       "(20574, 59)"
      ]
     },
     "execution_count": 167,
     "metadata": {},
     "output_type": "execute_result"
    }
   ],
   "source": [
    "X_train.shape"
   ]
  },
  {
   "cell_type": "code",
   "execution_count": 168,
   "metadata": {},
   "outputs": [
    {
     "data": {
      "text/plain": [
       "(5144, 59)"
      ]
     },
     "execution_count": 168,
     "metadata": {},
     "output_type": "execute_result"
    }
   ],
   "source": [
    "X_test.shape"
   ]
  },
  {
   "cell_type": "markdown",
   "metadata": {},
   "source": [
    "## 2.2 HP searching"
   ]
  },
  {
   "cell_type": "code",
   "execution_count": 1,
   "metadata": {},
   "outputs": [
    {
     "name": "stderr",
     "output_type": "stream",
     "text": [
      "\n",
      "Bad key text.latex.preview in file D:\\anaconda3\\envs\\pytorch_gpu\\lib\\site-packages\\matplotlib\\mpl-data\\stylelib\\_classic_test.mplstyle, line 123 ('text.latex.preview : False')\n",
      "You probably need to get an updated matplotlibrc file from\n",
      "https://github.com/matplotlib/matplotlib/blob/v3.5.1/matplotlibrc.template\n",
      "or from the matplotlib source distribution\n",
      "\n",
      "Bad key mathtext.fallback_to_cm in file D:\\anaconda3\\envs\\pytorch_gpu\\lib\\site-packages\\matplotlib\\mpl-data\\stylelib\\_classic_test.mplstyle, line 155 ('mathtext.fallback_to_cm : True  # When True, use symbols from the Computer Modern')\n",
      "You probably need to get an updated matplotlibrc file from\n",
      "https://github.com/matplotlib/matplotlib/blob/v3.5.1/matplotlibrc.template\n",
      "or from the matplotlib source distribution\n",
      "\n",
      "Bad key savefig.jpeg_quality in file D:\\anaconda3\\envs\\pytorch_gpu\\lib\\site-packages\\matplotlib\\mpl-data\\stylelib\\_classic_test.mplstyle, line 418 ('savefig.jpeg_quality: 95       # when a jpeg is saved, the default quality parameter.')\n",
      "You probably need to get an updated matplotlibrc file from\n",
      "https://github.com/matplotlib/matplotlib/blob/v3.5.1/matplotlibrc.template\n",
      "or from the matplotlib source distribution\n",
      "\n",
      "Bad key keymap.all_axes in file D:\\anaconda3\\envs\\pytorch_gpu\\lib\\site-packages\\matplotlib\\mpl-data\\stylelib\\_classic_test.mplstyle, line 466 ('keymap.all_axes : a                 # enable all axes')\n",
      "You probably need to get an updated matplotlibrc file from\n",
      "https://github.com/matplotlib/matplotlib/blob/v3.5.1/matplotlibrc.template\n",
      "or from the matplotlib source distribution\n",
      "\n",
      "Bad key animation.avconv_path in file D:\\anaconda3\\envs\\pytorch_gpu\\lib\\site-packages\\matplotlib\\mpl-data\\stylelib\\_classic_test.mplstyle, line 477 ('animation.avconv_path: avconv     # Path to avconv binary. Without full path')\n",
      "You probably need to get an updated matplotlibrc file from\n",
      "https://github.com/matplotlib/matplotlib/blob/v3.5.1/matplotlibrc.template\n",
      "or from the matplotlib source distribution\n",
      "\n",
      "Bad key animation.avconv_args in file D:\\anaconda3\\envs\\pytorch_gpu\\lib\\site-packages\\matplotlib\\mpl-data\\stylelib\\_classic_test.mplstyle, line 479 ('animation.avconv_args:            # Additional arguments to pass to avconv')\n",
      "You probably need to get an updated matplotlibrc file from\n",
      "https://github.com/matplotlib/matplotlib/blob/v3.5.1/matplotlibrc.template\n",
      "or from the matplotlib source distribution\n"
     ]
    }
   ],
   "source": [
    "import seaborn as sns"
   ]
  },
  {
   "cell_type": "code",
   "execution_count": 17,
   "metadata": {},
   "outputs": [
    {
     "name": "stderr",
     "output_type": "stream",
     "text": [
      "D:\\anaconda3\\envs\\pytorch_gpu\\lib\\site-packages\\seaborn\\distributions.py:2619: FutureWarning: `distplot` is a deprecated function and will be removed in a future version. Please adapt your code to use either `displot` (a figure-level function with similar flexibility) or `histplot` (an axes-level function for histograms).\n",
      "  warnings.warn(msg, FutureWarning)\n",
      "D:\\anaconda3\\envs\\pytorch_gpu\\lib\\site-packages\\seaborn\\distributions.py:2103: FutureWarning: The `axis` variable is no longer used and will be removed. Instead, assign variables directly to `x` or `y`.\n",
      "  warnings.warn(msg, FutureWarning)\n"
     ]
    },
    {
     "data": {
      "text/plain": [
       "<AxesSubplot:ylabel='Density'>"
      ]
     },
     "execution_count": 17,
     "metadata": {},
     "output_type": "execute_result"
    },
    {
     "data": {
      "image/png": "[encoded data removed]",
      "text/plain": [
       "<Figure size 432x288 with 1 Axes>"
      ]
     },
     "metadata": {
      "needs_background": "light"
     },
     "output_type": "display_data"
    }
   ],
   "source": [
    "sns.distplot(y_train, kde=True, bins=30, rug=True)"
   ]
  },
  {
   "cell_type": "code",
   "execution_count": 18,
   "metadata": {},
   "outputs": [
    {
     "name": "stderr",
     "output_type": "stream",
     "text": [
      "D:\\anaconda3\\envs\\pytorch_gpu\\lib\\site-packages\\seaborn\\distributions.py:2619: FutureWarning: `distplot` is a deprecated function and will be removed in a future version. Please adapt your code to use either `displot` (a figure-level function with similar flexibility) or `histplot` (an axes-level function for histograms).\n",
      "  warnings.warn(msg, FutureWarning)\n",
      "D:\\anaconda3\\envs\\pytorch_gpu\\lib\\site-packages\\seaborn\\distributions.py:2103: FutureWarning: The `axis` variable is no longer used and will be removed. Instead, assign variables directly to `x` or `y`.\n",
      "  warnings.warn(msg, FutureWarning)\n"
     ]
    },
    {
     "data": {
      "text/plain": [
       "<AxesSubplot:ylabel='Density'>"
      ]
     },
     "execution_count": 18,
     "metadata": {},
     "output_type": "execute_result"
    },
    {
     "data": {
      "image/png": "[encoded data removed]",
      "text/plain": [
       "<Figure size 432x288 with 1 Axes>"
      ]
     },
     "metadata": {
      "needs_background": "light"
     },
     "output_type": "display_data"
    }
   ],
   "source": [
    "y_train_log = np.log1p(y_train)\n",
    "sns.distplot(y_train_log , kde=True, bins=30, rug=True)"
   ]
  },
  {
   "cell_type": "code",
   "execution_count": 28,
   "metadata": {},
   "outputs": [
    {
     "data": {
      "image/png": "[encoded data removed]",
      "text/plain": [
       "<Figure size 2400x1200 with 2 Axes>"
      ]
     },
     "metadata": {},
     "output_type": "display_data"
    }
   ],
   "source": [
    "sns.set(style=\"darkgrid\")\n",
    "\n",
    "fig=plt.figure(dpi=300,figsize=(8,4))\n",
    "\n",
    "fig.add_subplot(1,2,1)\n",
    "sns.histplot(y_train , kde=True, bins=30)\n",
    "plt.xlabel('Price',size=15)\n",
    "\n",
    "fig.add_subplot(1,2,2)\n",
    "sns.histplot(y_train_log , kde=True, bins=30)\n",
    "plt.xlabel('log_Price',size=15)\n",
    "\n",
    "plt.tight_layout()\n",
    "plt.savefig('image/y_logy.png')"
   ]
  },
  {
   "cell_type": "markdown",
   "metadata": {},
   "source": [
    "Use y and log y to do haper params searching and then train models. And save models to local."
   ]
  },
  {
   "cell_type": "code",
   "execution_count": 56,
   "metadata": {},
   "outputs": [],
   "source": [
    "import pickle as pkl\n",
    "model_dir='saved_model/'"
   ]
  },
  {
   "cell_type": "code",
   "execution_count": 54,
   "metadata": {},
   "outputs": [
    {
     "data": {
      "text/html": [
       "<div>\n",
       "<style scoped>\n",
       "    .dataframe tbody tr th:only-of-type {\n",
       "        vertical-align: middle;\n",
       "    }\n",
       "\n",
       "    .dataframe tbody tr th {\n",
       "        vertical-align: top;\n",
       "    }\n",
       "\n",
       "    .dataframe thead th {\n",
       "        text-align: right;\n",
       "    }\n",
       "</style>\n",
       "<table border=\"1\" class=\"dataframe\">\n",
       "  <thead>\n",
       "    <tr style=\"text-align: right;\">\n",
       "      <th></th>\n",
       "      <th>Model</th>\n",
       "      <th>Dependent Var</th>\n",
       "      <th>Searching Space</th>\n",
       "      <th>Best Param</th>\n",
       "    </tr>\n",
       "  </thead>\n",
       "  <tbody>\n",
       "    <tr>\n",
       "      <th>0</th>\n",
       "      <td>Ridge</td>\n",
       "      <td>y</td>\n",
       "      <td>NaN</td>\n",
       "      <td>NaN</td>\n",
       "    </tr>\n",
       "    <tr>\n",
       "      <th>1</th>\n",
       "      <td>Ridge</td>\n",
       "      <td>log_y</td>\n",
       "      <td>NaN</td>\n",
       "      <td>NaN</td>\n",
       "    </tr>\n",
       "    <tr>\n",
       "      <th>2</th>\n",
       "      <td>Random Forest</td>\n",
       "      <td>y</td>\n",
       "      <td>NaN</td>\n",
       "      <td>NaN</td>\n",
       "    </tr>\n",
       "    <tr>\n",
       "      <th>3</th>\n",
       "      <td>Random Forest</td>\n",
       "      <td>log_y</td>\n",
       "      <td>NaN</td>\n",
       "      <td>NaN</td>\n",
       "    </tr>\n",
       "  </tbody>\n",
       "</table>\n",
       "</div>"
      ],
      "text/plain": [
       "           Model Dependent Var Searching Space Best Param\n",
       "0          Ridge             y             NaN        NaN\n",
       "1          Ridge         log_y             NaN        NaN\n",
       "2  Random Forest             y             NaN        NaN\n",
       "3  Random Forest         log_y             NaN        NaN"
      ]
     },
     "execution_count": 54,
     "metadata": {},
     "output_type": "execute_result"
    }
   ],
   "source": [
    "results=pd.DataFrame(columns=['Model','Dependent Var','Searching Space','Best Param'])\n",
    "results['Model']=['Ridge','Ridge','Random Forest','Random Forest']\n",
    "results['Dependent Var']=['y','log_y','y','log_y']\n",
    "results"
   ]
  },
  {
   "cell_type": "markdown",
   "metadata": {},
   "source": [
    "### Ridge Regression"
   ]
  },
  {
   "cell_type": "markdown",
   "metadata": {},
   "source": [
    "#### Use y"
   ]
  },
  {
   "cell_type": "code",
   "execution_count": 85,
   "metadata": {},
   "outputs": [
    {
     "name": "stderr",
     "output_type": "stream",
     "text": [
      "D:\\anaconda3\\envs\\pytorch_gpu\\lib\\site-packages\\pandas\\core\\dtypes\\cast.py:869: VisibleDeprecationWarning: Creating an ndarray from ragged nested sequences (which is a list-or-tuple of lists-or-tuples-or ndarrays with different lengths or shapes) is deprecated. If you meant to do this, you must specify 'dtype=object' when creating the ndarray.\n",
      "  element = np.asarray(element)\n",
      "D:\\anaconda3\\envs\\pytorch_gpu\\lib\\site-packages\\pandas\\core\\internals\\blocks.py:938: VisibleDeprecationWarning: Creating an ndarray from ragged nested sequences (which is a list-or-tuple of lists-or-tuples-or ndarrays with different lengths or shapes) is deprecated. If you meant to do this, you must specify 'dtype=object' when creating the ndarray.\n",
      "  arr_value = np.asarray(value)\n"
     ]
    },
    {
     "name": "stdout",
     "output_type": "stream",
     "text": [
      "Wall time: 702 ms\n"
     ]
    }
   ],
   "source": [
    "%%time\n",
    "from sklearn.linear_model import RidgeCV\n",
    "\n",
    "#hp searching\n",
    "model_name='Ridge_y'\n",
    "alphas=[0.01, 0.1, 0.5, 1, 2, 5, 10, 50, 100]\n",
    "X=X_train\n",
    "y=y_train\n",
    "\n",
    "clf = RidgeCV(alphas=alphas,scoring='neg_mean_absolute_error').fit(X, y)\n",
    "best_para=clf.alpha_\n",
    "\n",
    "results.iloc[0,2:]=[alphas,best_para]\n",
    "\n",
    "clf_best=Ridge(best_para,random_state=42)\n",
    "\n",
    "#save model\n",
    "with open(model_dir+f'{model_name}.pkl', 'wb') as f:\n",
    "    pkl.dump(clf_best, f, protocol=pkl.HIGHEST_PROTOCOL)\n"
   ]
  },
  {
   "cell_type": "markdown",
   "metadata": {},
   "source": [
    "#### Use log y"
   ]
  },
  {
   "cell_type": "code",
   "execution_count": 86,
   "metadata": {},
   "outputs": [
    {
     "name": "stdout",
     "output_type": "stream",
     "text": [
      "Wall time: 137 ms\n"
     ]
    },
    {
     "name": "stderr",
     "output_type": "stream",
     "text": [
      "D:\\anaconda3\\envs\\pytorch_gpu\\lib\\site-packages\\pandas\\core\\dtypes\\cast.py:869: VisibleDeprecationWarning: Creating an ndarray from ragged nested sequences (which is a list-or-tuple of lists-or-tuples-or ndarrays with different lengths or shapes) is deprecated. If you meant to do this, you must specify 'dtype=object' when creating the ndarray.\n",
      "  element = np.asarray(element)\n",
      "D:\\anaconda3\\envs\\pytorch_gpu\\lib\\site-packages\\pandas\\core\\internals\\blocks.py:938: VisibleDeprecationWarning: Creating an ndarray from ragged nested sequences (which is a list-or-tuple of lists-or-tuples-or ndarrays with different lengths or shapes) is deprecated. If you meant to do this, you must specify 'dtype=object' when creating the ndarray.\n",
      "  arr_value = np.asarray(value)\n"
     ]
    }
   ],
   "source": [
    "%%time\n",
    "from sklearn.linear_model import RidgeCV\n",
    "\n",
    "#hp searching\n",
    "model_name='Ridge_log_y'\n",
    "alphas=[0.01, 0.1, 0.5, 1, 2, 5, 10, 50, 100]\n",
    "X=X_train\n",
    "y=y_train_log\n",
    "\n",
    "clf = RidgeCV(alphas=alphas,scoring='neg_mean_absolute_error').fit(X, y)\n",
    "best_para=clf.alpha_\n",
    "\n",
    "results.iloc[1,2:]=[alphas,best_para]\n",
    "\n",
    "clf_best=Ridge(best_para,random_state=42)\n",
    "\n",
    "#save model\n",
    "with open(model_dir+f'{model_name}.pkl', 'wb') as f:\n",
    "    pkl.dump(clf_best, f, protocol=pkl.HIGHEST_PROTOCOL)"
   ]
  },
  {
   "cell_type": "markdown",
   "metadata": {},
   "source": [
    "### Random Forest"
   ]
  },
  {
   "cell_type": "markdown",
   "metadata": {},
   "source": [
    "#### Use y"
   ]
  },
  {
   "cell_type": "code",
   "execution_count": 117,
   "metadata": {},
   "outputs": [],
   "source": [
    "from sklearn.model_selection import GridSearchCV\n",
    "from sklearn.ensemble import RandomForestRegressor\n",
    "from sklearn.model_selection import cross_val_score"
   ]
  },
  {
   "cell_type": "code",
   "execution_count": 151,
   "metadata": {},
   "outputs": [
    {
     "name": "stdout",
     "output_type": "stream",
     "text": [
      "Wall time: 2h 47min 6s\n"
     ]
    }
   ],
   "source": [
    "%%time\n",
    "\n",
    "model_name='RF_y'\n",
    "X=X_train\n",
    "y=y_train\n",
    "\n",
    "param_grid = {    'n_estimators':[10,50,200,300,500]\n",
    "                    ,'max_depth':[10, 30,50,70,100]\n",
    "                    ,'max_features':[.1,.3,.5,.7,.9,.99]\n",
    "                    }\n",
    "\n",
    "#hp searching\n",
    "rf = RandomForestRegressor(random_state=42)\n",
    "\n",
    "model = GridSearchCV(rf, param_grid=param_grid,scoring='neg_mean_absolute_error')\n",
    "model.fit(X, y)\n",
    "\n",
    "best_params = model.best_params_\n",
    "\n",
    "results.iloc[2,2:]=[param_grid ,best_params]\n",
    "\n",
    "clf_best=RandomForestRegressor(**best_params)\n",
    "\n",
    "#save model\n",
    "with open(model_dir+f'{model_name}.pkl', 'wb') as f:\n",
    "    pkl.dump(clf_best, f, protocol=pkl.HIGHEST_PROTOCOL)\n"
   ]
  },
  {
   "cell_type": "markdown",
   "metadata": {},
   "source": [
    "#### Use log y"
   ]
  },
  {
   "cell_type": "code",
   "execution_count": 152,
   "metadata": {
    "collapsed": false,
    "pycharm": {
     "name": "#%%\n"
    }
   },
   "outputs": [
    {
     "name": "stdout",
     "output_type": "stream",
     "text": [
      "Wall time: 2h 29min 15s\n"
     ]
    }
   ],
   "source": [
    "%%time\n",
    "\n",
    "model_name='RF_log_y'\n",
    "X=X_train\n",
    "y=y_train_log\n",
    "\n",
    "param_grid = {    'n_estimators':[10,50,200,300,500]\n",
    "                    ,'max_depth':[10, 30,50,70,100]\n",
    "                    ,'max_features':[.1,.3,.5,.7,.9,.99]\n",
    "                    }\n",
    "\n",
    "#hp searching\n",
    "rf = RandomForestRegressor(random_state=42)\n",
    "\n",
    "model = GridSearchCV(rf, param_grid=param_grid,scoring='neg_mean_absolute_error')\n",
    "model.fit(X, y)\n",
    "\n",
    "best_params = model.best_params_\n",
    "\n",
    "results.iloc[3,2:]=[param_grid ,best_params]\n",
    "\n",
    "model_name='RF_log_y'\n",
    "\n",
    "clf_best=RandomForestRegressor(**best_params)\n",
    "\n",
    "#save model\n",
    "with open(model_dir+f'{model_name}.pkl', 'wb') as f:\n",
    "    pkl.dump(clf_best, f, protocol=pkl.HIGHEST_PROTOCOL)"
   ]
  },
  {
   "cell_type": "code",
   "execution_count": 153,
   "metadata": {},
   "outputs": [
    {
     "data": {
      "text/html": [
       "<div>\n",
       "<style scoped>\n",
       "    .dataframe tbody tr th:only-of-type {\n",
       "        vertical-align: middle;\n",
       "    }\n",
       "\n",
       "    .dataframe tbody tr th {\n",
       "        vertical-align: top;\n",
       "    }\n",
       "\n",
       "    .dataframe thead th {\n",
       "        text-align: right;\n",
       "    }\n",
       "</style>\n",
       "<table border=\"1\" class=\"dataframe\">\n",
       "  <thead>\n",
       "    <tr style=\"text-align: right;\">\n",
       "      <th></th>\n",
       "      <th>Model</th>\n",
       "      <th>Dependent Var</th>\n",
       "      <th>Searching Space</th>\n",
       "      <th>Best Param</th>\n",
       "    </tr>\n",
       "  </thead>\n",
       "  <tbody>\n",
       "    <tr>\n",
       "      <th>0</th>\n",
       "      <td>Ridge</td>\n",
       "      <td>y</td>\n",
       "      <td>[0.01, 0.1, 0.5, 1, 2, 5, 10, 50, 100]</td>\n",
       "      <td>100.0</td>\n",
       "    </tr>\n",
       "    <tr>\n",
       "      <th>1</th>\n",
       "      <td>Ridge</td>\n",
       "      <td>log_y</td>\n",
       "      <td>[0.01, 0.1, 0.5, 1, 2, 5, 10, 50, 100]</td>\n",
       "      <td>10.0</td>\n",
       "    </tr>\n",
       "    <tr>\n",
       "      <th>2</th>\n",
       "      <td>Random Forest</td>\n",
       "      <td>y</td>\n",
       "      <td>{'n_estimators': [10, 50, 200, 300, 500], 'max...</td>\n",
       "      <td>{'max_depth': 50, 'max_features': 0.9, 'n_esti...</td>\n",
       "    </tr>\n",
       "    <tr>\n",
       "      <th>3</th>\n",
       "      <td>Random Forest</td>\n",
       "      <td>log_y</td>\n",
       "      <td>{'n_estimators': [10, 50, 200, 300, 500], 'max...</td>\n",
       "      <td>{'max_depth': 30, 'max_features': 0.7, 'n_esti...</td>\n",
       "    </tr>\n",
       "  </tbody>\n",
       "</table>\n",
       "</div>"
      ],
      "text/plain": [
       "           Model Dependent Var  \\\n",
       "0          Ridge             y   \n",
       "1          Ridge         log_y   \n",
       "2  Random Forest             y   \n",
       "3  Random Forest         log_y   \n",
       "\n",
       "                                     Searching Space  \\\n",
       "0             [0.01, 0.1, 0.5, 1, 2, 5, 10, 50, 100]   \n",
       "1             [0.01, 0.1, 0.5, 1, 2, 5, 10, 50, 100]   \n",
       "2  {'n_estimators': [10, 50, 200, 300, 500], 'max...   \n",
       "3  {'n_estimators': [10, 50, 200, 300, 500], 'max...   \n",
       "\n",
       "                                          Best Param  \n",
       "0                                              100.0  \n",
       "1                                               10.0  \n",
       "2  {'max_depth': 50, 'max_features': 0.9, 'n_esti...  \n",
       "3  {'max_depth': 30, 'max_features': 0.7, 'n_esti...  "
      ]
     },
     "execution_count": 153,
     "metadata": {},
     "output_type": "execute_result"
    }
   ],
   "source": [
    "results.to_csv('HP searching.csv')\n",
    "results"
   ]
  },
  {
   "cell_type": "markdown",
   "metadata": {
    "collapsed": false
   },
   "source": [
    "# 3 Evaluation"
   ]
  },
  {
   "cell_type": "code",
   "execution_count": 154,
   "metadata": {},
   "outputs": [],
   "source": [
    "from sklearn.metrics import mean_squared_error"
   ]
  },
  {
   "cell_type": "code",
   "execution_count": 155,
   "metadata": {},
   "outputs": [],
   "source": [
    "def eval(model_name,log_y):\n",
    "    #read model\n",
    "    with open(model_dir+f'{model_name}.pkl', 'rb') as f:\n",
    "        model=pkl.load(f)\n",
    "\n",
    "    if log_y:\n",
    "        X=X_train\n",
    "        y=y_train_log\n",
    "        model.fit(X,y)\n",
    "        y_ = model.predict(X_test)\n",
    "        y_pred=np.expm1(y_)\n",
    "        score = model.score(X_test,np.log1p(y_test))\n",
    "\n",
    "        rmse=np.sqrt(mean_squared_error(y_pred,y_test))\n",
    "\n",
    "    else:\n",
    "        X=X_train\n",
    "        y=y_train\n",
    "        model.fit(X,y)\n",
    "        y_pred = model.predict(X_test)\n",
    "        score = model.score(X_test,y_test)\n",
    "\n",
    "        rmse=np.sqrt(mean_squared_error(y_pred,y_test))\n",
    "\n",
    "    print(f'Evaluation on {model_name}:')\n",
    "    print('R2:', score)\n",
    "    print('RMSE:', rmse)\n",
    "\n",
    "    return score,rmse"
   ]
  },
  {
   "cell_type": "code",
   "execution_count": 156,
   "metadata": {},
   "outputs": [
    {
     "name": "stdout",
     "output_type": "stream",
     "text": [
      "Evaluation on Ridge_y:\n",
      "R2: 0.8283776007506253\n",
      "RMSE: 1779979.6175210944\n",
      "Evaluation on RF_y:\n",
      "R2: 0.9742355800983786\n",
      "RMSE: 689665.0676359573\n",
      "Evaluation on Ridge_log_y:\n",
      "R2: 0.9111450848508141\n",
      "RMSE: 3124882.3781275847\n",
      "Evaluation on RF_log_y:\n",
      "R2: 0.9805543282289934\n",
      "RMSE: 788818.0418165328\n",
      "Wall time: 1min 22s\n"
     ]
    },
    {
     "data": {
      "text/html": [
       "<div>\n",
       "<style scoped>\n",
       "    .dataframe tbody tr th:only-of-type {\n",
       "        vertical-align: middle;\n",
       "    }\n",
       "\n",
       "    .dataframe tbody tr th {\n",
       "        vertical-align: top;\n",
       "    }\n",
       "\n",
       "    .dataframe thead th {\n",
       "        text-align: right;\n",
       "    }\n",
       "</style>\n",
       "<table border=\"1\" class=\"dataframe\">\n",
       "  <thead>\n",
       "    <tr style=\"text-align: right;\">\n",
       "      <th></th>\n",
       "      <th>R2</th>\n",
       "      <th>RMSE</th>\n",
       "    </tr>\n",
       "  </thead>\n",
       "  <tbody>\n",
       "    <tr>\n",
       "      <th>Ridge_y</th>\n",
       "      <td>0.828378</td>\n",
       "      <td>1779979.617521</td>\n",
       "    </tr>\n",
       "    <tr>\n",
       "      <th>Ridge_log_y</th>\n",
       "      <td>0.911145</td>\n",
       "      <td>3124882.378128</td>\n",
       "    </tr>\n",
       "    <tr>\n",
       "      <th>RF_y</th>\n",
       "      <td>0.974236</td>\n",
       "      <td>689665.067636</td>\n",
       "    </tr>\n",
       "    <tr>\n",
       "      <th>RF_log_y</th>\n",
       "      <td>0.980554</td>\n",
       "      <td>788818.041817</td>\n",
       "    </tr>\n",
       "  </tbody>\n",
       "</table>\n",
       "</div>"
      ],
      "text/plain": [
       "                   R2            RMSE\n",
       "Ridge_y      0.828378  1779979.617521\n",
       "Ridge_log_y  0.911145  3124882.378128\n",
       "RF_y         0.974236   689665.067636\n",
       "RF_log_y     0.980554   788818.041817"
      ]
     },
     "execution_count": 156,
     "metadata": {},
     "output_type": "execute_result"
    }
   ],
   "source": [
    "%%time\n",
    "evaluation=pd.DataFrame(columns=['R2','RMSE'],index=['Ridge_y','Ridge_log_y','RF_y','RF_log_y'])\n",
    "\n",
    "for model_name in ['Ridge_y','RF_y']:\n",
    "    score,rmse=eval(model_name=model_name,log_y=False)\n",
    "    evaluation.loc[model_name]=[score,rmse]\n",
    "\n",
    "for model_name in ['Ridge_log_y','RF_log_y']:  \n",
    "    score,rmse=eval(model_name=model_name,log_y=True)\n",
    "    evaluation.loc[model_name]=[score,rmse]\n",
    "\n",
    "evaluation.to_csv('evaluation.csv')\n",
    "evaluation"
   ]
  },
  {
   "cell_type": "markdown",
   "metadata": {
    "collapsed": false
   },
   "source": [
    "# 4. Inference"
   ]
  },
  {
   "cell_type": "code",
   "execution_count": 157,
   "metadata": {
    "collapsed": false,
    "pycharm": {
     "name": "#%%\n"
    }
   },
   "outputs": [
    {
     "name": "stdout",
     "output_type": "stream",
     "text": [
      "<class 'pandas.core.frame.DataFrame'>\n",
      "RangeIndex: 7500 entries, 0 to 7499\n",
      "Data columns (total 35 columns):\n",
      " #   Column              Non-Null Count  Dtype  \n",
      "---  ------              --------------  -----  \n",
      " 0   Unnamed: 0          7500 non-null   int64  \n",
      " 1   listing_id          7500 non-null   int64  \n",
      " 2   name                7500 non-null   object \n",
      " 3   street              7500 non-null   object \n",
      " 4   type                7500 non-null   object \n",
      " 5   bathrooms           7163 non-null   float64\n",
      " 6   district            7500 non-null   int64  \n",
      " 7   region              7500 non-null   object \n",
      " 8   planning_area       7500 non-null   object \n",
      " 9   subszone            7500 non-null   object \n",
      " 10  built_year          7452 non-null   float64\n",
      " 11  no_of_units         7174 non-null   float64\n",
      " 12  area_size           7500 non-null   float64\n",
      " 13  date_listed         7500 non-null   object \n",
      " 14  bedrooms            7500 non-null   int64  \n",
      " 15  tenure_remains      7500 non-null   int64  \n",
      " 16  tenure_years        7500 non-null   int64  \n",
      " 17  comme_min_distance  7500 non-null   float64\n",
      " 18  comme_no_1km        7500 non-null   int64  \n",
      " 19  comme_no_3km        7500 non-null   int64  \n",
      " 20  gov-m_min_distance  7500 non-null   float64\n",
      " 21  gov-m_no_1km        7500 non-null   int64  \n",
      " 22  gov-m_no_3km        7500 non-null   int64  \n",
      " 23  shopp_min_distance  7500 non-null   float64\n",
      " 24  shopp_no_1km        7500 non-null   int64  \n",
      " 25  shopp_no_3km        7500 non-null   int64  \n",
      " 26  secon_min_distance  7500 non-null   float64\n",
      " 27  secon_no_1km        7500 non-null   int64  \n",
      " 28  secon_no_3km        7500 non-null   int64  \n",
      " 29  prima_min_distance  7500 non-null   float64\n",
      " 30  prima_no_1km        7500 non-null   int64  \n",
      " 31  prima_no_3km        7500 non-null   int64  \n",
      " 32  train_min_distance  7500 non-null   float64\n",
      " 33  train_no_1km        7500 non-null   int64  \n",
      " 34  train_no_3km        7500 non-null   int64  \n",
      "dtypes: float64(10), int64(18), object(7)\n",
      "memory usage: 2.0+ MB\n"
     ]
    }
   ],
   "source": [
    "test = pd.read_csv('dataset/test_yutong.csv')\n",
    "test.info()"
   ]
  },
  {
   "cell_type": "code",
   "execution_count": 158,
   "metadata": {
    "collapsed": false,
    "pycharm": {
     "name": "#%%\n"
    }
   },
   "outputs": [],
   "source": [
    "# drop attr\n",
    "df_test=test.copy()\n",
    "df_test = df_test.drop(labels=meaningless_attrs, axis=1)\n",
    "\n",
    "# one-hot encoding\n",
    "for i in range(len(cat_cols)):\n",
    "    df_test = pd.merge(df_test, pd.get_dummies(df_test[cat_cols[i]], prefix=cat_cols[i]), on=df_test.index.values)\n",
    "    df_test.drop(columns=['key_0', cat_cols[i]], inplace=True)\n",
    "\n",
    "# int to float\n",
    "df_test=df_test.astype(float)\n",
    "\n",
    "# fill nan\n",
    "mean_cols = df_test.mean()\n",
    "df_test = df_test.fillna(mean_cols)\n",
    "\n",
    "\n",
    "df_stand_part = pd.DataFrame(StandardScaler().fit_transform(df_test[standard_vars]), columns=standard_vars,index=df_test.index)\n",
    "df_test = pd.concat([df_test[non_standard_vars], df_stand_part], axis=1)"
   ]
  },
  {
   "cell_type": "code",
   "execution_count": 159,
   "metadata": {},
   "outputs": [
    {
     "data": {
      "text/plain": [
       "(7500, 59)"
      ]
     },
     "execution_count": 159,
     "metadata": {},
     "output_type": "execute_result"
    }
   ],
   "source": [
    "test_X = df_test.values\n",
    "test_X.shape"
   ]
  },
  {
   "cell_type": "code",
   "execution_count": 160,
   "metadata": {},
   "outputs": [],
   "source": [
    "def inf(model_name,log_y):\n",
    "        #read model\n",
    "    with open(model_dir+f'{model_name}.pkl', 'rb') as f:\n",
    "        model=pkl.load(f)\n",
    "        \n",
    "    if log_y:\n",
    "        model.fit(train_X, np.log1p(train_y))\n",
    "        y_ = model.predict(test_X)\n",
    "        y_pred=np.expm1(y_)\n",
    "    else:\n",
    "        model.fit(train_X, train_y)\n",
    "        y_pred = model.predict(test_X)\n",
    "    \n",
    "    return y_pred"
   ]
  },
  {
   "cell_type": "code",
   "execution_count": 161,
   "metadata": {},
   "outputs": [
    {
     "name": "stdout",
     "output_type": "stream",
     "text": [
      "Wall time: 1min 41s\n"
     ]
    },
    {
     "data": {
      "text/html": [
       "<div>\n",
       "<style scoped>\n",
       "    .dataframe tbody tr th:only-of-type {\n",
       "        vertical-align: middle;\n",
       "    }\n",
       "\n",
       "    .dataframe tbody tr th {\n",
       "        vertical-align: top;\n",
       "    }\n",
       "\n",
       "    .dataframe thead th {\n",
       "        text-align: right;\n",
       "    }\n",
       "</style>\n",
       "<table border=\"1\" class=\"dataframe\">\n",
       "  <thead>\n",
       "    <tr style=\"text-align: right;\">\n",
       "      <th></th>\n",
       "      <th>Ridge_y</th>\n",
       "      <th>RF_y</th>\n",
       "      <th>Ridge_log_y</th>\n",
       "      <th>RF_log_y</th>\n",
       "    </tr>\n",
       "  </thead>\n",
       "  <tbody>\n",
       "    <tr>\n",
       "      <th>0</th>\n",
       "      <td>1.568657e+06</td>\n",
       "      <td>1.984778e+06</td>\n",
       "      <td>2.102187e+06</td>\n",
       "      <td>1.977664e+06</td>\n",
       "    </tr>\n",
       "    <tr>\n",
       "      <th>1</th>\n",
       "      <td>2.664302e+06</td>\n",
       "      <td>2.573034e+06</td>\n",
       "      <td>2.674517e+06</td>\n",
       "      <td>2.563836e+06</td>\n",
       "    </tr>\n",
       "    <tr>\n",
       "      <th>2</th>\n",
       "      <td>1.685755e+05</td>\n",
       "      <td>7.377412e+05</td>\n",
       "      <td>8.436621e+05</td>\n",
       "      <td>7.364561e+05</td>\n",
       "    </tr>\n",
       "    <tr>\n",
       "      <th>3</th>\n",
       "      <td>2.300200e+05</td>\n",
       "      <td>9.169067e+05</td>\n",
       "      <td>9.022001e+05</td>\n",
       "      <td>9.216612e+05</td>\n",
       "    </tr>\n",
       "    <tr>\n",
       "      <th>4</th>\n",
       "      <td>2.056484e+07</td>\n",
       "      <td>2.028116e+07</td>\n",
       "      <td>2.160047e+07</td>\n",
       "      <td>2.039953e+07</td>\n",
       "    </tr>\n",
       "    <tr>\n",
       "      <th>...</th>\n",
       "      <td>...</td>\n",
       "      <td>...</td>\n",
       "      <td>...</td>\n",
       "      <td>...</td>\n",
       "    </tr>\n",
       "    <tr>\n",
       "      <th>7495</th>\n",
       "      <td>1.695947e+06</td>\n",
       "      <td>1.305490e+06</td>\n",
       "      <td>1.293203e+06</td>\n",
       "      <td>1.303026e+06</td>\n",
       "    </tr>\n",
       "    <tr>\n",
       "      <th>7496</th>\n",
       "      <td>4.451723e+06</td>\n",
       "      <td>2.028720e+06</td>\n",
       "      <td>2.669964e+06</td>\n",
       "      <td>2.022960e+06</td>\n",
       "    </tr>\n",
       "    <tr>\n",
       "      <th>7497</th>\n",
       "      <td>1.132083e+06</td>\n",
       "      <td>1.638940e+06</td>\n",
       "      <td>1.473054e+06</td>\n",
       "      <td>1.637165e+06</td>\n",
       "    </tr>\n",
       "    <tr>\n",
       "      <th>7498</th>\n",
       "      <td>5.896607e+05</td>\n",
       "      <td>9.527378e+05</td>\n",
       "      <td>9.332352e+05</td>\n",
       "      <td>9.395472e+05</td>\n",
       "    </tr>\n",
       "    <tr>\n",
       "      <th>7499</th>\n",
       "      <td>6.467473e+06</td>\n",
       "      <td>7.644498e+06</td>\n",
       "      <td>5.942376e+06</td>\n",
       "      <td>7.471020e+06</td>\n",
       "    </tr>\n",
       "  </tbody>\n",
       "</table>\n",
       "<p>7500 rows × 4 columns</p>\n",
       "</div>"
      ],
      "text/plain": [
       "           Ridge_y          RF_y   Ridge_log_y      RF_log_y\n",
       "0     1.568657e+06  1.984778e+06  2.102187e+06  1.977664e+06\n",
       "1     2.664302e+06  2.573034e+06  2.674517e+06  2.563836e+06\n",
       "2     1.685755e+05  7.377412e+05  8.436621e+05  7.364561e+05\n",
       "3     2.300200e+05  9.169067e+05  9.022001e+05  9.216612e+05\n",
       "4     2.056484e+07  2.028116e+07  2.160047e+07  2.039953e+07\n",
       "...            ...           ...           ...           ...\n",
       "7495  1.695947e+06  1.305490e+06  1.293203e+06  1.303026e+06\n",
       "7496  4.451723e+06  2.028720e+06  2.669964e+06  2.022960e+06\n",
       "7497  1.132083e+06  1.638940e+06  1.473054e+06  1.637165e+06\n",
       "7498  5.896607e+05  9.527378e+05  9.332352e+05  9.395472e+05\n",
       "7499  6.467473e+06  7.644498e+06  5.942376e+06  7.471020e+06\n",
       "\n",
       "[7500 rows x 4 columns]"
      ]
     },
     "execution_count": 161,
     "metadata": {},
     "output_type": "execute_result"
    }
   ],
   "source": [
    "%%time\n",
    "prediction=pd.DataFrame(columns=['Ridge_y','RF_y','Ridge_log_y','RF_log_y'])\n",
    "\n",
    "for model_name in ['Ridge_y','RF_y']:\n",
    "    y_pred=inf(model_name=model_name,log_y=False)\n",
    "    prediction[f'{model_name}']=y_pred\n",
    "\n",
    "for model_name in ['Ridge_log_y','RF_log_y']:  \n",
    "    y_pred=inf(model_name=model_name,log_y=True)\n",
    "    prediction[f'{model_name}']=y_pred\n",
    "\n",
    "prediction.to_csv('prediction.csv')\n",
    "prediction"
   ]
  },
  {
   "cell_type": "markdown",
   "metadata": {},
   "source": [
    "# Plot the predicted results"
   ]
  },
  {
   "cell_type": "code",
   "execution_count": 166,
   "metadata": {},
   "outputs": [
    {
     "data": {
      "image/png": "[encoded data removed]",
      "text/plain": [
       "<Figure size 432x288 with 1 Axes>"
      ]
     },
     "metadata": {
      "needs_background": "light"
     },
     "output_type": "display_data"
    },
    {
     "data": {
      "image/png": "[encoded data removed]",
      "text/plain": [
       "<Figure size 432x288 with 1 Axes>"
      ]
     },
     "metadata": {
      "needs_background": "light"
     },
     "output_type": "display_data"
    },
    {
     "data": {
      "image/png": "[encoded data removed]",
      "text/plain": [
       "<Figure size 432x288 with 1 Axes>"
      ]
     },
     "metadata": {
      "needs_background": "light"
     },
     "output_type": "display_data"
    },
    {
     "data": {
      "image/png": "[encoded data removed]",
      "text/plain": [
       "<Figure size 432x288 with 1 Axes>"
      ]
     },
     "metadata": {
      "needs_background": "light"
     },
     "output_type": "display_data"
    }
   ],
   "source": [
    "for model_name in ['Ridge_y','RF_y','Ridge_log_y','RF_log_y']:\n",
    "    plt.scatter(prediction[model_name].index,prediction[model_name])\n",
    "    plt.show()"
   ]
  },
  {
   "cell_type": "code",
   "execution_count": 163,
   "metadata": {},
   "outputs": [],
   "source": [
    "best_model_name='RF_log_y'\n",
    "\n",
    "y_pred_to_submit=prediction[best_model_name].values\n",
    "\n",
    "from datetime import datetime\n",
    "current_time = datetime.now().strftime(\"__%Y_%m_%d__%H_%M_%S__\")\n",
    "\n",
    "# save the submission to kaggle\n",
    "submission_df = pd.DataFrame(data = {'Id':test.index,'Predicted':y_pred_to_submit})\n",
    "submission_df.to_csv(f'submission_{current_time}.csv',columns = ['Id','Predicted'],index = False)"
   ]
  }
 ],
 "metadata": {
  "kernelspec": {
   "display_name": "Python 3",
   "language": "python",
   "name": "python3"
  },
  "language_info": {
   "codemirror_mode": {
    "name": "ipython",
    "version": 3
   },
   "file_extension": ".py",
   "mimetype": "text/x-python",
   "name": "python",
   "nbconvert_exporter": "python",
   "pygments_lexer": "ipython3",
   "version": "3.8.12"
  }
 },
 "nbformat": 4,
 "nbformat_minor": 0
}
