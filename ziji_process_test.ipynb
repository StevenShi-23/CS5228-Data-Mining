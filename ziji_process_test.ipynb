{
 "cells": [
  {
   "cell_type": "code",
   "execution_count": 20,
   "metadata": {
    "collapsed": true
   },
   "outputs": [],
   "source": [
    "import pandas as pd\n",
    "import numpy as np"
   ]
  },
  {
   "cell_type": "code",
   "execution_count": 2,
   "outputs": [],
   "source": [
    "test_ori_df = pd.read_csv(\"dataset/test.csv\")\n",
    "train_ori_df = pd.read_csv('dataset/train.csv')\n",
    "train_cleaned_df = pd.read_csv('dataset/train_ziji_mar27.csv')"
   ],
   "metadata": {
    "collapsed": false,
    "pycharm": {
     "name": "#%%\n"
    }
   }
  },
  {
   "cell_type": "code",
   "execution_count": 9,
   "outputs": [
    {
     "name": "stdout",
     "output_type": "stream",
     "text": [
      "<class 'pandas.core.frame.DataFrame'>\n",
      "RangeIndex: 25718 entries, 0 to 25717\n",
      "Data columns (total 17 columns):\n",
      " #   Column          Non-Null Count  Dtype  \n",
      "---  ------          --------------  -----  \n",
      " 0   listing_id      25718 non-null  int64  \n",
      " 1   name            25718 non-null  object \n",
      " 2   street          25718 non-null  object \n",
      " 3   type            25718 non-null  object \n",
      " 4   bathrooms       24484 non-null  float64\n",
      " 5   district        25718 non-null  int64  \n",
      " 6   region          25718 non-null  object \n",
      " 7   planning_area   25718 non-null  object \n",
      " 8   subszone        25718 non-null  object \n",
      " 9   built_year      25645 non-null  float64\n",
      " 10  no_of_units     24680 non-null  float64\n",
      " 11  area_size       25718 non-null  float64\n",
      " 12  date_listed     25718 non-null  object \n",
      " 13  price           25718 non-null  float64\n",
      " 14  bedrooms        25718 non-null  float64\n",
      " 15  tenure_remains  25718 non-null  int64  \n",
      " 16  tenure_years    25718 non-null  int64  \n",
      "dtypes: float64(6), int64(4), object(7)\n",
      "memory usage: 3.3+ MB\n"
     ]
    }
   ],
   "source": [
    "train_cleaned_df.info()"
   ],
   "metadata": {
    "collapsed": false,
    "pycharm": {
     "name": "#%%\n"
    }
   }
  },
  {
   "cell_type": "code",
   "execution_count": 3,
   "outputs": [
    {
     "name": "stdout",
     "output_type": "stream",
     "text": [
      "<class 'pandas.core.frame.DataFrame'>\n",
      "RangeIndex: 7500 entries, 0 to 7499\n",
      "Data columns (total 22 columns):\n",
      " #   Column          Non-Null Count  Dtype  \n",
      "---  ------          --------------  -----  \n",
      " 0   listing_id      7500 non-null   int64  \n",
      " 1   name            7500 non-null   object \n",
      " 2   street          7500 non-null   object \n",
      " 3   type            7500 non-null   object \n",
      " 4   model           7112 non-null   object \n",
      " 5   market_segment  7500 non-null   object \n",
      " 6   type_of_area    7500 non-null   object \n",
      " 7   bedrooms        7382 non-null   object \n",
      " 8   bathrooms       7163 non-null   float64\n",
      " 9   district        7500 non-null   int64  \n",
      " 10  region          7500 non-null   object \n",
      " 11  planning_area   7500 non-null   object \n",
      " 12  subszone        7500 non-null   object \n",
      " 13  lat             7500 non-null   float64\n",
      " 14  lng             7500 non-null   float64\n",
      " 15  tenure          7415 non-null   object \n",
      " 16  built_year      4625 non-null   float64\n",
      " 17  no_of_units     7174 non-null   float64\n",
      " 18  area_size       7500 non-null   float64\n",
      " 19  eco_category    7500 non-null   object \n",
      " 20  accessibility   7500 non-null   object \n",
      " 21  date_listed     7500 non-null   object \n",
      "dtypes: float64(6), int64(2), object(14)\n",
      "memory usage: 1.3+ MB\n"
     ]
    }
   ],
   "source": [
    "test_ori_df.info()"
   ],
   "metadata": {
    "collapsed": false,
    "pycharm": {
     "name": "#%%\n"
    }
   }
  },
  {
   "cell_type": "code",
   "execution_count": 7,
   "outputs": [
    {
     "data": {
      "text/plain": "          listing_id                   name          street       type  \\\ncount   7.500000e+03                   7500            7500       7500   \nunique           NaN                   1141            1928          2   \ntop              NaN  marina one residences  23 marina way   apartment   \nfreq             NaN                    192              79       3999   \nmean    5.499611e+06                    NaN             NaN        NaN   \nstd     2.626071e+06                    NaN             NaN        NaN   \nmin     1.000245e+06                    NaN             NaN        NaN   \n25%     3.184513e+06                    NaN             NaN        NaN   \n50%     5.543142e+06                    NaN             NaN        NaN   \n75%     7.775501e+06                    NaN             NaN        NaN   \nmax     9.999297e+06                    NaN             NaN        NaN   \n\n            model market_segment type_of_area bedrooms    bathrooms  \\\ncount        7112           7500         7500     7382  7163.000000   \nunique          9              1            1       18          NaN   \ntop     apartment            ocr       strata        2          NaN   \nfreq         3797           7500         7500     2144          NaN   \nmean          NaN            NaN          NaN      NaN     2.278375   \nstd           NaN            NaN          NaN      NaN     1.133317   \nmin           NaN            NaN          NaN      NaN     1.000000   \n25%           NaN            NaN          NaN      NaN     1.000000   \n50%           NaN            NaN          NaN      NaN     2.000000   \n75%           NaN            NaN          NaN      NaN     3.000000   \nmax           NaN            NaN          NaN      NaN     8.000000   \n\n           district  ...         subszone          lat          lng  \\\ncount   7500.000000  ...             7500  7500.000000  7500.000000   \nunique          NaN  ...              183          NaN          NaN   \ntop             NaN  ...  central subzone          NaN          NaN   \nfreq            NaN  ...              279          NaN          NaN   \nmean      12.328800  ...              NaN     1.321499   103.845887   \nstd        6.998287  ...              NaN     0.038504     0.049830   \nmin        1.000000  ...              NaN     1.239337   103.695609   \n25%        7.000000  ...              NaN     1.297150   103.819293   \n50%       11.000000  ...              NaN     1.313062   103.842768   \n75%       18.000000  ...              NaN     1.341303   103.880561   \nmax       28.000000  ...              NaN     1.451400   103.980549   \n\n                    tenure   built_year  no_of_units     area_size  \\\ncount                 7415  4625.000000  7174.000000   7500.000000   \nunique                  24          NaN          NaN           NaN   \ntop     leasehold/99 years          NaN          NaN           NaN   \nfreq                  4309          NaN          NaN           NaN   \nmean                   NaN  2010.692757   453.859353   1243.848933   \nstd                    NaN    12.553763   419.987510   1042.264937   \nmin                    NaN  1799.000000     6.000000    337.000000   \n25%                    NaN  2010.000000   128.000000    688.000000   \n50%                    NaN  2014.000000   351.000000    958.000000   \n75%                    NaN  2016.000000   640.000000   1356.000000   \nmax                    NaN  2021.000000  2203.000000  13950.000000   \n\n         eco_category  accessibility date_listed  \ncount            7500           7500        7500  \nunique              1              1         299  \ntop     uncategorized        guarded  2021-10-12  \nfreq             7500           7500         487  \nmean              NaN            NaN         NaN  \nstd               NaN            NaN         NaN  \nmin               NaN            NaN         NaN  \n25%               NaN            NaN         NaN  \n50%               NaN            NaN         NaN  \n75%               NaN            NaN         NaN  \nmax               NaN            NaN         NaN  \n\n[11 rows x 22 columns]",
      "text/html": "<div>\n<style scoped>\n    .dataframe tbody tr th:only-of-type {\n        vertical-align: middle;\n    }\n\n    .dataframe tbody tr th {\n        vertical-align: top;\n    }\n\n    .dataframe thead th {\n        text-align: right;\n    }\n</style>\n<table border=\"1\" class=\"dataframe\">\n  <thead>\n    <tr style=\"text-align: right;\">\n      <th></th>\n      <th>listing_id</th>\n      <th>name</th>\n      <th>street</th>\n      <th>type</th>\n      <th>model</th>\n      <th>market_segment</th>\n      <th>type_of_area</th>\n      <th>bedrooms</th>\n      <th>bathrooms</th>\n      <th>district</th>\n      <th>...</th>\n      <th>subszone</th>\n      <th>lat</th>\n      <th>lng</th>\n      <th>tenure</th>\n      <th>built_year</th>\n      <th>no_of_units</th>\n      <th>area_size</th>\n      <th>eco_category</th>\n      <th>accessibility</th>\n      <th>date_listed</th>\n    </tr>\n  </thead>\n  <tbody>\n    <tr>\n      <th>count</th>\n      <td>7.500000e+03</td>\n      <td>7500</td>\n      <td>7500</td>\n      <td>7500</td>\n      <td>7112</td>\n      <td>7500</td>\n      <td>7500</td>\n      <td>7382</td>\n      <td>7163.000000</td>\n      <td>7500.000000</td>\n      <td>...</td>\n      <td>7500</td>\n      <td>7500.000000</td>\n      <td>7500.000000</td>\n      <td>7415</td>\n      <td>4625.000000</td>\n      <td>7174.000000</td>\n      <td>7500.000000</td>\n      <td>7500</td>\n      <td>7500</td>\n      <td>7500</td>\n    </tr>\n    <tr>\n      <th>unique</th>\n      <td>NaN</td>\n      <td>1141</td>\n      <td>1928</td>\n      <td>2</td>\n      <td>9</td>\n      <td>1</td>\n      <td>1</td>\n      <td>18</td>\n      <td>NaN</td>\n      <td>NaN</td>\n      <td>...</td>\n      <td>183</td>\n      <td>NaN</td>\n      <td>NaN</td>\n      <td>24</td>\n      <td>NaN</td>\n      <td>NaN</td>\n      <td>NaN</td>\n      <td>1</td>\n      <td>1</td>\n      <td>299</td>\n    </tr>\n    <tr>\n      <th>top</th>\n      <td>NaN</td>\n      <td>marina one residences</td>\n      <td>23 marina way</td>\n      <td>apartment</td>\n      <td>apartment</td>\n      <td>ocr</td>\n      <td>strata</td>\n      <td>2</td>\n      <td>NaN</td>\n      <td>NaN</td>\n      <td>...</td>\n      <td>central subzone</td>\n      <td>NaN</td>\n      <td>NaN</td>\n      <td>leasehold/99 years</td>\n      <td>NaN</td>\n      <td>NaN</td>\n      <td>NaN</td>\n      <td>uncategorized</td>\n      <td>guarded</td>\n      <td>2021-10-12</td>\n    </tr>\n    <tr>\n      <th>freq</th>\n      <td>NaN</td>\n      <td>192</td>\n      <td>79</td>\n      <td>3999</td>\n      <td>3797</td>\n      <td>7500</td>\n      <td>7500</td>\n      <td>2144</td>\n      <td>NaN</td>\n      <td>NaN</td>\n      <td>...</td>\n      <td>279</td>\n      <td>NaN</td>\n      <td>NaN</td>\n      <td>4309</td>\n      <td>NaN</td>\n      <td>NaN</td>\n      <td>NaN</td>\n      <td>7500</td>\n      <td>7500</td>\n      <td>487</td>\n    </tr>\n    <tr>\n      <th>mean</th>\n      <td>5.499611e+06</td>\n      <td>NaN</td>\n      <td>NaN</td>\n      <td>NaN</td>\n      <td>NaN</td>\n      <td>NaN</td>\n      <td>NaN</td>\n      <td>NaN</td>\n      <td>2.278375</td>\n      <td>12.328800</td>\n      <td>...</td>\n      <td>NaN</td>\n      <td>1.321499</td>\n      <td>103.845887</td>\n      <td>NaN</td>\n      <td>2010.692757</td>\n      <td>453.859353</td>\n      <td>1243.848933</td>\n      <td>NaN</td>\n      <td>NaN</td>\n      <td>NaN</td>\n    </tr>\n    <tr>\n      <th>std</th>\n      <td>2.626071e+06</td>\n      <td>NaN</td>\n      <td>NaN</td>\n      <td>NaN</td>\n      <td>NaN</td>\n      <td>NaN</td>\n      <td>NaN</td>\n      <td>NaN</td>\n      <td>1.133317</td>\n      <td>6.998287</td>\n      <td>...</td>\n      <td>NaN</td>\n      <td>0.038504</td>\n      <td>0.049830</td>\n      <td>NaN</td>\n      <td>12.553763</td>\n      <td>419.987510</td>\n      <td>1042.264937</td>\n      <td>NaN</td>\n      <td>NaN</td>\n      <td>NaN</td>\n    </tr>\n    <tr>\n      <th>min</th>\n      <td>1.000245e+06</td>\n      <td>NaN</td>\n      <td>NaN</td>\n      <td>NaN</td>\n      <td>NaN</td>\n      <td>NaN</td>\n      <td>NaN</td>\n      <td>NaN</td>\n      <td>1.000000</td>\n      <td>1.000000</td>\n      <td>...</td>\n      <td>NaN</td>\n      <td>1.239337</td>\n      <td>103.695609</td>\n      <td>NaN</td>\n      <td>1799.000000</td>\n      <td>6.000000</td>\n      <td>337.000000</td>\n      <td>NaN</td>\n      <td>NaN</td>\n      <td>NaN</td>\n    </tr>\n    <tr>\n      <th>25%</th>\n      <td>3.184513e+06</td>\n      <td>NaN</td>\n      <td>NaN</td>\n      <td>NaN</td>\n      <td>NaN</td>\n      <td>NaN</td>\n      <td>NaN</td>\n      <td>NaN</td>\n      <td>1.000000</td>\n      <td>7.000000</td>\n      <td>...</td>\n      <td>NaN</td>\n      <td>1.297150</td>\n      <td>103.819293</td>\n      <td>NaN</td>\n      <td>2010.000000</td>\n      <td>128.000000</td>\n      <td>688.000000</td>\n      <td>NaN</td>\n      <td>NaN</td>\n      <td>NaN</td>\n    </tr>\n    <tr>\n      <th>50%</th>\n      <td>5.543142e+06</td>\n      <td>NaN</td>\n      <td>NaN</td>\n      <td>NaN</td>\n      <td>NaN</td>\n      <td>NaN</td>\n      <td>NaN</td>\n      <td>NaN</td>\n      <td>2.000000</td>\n      <td>11.000000</td>\n      <td>...</td>\n      <td>NaN</td>\n      <td>1.313062</td>\n      <td>103.842768</td>\n      <td>NaN</td>\n      <td>2014.000000</td>\n      <td>351.000000</td>\n      <td>958.000000</td>\n      <td>NaN</td>\n      <td>NaN</td>\n      <td>NaN</td>\n    </tr>\n    <tr>\n      <th>75%</th>\n      <td>7.775501e+06</td>\n      <td>NaN</td>\n      <td>NaN</td>\n      <td>NaN</td>\n      <td>NaN</td>\n      <td>NaN</td>\n      <td>NaN</td>\n      <td>NaN</td>\n      <td>3.000000</td>\n      <td>18.000000</td>\n      <td>...</td>\n      <td>NaN</td>\n      <td>1.341303</td>\n      <td>103.880561</td>\n      <td>NaN</td>\n      <td>2016.000000</td>\n      <td>640.000000</td>\n      <td>1356.000000</td>\n      <td>NaN</td>\n      <td>NaN</td>\n      <td>NaN</td>\n    </tr>\n    <tr>\n      <th>max</th>\n      <td>9.999297e+06</td>\n      <td>NaN</td>\n      <td>NaN</td>\n      <td>NaN</td>\n      <td>NaN</td>\n      <td>NaN</td>\n      <td>NaN</td>\n      <td>NaN</td>\n      <td>8.000000</td>\n      <td>28.000000</td>\n      <td>...</td>\n      <td>NaN</td>\n      <td>1.451400</td>\n      <td>103.980549</td>\n      <td>NaN</td>\n      <td>2021.000000</td>\n      <td>2203.000000</td>\n      <td>13950.000000</td>\n      <td>NaN</td>\n      <td>NaN</td>\n      <td>NaN</td>\n    </tr>\n  </tbody>\n</table>\n<p>11 rows × 22 columns</p>\n</div>"
     },
     "execution_count": 7,
     "metadata": {},
     "output_type": "execute_result"
    }
   ],
   "source": [
    "test_ori_df.describe(include='all')"
   ],
   "metadata": {
    "collapsed": false,
    "pycharm": {
     "name": "#%%\n"
    }
   }
  },
  {
   "cell_type": "markdown",
   "source": [
    "## Summary of pre-processing\n",
    "Purpose: align the format of cleaned train dataset with test\n",
    "1. No de-duplication\n",
    "2. No outlier transformation\n",
    "3. Do fill missing values\n",
    "4. Do transform entries value @ronghua"
   ],
   "metadata": {
    "collapsed": false
   }
  },
  {
   "cell_type": "code",
   "execution_count": 8,
   "outputs": [
    {
     "name": "stdout",
     "output_type": "stream",
     "text": [
      "Stats for missing values:\n",
      "---------------\n",
      "listing_id:  0\n",
      "name:  0\n",
      "street:  0\n",
      "type:  0\n",
      "model:  388\n",
      "market_segment:  0\n",
      "type_of_area:  0\n",
      "bedrooms:  118\n",
      "bathrooms:  337\n",
      "district:  0\n",
      "region:  0\n",
      "planning_area:  0\n",
      "subszone:  0\n",
      "lat:  0\n",
      "lng:  0\n",
      "tenure:  85\n",
      "built_year:  2875\n",
      "no_of_units:  326\n",
      "area_size:  0\n",
      "eco_category:  0\n",
      "accessibility:  0\n",
      "date_listed:  0\n"
     ]
    }
   ],
   "source": [
    "def check_missing_values(df):\n",
    "    print(\"Stats for missing values:\")\n",
    "    print(\"-\"*15)\n",
    "    for col in df:\n",
    "        print(f\"{col}: \", df[col].isna().sum())\n",
    "check_missing_values(test_ori_df)"
   ],
   "metadata": {
    "collapsed": false,
    "pycharm": {
     "name": "#%%\n"
    }
   }
  },
  {
   "cell_type": "markdown",
   "source": [
    "## Check for data leaks (if train/test contains shared records)"
   ],
   "metadata": {
    "collapsed": false
   }
  },
  {
   "cell_type": "code",
   "execution_count": 14,
   "outputs": [
    {
     "name": "stdout",
     "output_type": "stream",
     "text": [
      "<class 'pandas.core.frame.DataFrame'>\n",
      "Int64Index: 283460 entries, 0 to 283459\n",
      "Data columns (total 37 columns):\n",
      " #   Column           Non-Null Count   Dtype  \n",
      "---  ------           --------------   -----  \n",
      " 0   listing_id_x     283460 non-null  int64  \n",
      " 1   name             283460 non-null  object \n",
      " 2   street           283460 non-null  object \n",
      " 3   type_x           283460 non-null  object \n",
      " 4   bathrooms_x      267213 non-null  float64\n",
      " 5   district_x       283460 non-null  int64  \n",
      " 6   region_x         283460 non-null  object \n",
      " 7   planning_area_x  283460 non-null  object \n",
      " 8   subszone_x       283460 non-null  object \n",
      " 9   built_year_x     283382 non-null  float64\n",
      " 10  no_of_units_x    267036 non-null  float64\n",
      " 11  area_size_x      283460 non-null  float64\n",
      " 12  date_listed_x    283460 non-null  object \n",
      " 13  price            283460 non-null  float64\n",
      " 14  bedrooms_x       283460 non-null  float64\n",
      " 15  tenure_remains   283460 non-null  int64  \n",
      " 16  tenure_years     283460 non-null  int64  \n",
      " 17  listing_id_y     283460 non-null  int64  \n",
      " 18  type_y           283460 non-null  object \n",
      " 19  model            268991 non-null  object \n",
      " 20  market_segment   283460 non-null  object \n",
      " 21  type_of_area     283460 non-null  object \n",
      " 22  bedrooms_y       280185 non-null  object \n",
      " 23  bathrooms_y      268880 non-null  float64\n",
      " 24  district_y       283460 non-null  int64  \n",
      " 25  region_y         283460 non-null  object \n",
      " 26  planning_area_y  283460 non-null  object \n",
      " 27  subszone_y       283460 non-null  object \n",
      " 28  lat              283460 non-null  float64\n",
      " 29  lng              283460 non-null  float64\n",
      " 30  tenure           281602 non-null  object \n",
      " 31  built_year_y     132415 non-null  float64\n",
      " 32  no_of_units_y    266332 non-null  float64\n",
      " 33  area_size_y      283460 non-null  float64\n",
      " 34  eco_category     283460 non-null  object \n",
      " 35  accessibility    283460 non-null  object \n",
      " 36  date_listed_y    283460 non-null  object \n",
      "dtypes: float64(12), int64(6), object(19)\n",
      "memory usage: 82.2+ MB\n"
     ]
    }
   ],
   "source": [
    "intersec  = pd.merge(train_cleaned_df, test_ori_df, how='inner', on=['name', 'street'])\n",
    "intersec.info()\n",
    "del intersec"
   ],
   "metadata": {
    "collapsed": false,
    "pycharm": {
     "name": "#%%\n"
    }
   }
  },
  {
   "cell_type": "code",
   "execution_count": 15,
   "outputs": [
    {
     "name": "stdout",
     "output_type": "stream",
     "text": [
      "<class 'pandas.core.frame.DataFrame'>\n",
      "Index: 0 entries\n",
      "Data columns (total 38 columns):\n",
      " #   Column           Non-Null Count  Dtype  \n",
      "---  ------           --------------  -----  \n",
      " 0   listing_id       0 non-null      int64  \n",
      " 1   name_x           0 non-null      object \n",
      " 2   street_x         0 non-null      object \n",
      " 3   type_x           0 non-null      object \n",
      " 4   bathrooms_x      0 non-null      float64\n",
      " 5   district_x       0 non-null      int64  \n",
      " 6   region_x         0 non-null      object \n",
      " 7   planning_area_x  0 non-null      object \n",
      " 8   subszone_x       0 non-null      object \n",
      " 9   built_year_x     0 non-null      float64\n",
      " 10  no_of_units_x    0 non-null      float64\n",
      " 11  area_size_x      0 non-null      float64\n",
      " 12  date_listed_x    0 non-null      object \n",
      " 13  price            0 non-null      float64\n",
      " 14  bedrooms_x       0 non-null      float64\n",
      " 15  tenure_remains   0 non-null      int64  \n",
      " 16  tenure_years     0 non-null      int64  \n",
      " 17  name_y           0 non-null      object \n",
      " 18  street_y         0 non-null      object \n",
      " 19  type_y           0 non-null      object \n",
      " 20  model            0 non-null      object \n",
      " 21  market_segment   0 non-null      object \n",
      " 22  type_of_area     0 non-null      object \n",
      " 23  bedrooms_y       0 non-null      object \n",
      " 24  bathrooms_y      0 non-null      float64\n",
      " 25  district_y       0 non-null      int64  \n",
      " 26  region_y         0 non-null      object \n",
      " 27  planning_area_y  0 non-null      object \n",
      " 28  subszone_y       0 non-null      object \n",
      " 29  lat              0 non-null      float64\n",
      " 30  lng              0 non-null      float64\n",
      " 31  tenure           0 non-null      object \n",
      " 32  built_year_y     0 non-null      float64\n",
      " 33  no_of_units_y    0 non-null      float64\n",
      " 34  area_size_y      0 non-null      float64\n",
      " 35  eco_category     0 non-null      object \n",
      " 36  accessibility    0 non-null      object \n",
      " 37  date_listed_y    0 non-null      object \n",
      "dtypes: float64(12), int64(5), object(21)\n",
      "memory usage: 0.0+ bytes\n"
     ]
    }
   ],
   "source": [
    "intersec  = pd.merge(train_cleaned_df, test_ori_df, how='inner', on=['listing_id'])\n",
    "intersec.info()\n",
    "del intersec"
   ],
   "metadata": {
    "collapsed": false,
    "pycharm": {
     "name": "#%%\n"
    }
   }
  },
  {
   "cell_type": "markdown",
   "source": [
    "## Drop unused records"
   ],
   "metadata": {
    "collapsed": false
   }
  },
  {
   "cell_type": "code",
   "execution_count": 16,
   "outputs": [],
   "source": [
    "col_to_drop = ['lat', 'lng', 'eco_category', 'accessibility', 'type_of_area', 'market_segment']\n",
    "test_drop = test_ori_df.drop(columns=col_to_drop, axis=1)"
   ],
   "metadata": {
    "collapsed": false,
    "pycharm": {
     "name": "#%%\n"
    }
   }
  },
  {
   "cell_type": "markdown",
   "source": [
    "## Fill missing built_year\n",
    "By looking up in the training set"
   ],
   "metadata": {
    "collapsed": false
   }
  },
  {
   "cell_type": "markdown",
   "source": [],
   "metadata": {
    "collapsed": false
   }
  },
  {
   "cell_type": "code",
   "execution_count": 18,
   "outputs": [
    {
     "name": "stdout",
     "output_type": "stream",
     "text": [
      "Stats for missing values:\n",
      "---------------\n",
      "listing_id:  0\n",
      "name:  0\n",
      "street:  0\n",
      "type:  0\n",
      "model:  388\n",
      "bedrooms:  118\n",
      "bathrooms:  337\n",
      "district:  0\n",
      "region:  0\n",
      "planning_area:  0\n",
      "subszone:  0\n",
      "tenure:  85\n",
      "built_year:  2875\n",
      "no_of_units:  326\n",
      "area_size:  0\n",
      "date_listed:  0\n"
     ]
    }
   ],
   "source": [
    "check_missing_values(test_drop)"
   ],
   "metadata": {
    "collapsed": false,
    "pycharm": {
     "name": "#%%\n"
    }
   }
  },
  {
   "cell_type": "code",
   "execution_count": 19,
   "outputs": [
    {
     "data": {
      "text/plain": "0        True\n1       False\n2       False\n3       False\n4        True\n        ...  \n7495    False\n7496    False\n7497     True\n7498    False\n7499    False\nName: built_year, Length: 7500, dtype: bool"
     },
     "execution_count": 19,
     "metadata": {},
     "output_type": "execute_result"
    }
   ],
   "source": [
    "test_drop.built_year.isna()"
   ],
   "metadata": {
    "collapsed": false,
    "pycharm": {
     "name": "#%%\n"
    }
   }
  },
  {
   "cell_type": "code",
   "execution_count": 34,
   "outputs": [],
   "source": [
    "from pandas.api.types import is_numeric_dtype"
   ],
   "metadata": {
    "collapsed": false,
    "pycharm": {
     "name": "#%%\n"
    }
   }
  },
  {
   "cell_type": "code",
   "execution_count": 41,
   "outputs": [],
   "source": [
    "def fill_value_by_lookup(train_df, test_df, attr=None):\n",
    "    # missing_df = test_df[test_df.attr.isna()]\n",
    "    keys = test_df[test_df[attr].isna()].name\n",
    "    count=0\n",
    "    for name in keys:\n",
    "        # find the non-zero mode attr for each unique prop\n",
    "        lookuptable = train_df[train_df.name==name]\n",
    "        result = None\n",
    "        if is_numeric_dtype(lookuptable[attr]):\n",
    "            result = lookuptable[attr].mode().median()\n",
    "        else:\n",
    "            result = lookuptable[attr].mode()\n",
    "        if np.isnan(result):\n",
    "            print(f\"nan mode {attr} for \", name)\n",
    "        fill_cond = (test_df.name==name) & (test_df[attr].isna())\n",
    "        test_df.loc[fill_cond, attr] = result\n",
    "        count+=1\n",
    "    print(f\"Filled {count} {attr}\")\n",
    "    # return test_df"
   ],
   "metadata": {
    "collapsed": false,
    "pycharm": {
     "name": "#%%\n"
    }
   }
  },
  {
   "cell_type": "code",
   "execution_count": 38,
   "outputs": [
    {
     "name": "stdout",
     "output_type": "stream",
     "text": [
      "Stats for missing values:\n",
      "---------------\n",
      "listing_id:  0\n",
      "name:  0\n",
      "street:  0\n",
      "type:  0\n",
      "model:  388\n",
      "bedrooms:  118\n",
      "bathrooms:  337\n",
      "district:  0\n",
      "region:  0\n",
      "planning_area:  0\n",
      "subszone:  0\n",
      "tenure:  85\n",
      "built_year:  2875\n",
      "no_of_units:  326\n",
      "area_size:  0\n",
      "date_listed:  0\n"
     ]
    }
   ],
   "source": [
    "check_missing_values(test_drop)"
   ],
   "metadata": {
    "collapsed": false,
    "pycharm": {
     "name": "#%%\n"
    }
   }
  },
  {
   "cell_type": "markdown",
   "source": [
    "Split"
   ],
   "metadata": {
    "collapsed": false
   }
  },
  {
   "cell_type": "code",
   "execution_count": 42,
   "outputs": [
    {
     "name": "stdout",
     "output_type": "stream",
     "text": [
      "nan mode built_year for  beach road\n",
      "nan mode built_year for  beach road\n",
      "nan mode built_year for  jalan lempeng\n",
      "nan mode built_year for  seletar north link\n",
      "nan mode built_year for  parkway apartment\n",
      "nan mode built_year for  arab street\n",
      "nan mode built_year for  jalan lempeng\n",
      "nan mode built_year for  gentle drive\n",
      "nan mode built_year for  sims avenue east\n",
      "nan mode built_year for  cairnhill road\n",
      "nan mode built_year for  kings road\n",
      "nan mode built_year for  jalan lempeng\n",
      "nan mode built_year for  upper changi road north\n",
      "nan mode built_year for  beach road\n",
      "nan mode built_year for  toh crescent\n",
      "nan mode built_year for  clarke quay\n",
      "nan mode built_year for  halton road\n",
      "nan mode built_year for  marne road\n",
      "nan mode built_year for  upper changi road north\n",
      "nan mode built_year for  beach road\n",
      "nan mode built_year for  choa chu kang avenue 2\n",
      "nan mode built_year for  upper changi road north\n",
      "nan mode built_year for  cairnhill road\n",
      "nan mode built_year for  cashew crescent\n",
      "nan mode built_year for  sims drive\n",
      "nan mode built_year for  jalan lempeng\n",
      "nan mode built_year for  gilstead road\n",
      "nan mode built_year for  marne road\n",
      "nan mode built_year for  north bridge road\n",
      "nan mode built_year for  jurong west street 65\n",
      "nan mode built_year for  bukit timah road\n",
      "nan mode built_year for  clarke quay\n",
      "nan mode built_year for  jelebu road\n",
      "nan mode built_year for  upper boon keng road\n",
      "nan mode built_year for  everitt road north\n",
      "nan mode built_year for  dublin road\n",
      "nan mode built_year for  west coast grove\n",
      "nan mode built_year for  eng aun mansion\n",
      "nan mode built_year for  upper serangoon road\n",
      "nan mode built_year for  bidadari park drive\n",
      "nan mode built_year for  bukit timah road\n",
      "nan mode built_year for  clarke quay\n",
      "nan mode built_year for  whitley road\n",
      "nan mode built_year for  boon lay way\n",
      "nan mode built_year for  international road\n",
      "nan mode built_year for  jervois road\n",
      "nan mode built_year for  pandan loop\n",
      "nan mode built_year for  sengkang central\n",
      "Filled 2875 built_year\n",
      "Stats for missing values:\n",
      "---------------\n",
      "listing_id:  0\n",
      "name:  0\n",
      "street:  0\n",
      "type:  0\n",
      "model:  388\n",
      "bedrooms:  118\n",
      "bathrooms:  337\n",
      "district:  0\n",
      "region:  0\n",
      "planning_area:  0\n",
      "subszone:  0\n",
      "tenure:  85\n",
      "built_year:  48\n",
      "no_of_units:  326\n",
      "area_size:  0\n",
      "date_listed:  0\n"
     ]
    }
   ],
   "source": [
    "fill_value_by_lookup(train_cleaned_df, test_drop, attr='built_year')\n",
    "check_missing_values(test_drop)"
   ],
   "metadata": {
    "collapsed": false,
    "pycharm": {
     "name": "#%%\n"
    }
   }
  },
  {
   "cell_type": "code",
   "execution_count": 44,
   "outputs": [
    {
     "name": "stdout",
     "output_type": "stream",
     "text": [
      "Index(['listing_id', 'name', 'street', 'type', 'bathrooms', 'district',\n",
      "       'region', 'planning_area', 'subszone', 'built_year', 'no_of_units',\n",
      "       'area_size', 'date_listed', 'price', 'bedrooms', 'tenure_remains',\n",
      "       'tenure_years'],\n",
      "      dtype='object')\n",
      "Index(['listing_id', 'name', 'street', 'type', 'model', 'bedrooms',\n",
      "       'bathrooms', 'district', 'region', 'planning_area', 'subszone',\n",
      "       'tenure', 'built_year', 'no_of_units', 'area_size', 'date_listed'],\n",
      "      dtype='object')\n"
     ]
    }
   ],
   "source": [
    "print(train_cleaned_df.columns)\n",
    "print(test_drop.columns)"
   ],
   "metadata": {
    "collapsed": false,
    "pycharm": {
     "name": "#%%\n"
    }
   }
  },
  {
   "cell_type": "code",
   "execution_count": 45,
   "outputs": [
    {
     "data": {
      "text/plain": "   listing_id                    name            street         type  \\\n0     1487111            leedon green    leedon heights  condominium   \n1     6794066  the line @ tanjong rhu  tanjong rhu road  condominium   \n2     4027017           parc elegance  telok kurau road    apartment   \n3     1119141              the jovell   13 flora drive   condominium   \n4     7374262             shenton way    5 shenton way   condominium   \n\n         model bedrooms  bathrooms  district          region  planning_area  \\\n0  condominium        2        2.0        10  central region    bukit timah   \n1  condominium        3        2.0        15  central region        kallang   \n2    apartment      NaN        1.0        15     east region          bedok   \n3  condominium        2        1.0        17     east region      pasir ris   \n4  condominium        4        6.0         1  central region  downtown core   \n\n       subszone              tenure  built_year  no_of_units  area_size  \\\n0  farrer court            freehold      1930.0        638.0      710.0   \n1   tanjong rhu            freehold      2016.0        130.0     1055.0   \n2       frankel            freehold      2013.0        157.0      463.0   \n3   flora drive  leasehold/99 years      1930.0        428.0      645.0   \n4         cecil  leasehold/99 years      2011.0          NaN     6200.0   \n\n  date_listed  \n0  2021-12-12  \n1  2021-10-12  \n2  2021-12-23  \n3  2021-12-31  \n4  2021-07-14  ",
      "text/html": "<div>\n<style scoped>\n    .dataframe tbody tr th:only-of-type {\n        vertical-align: middle;\n    }\n\n    .dataframe tbody tr th {\n        vertical-align: top;\n    }\n\n    .dataframe thead th {\n        text-align: right;\n    }\n</style>\n<table border=\"1\" class=\"dataframe\">\n  <thead>\n    <tr style=\"text-align: right;\">\n      <th></th>\n      <th>listing_id</th>\n      <th>name</th>\n      <th>street</th>\n      <th>type</th>\n      <th>model</th>\n      <th>bedrooms</th>\n      <th>bathrooms</th>\n      <th>district</th>\n      <th>region</th>\n      <th>planning_area</th>\n      <th>subszone</th>\n      <th>tenure</th>\n      <th>built_year</th>\n      <th>no_of_units</th>\n      <th>area_size</th>\n      <th>date_listed</th>\n    </tr>\n  </thead>\n  <tbody>\n    <tr>\n      <th>0</th>\n      <td>1487111</td>\n      <td>leedon green</td>\n      <td>leedon heights</td>\n      <td>condominium</td>\n      <td>condominium</td>\n      <td>2</td>\n      <td>2.0</td>\n      <td>10</td>\n      <td>central region</td>\n      <td>bukit timah</td>\n      <td>farrer court</td>\n      <td>freehold</td>\n      <td>1930.0</td>\n      <td>638.0</td>\n      <td>710.0</td>\n      <td>2021-12-12</td>\n    </tr>\n    <tr>\n      <th>1</th>\n      <td>6794066</td>\n      <td>the line @ tanjong rhu</td>\n      <td>tanjong rhu road</td>\n      <td>condominium</td>\n      <td>condominium</td>\n      <td>3</td>\n      <td>2.0</td>\n      <td>15</td>\n      <td>central region</td>\n      <td>kallang</td>\n      <td>tanjong rhu</td>\n      <td>freehold</td>\n      <td>2016.0</td>\n      <td>130.0</td>\n      <td>1055.0</td>\n      <td>2021-10-12</td>\n    </tr>\n    <tr>\n      <th>2</th>\n      <td>4027017</td>\n      <td>parc elegance</td>\n      <td>telok kurau road</td>\n      <td>apartment</td>\n      <td>apartment</td>\n      <td>NaN</td>\n      <td>1.0</td>\n      <td>15</td>\n      <td>east region</td>\n      <td>bedok</td>\n      <td>frankel</td>\n      <td>freehold</td>\n      <td>2013.0</td>\n      <td>157.0</td>\n      <td>463.0</td>\n      <td>2021-12-23</td>\n    </tr>\n    <tr>\n      <th>3</th>\n      <td>1119141</td>\n      <td>the jovell</td>\n      <td>13 flora drive</td>\n      <td>condominium</td>\n      <td>condominium</td>\n      <td>2</td>\n      <td>1.0</td>\n      <td>17</td>\n      <td>east region</td>\n      <td>pasir ris</td>\n      <td>flora drive</td>\n      <td>leasehold/99 years</td>\n      <td>1930.0</td>\n      <td>428.0</td>\n      <td>645.0</td>\n      <td>2021-12-31</td>\n    </tr>\n    <tr>\n      <th>4</th>\n      <td>7374262</td>\n      <td>shenton way</td>\n      <td>5 shenton way</td>\n      <td>condominium</td>\n      <td>condominium</td>\n      <td>4</td>\n      <td>6.0</td>\n      <td>1</td>\n      <td>central region</td>\n      <td>downtown core</td>\n      <td>cecil</td>\n      <td>leasehold/99 years</td>\n      <td>2011.0</td>\n      <td>NaN</td>\n      <td>6200.0</td>\n      <td>2021-07-14</td>\n    </tr>\n  </tbody>\n</table>\n</div>"
     },
     "execution_count": 45,
     "metadata": {},
     "output_type": "execute_result"
    }
   ],
   "source": [
    "test_drop.head()"
   ],
   "metadata": {
    "collapsed": false,
    "pycharm": {
     "name": "#%%\n"
    }
   }
  },
  {
   "cell_type": "code",
   "execution_count": 46,
   "outputs": [],
   "source": [
    "test_drop = test_drop.drop(columns=['model'], axis=1)"
   ],
   "metadata": {
    "collapsed": false,
    "pycharm": {
     "name": "#%%\n"
    }
   }
  },
  {
   "cell_type": "markdown",
   "source": [
    "## Process bathrooms and tenure\n",
    "copied from eda_ronghua_2.ipynb"
   ],
   "metadata": {
    "collapsed": false
   }
  },
  {
   "cell_type": "markdown",
   "source": [
    "We treate study as 0.5 bedroom"
   ],
   "metadata": {
    "collapsed": false
   }
  },
  {
   "cell_type": "code",
   "execution_count": 51,
   "outputs": [
    {
     "name": "stderr",
     "output_type": "stream",
     "text": [
      "/Users/shiziji/miniconda/envs/CS5228/lib/python3.6/site-packages/ipykernel_launcher.py:14: SettingWithCopyWarning: \n",
      "A value is trying to be set on a copy of a slice from a DataFrame\n",
      "\n",
      "See the caveats in the documentation: https://pandas.pydata.org/pandas-docs/stable/user_guide/indexing.html#returning-a-view-versus-a-copy\n",
      "  \n",
      "/Users/shiziji/miniconda/envs/CS5228/lib/python3.6/site-packages/ipykernel_launcher.py:16: SettingWithCopyWarning: \n",
      "A value is trying to be set on a copy of a slice from a DataFrame\n",
      "\n",
      "See the caveats in the documentation: https://pandas.pydata.org/pandas-docs/stable/user_guide/indexing.html#returning-a-view-versus-a-copy\n",
      "  app.launch_new_instance()\n",
      "/Users/shiziji/miniconda/envs/CS5228/lib/python3.6/site-packages/ipykernel_launcher.py:12: SettingWithCopyWarning: \n",
      "A value is trying to be set on a copy of a slice from a DataFrame\n",
      "\n",
      "See the caveats in the documentation: https://pandas.pydata.org/pandas-docs/stable/user_guide/indexing.html#returning-a-view-versus-a-copy\n",
      "  if sys.path[0] == '':\n",
      "/Users/shiziji/miniconda/envs/CS5228/lib/python3.6/site-packages/ipykernel_launcher.py:10: SettingWithCopyWarning: \n",
      "A value is trying to be set on a copy of a slice from a DataFrame\n",
      "\n",
      "See the caveats in the documentation: https://pandas.pydata.org/pandas-docs/stable/user_guide/indexing.html#returning-a-view-versus-a-copy\n",
      "  # Remove the CWD from sys.path while we load stuff.\n"
     ]
    }
   ],
   "source": [
    "test_drop['bedrooms_1']=0\n",
    "change=test_drop.loc[:,'bedrooms']\n",
    "for i in range(len(change)):\n",
    "    a=change[i]\n",
    "    if type(a) != float:\n",
    "        if len(a.strip())>1:\n",
    "            if '+' in a:\n",
    "                b=a.split('+')\n",
    "                if b[1]=='':\n",
    "                    test_drop['bedrooms_1'][i]=int(b[0])\n",
    "                else:\n",
    "                    test_drop['bedrooms_1'][i]=int(b[0])+int(b[1])*0.5\n",
    "        else:\n",
    "            test_drop['bedrooms_1'][i]=int(a)\n",
    "    else:\n",
    "        test_drop['bedrooms_1'][i]=0"
   ],
   "metadata": {
    "collapsed": false,
    "pycharm": {
     "name": "#%%\n"
    }
   }
  },
  {
   "cell_type": "code",
   "execution_count": 52,
   "outputs": [
    {
     "data": {
      "text/plain": "array([ 2,  3,  0,  4,  1,  5, 10,  6,  7,  9,  8])"
     },
     "execution_count": 52,
     "metadata": {},
     "output_type": "execute_result"
    }
   ],
   "source": [
    "test_drop['bedrooms_1'].unique()"
   ],
   "metadata": {
    "collapsed": false,
    "pycharm": {
     "name": "#%%\n"
    }
   }
  },
  {
   "cell_type": "markdown",
   "source": [
    "process tenure"
   ],
   "metadata": {
    "collapsed": false
   }
  },
  {
   "cell_type": "code",
   "execution_count": 53,
   "outputs": [],
   "source": [
    "test_cleaned = test_drop.copy()\n",
    "# df_rh = df_rh.rename(columns={\"time_period\":\"tenure_remains\", \"tenure_change\":\"tenure_years\"})\n"
   ],
   "metadata": {
    "collapsed": false,
    "pycharm": {
     "name": "#%%\n"
    }
   }
  },
  {
   "cell_type": "code",
   "execution_count": 65,
   "outputs": [
    {
     "data": {
      "text/plain": "array([     99, 1000000,       0,     999,      93,     862,      79,\n            60,      95,    9972,     103,      90,      85,      96,\n            92,      89,      78,     105,      86,     859,     861,\n            68,      83,      94,      91,      87,     860,      73,\n            88,      64,      74,      71,      75])"
     },
     "execution_count": 65,
     "metadata": {},
     "output_type": "execute_result"
    }
   ],
   "source": [
    "train_cleaned_df.tenure_remains.unique()"
   ],
   "metadata": {
    "collapsed": false,
    "pycharm": {
     "name": "#%%\n"
    }
   }
  },
  {
   "cell_type": "code",
   "execution_count": 67,
   "outputs": [
    {
     "name": "stderr",
     "output_type": "stream",
     "text": [
      "/Users/shiziji/miniconda/envs/CS5228/lib/python3.6/site-packages/ipykernel_launcher.py:12: SettingWithCopyWarning: \n",
      "A value is trying to be set on a copy of a slice from a DataFrame\n",
      "\n",
      "See the caveats in the documentation: https://pandas.pydata.org/pandas-docs/stable/user_guide/indexing.html#returning-a-view-versus-a-copy\n",
      "  if sys.path[0] == '':\n",
      "/Users/shiziji/miniconda/envs/CS5228/lib/python3.6/site-packages/ipykernel_launcher.py:21: SettingWithCopyWarning: \n",
      "A value is trying to be set on a copy of a slice from a DataFrame\n",
      "\n",
      "See the caveats in the documentation: https://pandas.pydata.org/pandas-docs/stable/user_guide/indexing.html#returning-a-view-versus-a-copy\n",
      "/Users/shiziji/miniconda/envs/CS5228/lib/python3.6/site-packages/ipykernel_launcher.py:7: SettingWithCopyWarning: \n",
      "A value is trying to be set on a copy of a slice from a DataFrame\n",
      "\n",
      "See the caveats in the documentation: https://pandas.pydata.org/pandas-docs/stable/user_guide/indexing.html#returning-a-view-versus-a-copy\n",
      "  import sys\n",
      "/Users/shiziji/miniconda/envs/CS5228/lib/python3.6/site-packages/ipykernel_launcher.py:26: SettingWithCopyWarning: \n",
      "A value is trying to be set on a copy of a slice from a DataFrame\n",
      "\n",
      "See the caveats in the documentation: https://pandas.pydata.org/pandas-docs/stable/user_guide/indexing.html#returning-a-view-versus-a-copy\n",
      "/Users/shiziji/miniconda/envs/CS5228/lib/python3.6/site-packages/ipykernel_launcher.py:17: SettingWithCopyWarning: \n",
      "A value is trying to be set on a copy of a slice from a DataFrame\n",
      "\n",
      "See the caveats in the documentation: https://pandas.pydata.org/pandas-docs/stable/user_guide/indexing.html#returning-a-view-versus-a-copy\n"
     ]
    }
   ],
   "source": [
    "test_cleaned['tenure_remains']=None\n",
    "import time\n",
    "change=test_cleaned.loc[:,'tenure']\n",
    "for idx in range(len(change)):\n",
    "    i=change[idx]\n",
    "    if pd.isna(i):\n",
    "        test_cleaned['tenure_remains'][idx]=99\n",
    "    elif type(i)==str:\n",
    "        if (i)=='NaN':\n",
    "            print(change[idx])\n",
    "        if i=='freehold':\n",
    "            test_cleaned['tenure_remains'][idx]=1000000\n",
    "        elif i=='NaN':\n",
    "            test_cleaned['tenure_remains'][idx]=0\n",
    "        elif len(i)<=9:\n",
    "            c=i.split(' ')\n",
    "            test_cleaned['tenure_remains'][idx]=int(c[0])\n",
    "        elif len(i)<=19:\n",
    "            c=i.split(' ')\n",
    "            d=c[0].split('/')\n",
    "            test_cleaned['tenure_remains'][idx]=int(d[1])\n",
    "        else:\n",
    "            c=i.split(' ')\n",
    "            timeArray = time.strptime(c[3], \"%d/%m/%Y\")\n",
    "            d=int(c[0])-(2022-int(timeArray.tm_year))\n",
    "            test_cleaned['tenure_remains'][idx]=d\n",
    "    else:\n",
    "        raise ValueError(i)"
   ],
   "metadata": {
    "collapsed": false,
    "pycharm": {
     "name": "#%%\n"
    }
   }
  },
  {
   "cell_type": "code",
   "execution_count": 68,
   "outputs": [
    {
     "data": {
      "text/plain": "array([1000000, 99, 860, 999, 862, 60, 82, 103, 861, 96, 74, 64, 88, 72,\n       95, 77, 105, 87, 86, 81], dtype=object)"
     },
     "execution_count": 68,
     "metadata": {},
     "output_type": "execute_result"
    }
   ],
   "source": [
    "test_cleaned['tenure_remains'].unique()"
   ],
   "metadata": {
    "collapsed": false,
    "pycharm": {
     "name": "#%%\n"
    }
   }
  },
  {
   "cell_type": "code",
   "execution_count": 69,
   "outputs": [
    {
     "name": "stderr",
     "output_type": "stream",
     "text": [
      "/Users/shiziji/miniconda/envs/CS5228/lib/python3.6/site-packages/ipykernel_launcher.py:9: SettingWithCopyWarning: \n",
      "A value is trying to be set on a copy of a slice from a DataFrame\n",
      "\n",
      "See the caveats in the documentation: https://pandas.pydata.org/pandas-docs/stable/user_guide/indexing.html#returning-a-view-versus-a-copy\n",
      "  if __name__ == '__main__':\n",
      "/Users/shiziji/miniconda/envs/CS5228/lib/python3.6/site-packages/ipykernel_launcher.py:7: SettingWithCopyWarning: \n",
      "A value is trying to be set on a copy of a slice from a DataFrame\n",
      "\n",
      "See the caveats in the documentation: https://pandas.pydata.org/pandas-docs/stable/user_guide/indexing.html#returning-a-view-versus-a-copy\n",
      "  import sys\n"
     ]
    }
   ],
   "source": [
    "test_cleaned['tenure_years']=None\n",
    "import time, datetime\n",
    "change=test_cleaned.loc[:,'tenure_remains']\n",
    "for i in range(len(change)):\n",
    "    a=change[i]\n",
    "    if a !=0 and a<120:\n",
    "        test_cleaned['tenure_years'][i]=99\n",
    "    else:\n",
    "        test_cleaned['tenure_years'][i]=999"
   ],
   "metadata": {
    "collapsed": false,
    "pycharm": {
     "name": "#%%\n"
    }
   }
  },
  {
   "cell_type": "code",
   "execution_count": 70,
   "outputs": [
    {
     "data": {
      "text/plain": "array([999, 99], dtype=object)"
     },
     "execution_count": 70,
     "metadata": {},
     "output_type": "execute_result"
    }
   ],
   "source": [
    "test_cleaned.tenure_years.unique()"
   ],
   "metadata": {
    "collapsed": false,
    "pycharm": {
     "name": "#%%\n"
    }
   }
  },
  {
   "cell_type": "code",
   "execution_count": 71,
   "outputs": [
    {
     "data": {
      "text/plain": "Index(['listing_id', 'name', 'street', 'type', 'bedrooms', 'bathrooms',\n       'district', 'region', 'planning_area', 'subszone', 'tenure',\n       'built_year', 'no_of_units', 'area_size', 'date_listed', 'bedrooms_1',\n       'time_period', 'tenure_remains', 'tenure_years'],\n      dtype='object')"
     },
     "execution_count": 71,
     "metadata": {},
     "output_type": "execute_result"
    }
   ],
   "source": [
    "test_cleaned.columns"
   ],
   "metadata": {
    "collapsed": false,
    "pycharm": {
     "name": "#%%\n"
    }
   }
  },
  {
   "cell_type": "code",
   "execution_count": 72,
   "outputs": [
    {
     "data": {
      "text/plain": "Index(['listing_id', 'name', 'street', 'type', 'bathrooms', 'district',\n       'region', 'planning_area', 'subszone', 'built_year', 'no_of_units',\n       'area_size', 'date_listed', 'price', 'bedrooms', 'tenure_remains',\n       'tenure_years'],\n      dtype='object')"
     },
     "execution_count": 72,
     "metadata": {},
     "output_type": "execute_result"
    }
   ],
   "source": [
    "train_cleaned_df.columns"
   ],
   "metadata": {
    "collapsed": false,
    "pycharm": {
     "name": "#%%\n"
    }
   }
  },
  {
   "cell_type": "code",
   "execution_count": 73,
   "outputs": [],
   "source": [
    "test_cleaned = test_cleaned.drop(columns=['bedrooms', 'tenure', 'time_period'], axis=1)"
   ],
   "metadata": {
    "collapsed": false,
    "pycharm": {
     "name": "#%%\n"
    }
   }
  },
  {
   "cell_type": "code",
   "execution_count": 74,
   "outputs": [],
   "source": [
    "test_cleaned = test_cleaned.rename(columns={'bedrooms_1':'bedrooms'})"
   ],
   "metadata": {
    "collapsed": false,
    "pycharm": {
     "name": "#%%\n"
    }
   }
  },
  {
   "cell_type": "code",
   "execution_count": 78,
   "outputs": [
    {
     "name": "stdout",
     "output_type": "stream",
     "text": [
      "<class 'pandas.core.frame.DataFrame'>\n",
      "RangeIndex: 25718 entries, 0 to 25717\n",
      "Data columns (total 17 columns):\n",
      " #   Column          Non-Null Count  Dtype  \n",
      "---  ------          --------------  -----  \n",
      " 0   listing_id      25718 non-null  int64  \n",
      " 1   name            25718 non-null  object \n",
      " 2   street          25718 non-null  object \n",
      " 3   type            25718 non-null  object \n",
      " 4   bathrooms       24484 non-null  float64\n",
      " 5   district        25718 non-null  int64  \n",
      " 6   region          25718 non-null  object \n",
      " 7   planning_area   25718 non-null  object \n",
      " 8   subszone        25718 non-null  object \n",
      " 9   built_year      25645 non-null  float64\n",
      " 10  no_of_units     24680 non-null  float64\n",
      " 11  area_size       25718 non-null  float64\n",
      " 12  date_listed     25718 non-null  object \n",
      " 13  price           25718 non-null  float64\n",
      " 14  bedrooms        25718 non-null  float64\n",
      " 15  tenure_remains  25718 non-null  int64  \n",
      " 16  tenure_years    25718 non-null  int64  \n",
      "dtypes: float64(6), int64(4), object(7)\n",
      "memory usage: 3.3+ MB\n"
     ]
    }
   ],
   "source": [
    "train_cleaned_df.info()"
   ],
   "metadata": {
    "collapsed": false,
    "pycharm": {
     "name": "#%%\n"
    }
   }
  },
  {
   "cell_type": "code",
   "execution_count": 77,
   "outputs": [
    {
     "name": "stdout",
     "output_type": "stream",
     "text": [
      "<class 'pandas.core.frame.DataFrame'>\n",
      "RangeIndex: 7500 entries, 0 to 7499\n",
      "Data columns (total 16 columns):\n",
      " #   Column          Non-Null Count  Dtype  \n",
      "---  ------          --------------  -----  \n",
      " 0   listing_id      7500 non-null   int64  \n",
      " 1   name            7500 non-null   object \n",
      " 2   street          7500 non-null   object \n",
      " 3   type            7500 non-null   object \n",
      " 4   bathrooms       7163 non-null   float64\n",
      " 5   district        7500 non-null   int64  \n",
      " 6   region          7500 non-null   object \n",
      " 7   planning_area   7500 non-null   object \n",
      " 8   subszone        7500 non-null   object \n",
      " 9   built_year      7452 non-null   float64\n",
      " 10  no_of_units     7174 non-null   float64\n",
      " 11  area_size       7500 non-null   float64\n",
      " 12  date_listed     7500 non-null   object \n",
      " 13  bedrooms        7500 non-null   int64  \n",
      " 14  tenure_remains  7500 non-null   object \n",
      " 15  tenure_years    7500 non-null   object \n",
      "dtypes: float64(4), int64(3), object(9)\n",
      "memory usage: 937.6+ KB\n"
     ]
    }
   ],
   "source": [
    "test_cleaned.info()"
   ],
   "metadata": {
    "collapsed": false,
    "pycharm": {
     "name": "#%%\n"
    }
   }
  },
  {
   "cell_type": "code",
   "execution_count": 79,
   "outputs": [],
   "source": [
    "test_cleaned.to_csv(\"dataset/test_ziji_mar27.csv\", index=False)"
   ],
   "metadata": {
    "collapsed": false,
    "pycharm": {
     "name": "#%%\n"
    }
   }
  }
 ],
 "metadata": {
  "kernelspec": {
   "display_name": "Python 3",
   "language": "python",
   "name": "python3"
  },
  "language_info": {
   "codemirror_mode": {
    "name": "ipython",
    "version": 2
   },
   "file_extension": ".py",
   "mimetype": "text/x-python",
   "name": "python",
   "nbconvert_exporter": "python",
   "pygments_lexer": "ipython2",
   "version": "2.7.6"
  }
 },
 "nbformat": 4,
 "nbformat_minor": 0
}