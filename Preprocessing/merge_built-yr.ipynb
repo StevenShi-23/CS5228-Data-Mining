{
 "cells": [
  {
   "cell_type": "code",
   "execution_count": 1,
   "metadata": {
    "collapsed": true
   },
   "outputs": [],
   "source": [
    "import pandas as pd\n",
    "import numpy as np\n",
    "import csv"
   ]
  },
  {
   "cell_type": "markdown",
   "source": [
    "# 1. Merge records"
   ],
   "metadata": {
    "collapsed": false
   }
  },
  {
   "cell_type": "code",
   "execution_count": 14,
   "outputs": [],
   "source": [
    "props = {}\n",
    "with open(\"property_to_correct.csv\", 'r') as fin:\n",
    "    lines = fin.readlines()\n",
    "    for line in lines:\n",
    "        props[line.rstrip()]=0"
   ],
   "metadata": {
    "collapsed": false,
    "pycharm": {
     "name": "#%%\n"
    }
   }
  },
  {
   "cell_type": "code",
   "execution_count": 15,
   "outputs": [
    {
     "data": {
      "text/plain": "221"
     },
     "execution_count": 15,
     "metadata": {},
     "output_type": "execute_result"
    }
   ],
   "source": [
    "len(props.keys())"
   ],
   "metadata": {
    "collapsed": false,
    "pycharm": {
     "name": "#%%\n"
    }
   }
  },
  {
   "cell_type": "code",
   "execution_count": 18,
   "outputs": [
    {
     "name": "stdout",
     "output_type": "stream",
     "text": [
      "flanders square,\n",
      "\n",
      "1208 upper boon keng road,\n",
      "\n",
      "punggol central,\n",
      "\n",
      "geylang road,\n",
      "\n",
      "clarke quay,\n",
      "\n",
      "cairnhill road,\n",
      "\n",
      "chancery lane,\n",
      "\n",
      "horne road,\n",
      "\n",
      "river valley close,\n",
      "\n",
      "harbourfront place,\n",
      "\n",
      "upper changi road north,\n",
      "\n",
      "hume avenue,\n",
      "\n",
      "parkway apartment,\n",
      "\n",
      "almond avenue,\n",
      "\n",
      "dublin road,\n",
      "\n",
      "jalan lapang,\n",
      "\n",
      "72\n"
     ]
    }
   ],
   "source": [
    "cnt=0\n",
    "with open(\"tmp/property_to_correct_149_211.txt\", 'r') as fin:\n",
    "    lines = fin.readlines()\n",
    "    for line in lines:\n",
    "        if ',' in line:\n",
    "            p = line.split(',')[0].rstrip()\n",
    "            if len(line.split(','))<2:\n",
    "                y = np.nan\n",
    "            else:\n",
    "                try:\n",
    "                    y = int(line.split(',')[1])\n",
    "                except ValueError:\n",
    "                    print(line)\n",
    "                    y = np.nan\n",
    "            if p in props.keys():\n",
    "                props[p]=y\n",
    "                cnt+=1\n",
    "print(cnt)"
   ],
   "metadata": {
    "collapsed": false,
    "pycharm": {
     "name": "#%%\n"
    }
   }
  },
  {
   "cell_type": "code",
   "execution_count": 19,
   "outputs": [
    {
     "data": {
      "text/plain": "{'infini at east coast': 0,\n 'sengkang grand residences': 0,\n 'tampines street 11': 0,\n 'van holland': 0,\n 'one-north eden': 0,\n 'provence residence': 0,\n 'affinity at serangoon': 0,\n 'sims avenue': 0,\n 'bartley vue': 0,\n 'the avenir': 0,\n 'boulevard 88': 0,\n 'mori': 0,\n 'lorong 34 geylang': 0,\n 'residence twenty-two': 0,\n '39 flower road': 0,\n 'riverfront residences': 0,\n 'peak residence': 0,\n '35 gilstead': 0,\n 'holland grove road': 0,\n 'brookvale drive': 0,\n 'parc central residences': 0,\n 'perfect ten': 0,\n 'parc greenwich': 0,\n 'wilshire residences': 0,\n 'the arden': 0,\n 'fernvale link': 0,\n 'shunfu road': 0,\n 'jadescape': 0,\n 'fernvale road': 0,\n 'the tre ver': 0,\n 'phoenix residences': 0,\n 'the antares': 0,\n 'beach road': 0,\n 'hougang avenue 7': 0,\n 'jalan lempeng': 0,\n 'ikigai': 0,\n 'pasir ris heights': 0,\n 'yishun close': 0,\n 'the commodore': 0,\n 'river valley road': 0,\n 'upper boon keng road': 0,\n '77 @ east coast': 0,\n 'lattice one': 0,\n 'jalan kemaman': 0,\n 'canberra walk': 0,\n 'haus on handy': 0,\n '19 nassim': 0,\n 'phoenix road': 0,\n 'shenton way': 0,\n 'harbour view gardens': 0,\n 'rv altitude': 0,\n 'phoenix garden': 0,\n 'yong siak street': 0,\n 'westwood avenue': 0,\n 'balestier road': 0,\n 'choa chu kang avenue 4': 0,\n 'cairnhill 16': 0,\n 'm suites': 0,\n 'yishun ring road': 0,\n 'jalan molek': 0,\n 'west coast crescent': 0,\n 'amber sea': 0,\n 'serangoon north avenue 1': 0,\n 'rochester drive': 0,\n 'upper changi road east': 0,\n 'punggol field': 0,\n 'tampines street 45': 0,\n 'royal hallmark': 0,\n 'serangoon central drive': 0,\n 'hillside drive': 0,\n 'hougang central': 0,\n 'the linq @ beauty world': 0,\n 'belgravia drive': 0,\n 'arthur road': 0,\n 'lorong 6 toa payoh': 0,\n 'parc esta': 0,\n 'eu tong sen street': 0,\n 'guillemard road': 0,\n 'canberra street': 0,\n 'laurel tree': 0,\n 'balmoral park': 0,\n 'chestnut crescent': 0,\n 'swiss view': 0,\n 'dunearn 386': 0,\n 'edgedale plains': 0,\n 'lew lian vale': 0,\n 'piermont grand': 0,\n 'slim barracks rise': 0,\n 'olloi': 0,\n 'phoenix avenue': 0,\n 'tanah merah kechil ridge': 0,\n 'mount sophia': 0,\n 'dalvey estate': 0,\n 'sumang walk': 0,\n 'broadrick road': 0,\n 'liv @ mb': 0,\n 'victoria street': 0,\n 'fraser street': 0,\n 'simon lane': 0,\n 'punggol walk': 0,\n 'jalan bunga rampai': 0,\n 'highgate crescent': 0,\n 'marne road': 0,\n 'how sun road': 0,\n 'hindhede drive': 0,\n 'fifth avenue': 0,\n 'jalan remaja': 0,\n 'lorong 40 geylang': 0,\n 'toh tuck road': 0,\n 'marine drive': 0,\n 'changi road': 0,\n 'jalan rendang': 0,\n 'lewis road': 0,\n 'noma': 0,\n 'punggol drive': 0,\n 'les maisons nassim': 0,\n 'tanjong katong road': 0,\n 'cashew road': 0,\n 'jervois road': 0,\n 'perumal road': 0,\n 'pasir ris central street 3': 0,\n 'makeway avenue': 0,\n 'bencoolen house': 0,\n 'rezi 24': 0,\n 'yishun avenue 1': 0,\n 'bukit timah road': 0,\n 'jurong west central 3': 0,\n 'prince charles crescent': 0,\n 'margate road': 0,\n 'foo kim lin road': 0,\n \"saint patrick's road\": 0,\n 'lorong h telok kurau': 0,\n 'draycott park': 0,\n 'buangkok crescent': 0,\n 'ang mo kio avenue 2': 0,\n 'toh tuck drive': 0,\n 'king albert park': 0,\n 'scotts road': 0,\n 'compassvale bow': 0,\n 'dundee road': 0,\n 'upper bukit timah road': 0,\n 'loyang view': 0,\n 'simei street 1': 0,\n 'draycott drive': 0,\n 'tanglin hill': 0,\n 'fernvale lane': 0,\n 'sin ming avenue': 0,\n 'jalan suka': 0,\n 'lorong marzuki': 1984,\n 'mount echo park': 1987,\n 'richards avenue': 1976,\n 'flanders square': nan,\n 'leedon heights': 1984,\n 'amber gardens': 1986,\n 'opal crescent': 2012,\n 'balmoral road': 2014,\n 'thomson road': 1964,\n 'jalan intan': 2002,\n 'sophia road': 2001,\n '1208 upper boon keng road': nan,\n 'ps100': 2015,\n 'north gaia': 2029,\n 'sing joo walk': 1955,\n 'carpmael thirty-eight': 2020,\n 'hougang avenue 3': 1983,\n 'eng hoon street': 1937,\n 'punggol central': nan,\n 'geylang road': nan,\n 'joo chiat place': 1954,\n 'clarke quay': nan,\n 'compassvale road': 1998,\n 'farrer road': 1973,\n 'hougang avenue 2': 1985,\n 'anchorvale link': 2000,\n 'moulmein rise': 2003,\n 'cairnhill road': nan,\n 'rivervale drive': 1998,\n 'lorong k telok kurau': 1988,\n 'macpherson road': 1968,\n 'lorong 1a toa payoh': 2012,\n 'oxley road': 1973,\n 'sycamore tree': 2016,\n 'chancery lane': nan,\n 'horne road': nan,\n 'river valley close': nan,\n 'harbourfront place': nan,\n 'how sun close': 1975,\n 'upper changi road north': nan,\n 'hume avenue': nan,\n 'jalan layang layang': 1992,\n 'toa payoh north': 1973,\n 'east coast road': 2002,\n 'the rochester': 2011,\n 'arena residences': 2022,\n 'lorong l telok kurau': 1995,\n 'fernvale close': 2018,\n 'west coast walk': 1991,\n 'parkway apartment': nan,\n 'almond avenue': nan,\n 'lloyd road': 2016,\n 'toh tuck place': 1984,\n 'dyson road': 1996,\n 'chwee chian view': 1991,\n 'trevose crescent': 2001,\n 'tan quee lan street': 2005,\n 'woodlands drive 16': 0,\n 'joo chiat road': 1985,\n 'alexandra road': 1938,\n 'woodgrove avenue': 1998,\n 'dublin road': nan,\n 'seraya lane': 2009,\n 'yishun central': 1987,\n 'stirling road': 1970,\n 'ellington square': 1965,\n 'gerald drive': 1989,\n 'jalan lapang': nan,\n 'telok kurau road': 1994,\n 'dairy farm heights': 1989,\n 'neu at novena': 2023,\n 'cuscaden reserve': 2022,\n 'parc clematis': 2023}"
     },
     "execution_count": 19,
     "metadata": {},
     "output_type": "execute_result"
    }
   ],
   "source": [
    "props"
   ],
   "metadata": {
    "collapsed": false,
    "pycharm": {
     "name": "#%%\n"
    }
   }
  },
  {
   "cell_type": "code",
   "execution_count": 22,
   "outputs": [
    {
     "name": "stdout",
     "output_type": "stream",
     "text": [
      "tanjong katong road,1965\n",
      "\n",
      "perfect ten,2025\n",
      "\n",
      "jervois treasures,2022\n",
      "\n",
      "upper bukit timah road,1845\n",
      "\n",
      "one draycott,2022\n",
      "\n",
      "rezi 24,2022\n",
      "\n",
      "trevose crescent,2001\n",
      "\n",
      "almond avenue,1998\n",
      "\n",
      "parkwood residences,2026\n",
      "\n",
      "phoenix avenue,2024\n",
      "\n",
      "uptown @ farrer,2021\n",
      "\n",
      "the avenir,2028\n",
      "\n",
      "bukit timah road,1845\n",
      "\n",
      "77 @ east coast,2022\n",
      "\n",
      "the rochester,2011\n",
      "\n",
      "the linq @ beauty world,2025\n",
      "\n",
      "10 evelyn,2022\n",
      "\n",
      "royal hallmark,2025\n",
      "\n",
      "shenton way,2011\n",
      "\n",
      "jalan lempeng\n",
      "\n",
      "19 nassim,2023\n",
      "\n",
      "irwell hill residences,2026\n",
      "\n",
      "king albert park,2017\n",
      "\n",
      "jalan bunga rampai\n",
      "\n",
      "draycott drive,2002\n",
      "\n",
      "fourth avenue residences,1986\n",
      "\n",
      "ps100,2015\n",
      "\n",
      "treasure at tampines,2023\n",
      "\n",
      "makeway avenue\n",
      "\n",
      "swiss view,1994\n",
      "\n",
      "lorong k telok kurau\n",
      "\n",
      "normanton park,1977\n",
      "\n",
      "westwood avenue,2002\n",
      "\n",
      "marine drive,1975\n",
      "\n",
      "the draycott,1980\n",
      "\n",
      "cairnhill road\n",
      "\n",
      "yishun ring road,1988\n",
      "\n",
      "pasir ris central street 3\n",
      "\n",
      "compassvale road,1998\n",
      "\n",
      "the tre ver,2022\n",
      "\n",
      "margate road\n",
      "\n",
      "mount sophia,2007\n",
      "\n",
      "whistler grand,2022\n",
      "\n",
      "slim barracks rise\n",
      "\n",
      "jalan besar,1932\n",
      "\n",
      "sing joo walk,1955\n",
      "\n",
      "west coast walk,2010\n",
      "\n",
      "thomson road,1964\n",
      "\n",
      "lorong l telok kurau,2014\n",
      "\n",
      "kopar at newton,2023\n",
      "\n",
      "wilshire residences,2024\n",
      "\n",
      "sky everton,2023\n",
      "\n",
      "sin ming avenue\n",
      "\n",
      "choa chu kang avenue 4\n",
      "\n",
      "changi road,1983\n",
      "\n",
      "jalan kemaman,1993\n",
      "\n",
      "tiong bahru estate,1930\n",
      "\n",
      "seraya lane,2009\n",
      "\n",
      "eng hoon street,1937\n",
      "\n",
      "arena residences,2022\n",
      "\n",
      "fifth avenue,1998\n",
      "\n",
      "lorong 40 geylang\n",
      "\n",
      "olloi,2022\n",
      "\n",
      "balmoral road\n",
      "\n",
      "holland grove road\n",
      "\n",
      "dyson road\n",
      "\n",
      "ola,2023\n",
      "\n",
      "toh tuck place,1977\n",
      "\n",
      "jalan remaja,1990\n",
      "\n",
      "harbourfront place,2002\n",
      "\n",
      "affinity at serangoon,2024\n",
      "\n",
      "the arden,2025\n",
      "\n",
      "the hyde,2022\n",
      "42\n"
     ]
    }
   ],
   "source": [
    "cnt=0\n",
    "with open(\"tmp/property_to_correct_76_148.txt\", 'r') as fin:\n",
    "    lines = fin.readlines()\n",
    "    for line in lines:\n",
    "        line = line.replace(\"\\\"\", \"\")\n",
    "        print(line)\n",
    "        if ',' in line:\n",
    "            p = line.split(',')[0].rstrip()\n",
    "            if len(line.split(','))<2:\n",
    "                y = np.nan\n",
    "            else:\n",
    "                try:\n",
    "                    y = int(line.split(',')[1])\n",
    "                except ValueError:\n",
    "                    print(line)\n",
    "                    y = np.nan\n",
    "            if p in props.keys():\n",
    "                props[p]=y\n",
    "                cnt+=1\n",
    "print(cnt)"
   ],
   "metadata": {
    "collapsed": false,
    "pycharm": {
     "name": "#%%\n"
    }
   }
  },
  {
   "cell_type": "markdown",
   "source": [
    "# 2. Write manually found built_year back to csv"
   ],
   "metadata": {
    "collapsed": false
   }
  },
  {
   "cell_type": "code",
   "execution_count": 2,
   "outputs": [],
   "source": [
    "props = {'infini at east coast': 2022, 'sengkang grand residences': 2023, 'tampines street 11': 1982, 'van holland': 2023, 'one-north eden': 2025, 'provence residence': 2026, 'affinity at serangoon': 2024, 'sims avenue': 1985, 'bartley vue': 2026, 'the avenir': 2023, 'boulevard 88': 2023, 'mori': 2026, 'lorong 34 geylang': 2001, 'residence twenty-two': 2021, '39 flower road': 1998, 'riverfront residences': 2024, 'peak residence': 2025, '35 gilstead': 2022, 'holland grove road': 1997, 'brookvale drive': 2024, 'parc central residences': 2023, 'perfect ten': 2026, 'parc greenwich': 2026, 'wilshire residences': 2024, 'the arden': 2025, 'fernvale link': 2015, 'shunfu road': 1985, 'jadescape': 2023, 'fernvale road': 2013, 'the tre ver': 2022, 'phoenix residences': 2024, 'the antares': 2022, 'beach road': np.nan, 'hougang avenue 7': 2000, 'jalan lempeng': np.nan, 'ikigai': 2025, 'pasir ris heights': 2017, 'yishun close': 2018, 'the commodore': 2024, 'river valley road': 1995, 'upper boon keng road': np.nan, '77 @ east coast': 2022, 'lattice one': 2022, 'jalan kemaman': 1993, 'canberra walk': 2023, 'haus on handy': 2023, '19 nassim': 2023, 'phoenix road': 2016, 'shenton way': 2011, 'harbour view gardens': 2021, 'rv altitude': 2022, 'phoenix garden': np.nan, 'yong siak street': 1973, 'westwood avenue': 2002, 'balestier road': 1995, 'choa chu kang avenue 4': 2019, 'cairnhill 16': 2023, 'm suites': 2024, 'yishun ring road': 1988, 'jalan molek': 2026, 'west coast crescent': 2005, 'amber sea': 2027, 'serangoon north avenue 1': 2024, 'rochester drive': 2011, 'upper changi road east': 1999, 'punggol field': 2016, 'tampines street 45': 1995, 'royal hallmark': 2025, 'serangoon central drive': 1987, 'hillside drive': 2001, 'hougang central': 2005, 'the linq @ beauty world': 2025, 'belgravia drive': 2024, 'arthur road': 2006, 'lorong 6 toa payoh': 2020, 'parc esta': 2022, 'eu tong sen street': 2007, 'guillemard road': 1994, 'canberra street': 2019, 'laurel tree': 2016, 'balmoral park': 1983, 'chestnut crescent': 1998, 'swiss view': 1994, 'dunearn 386': 2025, 'edgedale plains': 2017, 'lew lian vale': 2017, 'piermont grand': 2022, 'slim barracks rise': 2009, 'olloi': 2022, 'phoenix avenue': 2024, 'tanah merah kechil ridge': 2000, 'mount sophia': 2007, 'dalvey estate': 2005, 'sumang walk': 2023, 'broadrick road': 2014, 'liv @ mb': 2024, 'victoria street': np.nan, 'fraser street': 2017, 'simon lane': 2015, 'punggol walk': 2015, 'jalan bunga rampai': 2025, 'highgate crescent': 1995, 'marne road': np.nan, 'how sun road': 2021, 'hindhede drive': 2000, 'fifth avenue': 1998, 'jalan remaja': 1990, 'lorong 40 geylang': 1998, 'toh tuck road': 1995, 'marine drive': 1975, 'changi road': 1983, 'jalan rendang': 1984, 'lewis road': 2011, 'noma': 2024, 'punggol drive': 2013, 'les maisons nassim': 2023, 'tanjong katong road': 1965, 'cashew road': 1992, 'jervois road': np.nan, 'perumal road': 2021, 'pasir ris central street 3': 2021, 'makeway avenue': 2011, 'bencoolen house': 1998, 'rezi 24': 2022, 'yishun avenue 1': 2013, 'bukit timah road': np.nan, 'jurong west central 3': np.nan, 'prince charles crescent': 2017, 'margate road': 2009, 'foo kim lin road': 2016, \"saint patrick's road\": 2013, 'lorong h telok kurau': 1991, 'draycott park': np.nan, 'buangkok crescent': 2012, 'ang mo kio avenue 2': 2017, 'toh tuck drive': 1995, 'king albert park': 2017, 'scotts road': 2011, 'compassvale bow': 2013, 'dundee road': 2020, 'upper bukit timah road': np.nan, 'loyang view': 1996, 'simei street 1': 1996, 'draycott drive': 2002, 'tanglin hill': 1982, 'fernvale lane': 2016, 'sin ming avenue': 1996, 'jalan suka': 2024, 'lorong marzuki': 1984, 'mount echo park': 1987, 'richards avenue': 1976, 'flanders square': np.nan, 'leedon heights': 1984, 'amber gardens': 1986, 'opal crescent': 2012, 'balmoral road': 2014, 'thomson road': 1964, 'jalan intan': 2002, 'sophia road': 2001, '1208 upper boon keng road': np.nan, 'ps100': 2015, 'north gaia': 2029, 'sing joo walk': 1955, 'carpmael thirty-eight': 2020, 'hougang avenue 3': 1983, 'eng hoon street': 1937, 'punggol central': np.nan, 'geylang road': np.nan, 'joo chiat place': 1954, 'clarke quay': np.nan, 'compassvale road': 1998, 'farrer road': 1973, 'hougang avenue 2': 1985, 'anchorvale link': 2000, 'moulmein rise': 2003, 'cairnhill road': np.nan, 'rivervale drive': 1998, 'lorong k telok kurau': 1988, 'macpherson road': 1968, 'lorong 1a toa payoh': 2012, 'oxley road': 1973, 'sycamore tree': 2016, 'chancery lane': np.nan, 'horne road': np.nan, 'river valley close': np.nan, 'harbourfront place': 2002, 'how sun close': 1975, 'upper changi road north': np.nan, 'hume avenue': np.nan, 'jalan layang layang': 1992, 'toa payoh north': 1973, 'east coast road': 2002, 'the rochester': 2011, 'arena residences': 2022, 'lorong l telok kurau': 2014, 'fernvale close': 2018, 'west coast walk': 2010, 'parkway apartment': np.nan, 'almond avenue': 1998, 'lloyd road': 2016, 'toh tuck place': 1977, 'dyson road': 1996, 'chwee chian view': 1991, 'trevose crescent': 2001, 'tan quee lan street': 2005, 'woodlands drive 16': 2016, 'joo chiat road': 1985, 'alexandra road': 1938, 'woodgrove avenue': 1998, 'dublin road': np.nan, 'seraya lane': 2009, 'yishun central': 1987, 'stirling road': 1970, 'ellington square': 1965, 'gerald drive': 1989, 'jalan lapang': np.nan, 'telok kurau road': 1994, 'dairy farm heights': 1989, 'neu at novena': 2023, 'cuscaden reserve': 2022, 'parc clematis': 2023}"
   ],
   "metadata": {
    "collapsed": false,
    "pycharm": {
     "name": "#%%\n"
    }
   }
  },
  {
   "cell_type": "code",
   "execution_count": 3,
   "outputs": [
    {
     "name": "stdout",
     "output_type": "stream",
     "text": [
      "25\n"
     ]
    }
   ],
   "source": [
    "count=0\n",
    "for i in props.keys():\n",
    "    if props[i] is np.nan:\n",
    "        count+=1\n",
    "print(count)"
   ],
   "metadata": {
    "collapsed": false,
    "pycharm": {
     "name": "#%%\n"
    }
   }
  },
  {
   "cell_type": "code",
   "execution_count": 4,
   "outputs": [],
   "source": [
    "df_zj_feb27= pd.read_csv(\"dataset/train_ziji_feb27.csv\")"
   ],
   "metadata": {
    "collapsed": false,
    "pycharm": {
     "name": "#%%\n"
    }
   }
  },
  {
   "cell_type": "code",
   "execution_count": 5,
   "outputs": [],
   "source": [
    "def check_missing_values(df):\n",
    "    print(\"Stats for missing values:\")\n",
    "    print(\"-\"*15)\n",
    "    for col in df:\n",
    "        print(f\"{col}: \", df[col].isna().sum())"
   ],
   "metadata": {
    "collapsed": false,
    "pycharm": {
     "name": "#%%\n"
    }
   }
  },
  {
   "cell_type": "code",
   "execution_count": 9,
   "outputs": [
    {
     "name": "stdout",
     "output_type": "stream",
     "text": [
      "<class 'pandas.core.frame.DataFrame'>\n",
      "RangeIndex: 25722 entries, 0 to 25721\n",
      "Data columns (total 20 columns):\n",
      " #   Column         Non-Null Count  Dtype  \n",
      "---  ------         --------------  -----  \n",
      " 0   Unnamed: 0     25722 non-null  int64  \n",
      " 1   listing_id     25722 non-null  int64  \n",
      " 2   name           25722 non-null  object \n",
      " 3   street         25722 non-null  object \n",
      " 4   type           25722 non-null  object \n",
      " 5   model          24445 non-null  object \n",
      " 6   bedrooms       25325 non-null  object \n",
      " 7   bathrooms      24488 non-null  float64\n",
      " 8   district       25722 non-null  int64  \n",
      " 9   region         25722 non-null  object \n",
      " 10  planning_area  25722 non-null  object \n",
      " 11  subszone       25722 non-null  object \n",
      " 12  lat            25722 non-null  float64\n",
      " 13  lng            25722 non-null  float64\n",
      " 14  tenure         25437 non-null  object \n",
      " 15  built_year     25649 non-null  float64\n",
      " 16  no_of_units    24684 non-null  float64\n",
      " 17  area_size      25722 non-null  float64\n",
      " 18  date_listed    25722 non-null  object \n",
      " 19  price          25722 non-null  float64\n",
      "dtypes: float64(7), int64(3), object(10)\n",
      "memory usage: 3.9+ MB\n"
     ]
    }
   ],
   "source": [
    "df_zj_feb27.info()"
   ],
   "metadata": {
    "collapsed": false,
    "pycharm": {
     "name": "#%%\n"
    }
   }
  },
  {
   "cell_type": "code",
   "execution_count": 15,
   "outputs": [
    {
     "name": "stdout",
     "output_type": "stream",
     "text": [
      "Stats for missing values:\n",
      "---------------\n",
      "listing_id:  0\n",
      "name:  0\n",
      "street:  0\n",
      "type:  0\n",
      "model:  1277\n",
      "bedrooms:  397\n",
      "bathrooms:  1234\n",
      "district:  0\n",
      "region:  0\n",
      "planning_area:  0\n",
      "subszone:  0\n",
      "lat:  0\n",
      "lng:  0\n",
      "tenure:  285\n",
      "built_year:  73\n",
      "no_of_units:  1038\n",
      "area_size:  0\n",
      "date_listed:  0\n",
      "price:  0\n"
     ]
    }
   ],
   "source": [
    "check_missing_values(df_zj_feb27)"
   ],
   "metadata": {
    "collapsed": false,
    "pycharm": {
     "name": "#%%\n"
    }
   }
  },
  {
   "cell_type": "code",
   "execution_count": 16,
   "outputs": [
    {
     "name": "stderr",
     "output_type": "stream",
     "text": [
      "/Users/shiziji/miniconda/envs/CS5228/lib/python3.6/site-packages/pandas/core/indexing.py:1763: SettingWithCopyWarning: \n",
      "A value is trying to be set on a copy of a slice from a DataFrame.\n",
      "Try using .loc[row_indexer,col_indexer] = value instead\n",
      "\n",
      "See the caveats in the documentation: https://pandas.pydata.org/pandas-docs/stable/user_guide/indexing.html#returning-a-view-versus-a-copy\n",
      "  isetter(loc, value)\n"
     ]
    }
   ],
   "source": [
    "for k in props.keys():\n",
    "    df_zj_feb27.at[df_zj_feb27.name==k, 'built_year'] = props[k]"
   ],
   "metadata": {
    "collapsed": false,
    "pycharm": {
     "name": "#%%\n"
    }
   }
  },
  {
   "cell_type": "code",
   "execution_count": 17,
   "outputs": [
    {
     "name": "stdout",
     "output_type": "stream",
     "text": [
      "Stats for missing values:\n",
      "---------------\n",
      "listing_id:  0\n",
      "name:  0\n",
      "street:  0\n",
      "type:  0\n",
      "model:  1277\n",
      "bedrooms:  397\n",
      "bathrooms:  1234\n",
      "district:  0\n",
      "region:  0\n",
      "planning_area:  0\n",
      "subszone:  0\n",
      "lat:  0\n",
      "lng:  0\n",
      "tenure:  285\n",
      "built_year:  73\n",
      "no_of_units:  1038\n",
      "area_size:  0\n",
      "date_listed:  0\n",
      "price:  0\n"
     ]
    }
   ],
   "source": [
    "check_missing_values(df_zj_feb27)"
   ],
   "metadata": {
    "collapsed": false,
    "pycharm": {
     "name": "#%%\n"
    }
   }
  },
  {
   "cell_type": "code",
   "execution_count": 18,
   "outputs": [],
   "source": [
    "df_zj_feb27 = df_zj_feb27.loc[:, ~df_zj_feb27.columns.str.contains('^Unnamed')]"
   ],
   "metadata": {
    "collapsed": false,
    "pycharm": {
     "name": "#%%\n"
    }
   }
  },
  {
   "cell_type": "code",
   "execution_count": 19,
   "outputs": [],
   "source": [
    "df_zj_feb27.to_csv(\"dataset/train_ziji_mar26.csv\", index=False)"
   ],
   "metadata": {
    "collapsed": false,
    "pycharm": {
     "name": "#%%\n"
    }
   }
  },
  {
   "cell_type": "markdown",
   "source": [],
   "metadata": {
    "collapsed": false
   }
  },
  {
   "cell_type": "markdown",
   "source": [
    "# 3. Merge into RH's csv"
   ],
   "metadata": {
    "collapsed": false
   }
  },
  {
   "cell_type": "code",
   "execution_count": 20,
   "outputs": [],
   "source": [
    "df_rh = pd.read_csv(\"dataset/ronghua.csv\")"
   ],
   "metadata": {
    "collapsed": false,
    "pycharm": {
     "name": "#%%\n"
    }
   }
  },
  {
   "cell_type": "code",
   "execution_count": 21,
   "outputs": [
    {
     "name": "stdout",
     "output_type": "stream",
     "text": [
      "Stats for missing values:\n",
      "---------------\n",
      "index:  0\n",
      "listing_id:  0\n",
      "name:  0\n",
      "street:  0\n",
      "type:  0\n",
      "bedrooms:  396\n",
      "bathrooms:  1234\n",
      "district:  0\n",
      "region:  0\n",
      "planning_area:  0\n",
      "subszone:  0\n",
      "lat:  0\n",
      "lng:  0\n",
      "tenure:  285\n",
      "built_year:  9927\n",
      "no_of_units:  1038\n",
      "area_size:  2\n",
      "date_listed:  0\n",
      "price:  0\n",
      "bedrooms_1:  0\n",
      "time_period:  0\n",
      "tenure_change:  0\n"
     ]
    }
   ],
   "source": [
    "check_missing_values(df_rh)"
   ],
   "metadata": {
    "collapsed": false,
    "pycharm": {
     "name": "#%%\n"
    }
   }
  },
  {
   "cell_type": "code",
   "execution_count": 22,
   "outputs": [],
   "source": [
    "for k in props.keys():\n",
    "    df_rh.at[df_rh.name==k, 'built_year'] = props[k]"
   ],
   "metadata": {
    "collapsed": false,
    "pycharm": {
     "name": "#%%\n"
    }
   }
  },
  {
   "cell_type": "code",
   "execution_count": 23,
   "outputs": [
    {
     "name": "stdout",
     "output_type": "stream",
     "text": [
      "Stats for missing values:\n",
      "---------------\n",
      "index:  0\n",
      "listing_id:  0\n",
      "name:  0\n",
      "street:  0\n",
      "type:  0\n",
      "bedrooms:  396\n",
      "bathrooms:  1234\n",
      "district:  0\n",
      "region:  0\n",
      "planning_area:  0\n",
      "subszone:  0\n",
      "lat:  0\n",
      "lng:  0\n",
      "tenure:  285\n",
      "built_year:  7127\n",
      "no_of_units:  1038\n",
      "area_size:  2\n",
      "date_listed:  0\n",
      "price:  0\n",
      "bedrooms_1:  0\n",
      "time_period:  0\n",
      "tenure_change:  0\n"
     ]
    }
   ],
   "source": [
    "check_missing_values(df_rh)"
   ],
   "metadata": {
    "collapsed": false,
    "pycharm": {
     "name": "#%%\n"
    }
   }
  },
  {
   "cell_type": "markdown",
   "source": [
    "> number of nan built year does not match with df_ziji_feb27"
   ],
   "metadata": {
    "collapsed": false
   }
  },
  {
   "cell_type": "markdown",
   "source": [],
   "metadata": {
    "collapsed": false
   }
  },
  {
   "cell_type": "markdown",
   "source": [
    "# 4. Verify dataset"
   ],
   "metadata": {
    "collapsed": false
   }
  },
  {
   "cell_type": "markdown",
   "source": [],
   "metadata": {
    "collapsed": false
   }
  },
  {
   "cell_type": "code",
   "execution_count": 24,
   "outputs": [],
   "source": [
    "df_rh = pd.read_csv(\"dataset/ronghua_mar_26.csv\")"
   ],
   "metadata": {
    "collapsed": false,
    "pycharm": {
     "name": "#%%\n"
    }
   }
  },
  {
   "cell_type": "code",
   "execution_count": 25,
   "outputs": [
    {
     "name": "stdout",
     "output_type": "stream",
     "text": [
      "<class 'pandas.core.frame.DataFrame'>\n",
      "RangeIndex: 25718 entries, 0 to 25717\n",
      "Data columns (total 22 columns):\n",
      " #   Column         Non-Null Count  Dtype  \n",
      "---  ------         --------------  -----  \n",
      " 0   index          25718 non-null  int64  \n",
      " 1   listing_id     25718 non-null  int64  \n",
      " 2   name           25718 non-null  object \n",
      " 3   street         25718 non-null  object \n",
      " 4   type           25718 non-null  object \n",
      " 5   bedrooms       25322 non-null  object \n",
      " 6   bathrooms      24484 non-null  float64\n",
      " 7   district       25718 non-null  int64  \n",
      " 8   region         25718 non-null  object \n",
      " 9   planning_area  25718 non-null  object \n",
      " 10  subszone       25718 non-null  object \n",
      " 11  lat            25718 non-null  float64\n",
      " 12  lng            25718 non-null  float64\n",
      " 13  tenure         25433 non-null  object \n",
      " 14  built_year     25645 non-null  float64\n",
      " 15  no_of_units    24680 non-null  float64\n",
      " 16  area_size      25718 non-null  float64\n",
      " 17  date_listed    25718 non-null  object \n",
      " 18  price          25718 non-null  float64\n",
      " 19  bedrooms_1     25718 non-null  float64\n",
      " 20  time_period    25718 non-null  int64  \n",
      " 21  tenure_change  25718 non-null  int64  \n",
      "dtypes: float64(8), int64(5), object(9)\n",
      "memory usage: 4.3+ MB\n"
     ]
    }
   ],
   "source": [
    "df_rh.info()"
   ],
   "metadata": {
    "collapsed": false,
    "pycharm": {
     "name": "#%%\n"
    }
   }
  },
  {
   "cell_type": "code",
   "execution_count": 27,
   "outputs": [],
   "source": [
    "df_rh = df_rh.rename(columns={\"time_period\":\"tenure_remains\", \"tenure_change\":\"tenure_years\"})"
   ],
   "metadata": {
    "collapsed": false,
    "pycharm": {
     "name": "#%%\n"
    }
   }
  },
  {
   "cell_type": "code",
   "execution_count": 40,
   "outputs": [
    {
     "data": {
      "text/plain": "396"
     },
     "execution_count": 40,
     "metadata": {},
     "output_type": "execute_result"
    }
   ],
   "source": [
    "sum(df_rh.bedrooms_1==0.0)"
   ],
   "metadata": {
    "collapsed": false,
    "pycharm": {
     "name": "#%%\n"
    }
   }
  },
  {
   "cell_type": "code",
   "execution_count": 42,
   "outputs": [
    {
     "data": {
      "text/plain": "       index  listing_id                name              street         type  \\\n12        12     4245267  tampines street 11  tampines street 11  condominium   \n76        76     2444242         jalan besar    225 jalan besar   condominium   \n285      285     7090887     brookvale drive     brookvale drive  condominium   \n430      430     3531066         shunfu road         shunfu road  condominium   \n493      493     4693226    hougang avenue 7    hougang avenue 7  condominium   \n...      ...         ...                 ...                 ...          ...   \n25231  25235     7347765         shunfu road         shunfu road  condominium   \n25380  25384     4562484  pasir panjang road  pasir panjang road    apartment   \n25399  25403     7083605     brookvale drive     brookvale drive  condominium   \n25451  25455     1157244      simei street 1      simei street 1  condominium   \n25544  25548     2890678        jervois road        jervois road  condominium   \n\n      bedrooms  bathrooms  district             region planning_area  ...  \\\n12           3        2.0        18        east region      tampines  ...   \n76           3        3.0         8     central region       kallang  ...   \n285          3        2.0        21        west region      clementi  ...   \n430          2        2.0        20     central region        bishan  ...   \n493          2        2.0        19  north-east region       hougang  ...   \n...        ...        ...       ...                ...           ...  ...   \n25231        2        1.0        20     central region        bishan  ...   \n25380        2        2.0         5     central region    queenstown  ...   \n25399        2        2.0        21        west region      clementi  ...   \n25451        4        2.0        18        east region      tampines  ...   \n25544        2        2.0        10     central region       tanglin  ...   \n\n              lng  tenure  built_year no_of_units  area_size  date_listed  \\\n12     103.945385     NaN      1982.0         NaN     1033.0   2021-12-07   \n76     103.857585     NaN      1970.0         NaN     1442.0   2021-03-15   \n285    103.767520     NaN      2024.0         NaN     1109.0   2021-10-16   \n430    103.837032     NaN      1985.0         NaN      764.0   2021-10-12   \n493    103.890681     NaN      2000.0         NaN     1410.0   2021-10-12   \n...           ...     ...         ...         ...        ...          ...   \n25231  103.837032     NaN      1985.0         NaN      646.0   2021-10-12   \n25380  103.773866     NaN      1994.0         NaN      657.0   2021-10-31   \n25399  103.767520     NaN      2024.0         NaN      700.0   2021-10-12   \n25451  103.951760     NaN      1996.0         NaN     1270.0   2021-10-12   \n25544  103.825615     NaN         NaN         NaN      786.0   2021-10-12   \n\n           price bedrooms_1  tenure_remains  tenure_years  \n12     1705000.0        3.0               0           999  \n76     2750000.0        3.0               0           999  \n285    2350700.0        3.0               0           999  \n430    1427800.0        2.0               0           999  \n493    2129600.0        2.0               0           999  \n...          ...        ...             ...           ...  \n25231  1248500.0        2.0               0           999  \n25380  1650000.0        2.0               0           999  \n25399  1270500.0        2.0               0           999  \n25451  1570800.0        4.0               0           999  \n25544  1772100.0        2.0               0           999  \n\n[285 rows x 22 columns]",
      "text/html": "<div>\n<style scoped>\n    .dataframe tbody tr th:only-of-type {\n        vertical-align: middle;\n    }\n\n    .dataframe tbody tr th {\n        vertical-align: top;\n    }\n\n    .dataframe thead th {\n        text-align: right;\n    }\n</style>\n<table border=\"1\" class=\"dataframe\">\n  <thead>\n    <tr style=\"text-align: right;\">\n      <th></th>\n      <th>index</th>\n      <th>listing_id</th>\n      <th>name</th>\n      <th>street</th>\n      <th>type</th>\n      <th>bedrooms</th>\n      <th>bathrooms</th>\n      <th>district</th>\n      <th>region</th>\n      <th>planning_area</th>\n      <th>...</th>\n      <th>lng</th>\n      <th>tenure</th>\n      <th>built_year</th>\n      <th>no_of_units</th>\n      <th>area_size</th>\n      <th>date_listed</th>\n      <th>price</th>\n      <th>bedrooms_1</th>\n      <th>tenure_remains</th>\n      <th>tenure_years</th>\n    </tr>\n  </thead>\n  <tbody>\n    <tr>\n      <th>12</th>\n      <td>12</td>\n      <td>4245267</td>\n      <td>tampines street 11</td>\n      <td>tampines street 11</td>\n      <td>condominium</td>\n      <td>3</td>\n      <td>2.0</td>\n      <td>18</td>\n      <td>east region</td>\n      <td>tampines</td>\n      <td>...</td>\n      <td>103.945385</td>\n      <td>NaN</td>\n      <td>1982.0</td>\n      <td>NaN</td>\n      <td>1033.0</td>\n      <td>2021-12-07</td>\n      <td>1705000.0</td>\n      <td>3.0</td>\n      <td>0</td>\n      <td>999</td>\n    </tr>\n    <tr>\n      <th>76</th>\n      <td>76</td>\n      <td>2444242</td>\n      <td>jalan besar</td>\n      <td>225 jalan besar</td>\n      <td>condominium</td>\n      <td>3</td>\n      <td>3.0</td>\n      <td>8</td>\n      <td>central region</td>\n      <td>kallang</td>\n      <td>...</td>\n      <td>103.857585</td>\n      <td>NaN</td>\n      <td>1970.0</td>\n      <td>NaN</td>\n      <td>1442.0</td>\n      <td>2021-03-15</td>\n      <td>2750000.0</td>\n      <td>3.0</td>\n      <td>0</td>\n      <td>999</td>\n    </tr>\n    <tr>\n      <th>285</th>\n      <td>285</td>\n      <td>7090887</td>\n      <td>brookvale drive</td>\n      <td>brookvale drive</td>\n      <td>condominium</td>\n      <td>3</td>\n      <td>2.0</td>\n      <td>21</td>\n      <td>west region</td>\n      <td>clementi</td>\n      <td>...</td>\n      <td>103.767520</td>\n      <td>NaN</td>\n      <td>2024.0</td>\n      <td>NaN</td>\n      <td>1109.0</td>\n      <td>2021-10-16</td>\n      <td>2350700.0</td>\n      <td>3.0</td>\n      <td>0</td>\n      <td>999</td>\n    </tr>\n    <tr>\n      <th>430</th>\n      <td>430</td>\n      <td>3531066</td>\n      <td>shunfu road</td>\n      <td>shunfu road</td>\n      <td>condominium</td>\n      <td>2</td>\n      <td>2.0</td>\n      <td>20</td>\n      <td>central region</td>\n      <td>bishan</td>\n      <td>...</td>\n      <td>103.837032</td>\n      <td>NaN</td>\n      <td>1985.0</td>\n      <td>NaN</td>\n      <td>764.0</td>\n      <td>2021-10-12</td>\n      <td>1427800.0</td>\n      <td>2.0</td>\n      <td>0</td>\n      <td>999</td>\n    </tr>\n    <tr>\n      <th>493</th>\n      <td>493</td>\n      <td>4693226</td>\n      <td>hougang avenue 7</td>\n      <td>hougang avenue 7</td>\n      <td>condominium</td>\n      <td>2</td>\n      <td>2.0</td>\n      <td>19</td>\n      <td>north-east region</td>\n      <td>hougang</td>\n      <td>...</td>\n      <td>103.890681</td>\n      <td>NaN</td>\n      <td>2000.0</td>\n      <td>NaN</td>\n      <td>1410.0</td>\n      <td>2021-10-12</td>\n      <td>2129600.0</td>\n      <td>2.0</td>\n      <td>0</td>\n      <td>999</td>\n    </tr>\n    <tr>\n      <th>...</th>\n      <td>...</td>\n      <td>...</td>\n      <td>...</td>\n      <td>...</td>\n      <td>...</td>\n      <td>...</td>\n      <td>...</td>\n      <td>...</td>\n      <td>...</td>\n      <td>...</td>\n      <td>...</td>\n      <td>...</td>\n      <td>...</td>\n      <td>...</td>\n      <td>...</td>\n      <td>...</td>\n      <td>...</td>\n      <td>...</td>\n      <td>...</td>\n      <td>...</td>\n      <td>...</td>\n    </tr>\n    <tr>\n      <th>25231</th>\n      <td>25235</td>\n      <td>7347765</td>\n      <td>shunfu road</td>\n      <td>shunfu road</td>\n      <td>condominium</td>\n      <td>2</td>\n      <td>1.0</td>\n      <td>20</td>\n      <td>central region</td>\n      <td>bishan</td>\n      <td>...</td>\n      <td>103.837032</td>\n      <td>NaN</td>\n      <td>1985.0</td>\n      <td>NaN</td>\n      <td>646.0</td>\n      <td>2021-10-12</td>\n      <td>1248500.0</td>\n      <td>2.0</td>\n      <td>0</td>\n      <td>999</td>\n    </tr>\n    <tr>\n      <th>25380</th>\n      <td>25384</td>\n      <td>4562484</td>\n      <td>pasir panjang road</td>\n      <td>pasir panjang road</td>\n      <td>apartment</td>\n      <td>2</td>\n      <td>2.0</td>\n      <td>5</td>\n      <td>central region</td>\n      <td>queenstown</td>\n      <td>...</td>\n      <td>103.773866</td>\n      <td>NaN</td>\n      <td>1994.0</td>\n      <td>NaN</td>\n      <td>657.0</td>\n      <td>2021-10-31</td>\n      <td>1650000.0</td>\n      <td>2.0</td>\n      <td>0</td>\n      <td>999</td>\n    </tr>\n    <tr>\n      <th>25399</th>\n      <td>25403</td>\n      <td>7083605</td>\n      <td>brookvale drive</td>\n      <td>brookvale drive</td>\n      <td>condominium</td>\n      <td>2</td>\n      <td>2.0</td>\n      <td>21</td>\n      <td>west region</td>\n      <td>clementi</td>\n      <td>...</td>\n      <td>103.767520</td>\n      <td>NaN</td>\n      <td>2024.0</td>\n      <td>NaN</td>\n      <td>700.0</td>\n      <td>2021-10-12</td>\n      <td>1270500.0</td>\n      <td>2.0</td>\n      <td>0</td>\n      <td>999</td>\n    </tr>\n    <tr>\n      <th>25451</th>\n      <td>25455</td>\n      <td>1157244</td>\n      <td>simei street 1</td>\n      <td>simei street 1</td>\n      <td>condominium</td>\n      <td>4</td>\n      <td>2.0</td>\n      <td>18</td>\n      <td>east region</td>\n      <td>tampines</td>\n      <td>...</td>\n      <td>103.951760</td>\n      <td>NaN</td>\n      <td>1996.0</td>\n      <td>NaN</td>\n      <td>1270.0</td>\n      <td>2021-10-12</td>\n      <td>1570800.0</td>\n      <td>4.0</td>\n      <td>0</td>\n      <td>999</td>\n    </tr>\n    <tr>\n      <th>25544</th>\n      <td>25548</td>\n      <td>2890678</td>\n      <td>jervois road</td>\n      <td>jervois road</td>\n      <td>condominium</td>\n      <td>2</td>\n      <td>2.0</td>\n      <td>10</td>\n      <td>central region</td>\n      <td>tanglin</td>\n      <td>...</td>\n      <td>103.825615</td>\n      <td>NaN</td>\n      <td>NaN</td>\n      <td>NaN</td>\n      <td>786.0</td>\n      <td>2021-10-12</td>\n      <td>1772100.0</td>\n      <td>2.0</td>\n      <td>0</td>\n      <td>999</td>\n    </tr>\n  </tbody>\n</table>\n<p>285 rows × 22 columns</p>\n</div>"
     },
     "execution_count": 42,
     "metadata": {},
     "output_type": "execute_result"
    }
   ],
   "source": [
    "df_rh[df_rh.tenure_remains==0]"
   ],
   "metadata": {
    "collapsed": false,
    "pycharm": {
     "name": "#%%\n"
    }
   }
  },
  {
   "cell_type": "code",
   "execution_count": 43,
   "outputs": [],
   "source": [
    "df_rh.at[df_rh.tenure_remains==0, 'tenure_years']=99"
   ],
   "metadata": {
    "collapsed": false,
    "pycharm": {
     "name": "#%%\n"
    }
   }
  },
  {
   "cell_type": "code",
   "execution_count": 45,
   "outputs": [
    {
     "data": {
      "text/plain": "       index  listing_id                name              street         type  \\\n12        12     4245267  tampines street 11  tampines street 11  condominium   \n76        76     2444242         jalan besar    225 jalan besar   condominium   \n285      285     7090887     brookvale drive     brookvale drive  condominium   \n430      430     3531066         shunfu road         shunfu road  condominium   \n493      493     4693226    hougang avenue 7    hougang avenue 7  condominium   \n...      ...         ...                 ...                 ...          ...   \n25231  25235     7347765         shunfu road         shunfu road  condominium   \n25380  25384     4562484  pasir panjang road  pasir panjang road    apartment   \n25399  25403     7083605     brookvale drive     brookvale drive  condominium   \n25451  25455     1157244      simei street 1      simei street 1  condominium   \n25544  25548     2890678        jervois road        jervois road  condominium   \n\n      bedrooms  bathrooms  district             region planning_area  ...  \\\n12           3        2.0        18        east region      tampines  ...   \n76           3        3.0         8     central region       kallang  ...   \n285          3        2.0        21        west region      clementi  ...   \n430          2        2.0        20     central region        bishan  ...   \n493          2        2.0        19  north-east region       hougang  ...   \n...        ...        ...       ...                ...           ...  ...   \n25231        2        1.0        20     central region        bishan  ...   \n25380        2        2.0         5     central region    queenstown  ...   \n25399        2        2.0        21        west region      clementi  ...   \n25451        4        2.0        18        east region      tampines  ...   \n25544        2        2.0        10     central region       tanglin  ...   \n\n              lng  tenure  built_year no_of_units  area_size  date_listed  \\\n12     103.945385     NaN      1982.0         NaN     1033.0   2021-12-07   \n76     103.857585     NaN      1970.0         NaN     1442.0   2021-03-15   \n285    103.767520     NaN      2024.0         NaN     1109.0   2021-10-16   \n430    103.837032     NaN      1985.0         NaN      764.0   2021-10-12   \n493    103.890681     NaN      2000.0         NaN     1410.0   2021-10-12   \n...           ...     ...         ...         ...        ...          ...   \n25231  103.837032     NaN      1985.0         NaN      646.0   2021-10-12   \n25380  103.773866     NaN      1994.0         NaN      657.0   2021-10-31   \n25399  103.767520     NaN      2024.0         NaN      700.0   2021-10-12   \n25451  103.951760     NaN      1996.0         NaN     1270.0   2021-10-12   \n25544  103.825615     NaN         NaN         NaN      786.0   2021-10-12   \n\n           price bedrooms_1  tenure_remains  tenure_years  \n12     1705000.0        3.0               0            99  \n76     2750000.0        3.0               0            99  \n285    2350700.0        3.0               0            99  \n430    1427800.0        2.0               0            99  \n493    2129600.0        2.0               0            99  \n...          ...        ...             ...           ...  \n25231  1248500.0        2.0               0            99  \n25380  1650000.0        2.0               0            99  \n25399  1270500.0        2.0               0            99  \n25451  1570800.0        4.0               0            99  \n25544  1772100.0        2.0               0            99  \n\n[285 rows x 22 columns]",
      "text/html": "<div>\n<style scoped>\n    .dataframe tbody tr th:only-of-type {\n        vertical-align: middle;\n    }\n\n    .dataframe tbody tr th {\n        vertical-align: top;\n    }\n\n    .dataframe thead th {\n        text-align: right;\n    }\n</style>\n<table border=\"1\" class=\"dataframe\">\n  <thead>\n    <tr style=\"text-align: right;\">\n      <th></th>\n      <th>index</th>\n      <th>listing_id</th>\n      <th>name</th>\n      <th>street</th>\n      <th>type</th>\n      <th>bedrooms</th>\n      <th>bathrooms</th>\n      <th>district</th>\n      <th>region</th>\n      <th>planning_area</th>\n      <th>...</th>\n      <th>lng</th>\n      <th>tenure</th>\n      <th>built_year</th>\n      <th>no_of_units</th>\n      <th>area_size</th>\n      <th>date_listed</th>\n      <th>price</th>\n      <th>bedrooms_1</th>\n      <th>tenure_remains</th>\n      <th>tenure_years</th>\n    </tr>\n  </thead>\n  <tbody>\n    <tr>\n      <th>12</th>\n      <td>12</td>\n      <td>4245267</td>\n      <td>tampines street 11</td>\n      <td>tampines street 11</td>\n      <td>condominium</td>\n      <td>3</td>\n      <td>2.0</td>\n      <td>18</td>\n      <td>east region</td>\n      <td>tampines</td>\n      <td>...</td>\n      <td>103.945385</td>\n      <td>NaN</td>\n      <td>1982.0</td>\n      <td>NaN</td>\n      <td>1033.0</td>\n      <td>2021-12-07</td>\n      <td>1705000.0</td>\n      <td>3.0</td>\n      <td>0</td>\n      <td>99</td>\n    </tr>\n    <tr>\n      <th>76</th>\n      <td>76</td>\n      <td>2444242</td>\n      <td>jalan besar</td>\n      <td>225 jalan besar</td>\n      <td>condominium</td>\n      <td>3</td>\n      <td>3.0</td>\n      <td>8</td>\n      <td>central region</td>\n      <td>kallang</td>\n      <td>...</td>\n      <td>103.857585</td>\n      <td>NaN</td>\n      <td>1970.0</td>\n      <td>NaN</td>\n      <td>1442.0</td>\n      <td>2021-03-15</td>\n      <td>2750000.0</td>\n      <td>3.0</td>\n      <td>0</td>\n      <td>99</td>\n    </tr>\n    <tr>\n      <th>285</th>\n      <td>285</td>\n      <td>7090887</td>\n      <td>brookvale drive</td>\n      <td>brookvale drive</td>\n      <td>condominium</td>\n      <td>3</td>\n      <td>2.0</td>\n      <td>21</td>\n      <td>west region</td>\n      <td>clementi</td>\n      <td>...</td>\n      <td>103.767520</td>\n      <td>NaN</td>\n      <td>2024.0</td>\n      <td>NaN</td>\n      <td>1109.0</td>\n      <td>2021-10-16</td>\n      <td>2350700.0</td>\n      <td>3.0</td>\n      <td>0</td>\n      <td>99</td>\n    </tr>\n    <tr>\n      <th>430</th>\n      <td>430</td>\n      <td>3531066</td>\n      <td>shunfu road</td>\n      <td>shunfu road</td>\n      <td>condominium</td>\n      <td>2</td>\n      <td>2.0</td>\n      <td>20</td>\n      <td>central region</td>\n      <td>bishan</td>\n      <td>...</td>\n      <td>103.837032</td>\n      <td>NaN</td>\n      <td>1985.0</td>\n      <td>NaN</td>\n      <td>764.0</td>\n      <td>2021-10-12</td>\n      <td>1427800.0</td>\n      <td>2.0</td>\n      <td>0</td>\n      <td>99</td>\n    </tr>\n    <tr>\n      <th>493</th>\n      <td>493</td>\n      <td>4693226</td>\n      <td>hougang avenue 7</td>\n      <td>hougang avenue 7</td>\n      <td>condominium</td>\n      <td>2</td>\n      <td>2.0</td>\n      <td>19</td>\n      <td>north-east region</td>\n      <td>hougang</td>\n      <td>...</td>\n      <td>103.890681</td>\n      <td>NaN</td>\n      <td>2000.0</td>\n      <td>NaN</td>\n      <td>1410.0</td>\n      <td>2021-10-12</td>\n      <td>2129600.0</td>\n      <td>2.0</td>\n      <td>0</td>\n      <td>99</td>\n    </tr>\n    <tr>\n      <th>...</th>\n      <td>...</td>\n      <td>...</td>\n      <td>...</td>\n      <td>...</td>\n      <td>...</td>\n      <td>...</td>\n      <td>...</td>\n      <td>...</td>\n      <td>...</td>\n      <td>...</td>\n      <td>...</td>\n      <td>...</td>\n      <td>...</td>\n      <td>...</td>\n      <td>...</td>\n      <td>...</td>\n      <td>...</td>\n      <td>...</td>\n      <td>...</td>\n      <td>...</td>\n      <td>...</td>\n    </tr>\n    <tr>\n      <th>25231</th>\n      <td>25235</td>\n      <td>7347765</td>\n      <td>shunfu road</td>\n      <td>shunfu road</td>\n      <td>condominium</td>\n      <td>2</td>\n      <td>1.0</td>\n      <td>20</td>\n      <td>central region</td>\n      <td>bishan</td>\n      <td>...</td>\n      <td>103.837032</td>\n      <td>NaN</td>\n      <td>1985.0</td>\n      <td>NaN</td>\n      <td>646.0</td>\n      <td>2021-10-12</td>\n      <td>1248500.0</td>\n      <td>2.0</td>\n      <td>0</td>\n      <td>99</td>\n    </tr>\n    <tr>\n      <th>25380</th>\n      <td>25384</td>\n      <td>4562484</td>\n      <td>pasir panjang road</td>\n      <td>pasir panjang road</td>\n      <td>apartment</td>\n      <td>2</td>\n      <td>2.0</td>\n      <td>5</td>\n      <td>central region</td>\n      <td>queenstown</td>\n      <td>...</td>\n      <td>103.773866</td>\n      <td>NaN</td>\n      <td>1994.0</td>\n      <td>NaN</td>\n      <td>657.0</td>\n      <td>2021-10-31</td>\n      <td>1650000.0</td>\n      <td>2.0</td>\n      <td>0</td>\n      <td>99</td>\n    </tr>\n    <tr>\n      <th>25399</th>\n      <td>25403</td>\n      <td>7083605</td>\n      <td>brookvale drive</td>\n      <td>brookvale drive</td>\n      <td>condominium</td>\n      <td>2</td>\n      <td>2.0</td>\n      <td>21</td>\n      <td>west region</td>\n      <td>clementi</td>\n      <td>...</td>\n      <td>103.767520</td>\n      <td>NaN</td>\n      <td>2024.0</td>\n      <td>NaN</td>\n      <td>700.0</td>\n      <td>2021-10-12</td>\n      <td>1270500.0</td>\n      <td>2.0</td>\n      <td>0</td>\n      <td>99</td>\n    </tr>\n    <tr>\n      <th>25451</th>\n      <td>25455</td>\n      <td>1157244</td>\n      <td>simei street 1</td>\n      <td>simei street 1</td>\n      <td>condominium</td>\n      <td>4</td>\n      <td>2.0</td>\n      <td>18</td>\n      <td>east region</td>\n      <td>tampines</td>\n      <td>...</td>\n      <td>103.951760</td>\n      <td>NaN</td>\n      <td>1996.0</td>\n      <td>NaN</td>\n      <td>1270.0</td>\n      <td>2021-10-12</td>\n      <td>1570800.0</td>\n      <td>4.0</td>\n      <td>0</td>\n      <td>99</td>\n    </tr>\n    <tr>\n      <th>25544</th>\n      <td>25548</td>\n      <td>2890678</td>\n      <td>jervois road</td>\n      <td>jervois road</td>\n      <td>condominium</td>\n      <td>2</td>\n      <td>2.0</td>\n      <td>10</td>\n      <td>central region</td>\n      <td>tanglin</td>\n      <td>...</td>\n      <td>103.825615</td>\n      <td>NaN</td>\n      <td>NaN</td>\n      <td>NaN</td>\n      <td>786.0</td>\n      <td>2021-10-12</td>\n      <td>1772100.0</td>\n      <td>2.0</td>\n      <td>0</td>\n      <td>99</td>\n    </tr>\n  </tbody>\n</table>\n<p>285 rows × 22 columns</p>\n</div>"
     },
     "execution_count": 45,
     "metadata": {},
     "output_type": "execute_result"
    }
   ],
   "source": [
    "df_rh[df_rh.tenure_remains==0]"
   ],
   "metadata": {
    "collapsed": false,
    "pycharm": {
     "name": "#%%\n"
    }
   }
  },
  {
   "cell_type": "code",
   "execution_count": 47,
   "outputs": [],
   "source": [
    "df_rh = df_rh.drop(columns=['tenure', 'bedrooms'], axis=1)"
   ],
   "metadata": {
    "collapsed": false,
    "pycharm": {
     "name": "#%%\n"
    }
   }
  },
  {
   "cell_type": "code",
   "execution_count": 48,
   "outputs": [
    {
     "name": "stdout",
     "output_type": "stream",
     "text": [
      "<class 'pandas.core.frame.DataFrame'>\n",
      "RangeIndex: 25718 entries, 0 to 25717\n",
      "Data columns (total 20 columns):\n",
      " #   Column          Non-Null Count  Dtype  \n",
      "---  ------          --------------  -----  \n",
      " 0   index           25718 non-null  int64  \n",
      " 1   listing_id      25718 non-null  int64  \n",
      " 2   name            25718 non-null  object \n",
      " 3   street          25718 non-null  object \n",
      " 4   type            25718 non-null  object \n",
      " 5   bathrooms       24484 non-null  float64\n",
      " 6   district        25718 non-null  int64  \n",
      " 7   region          25718 non-null  object \n",
      " 8   planning_area   25718 non-null  object \n",
      " 9   subszone        25718 non-null  object \n",
      " 10  lat             25718 non-null  float64\n",
      " 11  lng             25718 non-null  float64\n",
      " 12  built_year      25645 non-null  float64\n",
      " 13  no_of_units     24680 non-null  float64\n",
      " 14  area_size       25718 non-null  float64\n",
      " 15  date_listed     25718 non-null  object \n",
      " 16  price           25718 non-null  float64\n",
      " 17  bedrooms_1      25718 non-null  float64\n",
      " 18  tenure_remains  25718 non-null  int64  \n",
      " 19  tenure_years    25718 non-null  int64  \n",
      "dtypes: float64(8), int64(5), object(7)\n",
      "memory usage: 3.9+ MB\n"
     ]
    }
   ],
   "source": [
    "df_rh.info()"
   ],
   "metadata": {
    "collapsed": false,
    "pycharm": {
     "name": "#%%\n"
    }
   }
  },
  {
   "cell_type": "code",
   "execution_count": 49,
   "outputs": [
    {
     "data": {
      "text/plain": "   index  listing_id                  name             street         type  \\\n0      0     6998418              seascape       57 cove way   condominium   \n1      1     2046604             la maison  10 moulmein rise     apartment   \n2      2     7563513                  viva    2 suffolk walk   condominium   \n3      3     3071445       urban treasures   205 jalan eunos   condominium   \n4      4     9667539  infini at east coast    east coast road    apartment   \n\n   bathrooms  district          region     planning_area    subszone  \\\n0        4.0         4  central region  southern islands     sentosa   \n1        3.0        11  central region            novena    moulmein   \n2        3.0        11  central region            novena    moulmein   \n3        2.0        14     east region             bedok  kaki bukit   \n4        3.0        15     east region             bedok     frankel   \n\n        lat         lng  built_year  no_of_units  area_size date_listed  \\\n0  1.239337  103.837487      2011.0        151.0     2336.0  2021-05-04   \n1  1.319533  103.847030      1999.0         24.0     1259.0  2021-05-07   \n2  1.315656  103.844445      2012.0        235.0     1959.0  2021-06-30   \n3  1.329367  103.905791      1930.0        237.0      883.0  2022-01-02   \n4  1.309176  103.911352      2022.0         36.0     1066.0  2021-12-24   \n\n       price  bedrooms  tenure_remains  tenure_years  \n0  5390000.0       3.0              99            99  \n1  2310000.0       3.0         1000000           999  \n2  5279500.0       4.0         1000000           999  \n3  1843600.0       3.0         1000000           999  \n4  2262700.0       3.0         1000000           999  ",
      "text/html": "<div>\n<style scoped>\n    .dataframe tbody tr th:only-of-type {\n        vertical-align: middle;\n    }\n\n    .dataframe tbody tr th {\n        vertical-align: top;\n    }\n\n    .dataframe thead th {\n        text-align: right;\n    }\n</style>\n<table border=\"1\" class=\"dataframe\">\n  <thead>\n    <tr style=\"text-align: right;\">\n      <th></th>\n      <th>index</th>\n      <th>listing_id</th>\n      <th>name</th>\n      <th>street</th>\n      <th>type</th>\n      <th>bathrooms</th>\n      <th>district</th>\n      <th>region</th>\n      <th>planning_area</th>\n      <th>subszone</th>\n      <th>lat</th>\n      <th>lng</th>\n      <th>built_year</th>\n      <th>no_of_units</th>\n      <th>area_size</th>\n      <th>date_listed</th>\n      <th>price</th>\n      <th>bedrooms</th>\n      <th>tenure_remains</th>\n      <th>tenure_years</th>\n    </tr>\n  </thead>\n  <tbody>\n    <tr>\n      <th>0</th>\n      <td>0</td>\n      <td>6998418</td>\n      <td>seascape</td>\n      <td>57 cove way</td>\n      <td>condominium</td>\n      <td>4.0</td>\n      <td>4</td>\n      <td>central region</td>\n      <td>southern islands</td>\n      <td>sentosa</td>\n      <td>1.239337</td>\n      <td>103.837487</td>\n      <td>2011.0</td>\n      <td>151.0</td>\n      <td>2336.0</td>\n      <td>2021-05-04</td>\n      <td>5390000.0</td>\n      <td>3.0</td>\n      <td>99</td>\n      <td>99</td>\n    </tr>\n    <tr>\n      <th>1</th>\n      <td>1</td>\n      <td>2046604</td>\n      <td>la maison</td>\n      <td>10 moulmein rise</td>\n      <td>apartment</td>\n      <td>3.0</td>\n      <td>11</td>\n      <td>central region</td>\n      <td>novena</td>\n      <td>moulmein</td>\n      <td>1.319533</td>\n      <td>103.847030</td>\n      <td>1999.0</td>\n      <td>24.0</td>\n      <td>1259.0</td>\n      <td>2021-05-07</td>\n      <td>2310000.0</td>\n      <td>3.0</td>\n      <td>1000000</td>\n      <td>999</td>\n    </tr>\n    <tr>\n      <th>2</th>\n      <td>2</td>\n      <td>7563513</td>\n      <td>viva</td>\n      <td>2 suffolk walk</td>\n      <td>condominium</td>\n      <td>3.0</td>\n      <td>11</td>\n      <td>central region</td>\n      <td>novena</td>\n      <td>moulmein</td>\n      <td>1.315656</td>\n      <td>103.844445</td>\n      <td>2012.0</td>\n      <td>235.0</td>\n      <td>1959.0</td>\n      <td>2021-06-30</td>\n      <td>5279500.0</td>\n      <td>4.0</td>\n      <td>1000000</td>\n      <td>999</td>\n    </tr>\n    <tr>\n      <th>3</th>\n      <td>3</td>\n      <td>3071445</td>\n      <td>urban treasures</td>\n      <td>205 jalan eunos</td>\n      <td>condominium</td>\n      <td>2.0</td>\n      <td>14</td>\n      <td>east region</td>\n      <td>bedok</td>\n      <td>kaki bukit</td>\n      <td>1.329367</td>\n      <td>103.905791</td>\n      <td>1930.0</td>\n      <td>237.0</td>\n      <td>883.0</td>\n      <td>2022-01-02</td>\n      <td>1843600.0</td>\n      <td>3.0</td>\n      <td>1000000</td>\n      <td>999</td>\n    </tr>\n    <tr>\n      <th>4</th>\n      <td>4</td>\n      <td>9667539</td>\n      <td>infini at east coast</td>\n      <td>east coast road</td>\n      <td>apartment</td>\n      <td>3.0</td>\n      <td>15</td>\n      <td>east region</td>\n      <td>bedok</td>\n      <td>frankel</td>\n      <td>1.309176</td>\n      <td>103.911352</td>\n      <td>2022.0</td>\n      <td>36.0</td>\n      <td>1066.0</td>\n      <td>2021-12-24</td>\n      <td>2262700.0</td>\n      <td>3.0</td>\n      <td>1000000</td>\n      <td>999</td>\n    </tr>\n  </tbody>\n</table>\n</div>"
     },
     "execution_count": 49,
     "metadata": {},
     "output_type": "execute_result"
    }
   ],
   "source": [
    "df_rh = df_rh.rename(columns={'bedrooms_1':'bedrooms'})\n",
    "df_rh.head()"
   ],
   "metadata": {
    "collapsed": false,
    "pycharm": {
     "name": "#%%\n"
    }
   }
  },
  {
   "cell_type": "code",
   "execution_count": 52,
   "outputs": [
    {
     "ename": "KeyError",
     "evalue": "\"['index'] not found in axis\"",
     "output_type": "error",
     "traceback": [
      "\u001B[0;31m---------------------------------------------------------------------------\u001B[0m",
      "\u001B[0;31mKeyError\u001B[0m                                  Traceback (most recent call last)",
      "\u001B[0;32m<ipython-input-52-91858bad7831>\u001B[0m in \u001B[0;36m<module>\u001B[0;34m\u001B[0m\n\u001B[0;32m----> 1\u001B[0;31m \u001B[0mdf_rh\u001B[0m \u001B[0;34m=\u001B[0m \u001B[0mdf_rh\u001B[0m\u001B[0;34m.\u001B[0m\u001B[0mdrop\u001B[0m\u001B[0;34m(\u001B[0m\u001B[0mcolumns\u001B[0m\u001B[0;34m=\u001B[0m\u001B[0;34m[\u001B[0m\u001B[0;34m'index'\u001B[0m\u001B[0;34m,\u001B[0m \u001B[0;34m'lat'\u001B[0m\u001B[0;34m,\u001B[0m \u001B[0;34m'lng'\u001B[0m\u001B[0;34m]\u001B[0m\u001B[0;34m,\u001B[0m \u001B[0maxis\u001B[0m\u001B[0;34m=\u001B[0m\u001B[0;36m1\u001B[0m\u001B[0;34m)\u001B[0m\u001B[0;34m\u001B[0m\u001B[0;34m\u001B[0m\u001B[0m\n\u001B[0m",
      "\u001B[0;32m~/miniconda/envs/CS5228/lib/python3.6/site-packages/pandas/core/frame.py\u001B[0m in \u001B[0;36mdrop\u001B[0;34m(self, labels, axis, index, columns, level, inplace, errors)\u001B[0m\n\u001B[1;32m   4172\u001B[0m             \u001B[0mlevel\u001B[0m\u001B[0;34m=\u001B[0m\u001B[0mlevel\u001B[0m\u001B[0;34m,\u001B[0m\u001B[0;34m\u001B[0m\u001B[0;34m\u001B[0m\u001B[0m\n\u001B[1;32m   4173\u001B[0m             \u001B[0minplace\u001B[0m\u001B[0;34m=\u001B[0m\u001B[0minplace\u001B[0m\u001B[0;34m,\u001B[0m\u001B[0;34m\u001B[0m\u001B[0;34m\u001B[0m\u001B[0m\n\u001B[0;32m-> 4174\u001B[0;31m             \u001B[0merrors\u001B[0m\u001B[0;34m=\u001B[0m\u001B[0merrors\u001B[0m\u001B[0;34m,\u001B[0m\u001B[0;34m\u001B[0m\u001B[0;34m\u001B[0m\u001B[0m\n\u001B[0m\u001B[1;32m   4175\u001B[0m         )\n\u001B[1;32m   4176\u001B[0m \u001B[0;34m\u001B[0m\u001B[0m\n",
      "\u001B[0;32m~/miniconda/envs/CS5228/lib/python3.6/site-packages/pandas/core/generic.py\u001B[0m in \u001B[0;36mdrop\u001B[0;34m(self, labels, axis, index, columns, level, inplace, errors)\u001B[0m\n\u001B[1;32m   3887\u001B[0m         \u001B[0;32mfor\u001B[0m \u001B[0maxis\u001B[0m\u001B[0;34m,\u001B[0m \u001B[0mlabels\u001B[0m \u001B[0;32min\u001B[0m \u001B[0maxes\u001B[0m\u001B[0;34m.\u001B[0m\u001B[0mitems\u001B[0m\u001B[0;34m(\u001B[0m\u001B[0;34m)\u001B[0m\u001B[0;34m:\u001B[0m\u001B[0;34m\u001B[0m\u001B[0;34m\u001B[0m\u001B[0m\n\u001B[1;32m   3888\u001B[0m             \u001B[0;32mif\u001B[0m \u001B[0mlabels\u001B[0m \u001B[0;32mis\u001B[0m \u001B[0;32mnot\u001B[0m \u001B[0;32mNone\u001B[0m\u001B[0;34m:\u001B[0m\u001B[0;34m\u001B[0m\u001B[0;34m\u001B[0m\u001B[0m\n\u001B[0;32m-> 3889\u001B[0;31m                 \u001B[0mobj\u001B[0m \u001B[0;34m=\u001B[0m \u001B[0mobj\u001B[0m\u001B[0;34m.\u001B[0m\u001B[0m_drop_axis\u001B[0m\u001B[0;34m(\u001B[0m\u001B[0mlabels\u001B[0m\u001B[0;34m,\u001B[0m \u001B[0maxis\u001B[0m\u001B[0;34m,\u001B[0m \u001B[0mlevel\u001B[0m\u001B[0;34m=\u001B[0m\u001B[0mlevel\u001B[0m\u001B[0;34m,\u001B[0m \u001B[0merrors\u001B[0m\u001B[0;34m=\u001B[0m\u001B[0merrors\u001B[0m\u001B[0;34m)\u001B[0m\u001B[0;34m\u001B[0m\u001B[0;34m\u001B[0m\u001B[0m\n\u001B[0m\u001B[1;32m   3890\u001B[0m \u001B[0;34m\u001B[0m\u001B[0m\n\u001B[1;32m   3891\u001B[0m         \u001B[0;32mif\u001B[0m \u001B[0minplace\u001B[0m\u001B[0;34m:\u001B[0m\u001B[0;34m\u001B[0m\u001B[0;34m\u001B[0m\u001B[0m\n",
      "\u001B[0;32m~/miniconda/envs/CS5228/lib/python3.6/site-packages/pandas/core/generic.py\u001B[0m in \u001B[0;36m_drop_axis\u001B[0;34m(self, labels, axis, level, errors)\u001B[0m\n\u001B[1;32m   3921\u001B[0m                 \u001B[0mnew_axis\u001B[0m \u001B[0;34m=\u001B[0m \u001B[0maxis\u001B[0m\u001B[0;34m.\u001B[0m\u001B[0mdrop\u001B[0m\u001B[0;34m(\u001B[0m\u001B[0mlabels\u001B[0m\u001B[0;34m,\u001B[0m \u001B[0mlevel\u001B[0m\u001B[0;34m=\u001B[0m\u001B[0mlevel\u001B[0m\u001B[0;34m,\u001B[0m \u001B[0merrors\u001B[0m\u001B[0;34m=\u001B[0m\u001B[0merrors\u001B[0m\u001B[0;34m)\u001B[0m\u001B[0;34m\u001B[0m\u001B[0;34m\u001B[0m\u001B[0m\n\u001B[1;32m   3922\u001B[0m             \u001B[0;32melse\u001B[0m\u001B[0;34m:\u001B[0m\u001B[0;34m\u001B[0m\u001B[0;34m\u001B[0m\u001B[0m\n\u001B[0;32m-> 3923\u001B[0;31m                 \u001B[0mnew_axis\u001B[0m \u001B[0;34m=\u001B[0m \u001B[0maxis\u001B[0m\u001B[0;34m.\u001B[0m\u001B[0mdrop\u001B[0m\u001B[0;34m(\u001B[0m\u001B[0mlabels\u001B[0m\u001B[0;34m,\u001B[0m \u001B[0merrors\u001B[0m\u001B[0;34m=\u001B[0m\u001B[0merrors\u001B[0m\u001B[0;34m)\u001B[0m\u001B[0;34m\u001B[0m\u001B[0;34m\u001B[0m\u001B[0m\n\u001B[0m\u001B[1;32m   3924\u001B[0m             \u001B[0mresult\u001B[0m \u001B[0;34m=\u001B[0m \u001B[0mself\u001B[0m\u001B[0;34m.\u001B[0m\u001B[0mreindex\u001B[0m\u001B[0;34m(\u001B[0m\u001B[0;34m**\u001B[0m\u001B[0;34m{\u001B[0m\u001B[0maxis_name\u001B[0m\u001B[0;34m:\u001B[0m \u001B[0mnew_axis\u001B[0m\u001B[0;34m}\u001B[0m\u001B[0;34m)\u001B[0m\u001B[0;34m\u001B[0m\u001B[0;34m\u001B[0m\u001B[0m\n\u001B[1;32m   3925\u001B[0m \u001B[0;34m\u001B[0m\u001B[0m\n",
      "\u001B[0;32m~/miniconda/envs/CS5228/lib/python3.6/site-packages/pandas/core/indexes/base.py\u001B[0m in \u001B[0;36mdrop\u001B[0;34m(self, labels, errors)\u001B[0m\n\u001B[1;32m   5285\u001B[0m         \u001B[0;32mif\u001B[0m \u001B[0mmask\u001B[0m\u001B[0;34m.\u001B[0m\u001B[0many\u001B[0m\u001B[0;34m(\u001B[0m\u001B[0;34m)\u001B[0m\u001B[0;34m:\u001B[0m\u001B[0;34m\u001B[0m\u001B[0;34m\u001B[0m\u001B[0m\n\u001B[1;32m   5286\u001B[0m             \u001B[0;32mif\u001B[0m \u001B[0merrors\u001B[0m \u001B[0;34m!=\u001B[0m \u001B[0;34m\"ignore\"\u001B[0m\u001B[0;34m:\u001B[0m\u001B[0;34m\u001B[0m\u001B[0;34m\u001B[0m\u001B[0m\n\u001B[0;32m-> 5287\u001B[0;31m                 \u001B[0;32mraise\u001B[0m \u001B[0mKeyError\u001B[0m\u001B[0;34m(\u001B[0m\u001B[0;34mf\"{labels[mask]} not found in axis\"\u001B[0m\u001B[0;34m)\u001B[0m\u001B[0;34m\u001B[0m\u001B[0;34m\u001B[0m\u001B[0m\n\u001B[0m\u001B[1;32m   5288\u001B[0m             \u001B[0mindexer\u001B[0m \u001B[0;34m=\u001B[0m \u001B[0mindexer\u001B[0m\u001B[0;34m[\u001B[0m\u001B[0;34m~\u001B[0m\u001B[0mmask\u001B[0m\u001B[0;34m]\u001B[0m\u001B[0;34m\u001B[0m\u001B[0;34m\u001B[0m\u001B[0m\n\u001B[1;32m   5289\u001B[0m         \u001B[0;32mreturn\u001B[0m \u001B[0mself\u001B[0m\u001B[0;34m.\u001B[0m\u001B[0mdelete\u001B[0m\u001B[0;34m(\u001B[0m\u001B[0mindexer\u001B[0m\u001B[0;34m)\u001B[0m\u001B[0;34m\u001B[0m\u001B[0;34m\u001B[0m\u001B[0m\n",
      "\u001B[0;31mKeyError\u001B[0m: \"['index'] not found in axis\""
     ]
    }
   ],
   "source": [
    "df_rh = df_rh.drop(columns=['index'], axis=1)"
   ],
   "metadata": {
    "collapsed": false,
    "pycharm": {
     "name": "#%%\n"
    }
   }
  },
  {
   "cell_type": "code",
   "execution_count": 53,
   "outputs": [],
   "source": [
    "df_rh = df_rh.drop(columns=[ 'lat', 'lng'], axis=1)"
   ],
   "metadata": {
    "collapsed": false,
    "pycharm": {
     "name": "#%%\n"
    }
   }
  },
  {
   "cell_type": "code",
   "execution_count": 54,
   "outputs": [
    {
     "data": {
      "text/plain": "   listing_id                  name             street         type  \\\n0     6998418              seascape       57 cove way   condominium   \n1     2046604             la maison  10 moulmein rise     apartment   \n2     7563513                  viva    2 suffolk walk   condominium   \n3     3071445       urban treasures   205 jalan eunos   condominium   \n4     9667539  infini at east coast    east coast road    apartment   \n\n   bathrooms  district          region     planning_area    subszone  \\\n0        4.0         4  central region  southern islands     sentosa   \n1        3.0        11  central region            novena    moulmein   \n2        3.0        11  central region            novena    moulmein   \n3        2.0        14     east region             bedok  kaki bukit   \n4        3.0        15     east region             bedok     frankel   \n\n   built_year  no_of_units  area_size date_listed      price  bedrooms  \\\n0      2011.0        151.0     2336.0  2021-05-04  5390000.0       3.0   \n1      1999.0         24.0     1259.0  2021-05-07  2310000.0       3.0   \n2      2012.0        235.0     1959.0  2021-06-30  5279500.0       4.0   \n3      1930.0        237.0      883.0  2022-01-02  1843600.0       3.0   \n4      2022.0         36.0     1066.0  2021-12-24  2262700.0       3.0   \n\n   tenure_remains  tenure_years  \n0              99            99  \n1         1000000           999  \n2         1000000           999  \n3         1000000           999  \n4         1000000           999  ",
      "text/html": "<div>\n<style scoped>\n    .dataframe tbody tr th:only-of-type {\n        vertical-align: middle;\n    }\n\n    .dataframe tbody tr th {\n        vertical-align: top;\n    }\n\n    .dataframe thead th {\n        text-align: right;\n    }\n</style>\n<table border=\"1\" class=\"dataframe\">\n  <thead>\n    <tr style=\"text-align: right;\">\n      <th></th>\n      <th>listing_id</th>\n      <th>name</th>\n      <th>street</th>\n      <th>type</th>\n      <th>bathrooms</th>\n      <th>district</th>\n      <th>region</th>\n      <th>planning_area</th>\n      <th>subszone</th>\n      <th>built_year</th>\n      <th>no_of_units</th>\n      <th>area_size</th>\n      <th>date_listed</th>\n      <th>price</th>\n      <th>bedrooms</th>\n      <th>tenure_remains</th>\n      <th>tenure_years</th>\n    </tr>\n  </thead>\n  <tbody>\n    <tr>\n      <th>0</th>\n      <td>6998418</td>\n      <td>seascape</td>\n      <td>57 cove way</td>\n      <td>condominium</td>\n      <td>4.0</td>\n      <td>4</td>\n      <td>central region</td>\n      <td>southern islands</td>\n      <td>sentosa</td>\n      <td>2011.0</td>\n      <td>151.0</td>\n      <td>2336.0</td>\n      <td>2021-05-04</td>\n      <td>5390000.0</td>\n      <td>3.0</td>\n      <td>99</td>\n      <td>99</td>\n    </tr>\n    <tr>\n      <th>1</th>\n      <td>2046604</td>\n      <td>la maison</td>\n      <td>10 moulmein rise</td>\n      <td>apartment</td>\n      <td>3.0</td>\n      <td>11</td>\n      <td>central region</td>\n      <td>novena</td>\n      <td>moulmein</td>\n      <td>1999.0</td>\n      <td>24.0</td>\n      <td>1259.0</td>\n      <td>2021-05-07</td>\n      <td>2310000.0</td>\n      <td>3.0</td>\n      <td>1000000</td>\n      <td>999</td>\n    </tr>\n    <tr>\n      <th>2</th>\n      <td>7563513</td>\n      <td>viva</td>\n      <td>2 suffolk walk</td>\n      <td>condominium</td>\n      <td>3.0</td>\n      <td>11</td>\n      <td>central region</td>\n      <td>novena</td>\n      <td>moulmein</td>\n      <td>2012.0</td>\n      <td>235.0</td>\n      <td>1959.0</td>\n      <td>2021-06-30</td>\n      <td>5279500.0</td>\n      <td>4.0</td>\n      <td>1000000</td>\n      <td>999</td>\n    </tr>\n    <tr>\n      <th>3</th>\n      <td>3071445</td>\n      <td>urban treasures</td>\n      <td>205 jalan eunos</td>\n      <td>condominium</td>\n      <td>2.0</td>\n      <td>14</td>\n      <td>east region</td>\n      <td>bedok</td>\n      <td>kaki bukit</td>\n      <td>1930.0</td>\n      <td>237.0</td>\n      <td>883.0</td>\n      <td>2022-01-02</td>\n      <td>1843600.0</td>\n      <td>3.0</td>\n      <td>1000000</td>\n      <td>999</td>\n    </tr>\n    <tr>\n      <th>4</th>\n      <td>9667539</td>\n      <td>infini at east coast</td>\n      <td>east coast road</td>\n      <td>apartment</td>\n      <td>3.0</td>\n      <td>15</td>\n      <td>east region</td>\n      <td>bedok</td>\n      <td>frankel</td>\n      <td>2022.0</td>\n      <td>36.0</td>\n      <td>1066.0</td>\n      <td>2021-12-24</td>\n      <td>2262700.0</td>\n      <td>3.0</td>\n      <td>1000000</td>\n      <td>999</td>\n    </tr>\n  </tbody>\n</table>\n</div>"
     },
     "execution_count": 54,
     "metadata": {},
     "output_type": "execute_result"
    }
   ],
   "source": [
    "df_rh.head()"
   ],
   "metadata": {
    "collapsed": false,
    "pycharm": {
     "name": "#%%\n"
    }
   }
  },
  {
   "cell_type": "code",
   "execution_count": 56,
   "outputs": [],
   "source": [
    "df_rh.to_csv('dataset/ziji_mar27.csv', index=False)"
   ],
   "metadata": {
    "collapsed": false,
    "pycharm": {
     "name": "#%%\n"
    }
   }
  },
  {
   "cell_type": "markdown",
   "source": [],
   "metadata": {
    "collapsed": false
   }
  }
 ],
 "metadata": {
  "kernelspec": {
   "display_name": "Python 3",
   "language": "python",
   "name": "python3"
  },
  "language_info": {
   "codemirror_mode": {
    "name": "ipython",
    "version": 2
   },
   "file_extension": ".py",
   "mimetype": "text/x-python",
   "name": "python",
   "nbconvert_exporter": "python",
   "pygments_lexer": "ipython2",
   "version": "2.7.6"
  }
 },
 "nbformat": 4,
 "nbformat_minor": 0
}