{
 "cells": [
  {
   "cell_type": "code",
   "execution_count": 1,
   "metadata": {
    "collapsed": true
   },
   "outputs": [],
   "source": [
    "import pandas as pd\n",
    "import numpy as np\n",
    "import csv\n",
    "\n",
    "#Visualization\n",
    "import matplotlib as mpl\n",
    "import matplotlib.pyplot as plt\n",
    "import matplotlib.pylab as pylab\n",
    "import seaborn as sns"
   ]
  },
  {
   "cell_type": "markdown",
   "source": [
    "## model, bedroom, bathrooms, no_of_units"
   ],
   "metadata": {
    "collapsed": false
   }
  },
  {
   "cell_type": "code",
   "execution_count": 2,
   "outputs": [],
   "source": [
    "train_data = pd.read_csv(\"dataset/train_ziji_feb27.csv\")"
   ],
   "metadata": {
    "collapsed": false,
    "pycharm": {
     "name": "#%%\n"
    }
   }
  },
  {
   "cell_type": "code",
   "execution_count": 3,
   "outputs": [
    {
     "name": "stdout",
     "output_type": "stream",
     "text": [
      "Stats for missing values:\n",
      "---------------\n",
      "Unnamed: 0:  0\n",
      "listing_id:  0\n",
      "name:  0\n",
      "street:  0\n",
      "type:  0\n",
      "model:  1277\n",
      "bedrooms:  397\n",
      "bathrooms:  1234\n",
      "district:  0\n",
      "region:  0\n",
      "planning_area:  0\n",
      "subszone:  0\n",
      "lat:  0\n",
      "lng:  0\n",
      "tenure:  285\n",
      "built_year:  2643\n",
      "no_of_units:  1038\n",
      "area_size:  0\n",
      "date_listed:  0\n",
      "price:  0\n"
     ]
    }
   ],
   "source": [
    "def check_missing_values(df):\n",
    "    print(\"Stats for missing values:\")\n",
    "    print(\"-\"*15)\n",
    "    for col in df:\n",
    "        print(f\"{col}: \", df[col].isna().sum())\n",
    "check_missing_values(train_data)"
   ],
   "metadata": {
    "collapsed": false,
    "pycharm": {
     "name": "#%%\n"
    }
   }
  },
  {
   "cell_type": "code",
   "execution_count": 4,
   "outputs": [],
   "source": [
    "missing_df = train_data.copy()"
   ],
   "metadata": {
    "collapsed": false,
    "pycharm": {
     "name": "#%%\n"
    }
   }
  },
  {
   "cell_type": "code",
   "execution_count": 5,
   "outputs": [
    {
     "data": {
      "text/plain": "apartment                                 13103\ncondominium                               10669\nexecutive condominium                       594\nwalk-up apt                                  48\ntownhouse                                    10\nwith pool                                     5\npenthouse                                     4\nhigh rise                                     3\nlow rise                                      3\nduplex                                        2\nsoho                                          1\nstrata terrace                                1\nshophouse                                     1\nresidential with commercial on level 1        1\nName: model, dtype: int64"
     },
     "execution_count": 5,
     "metadata": {},
     "output_type": "execute_result"
    }
   ],
   "source": [
    "missing_df.model.value_counts()"
   ],
   "metadata": {
    "collapsed": false,
    "pycharm": {
     "name": "#%%\n"
    }
   }
  },
  {
   "cell_type": "code",
   "execution_count": 6,
   "outputs": [
    {
     "data": {
      "text/plain": "3      7229\n2      7094\n1      4389\n4      3733\n5       806\n3+1     624\n2+1     528\n4+1     415\n1+1     349\n6        64\n5+1      60\n7         9\n3+2       8\n8         6\n4+2       6\n2+2       4\n9         1\nName: bedrooms, dtype: int64"
     },
     "execution_count": 6,
     "metadata": {},
     "output_type": "execute_result"
    }
   ],
   "source": [
    "missing_df.bedrooms.value_counts()"
   ],
   "metadata": {
    "collapsed": false,
    "pycharm": {
     "name": "#%%\n"
    }
   }
  },
  {
   "cell_type": "code",
   "execution_count": 17,
   "outputs": [
    {
     "data": {
      "text/plain": "array([ 4.,  3.,  2.,  1., nan,  5.,  6.,  7.,  8., 10.])"
     },
     "execution_count": 17,
     "metadata": {},
     "output_type": "execute_result"
    }
   ],
   "source": [
    "missing_df.bathrooms.unique()"
   ],
   "metadata": {
    "collapsed": false,
    "pycharm": {
     "name": "#%%\n"
    }
   }
  },
  {
   "cell_type": "code",
   "execution_count": 16,
   "outputs": [
    {
     "data": {
      "text/plain": "1042.0    651\n1862.0    453\n1129.0    389\n696.0     316\n660.0     260\n         ... \n83.0        1\n269.0       1\n497.0       1\n477.0       1\n372.0       1\nName: no_of_units, Length: 526, dtype: int64"
     },
     "execution_count": 16,
     "metadata": {},
     "output_type": "execute_result"
    }
   ],
   "source": [
    "missing_df.no_of_units.value_counts()"
   ],
   "metadata": {
    "collapsed": false,
    "pycharm": {
     "name": "#%%\n"
    }
   }
  },
  {
   "cell_type": "code",
   "execution_count": 9,
   "outputs": [
    {
     "name": "stdout",
     "output_type": "stream",
     "text": [
      "<class 'pandas.core.frame.DataFrame'>\n",
      "RangeIndex: 25722 entries, 0 to 25721\n",
      "Data columns (total 20 columns):\n",
      " #   Column         Non-Null Count  Dtype  \n",
      "---  ------         --------------  -----  \n",
      " 0   Unnamed: 0     25722 non-null  int64  \n",
      " 1   listing_id     25722 non-null  int64  \n",
      " 2   name           25722 non-null  object \n",
      " 3   street         25722 non-null  object \n",
      " 4   type           25722 non-null  object \n",
      " 5   model          24445 non-null  object \n",
      " 6   bedrooms       25325 non-null  object \n",
      " 7   bathrooms      24488 non-null  float64\n",
      " 8   district       25722 non-null  int64  \n",
      " 9   region         25722 non-null  object \n",
      " 10  planning_area  25722 non-null  object \n",
      " 11  subszone       25722 non-null  object \n",
      " 12  lat            25722 non-null  float64\n",
      " 13  lng            25722 non-null  float64\n",
      " 14  tenure         25437 non-null  object \n",
      " 15  built_year     23079 non-null  float64\n",
      " 16  no_of_units    24684 non-null  float64\n",
      " 17  area_size      25722 non-null  float64\n",
      " 18  date_listed    25722 non-null  object \n",
      " 19  price          25722 non-null  float64\n",
      "dtypes: float64(7), int64(3), object(10)\n",
      "memory usage: 3.9+ MB\n"
     ]
    }
   ],
   "source": [
    "missing_df.info()"
   ],
   "metadata": {
    "collapsed": false,
    "pycharm": {
     "name": "#%%\n"
    }
   }
  },
  {
   "cell_type": "markdown",
   "source": [
    "iterate each row\n",
    "fill up by find matching"
   ],
   "metadata": {
    "collapsed": false
   }
  },
  {
   "cell_type": "code",
   "execution_count": null,
   "outputs": [],
   "source": [],
   "metadata": {
    "collapsed": false,
    "pycharm": {
     "name": "#%%\n"
    }
   }
  }
 ],
 "metadata": {
  "kernelspec": {
   "display_name": "Python 3",
   "language": "python",
   "name": "python3"
  },
  "language_info": {
   "codemirror_mode": {
    "name": "ipython",
    "version": 2
   },
   "file_extension": ".py",
   "mimetype": "text/x-python",
   "name": "python",
   "nbconvert_exporter": "python",
   "pygments_lexer": "ipython2",
   "version": "2.7.6"
  }
 },
 "nbformat": 4,
 "nbformat_minor": 0
}