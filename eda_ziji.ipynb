{
 "cells": [
  {
   "cell_type": "code",
   "execution_count": 1,
   "outputs": [],
   "source": [
    "#Common Model Algorithms\n",
    "from sklearn import svm, tree, linear_model, neighbors, naive_bayes, ensemble, discriminant_analysis, gaussian_process\n",
    "from xgboost import XGBClassifier\n",
    "\n",
    "#Common Model Helpers\n",
    "from sklearn.preprocessing import OneHotEncoder, LabelEncoder\n",
    "from sklearn import feature_selection\n",
    "from sklearn import model_selection\n",
    "from sklearn import metrics\n",
    "\n",
    "import pandas as pd\n",
    "import csv\n",
    "\n",
    "#Visualization\n",
    "import matplotlib as mpl\n",
    "import matplotlib.pyplot as plt\n",
    "import matplotlib.pylab as pylab\n",
    "import seaborn as sns\n",
    "from pandas.plotting import scatter_matrix\n",
    "\n",
    "#Configure Visualization Defaults\n",
    "#%matplotlib inline = show plots in Jupyter Notebook browser\n",
    "%matplotlib inline\n",
    "mpl.style.use('ggplot')\n",
    "sns.set_style('white')\n",
    "pylab.rcParams['figure.figsize'] = 12,8"
   ],
   "metadata": {
    "collapsed": false,
    "pycharm": {
     "name": "#%%\n"
    }
   }
  },
  {
   "cell_type": "code",
   "execution_count": 2,
   "outputs": [
    {
     "name": "stdout",
     "output_type": "stream",
     "text": [
      "<class 'pandas.core.frame.DataFrame'>\n",
      "RangeIndex: 26048 entries, 0 to 26047\n",
      "Data columns (total 23 columns):\n",
      " #   Column          Non-Null Count  Dtype  \n",
      "---  ------          --------------  -----  \n",
      " 0   listing_id      26048 non-null  int64  \n",
      " 1   name            26048 non-null  object \n",
      " 2   street          26048 non-null  object \n",
      " 3   type            26048 non-null  object \n",
      " 4   model           24768 non-null  object \n",
      " 5   market_segment  26048 non-null  object \n",
      " 6   type_of_area    26048 non-null  object \n",
      " 7   bedrooms        25644 non-null  object \n",
      " 8   bathrooms       24812 non-null  float64\n",
      " 9   district        26048 non-null  int64  \n",
      " 10  region          26048 non-null  object \n",
      " 11  planning_area   26048 non-null  object \n",
      " 12  subszone        26048 non-null  object \n",
      " 13  lat             26048 non-null  float64\n",
      " 14  lng             26048 non-null  float64\n",
      " 15  tenure          25761 non-null  object \n",
      " 16  built_year      16005 non-null  float64\n",
      " 17  no_of_units     25006 non-null  float64\n",
      " 18  area_size       26046 non-null  float64\n",
      " 19  eco_category    26048 non-null  object \n",
      " 20  accessibility   26048 non-null  object \n",
      " 21  date_listed     26048 non-null  object \n",
      " 22  price           26048 non-null  float64\n",
      "dtypes: float64(7), int64(2), object(14)\n",
      "memory usage: 4.6+ MB\n",
      "None\n"
     ]
    }
   ],
   "source": [
    "train_raw = pd.read_csv(\"dataset/train.csv\")\n",
    "\n",
    "test_raw  = pd.read_csv('dataset/test.csv')\n",
    "\n",
    "\n",
    "#to play with our data we'll create a copy\n",
    "#remember python assignment or equal passes by reference vs values, so we use the copy function: https://stackoverflow.com/questions/46327494/python-pandas-dataframe-copydeep-false-vs-copydeep-true-vs\n",
    "train_data = train_raw.copy(deep = True)\n",
    "\n",
    "#preview data\n",
    "print (train_data.info())"
   ],
   "metadata": {
    "collapsed": false,
    "pycharm": {
     "name": "#%%\n"
    }
   }
  },
  {
   "cell_type": "code",
   "execution_count": 3,
   "outputs": [
    {
     "name": "stdout",
     "output_type": "stream",
     "text": [
      "Stats for missing values:\n",
      "---------------\n",
      "listing_id:  0\n",
      "name:  0\n",
      "street:  0\n",
      "type:  0\n",
      "model:  1280\n",
      "market_segment:  0\n",
      "type_of_area:  0\n",
      "bedrooms:  404\n",
      "bathrooms:  1236\n",
      "district:  0\n",
      "region:  0\n",
      "planning_area:  0\n",
      "subszone:  0\n",
      "lat:  0\n",
      "lng:  0\n",
      "tenure:  287\n",
      "built_year:  10043\n",
      "no_of_units:  1042\n",
      "area_size:  2\n",
      "eco_category:  0\n",
      "accessibility:  0\n",
      "date_listed:  0\n",
      "price:  0\n",
      "Stats for missing values:\n",
      "---------------\n",
      "listing_id:  0\n",
      "name:  0\n",
      "street:  0\n",
      "type:  0\n",
      "model:  388\n",
      "market_segment:  0\n",
      "type_of_area:  0\n",
      "bedrooms:  118\n",
      "bathrooms:  337\n",
      "district:  0\n",
      "region:  0\n",
      "planning_area:  0\n",
      "subszone:  0\n",
      "lat:  0\n",
      "lng:  0\n",
      "tenure:  85\n",
      "built_year:  2875\n",
      "no_of_units:  326\n",
      "area_size:  0\n",
      "eco_category:  0\n",
      "accessibility:  0\n",
      "date_listed:  0\n"
     ]
    }
   ],
   "source": [
    "def check_missing_values(df):\n",
    "    print(\"Stats for missing values:\")\n",
    "    print(\"-\"*15)\n",
    "    for col in df:\n",
    "        print(f\"{col}: \", df[col].isna().sum())\n",
    "check_missing_values(train_data)\n",
    "check_missing_values(test_raw)"
   ],
   "metadata": {
    "collapsed": false,
    "pycharm": {
     "name": "#%%\n"
    }
   }
  },
  {
   "cell_type": "markdown",
   "source": [
    "Training set missing values counts:\n",
    "model, bedrooms, bathrooms, tenure, built_year**, no_of_units, area_size\n",
    "\n",
    "Testing set missing values:\n",
    "model, bedrooms, bathrooms, tenure, built_year, no_of_units"
   ],
   "metadata": {
    "collapsed": false
   }
  },
  {
   "cell_type": "code",
   "execution_count": 4,
   "outputs": [
    {
     "data": {
      "text/plain": "          listing_id                   name          street       type  \\\ncount   2.604800e+04                  26048           26048      26048   \nunique           NaN                   1650            3442          2   \ntop              NaN  marina one residences  23 marina way   apartment   \nfreq             NaN                    668             274      13958   \nmean    5.495573e+06                    NaN             NaN        NaN   \nstd     2.608064e+06                    NaN             NaN        NaN   \nmin     1.000122e+06                    NaN             NaN        NaN   \n25%     3.229224e+06                    NaN             NaN        NaN   \n50%     5.486808e+06                    NaN             NaN        NaN   \n75%     7.764926e+06                    NaN             NaN        NaN   \nmax     9.999807e+06                    NaN             NaN        NaN   \n\n            model market_segment type_of_area bedrooms     bathrooms  \\\ncount       24768          26048        26048    25644  24812.000000   \nunique         14              1            1       17           NaN   \ntop     apartment            ocr       strata        3           NaN   \nfreq        13306          26048        26048     7306           NaN   \nmean          NaN            NaN          NaN      NaN      2.278091   \nstd           NaN            NaN          NaN      NaN      1.147204   \nmin           NaN            NaN          NaN      NaN      1.000000   \n25%           NaN            NaN          NaN      NaN      1.000000   \n50%           NaN            NaN          NaN      NaN      2.000000   \n75%           NaN            NaN          NaN      NaN      3.000000   \nmax           NaN            NaN          NaN      NaN     10.000000   \n\n            district  ...           lat           lng              tenure  \\\ncount   26048.000000  ...  26048.000000  26048.000000               25761   \nunique           NaN  ...           NaN           NaN                  53   \ntop              NaN  ...           NaN           NaN  leasehold/99 years   \nfreq             NaN  ...           NaN           NaN               15300   \nmean       12.211609  ...      1.321145    103.846138                 NaN   \nstd         7.020134  ...      0.038569      0.049865                 NaN   \nmin         1.000000  ...      1.239337    103.696215                 NaN   \n25%         7.000000  ...      1.296472    103.820262                 NaN   \n50%        11.000000  ...      1.313384    103.843081                 NaN   \n75%        18.000000  ...      1.341210    103.879673                 NaN   \nmax        28.000000  ...      1.456436    103.976016                 NaN   \n\n          built_year   no_of_units     area_size   eco_category  \\\ncount   16005.000000  25006.000000  26046.000000          26048   \nunique           NaN           NaN           NaN              1   \ntop              NaN           NaN           NaN  uncategorized   \nfreq             NaN           NaN           NaN          26048   \nmean     2010.926398    462.350636   1248.902096            NaN   \nstd        11.915875    423.476259   1066.102020            NaN   \nmin      1799.000000      1.000000    226.000000            NaN   \n25%      2010.000000    130.000000    678.000000            NaN   \n50%      2014.000000    366.000000    958.000000            NaN   \n75%      2016.000000    646.000000   1356.000000            NaN   \nmax      2021.000000   2203.000000  15000.000000            NaN   \n\n        accessibility  date_listed         price  \ncount           26048        26048  2.604800e+04  \nunique              1          359           NaN  \ntop           guarded   2021-10-12           NaN  \nfreq            26048         1728           NaN  \nmean              NaN          NaN  2.994669e+06  \nstd               NaN          NaN  4.324294e+06  \nmin               NaN          NaN  5.566000e+05  \n25%               NaN          NaN  1.331000e+06  \n50%               NaN          NaN  1.851800e+06  \n75%               NaN          NaN  2.948000e+06  \nmax               NaN          NaN  7.480000e+07  \n\n[11 rows x 23 columns]",
      "text/html": "<div>\n<style scoped>\n    .dataframe tbody tr th:only-of-type {\n        vertical-align: middle;\n    }\n\n    .dataframe tbody tr th {\n        vertical-align: top;\n    }\n\n    .dataframe thead th {\n        text-align: right;\n    }\n</style>\n<table border=\"1\" class=\"dataframe\">\n  <thead>\n    <tr style=\"text-align: right;\">\n      <th></th>\n      <th>listing_id</th>\n      <th>name</th>\n      <th>street</th>\n      <th>type</th>\n      <th>model</th>\n      <th>market_segment</th>\n      <th>type_of_area</th>\n      <th>bedrooms</th>\n      <th>bathrooms</th>\n      <th>district</th>\n      <th>...</th>\n      <th>lat</th>\n      <th>lng</th>\n      <th>tenure</th>\n      <th>built_year</th>\n      <th>no_of_units</th>\n      <th>area_size</th>\n      <th>eco_category</th>\n      <th>accessibility</th>\n      <th>date_listed</th>\n      <th>price</th>\n    </tr>\n  </thead>\n  <tbody>\n    <tr>\n      <th>count</th>\n      <td>2.604800e+04</td>\n      <td>26048</td>\n      <td>26048</td>\n      <td>26048</td>\n      <td>24768</td>\n      <td>26048</td>\n      <td>26048</td>\n      <td>25644</td>\n      <td>24812.000000</td>\n      <td>26048.000000</td>\n      <td>...</td>\n      <td>26048.000000</td>\n      <td>26048.000000</td>\n      <td>25761</td>\n      <td>16005.000000</td>\n      <td>25006.000000</td>\n      <td>26046.000000</td>\n      <td>26048</td>\n      <td>26048</td>\n      <td>26048</td>\n      <td>2.604800e+04</td>\n    </tr>\n    <tr>\n      <th>unique</th>\n      <td>NaN</td>\n      <td>1650</td>\n      <td>3442</td>\n      <td>2</td>\n      <td>14</td>\n      <td>1</td>\n      <td>1</td>\n      <td>17</td>\n      <td>NaN</td>\n      <td>NaN</td>\n      <td>...</td>\n      <td>NaN</td>\n      <td>NaN</td>\n      <td>53</td>\n      <td>NaN</td>\n      <td>NaN</td>\n      <td>NaN</td>\n      <td>1</td>\n      <td>1</td>\n      <td>359</td>\n      <td>NaN</td>\n    </tr>\n    <tr>\n      <th>top</th>\n      <td>NaN</td>\n      <td>marina one residences</td>\n      <td>23 marina way</td>\n      <td>apartment</td>\n      <td>apartment</td>\n      <td>ocr</td>\n      <td>strata</td>\n      <td>3</td>\n      <td>NaN</td>\n      <td>NaN</td>\n      <td>...</td>\n      <td>NaN</td>\n      <td>NaN</td>\n      <td>leasehold/99 years</td>\n      <td>NaN</td>\n      <td>NaN</td>\n      <td>NaN</td>\n      <td>uncategorized</td>\n      <td>guarded</td>\n      <td>2021-10-12</td>\n      <td>NaN</td>\n    </tr>\n    <tr>\n      <th>freq</th>\n      <td>NaN</td>\n      <td>668</td>\n      <td>274</td>\n      <td>13958</td>\n      <td>13306</td>\n      <td>26048</td>\n      <td>26048</td>\n      <td>7306</td>\n      <td>NaN</td>\n      <td>NaN</td>\n      <td>...</td>\n      <td>NaN</td>\n      <td>NaN</td>\n      <td>15300</td>\n      <td>NaN</td>\n      <td>NaN</td>\n      <td>NaN</td>\n      <td>26048</td>\n      <td>26048</td>\n      <td>1728</td>\n      <td>NaN</td>\n    </tr>\n    <tr>\n      <th>mean</th>\n      <td>5.495573e+06</td>\n      <td>NaN</td>\n      <td>NaN</td>\n      <td>NaN</td>\n      <td>NaN</td>\n      <td>NaN</td>\n      <td>NaN</td>\n      <td>NaN</td>\n      <td>2.278091</td>\n      <td>12.211609</td>\n      <td>...</td>\n      <td>1.321145</td>\n      <td>103.846138</td>\n      <td>NaN</td>\n      <td>2010.926398</td>\n      <td>462.350636</td>\n      <td>1248.902096</td>\n      <td>NaN</td>\n      <td>NaN</td>\n      <td>NaN</td>\n      <td>2.994669e+06</td>\n    </tr>\n    <tr>\n      <th>std</th>\n      <td>2.608064e+06</td>\n      <td>NaN</td>\n      <td>NaN</td>\n      <td>NaN</td>\n      <td>NaN</td>\n      <td>NaN</td>\n      <td>NaN</td>\n      <td>NaN</td>\n      <td>1.147204</td>\n      <td>7.020134</td>\n      <td>...</td>\n      <td>0.038569</td>\n      <td>0.049865</td>\n      <td>NaN</td>\n      <td>11.915875</td>\n      <td>423.476259</td>\n      <td>1066.102020</td>\n      <td>NaN</td>\n      <td>NaN</td>\n      <td>NaN</td>\n      <td>4.324294e+06</td>\n    </tr>\n    <tr>\n      <th>min</th>\n      <td>1.000122e+06</td>\n      <td>NaN</td>\n      <td>NaN</td>\n      <td>NaN</td>\n      <td>NaN</td>\n      <td>NaN</td>\n      <td>NaN</td>\n      <td>NaN</td>\n      <td>1.000000</td>\n      <td>1.000000</td>\n      <td>...</td>\n      <td>1.239337</td>\n      <td>103.696215</td>\n      <td>NaN</td>\n      <td>1799.000000</td>\n      <td>1.000000</td>\n      <td>226.000000</td>\n      <td>NaN</td>\n      <td>NaN</td>\n      <td>NaN</td>\n      <td>5.566000e+05</td>\n    </tr>\n    <tr>\n      <th>25%</th>\n      <td>3.229224e+06</td>\n      <td>NaN</td>\n      <td>NaN</td>\n      <td>NaN</td>\n      <td>NaN</td>\n      <td>NaN</td>\n      <td>NaN</td>\n      <td>NaN</td>\n      <td>1.000000</td>\n      <td>7.000000</td>\n      <td>...</td>\n      <td>1.296472</td>\n      <td>103.820262</td>\n      <td>NaN</td>\n      <td>2010.000000</td>\n      <td>130.000000</td>\n      <td>678.000000</td>\n      <td>NaN</td>\n      <td>NaN</td>\n      <td>NaN</td>\n      <td>1.331000e+06</td>\n    </tr>\n    <tr>\n      <th>50%</th>\n      <td>5.486808e+06</td>\n      <td>NaN</td>\n      <td>NaN</td>\n      <td>NaN</td>\n      <td>NaN</td>\n      <td>NaN</td>\n      <td>NaN</td>\n      <td>NaN</td>\n      <td>2.000000</td>\n      <td>11.000000</td>\n      <td>...</td>\n      <td>1.313384</td>\n      <td>103.843081</td>\n      <td>NaN</td>\n      <td>2014.000000</td>\n      <td>366.000000</td>\n      <td>958.000000</td>\n      <td>NaN</td>\n      <td>NaN</td>\n      <td>NaN</td>\n      <td>1.851800e+06</td>\n    </tr>\n    <tr>\n      <th>75%</th>\n      <td>7.764926e+06</td>\n      <td>NaN</td>\n      <td>NaN</td>\n      <td>NaN</td>\n      <td>NaN</td>\n      <td>NaN</td>\n      <td>NaN</td>\n      <td>NaN</td>\n      <td>3.000000</td>\n      <td>18.000000</td>\n      <td>...</td>\n      <td>1.341210</td>\n      <td>103.879673</td>\n      <td>NaN</td>\n      <td>2016.000000</td>\n      <td>646.000000</td>\n      <td>1356.000000</td>\n      <td>NaN</td>\n      <td>NaN</td>\n      <td>NaN</td>\n      <td>2.948000e+06</td>\n    </tr>\n    <tr>\n      <th>max</th>\n      <td>9.999807e+06</td>\n      <td>NaN</td>\n      <td>NaN</td>\n      <td>NaN</td>\n      <td>NaN</td>\n      <td>NaN</td>\n      <td>NaN</td>\n      <td>NaN</td>\n      <td>10.000000</td>\n      <td>28.000000</td>\n      <td>...</td>\n      <td>1.456436</td>\n      <td>103.976016</td>\n      <td>NaN</td>\n      <td>2021.000000</td>\n      <td>2203.000000</td>\n      <td>15000.000000</td>\n      <td>NaN</td>\n      <td>NaN</td>\n      <td>NaN</td>\n      <td>7.480000e+07</td>\n    </tr>\n  </tbody>\n</table>\n<p>11 rows × 23 columns</p>\n</div>"
     },
     "execution_count": 4,
     "metadata": {},
     "output_type": "execute_result"
    }
   ],
   "source": [
    "train_data.describe(include = 'all')"
   ],
   "metadata": {
    "collapsed": false,
    "pycharm": {
     "name": "#%%\n"
    }
   }
  },
  {
   "cell_type": "markdown",
   "source": [
    "# 1. De-duplication"
   ],
   "metadata": {
    "collapsed": false
   }
  },
  {
   "cell_type": "code",
   "execution_count": 5,
   "outputs": [
    {
     "data": {
      "text/plain": "listing_id        26048\nname               1650\nstreet             3442\ntype                  2\nmodel                14\nmarket_segment        1\ntype_of_area          1\nbedrooms             17\nbathrooms             9\ndistrict             27\nregion                5\nplanning_area        38\nsubszone            193\nlat                3118\nlng                3118\ntenure               53\nbuilt_year           60\nno_of_units         526\narea_size          1178\neco_category          1\naccessibility         1\ndate_listed         359\nprice              4704\ndtype: int64"
     },
     "execution_count": 5,
     "metadata": {},
     "output_type": "execute_result"
    }
   ],
   "source": [
    "train_data.nunique()"
   ],
   "metadata": {
    "collapsed": false,
    "pycharm": {
     "name": "#%%\n"
    }
   }
  },
  {
   "cell_type": "markdown",
   "source": [
    "## 1.1 Drop unnecessary columns"
   ],
   "metadata": {
    "collapsed": false
   }
  },
  {
   "cell_type": "markdown",
   "source": [
    "Since the duplicated values are the same across train and test datasets, we can safely discard them."
   ],
   "metadata": {
    "collapsed": false
   }
  },
  {
   "cell_type": "code",
   "execution_count": 7,
   "outputs": [
    {
     "data": {
      "text/plain": "   listing_id                  name             street         type  \\\n0     6998418              seascape       57 cove way   condominium   \n1     2046604             la maison  10 moulmein rise     apartment   \n2     7563513                  viva    2 suffolk walk   condominium   \n3     3071445       urban treasures   205 jalan eunos   condominium   \n4     9667539  infini at east coast    east coast road    apartment   \n\n         model bedrooms  bathrooms  district          region  \\\n0  condominium        3        4.0         4  central region   \n1    apartment        3        3.0        11  central region   \n2  condominium        4        3.0        11  central region   \n3  condominium        3        2.0        14     east region   \n4    apartment        3        3.0        15     east region   \n\n      planning_area    subszone       lat         lng              tenure  \\\n0  southern islands     sentosa  1.239337  103.837487  leasehold/99 years   \n1            novena    moulmein  1.319533  103.847030            freehold   \n2            novena    moulmein  1.315656  103.844445            freehold   \n3             bedok  kaki bukit  1.329367  103.905791            freehold   \n4             bedok     frankel  1.309176  103.911352            freehold   \n\n   built_year  no_of_units  area_size date_listed      price  \n0      2011.0        151.0     2336.0  2021-05-04  5390000.0  \n1      1999.0         24.0     1259.0  2021-05-07  2310000.0  \n2      2012.0        235.0     1959.0  2021-06-30  5279500.0  \n3         NaN        237.0      883.0  2022-01-02  1843600.0  \n4         NaN         36.0     1066.0  2021-12-24  2262700.0  ",
      "text/html": "<div>\n<style scoped>\n    .dataframe tbody tr th:only-of-type {\n        vertical-align: middle;\n    }\n\n    .dataframe tbody tr th {\n        vertical-align: top;\n    }\n\n    .dataframe thead th {\n        text-align: right;\n    }\n</style>\n<table border=\"1\" class=\"dataframe\">\n  <thead>\n    <tr style=\"text-align: right;\">\n      <th></th>\n      <th>listing_id</th>\n      <th>name</th>\n      <th>street</th>\n      <th>type</th>\n      <th>model</th>\n      <th>bedrooms</th>\n      <th>bathrooms</th>\n      <th>district</th>\n      <th>region</th>\n      <th>planning_area</th>\n      <th>subszone</th>\n      <th>lat</th>\n      <th>lng</th>\n      <th>tenure</th>\n      <th>built_year</th>\n      <th>no_of_units</th>\n      <th>area_size</th>\n      <th>date_listed</th>\n      <th>price</th>\n    </tr>\n  </thead>\n  <tbody>\n    <tr>\n      <th>0</th>\n      <td>6998418</td>\n      <td>seascape</td>\n      <td>57 cove way</td>\n      <td>condominium</td>\n      <td>condominium</td>\n      <td>3</td>\n      <td>4.0</td>\n      <td>4</td>\n      <td>central region</td>\n      <td>southern islands</td>\n      <td>sentosa</td>\n      <td>1.239337</td>\n      <td>103.837487</td>\n      <td>leasehold/99 years</td>\n      <td>2011.0</td>\n      <td>151.0</td>\n      <td>2336.0</td>\n      <td>2021-05-04</td>\n      <td>5390000.0</td>\n    </tr>\n    <tr>\n      <th>1</th>\n      <td>2046604</td>\n      <td>la maison</td>\n      <td>10 moulmein rise</td>\n      <td>apartment</td>\n      <td>apartment</td>\n      <td>3</td>\n      <td>3.0</td>\n      <td>11</td>\n      <td>central region</td>\n      <td>novena</td>\n      <td>moulmein</td>\n      <td>1.319533</td>\n      <td>103.847030</td>\n      <td>freehold</td>\n      <td>1999.0</td>\n      <td>24.0</td>\n      <td>1259.0</td>\n      <td>2021-05-07</td>\n      <td>2310000.0</td>\n    </tr>\n    <tr>\n      <th>2</th>\n      <td>7563513</td>\n      <td>viva</td>\n      <td>2 suffolk walk</td>\n      <td>condominium</td>\n      <td>condominium</td>\n      <td>4</td>\n      <td>3.0</td>\n      <td>11</td>\n      <td>central region</td>\n      <td>novena</td>\n      <td>moulmein</td>\n      <td>1.315656</td>\n      <td>103.844445</td>\n      <td>freehold</td>\n      <td>2012.0</td>\n      <td>235.0</td>\n      <td>1959.0</td>\n      <td>2021-06-30</td>\n      <td>5279500.0</td>\n    </tr>\n    <tr>\n      <th>3</th>\n      <td>3071445</td>\n      <td>urban treasures</td>\n      <td>205 jalan eunos</td>\n      <td>condominium</td>\n      <td>condominium</td>\n      <td>3</td>\n      <td>2.0</td>\n      <td>14</td>\n      <td>east region</td>\n      <td>bedok</td>\n      <td>kaki bukit</td>\n      <td>1.329367</td>\n      <td>103.905791</td>\n      <td>freehold</td>\n      <td>NaN</td>\n      <td>237.0</td>\n      <td>883.0</td>\n      <td>2022-01-02</td>\n      <td>1843600.0</td>\n    </tr>\n    <tr>\n      <th>4</th>\n      <td>9667539</td>\n      <td>infini at east coast</td>\n      <td>east coast road</td>\n      <td>apartment</td>\n      <td>apartment</td>\n      <td>3</td>\n      <td>3.0</td>\n      <td>15</td>\n      <td>east region</td>\n      <td>bedok</td>\n      <td>frankel</td>\n      <td>1.309176</td>\n      <td>103.911352</td>\n      <td>freehold</td>\n      <td>NaN</td>\n      <td>36.0</td>\n      <td>1066.0</td>\n      <td>2021-12-24</td>\n      <td>2262700.0</td>\n    </tr>\n  </tbody>\n</table>\n</div>"
     },
     "execution_count": 7,
     "metadata": {},
     "output_type": "execute_result"
    }
   ],
   "source": [
    "train_data.drop(columns=[\"market_segment\", \"type_of_area\", \"eco_category\", \"accessibility\"], inplace=True)\n",
    "train_data.head()"
   ],
   "metadata": {
    "collapsed": false,
    "pycharm": {
     "name": "#%%\n"
    }
   }
  },
  {
   "cell_type": "markdown",
   "source": [
    "## 1.2 Drop duplicate rows\n",
    "Although it may seem that this contains no duplicates (all listing id are unique), we need to check whether their attributes are the same too.\n",
    "\n",
    "An assumption made here is that:\n",
    "* if all attributes (except listing_id) are the same, they are duplicate records\n",
    "* if prices are different, they are unique records\n",
    "\n",
    "Reason for removing 1) records:\n",
    "* it may affect our metrics, making us believe that our models are performing well\n",
    "* it is very unlikely for 1) to be unique records, thus they do not come from a real distribution"
   ],
   "metadata": {
    "collapsed": false
   }
  },
  {
   "cell_type": "code",
   "execution_count": 8,
   "outputs": [
    {
     "data": {
      "text/plain": "1098"
     },
     "execution_count": 8,
     "metadata": {},
     "output_type": "execute_result"
    }
   ],
   "source": [
    "train_data.drop(columns=[\"listing_id\", \"price\"]).duplicated().sum()"
   ],
   "metadata": {
    "collapsed": false,
    "pycharm": {
     "name": "#%%\n"
    }
   }
  },
  {
   "cell_type": "code",
   "execution_count": 9,
   "outputs": [
    {
     "data": {
      "text/plain": "326"
     },
     "execution_count": 9,
     "metadata": {},
     "output_type": "execute_result"
    }
   ],
   "source": [
    "# count records with duplicated everything\n",
    "train_data.drop(columns=[\"listing_id\"]).duplicated().sum()"
   ],
   "metadata": {
    "collapsed": false,
    "pycharm": {
     "name": "#%%\n"
    }
   }
  },
  {
   "cell_type": "code",
   "execution_count": 10,
   "outputs": [
    {
     "name": "stdout",
     "output_type": "stream",
     "text": [
      "<class 'pandas.core.frame.DataFrame'>\n",
      "RangeIndex: 26048 entries, 0 to 26047\n",
      "Data columns (total 19 columns):\n",
      " #   Column         Non-Null Count  Dtype  \n",
      "---  ------         --------------  -----  \n",
      " 0   listing_id     26048 non-null  int64  \n",
      " 1   name           26048 non-null  object \n",
      " 2   street         26048 non-null  object \n",
      " 3   type           26048 non-null  object \n",
      " 4   model          24768 non-null  object \n",
      " 5   bedrooms       25644 non-null  object \n",
      " 6   bathrooms      24812 non-null  float64\n",
      " 7   district       26048 non-null  int64  \n",
      " 8   region         26048 non-null  object \n",
      " 9   planning_area  26048 non-null  object \n",
      " 10  subszone       26048 non-null  object \n",
      " 11  lat            26048 non-null  float64\n",
      " 12  lng            26048 non-null  float64\n",
      " 13  tenure         25761 non-null  object \n",
      " 14  built_year     16005 non-null  float64\n",
      " 15  no_of_units    25006 non-null  float64\n",
      " 16  area_size      26046 non-null  float64\n",
      " 17  date_listed    26048 non-null  object \n",
      " 18  price          26048 non-null  float64\n",
      "dtypes: float64(7), int64(2), object(10)\n",
      "memory usage: 3.8+ MB\n"
     ]
    }
   ],
   "source": [
    "train_data.info()"
   ],
   "metadata": {
    "collapsed": false,
    "pycharm": {
     "name": "#%%\n"
    }
   }
  },
  {
   "cell_type": "code",
   "execution_count": 11,
   "outputs": [],
   "source": [
    "def drop_complete_duplicates(df):\n",
    "    attribute_columns = ['name', 'street', 'type', 'model', 'bedrooms', 'bathrooms', 'district',\n",
    "       'region', 'planning_area', 'subszone', 'lat', 'lng', 'tenure',\n",
    "       'built_year', 'no_of_units', 'area_size', 'date_listed', 'price']\n",
    "    return df.drop_duplicates(subset=attribute_columns)\n",
    "train_data = drop_complete_duplicates(train_data)"
   ],
   "metadata": {
    "collapsed": false,
    "pycharm": {
     "name": "#%%\n"
    }
   }
  },
  {
   "cell_type": "code",
   "execution_count": 12,
   "outputs": [
    {
     "data": {
      "text/plain": "Index(['listing_id', 'name', 'street', 'type', 'model', 'bedrooms',\n       'bathrooms', 'district', 'region', 'planning_area', 'subszone', 'lat',\n       'lng', 'tenure', 'built_year', 'no_of_units', 'area_size',\n       'date_listed', 'price'],\n      dtype='object')"
     },
     "execution_count": 12,
     "metadata": {},
     "output_type": "execute_result"
    }
   ],
   "source": [
    "train_data.columns"
   ],
   "metadata": {
    "collapsed": false,
    "pycharm": {
     "name": "#%%\n"
    }
   }
  },
  {
   "cell_type": "code",
   "execution_count": 13,
   "outputs": [
    {
     "data": {
      "text/plain": "(25722, 19)"
     },
     "execution_count": 13,
     "metadata": {},
     "output_type": "execute_result"
    }
   ],
   "source": [
    "train_data.shape"
   ],
   "metadata": {
    "collapsed": false,
    "pycharm": {
     "name": "#%%\n"
    }
   }
  },
  {
   "cell_type": "markdown",
   "source": [
    "# 2. Make up missing values"
   ],
   "metadata": {
    "collapsed": false
   }
  },
  {
   "cell_type": "markdown",
   "source": [
    "## 2.0 convert to their suitable datatypes"
   ],
   "metadata": {
    "collapsed": false
   }
  },
  {
   "cell_type": "code",
   "execution_count": 14,
   "outputs": [
    {
     "name": "stdout",
     "output_type": "stream",
     "text": [
      "<class 'pandas.core.frame.DataFrame'>\n",
      "Int64Index: 25722 entries, 0 to 26047\n",
      "Data columns (total 19 columns):\n",
      " #   Column         Non-Null Count  Dtype  \n",
      "---  ------         --------------  -----  \n",
      " 0   listing_id     25722 non-null  int64  \n",
      " 1   name           25722 non-null  object \n",
      " 2   street         25722 non-null  object \n",
      " 3   type           25722 non-null  object \n",
      " 4   model          24445 non-null  object \n",
      " 5   bedrooms       25325 non-null  object \n",
      " 6   bathrooms      24488 non-null  float64\n",
      " 7   district       25722 non-null  int64  \n",
      " 8   region         25722 non-null  object \n",
      " 9   planning_area  25722 non-null  object \n",
      " 10  subszone       25722 non-null  object \n",
      " 11  lat            25722 non-null  float64\n",
      " 12  lng            25722 non-null  float64\n",
      " 13  tenure         25437 non-null  object \n",
      " 14  built_year     15794 non-null  float64\n",
      " 15  no_of_units    24684 non-null  float64\n",
      " 16  area_size      25720 non-null  float64\n",
      " 17  date_listed    25722 non-null  object \n",
      " 18  price          25722 non-null  float64\n",
      "dtypes: float64(7), int64(2), object(10)\n",
      "memory usage: 3.9+ MB\n"
     ]
    }
   ],
   "source": [
    "train_data.info()"
   ],
   "metadata": {
    "collapsed": false,
    "pycharm": {
     "name": "#%%\n"
    }
   }
  },
  {
   "cell_type": "code",
   "execution_count": 17,
   "outputs": [],
   "source": [
    "def convert_correct_dtypes(df):\n",
    "    df[\"date_listed\"] = pd.to_datetime(df[\"date_listed\"])\n",
    "    return df.astype({\"listing_id\":int,\n",
    "                      \"name\": str,\n",
    "                      \"street\": str,\n",
    "                      \"type\": str,\n",
    "                      \"model\":str,\n",
    "                      \"bedrooms\": str,\n",
    "                      \"bathrooms\":int,\n",
    "                      \"district\": int,\n",
    "                      \"region\": str,\n",
    "                      \"planning_area\": str,\n",
    "                      \"subszone\": str,\n",
    "                      \"tenure\": str,\n",
    "                      \"built_year\": int,\n",
    "                      \"no_of_units\": int,\n",
    "                      \"area_size\": float,\n",
    "                      }, errors='ignore')\n",
    "dedup_data = convert_correct_dtypes(train_data)"
   ],
   "metadata": {
    "collapsed": false,
    "pycharm": {
     "name": "#%%\n"
    }
   }
  },
  {
   "cell_type": "code",
   "execution_count": 18,
   "outputs": [
    {
     "name": "stdout",
     "output_type": "stream",
     "text": [
      "<class 'pandas.core.frame.DataFrame'>\n",
      "Int64Index: 25722 entries, 0 to 26047\n",
      "Data columns (total 19 columns):\n",
      " #   Column         Non-Null Count  Dtype         \n",
      "---  ------         --------------  -----         \n",
      " 0   listing_id     25722 non-null  int64         \n",
      " 1   name           25722 non-null  object        \n",
      " 2   street         25722 non-null  object        \n",
      " 3   type           25722 non-null  object        \n",
      " 4   model          25722 non-null  object        \n",
      " 5   bedrooms       25722 non-null  object        \n",
      " 6   bathrooms      24488 non-null  float64       \n",
      " 7   district       25722 non-null  int64         \n",
      " 8   region         25722 non-null  object        \n",
      " 9   planning_area  25722 non-null  object        \n",
      " 10  subszone       25722 non-null  object        \n",
      " 11  lat            25722 non-null  float64       \n",
      " 12  lng            25722 non-null  float64       \n",
      " 13  tenure         25722 non-null  object        \n",
      " 14  built_year     15794 non-null  float64       \n",
      " 15  no_of_units    24684 non-null  float64       \n",
      " 16  area_size      25720 non-null  float64       \n",
      " 17  date_listed    25722 non-null  datetime64[ns]\n",
      " 18  price          25722 non-null  float64       \n",
      "dtypes: datetime64[ns](1), float64(7), int64(2), object(9)\n",
      "memory usage: 3.9+ MB\n"
     ]
    }
   ],
   "source": [
    "dedup_data.info()"
   ],
   "metadata": {
    "collapsed": false,
    "pycharm": {
     "name": "#%%\n"
    }
   }
  },
  {
   "cell_type": "markdown",
   "source": [
    "## 2.1 Make up for missing values"
   ],
   "metadata": {
    "collapsed": false
   }
  },
  {
   "cell_type": "markdown",
   "source": [
    "Some string attributes implicitly contain NaN values"
   ],
   "metadata": {
    "collapsed": false
   }
  },
  {
   "cell_type": "code",
   "execution_count": 19,
   "outputs": [
    {
     "name": "stdout",
     "output_type": "stream",
     "text": [
      "Stats for missing values:\n",
      "---------------\n",
      "listing_id:  0\n",
      "name:  0\n",
      "street:  0\n",
      "type:  0\n",
      "model:  0\n",
      "bedrooms:  0\n",
      "bathrooms:  1234\n",
      "district:  0\n",
      "region:  0\n",
      "planning_area:  0\n",
      "subszone:  0\n",
      "lat:  0\n",
      "lng:  0\n",
      "tenure:  0\n",
      "built_year:  9928\n",
      "no_of_units:  1038\n",
      "area_size:  2\n",
      "date_listed:  0\n",
      "price:  0\n"
     ]
    }
   ],
   "source": [
    "check_missing_values(dedup_data)"
   ],
   "metadata": {
    "collapsed": false,
    "pycharm": {
     "name": "#%%\n"
    }
   }
  },
  {
   "cell_type": "markdown",
   "source": [
    "## Histogram for numerical variables"
   ],
   "metadata": {
    "collapsed": false
   }
  },
  {
   "cell_type": "code",
   "execution_count": 179,
   "outputs": [
    {
     "data": {
      "text/plain": "<Figure size 864x576 with 9 Axes>",
      "image/png": "[encoded data removed]"
     },
     "metadata": {},
     "output_type": "display_data"
    }
   ],
   "source": [
    "all_attributes = dedup_data.columns\n",
    "hist = dedup_data.hist()"
   ],
   "metadata": {
    "collapsed": false,
    "pycharm": {
     "name": "#%%\n"
    }
   }
  },
  {
   "cell_type": "markdown",
   "source": [
    "## Histogram for categorical variables"
   ],
   "metadata": {
    "collapsed": false
   }
  },
  {
   "cell_type": "code",
   "execution_count": 199,
   "outputs": [
    {
     "name": "stdout",
     "output_type": "stream",
     "text": [
      "name\n",
      "    onan suites\n",
      "street\n",
      "    onan road\n",
      "type\n",
      "model\n",
      "    nan\n",
      "bedrooms\n",
      "    nan\n",
      "region\n",
      "planning_area\n",
      "subszone\n",
      "    yunnan\n",
      "tenure\n",
      "    nan\n"
     ]
    }
   ],
   "source": [
    "discrete_attributes = [\"name\", \"street\", \"type\", \"model\", \"bedrooms\", \"region\",\n",
    "                       \"planning_area\", \"subszone\", \"tenure\"]\n",
    "for attr in discrete_attributes:\n",
    "    unique_vars = list(dedup_data[attr].unique())\n",
    "    print(attr)\n",
    "    for v in unique_vars:\n",
    "        if 'nan' in v.lower():\n",
    "            print(' '*3, v)\n",
    "    # count = dedup_data.groupby(attr).count().reset_index()\n",
    "\n",
    "\n",
    "    # count.head\n",
    "    # break\n",
    "    # count.plot.bar(x=attr, y=\"value\")\n",
    "    # plt.show()"
   ],
   "metadata": {
    "collapsed": false,
    "pycharm": {
     "name": "#%%\n"
    }
   }
  },
  {
   "cell_type": "markdown",
   "source": [
    "As such, some attributes contain implecit NaN values"
   ],
   "metadata": {
    "collapsed": false
   }
  },
  {
   "cell_type": "markdown",
   "source": [
    "这里应该继续统计哪些含有nan的string，然后再把它们算在真的NaN里面去，最后再做数据补全"
   ],
   "metadata": {
    "collapsed": false
   }
  },
  {
   "cell_type": "markdown",
   "source": [
    "# TODO:\n",
    "is this long-tail effect or outlier?"
   ],
   "metadata": {
    "collapsed": false
   }
  },
  {
   "cell_type": "code",
   "execution_count": 115,
   "outputs": [
    {
     "name": "stdout",
     "output_type": "stream",
     "text": [
      "313\n",
      "71\n"
     ]
    }
   ],
   "source": [
    "missing_built_year_props = set(dedup_data[dedup_data.built_year.isna()]['name'].unique())\n",
    "print(len(missing_built_year_props))\n",
    "too_old_props =  set(dedup_data[dedup_data.built_year<1965]['name'].unique())\n",
    "print(len(too_old_props))"
   ],
   "metadata": {
    "collapsed": false,
    "pycharm": {
     "name": "#%%\n"
    }
   }
  },
  {
   "cell_type": "code",
   "execution_count": 116,
   "outputs": [
    {
     "data": {
      "text/plain": "{'10 evelyn',\n '120 grange',\n '1208 upper boon keng road',\n '15 holland hill',\n '19 nassim',\n '33 residences',\n '35 gilstead',\n '39 flower road',\n '77 @ east coast',\n 'affinity at serangoon',\n 'alexandra road',\n 'almond avenue',\n 'amber 45',\n 'amber gardens',\n 'amber park',\n 'amber sea',\n 'anchorvale link',\n 'ang mo kio avenue 2',\n 'arena residences',\n 'arthur road',\n 'avenue south residence',\n 'balestier road',\n 'balmoral park',\n 'balmoral road',\n 'bartley vue',\n 'beach road',\n 'belgravia drive',\n 'bencoolen house',\n 'boulevard 88',\n 'broadrick road',\n 'brookvale drive',\n 'buangkok crescent',\n 'bukit timah road',\n 'cairnhill 16',\n 'cairnhill road',\n 'canberra street',\n 'canberra walk',\n 'canninghill piers',\n 'carpmael thirty-eight',\n 'casa al mare',\n 'cashew road',\n 'chancery lane',\n 'changi road',\n 'chestnut crescent',\n 'choa chu kang avenue 4',\n 'chwee chian view',\n 'clarke quay',\n 'clavon',\n 'coastline residences',\n 'compassvale bow',\n 'compassvale road',\n 'cuscaden reserve',\n 'daintree residence',\n 'dairy farm heights',\n 'dairy farm residences',\n 'dalvey estate',\n 'dalvey haus',\n 'draycott drive',\n 'draycott park',\n 'dublin road',\n 'dundee road',\n 'dunearn 386',\n 'dyson road',\n 'east coast road',\n 'edgedale plains',\n 'ellington square',\n 'emerald apartments',\n 'eng hoon street',\n 'eu tong sen street',\n 'farrer road',\n 'fernvale close',\n 'fernvale lane',\n 'fernvale link',\n 'fernvale road',\n 'fifth avenue',\n 'flanders square',\n 'flower road',\n 'foo kim lin road',\n 'forett@bukit timah',\n 'fourth avenue residences',\n 'fraser street',\n 'fyve derbyshire',\n 'gerald drive',\n 'geylang road',\n 'grange 1866',\n 'guillemard road',\n 'harbour view gardens',\n 'harbourfront place',\n 'haus on handy',\n 'highgate crescent',\n 'hillside drive',\n 'hindhede drive',\n 'holland grove road',\n 'holland road',\n 'horne road',\n 'hougang avenue 2',\n 'hougang avenue 3',\n 'hougang avenue 7',\n 'hougang central',\n 'how sun close',\n 'how sun road',\n 'hume avenue',\n 'hyll on holland',\n 'ikigai',\n 'infini at east coast',\n 'irwell hill residences',\n 'jadescape',\n 'jalan besar',\n 'jalan bunga rampai',\n 'jalan intan',\n 'jalan kemaman',\n 'jalan lapang',\n 'jalan layang layang',\n 'jalan lempeng',\n 'jalan molek',\n 'jalan remaja',\n 'jalan rendang',\n 'jalan suka',\n 'jervois road',\n 'jervois treasures',\n 'joo chiat place',\n 'joo chiat road',\n 'juniper hill',\n 'jurong west central 3',\n 'kent ridge hill residences',\n 'ki residences at brookvale',\n 'king albert park',\n 'klimt cairnhill',\n 'kopar at newton',\n 'la mariposa',\n 'lattice one',\n 'laurel tree',\n 'leedon green',\n 'leedon heights',\n 'leonie towers',\n 'les maisons nassim',\n 'lew lian vale',\n 'lewis road',\n 'liv @ mb',\n 'lloyd road',\n 'lorong 1a toa payoh',\n 'lorong 34 geylang',\n 'lorong 40 geylang',\n 'lorong 6 toa payoh',\n 'lorong h telok kurau',\n 'lorong k telok kurau',\n 'lorong l telok kurau',\n 'lorong marzuki',\n 'loyang view',\n 'm suites',\n 'macpherson road',\n 'makeway avenue',\n 'margate road',\n 'marine drive',\n 'marne road',\n 'martin modern',\n 'mayfair gardens',\n 'mayfair modern',\n 'meyer mansion',\n 'meyerhouse',\n 'midtown bay',\n 'midtown modern',\n 'midwood',\n 'mooi residences',\n 'mori',\n 'moulmein rise',\n 'mount echo park',\n 'mount sophia',\n 'myra',\n 'neu at novena',\n 'noma',\n 'normanton park',\n 'north gaia',\n 'nyon',\n 'ola',\n 'olloi',\n 'one bernam',\n 'one draycott',\n 'one holland village residences',\n 'one meyer',\n 'one pearl bank',\n 'one-north eden',\n 'opal crescent',\n 'oxley road',\n 'parc botannia',\n 'parc canberra',\n 'parc central residences',\n 'parc clematis',\n 'parc esta',\n 'parc greenwich',\n 'parc komo',\n 'park colonial',\n 'park nova',\n 'parksuites',\n 'parkway apartment',\n 'parkwood residences',\n 'pasir panjang road',\n 'pasir ris 8',\n 'pasir ris central street 3',\n 'pasir ris heights',\n 'peak residence',\n 'penrose',\n 'perfect ten',\n 'perumal road',\n 'petit jervois',\n 'phoenix avenue',\n 'phoenix garden',\n 'phoenix residences',\n 'phoenix road',\n 'piermont grand',\n 'prince charles crescent',\n 'provence residence',\n 'ps100',\n 'pullman residences newton',\n 'punggol central',\n 'punggol drive',\n 'punggol field',\n 'punggol walk',\n 'residence twenty-two',\n 'rezi 24',\n 'richards avenue',\n 'river valley close',\n 'river valley road',\n 'riverfront residences',\n 'rivervale drive',\n 'rochester drive',\n 'royal hallmark',\n 'royalgreen',\n 'rv altitude',\n 'rymden 77',\n \"saint patrick's road\",\n 'scotts road',\n 'sengkang grand residences',\n 'serangoon central drive',\n 'serangoon north avenue 1',\n 'seraya lane',\n 'shenton way',\n 'shunfu road',\n 'simei street 1',\n 'simon lane',\n 'sims avenue',\n 'sin ming avenue',\n 'sing joo walk',\n 'sky everton',\n 'slim barracks rise',\n 'sloane residences',\n 'sophia road',\n 'stirling residences',\n 'stirling road',\n 'sumang walk',\n 'swiss view',\n 'sycamore tree',\n 'tampines street 11',\n 'tampines street 45',\n 'tan quee lan street',\n 'tanah merah kechil ridge',\n 'tanglin hill',\n 'tanjong katong road',\n 'tedge',\n 'telok kurau road',\n 'the antares',\n 'the arden',\n 'the atelier',\n 'the avenir',\n 'the commodore',\n 'the draycott',\n 'the essence',\n 'the florence residences',\n 'the garden residences',\n 'the gazania',\n 'the hyde',\n 'the iveria',\n 'the jovell',\n 'the landmark',\n 'the lilium',\n 'the linq @ beauty world',\n 'the m',\n 'the reef at king’s dock',\n 'the rochester',\n 'the tre ver',\n 'the watergardens at canberra',\n 'the woodleigh residences',\n 'thomson road',\n 'toa payoh north',\n 'toh tuck drive',\n 'toh tuck place',\n 'toh tuck road',\n 'treasure at tampines',\n 'trevose crescent',\n 'upper boon keng road',\n 'upper bukit timah road',\n 'upper changi road east',\n 'upper changi road north',\n 'uptown @ farrer',\n 'urban treasures',\n 'van holland',\n 'verdale',\n 'verticus',\n 'victoria street',\n 'view at kismis',\n 'west coast crescent',\n 'west coast walk',\n 'westwood avenue',\n 'whistler grand',\n 'wilshire residences',\n 'woodgrove avenue',\n 'woodlands drive 16',\n 'yishun avenue 1',\n 'yishun central',\n 'yishun close',\n 'yishun ring road',\n 'yong siak street',\n 'zyanya'}"
     },
     "execution_count": 116,
     "metadata": {},
     "output_type": "execute_result"
    }
   ],
   "source": [
    "missing_built_year_props"
   ],
   "metadata": {
    "collapsed": false,
    "pycharm": {
     "name": "#%%\n"
    }
   }
  },
  {
   "cell_type": "code",
   "execution_count": 117,
   "outputs": [],
   "source": [
    "suspicious_props = missing_built_year_props.union(too_old_props)"
   ],
   "metadata": {
    "collapsed": false,
    "pycharm": {
     "name": "#%%\n"
    }
   }
  },
  {
   "cell_type": "code",
   "execution_count": 118,
   "outputs": [
    {
     "data": {
      "text/plain": "316"
     },
     "execution_count": 118,
     "metadata": {},
     "output_type": "execute_result"
    }
   ],
   "source": [
    "len(suspicious_props)"
   ],
   "metadata": {
    "collapsed": false,
    "pycharm": {
     "name": "#%%\n"
    }
   }
  },
  {
   "cell_type": "markdown",
   "source": [
    "The set of properties with long built history largely overlap with the properties with a missing value."
   ],
   "metadata": {
    "collapsed": false
   }
  },
  {
   "cell_type": "code",
   "execution_count": 119,
   "outputs": [
    {
     "name": "stdout",
     "output_type": "stream",
     "text": [
      "{'tiong bahru estate', 'emerald hill road', 'watermark robertson quay'}\n"
     ]
    }
   ],
   "source": [
    "real_old_properties = too_old_props - missing_built_year_props.intersection(too_old_props)\n",
    "print(real_old_properties)"
   ],
   "metadata": {
    "collapsed": false,
    "pycharm": {
     "name": "#%%\n"
    }
   }
  },
  {
   "cell_type": "markdown",
   "source": [
    "tiong bahru estate was built in the 1930s, and emerald hill road was built in 1901.\n",
    "But watermark robertson quay was built in 2008"
   ],
   "metadata": {
    "collapsed": false
   }
  },
  {
   "cell_type": "code",
   "execution_count": 125,
   "outputs": [
    {
     "data": {
      "text/plain": "8675     2008.0\n20622    2008.0\nName: built_year, dtype: float64"
     },
     "execution_count": 125,
     "metadata": {},
     "output_type": "execute_result"
    }
   ],
   "source": [
    "dedup_data.loc[dedup_data.name=='watermark robertson quay'][\"built_year\"]"
   ],
   "metadata": {
    "collapsed": false,
    "pycharm": {
     "name": "#%%\n"
    }
   }
  },
  {
   "cell_type": "code",
   "execution_count": 134,
   "outputs": [],
   "source": [
    "with open(\"property_to_correct.csv\", 'w+') as f:\n",
    "    l = list(suspicious_props)\n",
    "    # writer = csv.writer(f)\n",
    "    for p in l:\n",
    "        f.write(p+\"\\n\")"
   ],
   "metadata": {
    "collapsed": false,
    "pycharm": {
     "name": "#%%\n"
    }
   }
  },
  {
   "cell_type": "code",
   "execution_count": 124,
   "outputs": [],
   "source": [
    "dedup_data.loc[dedup_data.name=='watermark robertson quay', \"built_year\"]=2008"
   ],
   "metadata": {
    "collapsed": false,
    "pycharm": {
     "name": "#%%\n"
    }
   }
  },
  {
   "cell_type": "markdown",
   "source": [
    "## 2.1 By filling up with known complete records"
   ],
   "metadata": {
    "collapsed": false
   }
  },
  {
   "cell_type": "code",
   "execution_count": 135,
   "outputs": [
    {
     "name": "stdout",
     "output_type": "stream",
     "text": [
      "<class 'pandas.core.frame.DataFrame'>\n",
      "Int64Index: 25722 entries, 0 to 26047\n",
      "Data columns (total 19 columns):\n",
      " #   Column         Non-Null Count  Dtype         \n",
      "---  ------         --------------  -----         \n",
      " 0   listing_id     25722 non-null  int64         \n",
      " 1   name           25722 non-null  object        \n",
      " 2   street         25722 non-null  object        \n",
      " 3   type           25722 non-null  object        \n",
      " 4   model          25722 non-null  object        \n",
      " 5   bedrooms       25722 non-null  object        \n",
      " 6   bathrooms      24488 non-null  float64       \n",
      " 7   district       25722 non-null  int64         \n",
      " 8   region         25722 non-null  object        \n",
      " 9   planning_area  25722 non-null  object        \n",
      " 10  subszone       25722 non-null  object        \n",
      " 11  lat            25722 non-null  float64       \n",
      " 12  lng            25722 non-null  float64       \n",
      " 13  tenure         25722 non-null  object        \n",
      " 14  built_year     15794 non-null  float64       \n",
      " 15  no_of_units    24684 non-null  float64       \n",
      " 16  area_size      25720 non-null  float64       \n",
      " 17  date_listed    25722 non-null  datetime64[ns]\n",
      " 18  price          25722 non-null  float64       \n",
      "dtypes: datetime64[ns](1), float64(7), int64(2), object(9)\n",
      "memory usage: 3.9+ MB\n"
     ]
    }
   ],
   "source": [
    "dedup_data.info()"
   ],
   "metadata": {
    "collapsed": false,
    "pycharm": {
     "name": "#%%\n"
    }
   }
  },
  {
   "cell_type": "code",
   "execution_count": 136,
   "outputs": [
    {
     "data": {
      "text/plain": "listing_id          0\nname                0\nstreet              0\ntype                0\nmodel               0\nbedrooms            0\nbathrooms        1234\ndistrict            0\nregion              0\nplanning_area       0\nsubszone            0\nlat                 0\nlng                 0\ntenure              0\nbuilt_year       9928\nno_of_units      1038\narea_size           2\ndate_listed         0\nprice               0\ndtype: int64"
     },
     "execution_count": 136,
     "metadata": {},
     "output_type": "execute_result"
    }
   ],
   "source": [
    "dedup_data.isnull().sum()"
   ],
   "metadata": {
    "collapsed": false,
    "pycharm": {
     "name": "#%%\n"
    }
   }
  },
  {
   "cell_type": "markdown",
   "source": [],
   "metadata": {
    "collapsed": false
   }
  },
  {
   "cell_type": "markdown",
   "source": [
    "## Analysis of the missing values\n",
    "* area_size: a little tricky, it depends on the # of bedrooms and bathrooms, but can be inferred from the dataset\n",
    "* bedrooms: can look up from the table\n",
    "* built_year: some are incorrect, some are unfinished projects thus having no built_year\n",
    "* no. of units: can look up from the table"
   ],
   "metadata": {
    "collapsed": false
   }
  },
  {
   "cell_type": "code",
   "execution_count": 137,
   "outputs": [
    {
     "data": {
      "text/plain": "       listing_id              name           street         type  \\\n2415      4426068   guillemard road  guillemard road  condominium   \n12891     8670725  the scotts tower  38 scotts road   condominium   \n\n             model bedrooms  bathrooms  district          region  \\\n2415           nan        4        NaN        14  central region   \n12891  condominium        2        2.0         9  central region   \n\n      planning_area   subszone      lat         lng               tenure  \\\n2415        geylang   aljunied  1.30879  103.876948                  nan   \n12891        newton  cairnhill  1.30999  103.835500  leasehold/103 years   \n\n       built_year  no_of_units  area_size date_listed      price  \n2415          NaN          NaN        NaN  2022-01-02  1320000.0  \n12891      2016.0        231.0        NaN  2021-10-17  2475000.0  ",
      "text/html": "<div>\n<style scoped>\n    .dataframe tbody tr th:only-of-type {\n        vertical-align: middle;\n    }\n\n    .dataframe tbody tr th {\n        vertical-align: top;\n    }\n\n    .dataframe thead th {\n        text-align: right;\n    }\n</style>\n<table border=\"1\" class=\"dataframe\">\n  <thead>\n    <tr style=\"text-align: right;\">\n      <th></th>\n      <th>listing_id</th>\n      <th>name</th>\n      <th>street</th>\n      <th>type</th>\n      <th>model</th>\n      <th>bedrooms</th>\n      <th>bathrooms</th>\n      <th>district</th>\n      <th>region</th>\n      <th>planning_area</th>\n      <th>subszone</th>\n      <th>lat</th>\n      <th>lng</th>\n      <th>tenure</th>\n      <th>built_year</th>\n      <th>no_of_units</th>\n      <th>area_size</th>\n      <th>date_listed</th>\n      <th>price</th>\n    </tr>\n  </thead>\n  <tbody>\n    <tr>\n      <th>2415</th>\n      <td>4426068</td>\n      <td>guillemard road</td>\n      <td>guillemard road</td>\n      <td>condominium</td>\n      <td>nan</td>\n      <td>4</td>\n      <td>NaN</td>\n      <td>14</td>\n      <td>central region</td>\n      <td>geylang</td>\n      <td>aljunied</td>\n      <td>1.30879</td>\n      <td>103.876948</td>\n      <td>nan</td>\n      <td>NaN</td>\n      <td>NaN</td>\n      <td>NaN</td>\n      <td>2022-01-02</td>\n      <td>1320000.0</td>\n    </tr>\n    <tr>\n      <th>12891</th>\n      <td>8670725</td>\n      <td>the scotts tower</td>\n      <td>38 scotts road</td>\n      <td>condominium</td>\n      <td>condominium</td>\n      <td>2</td>\n      <td>2.0</td>\n      <td>9</td>\n      <td>central region</td>\n      <td>newton</td>\n      <td>cairnhill</td>\n      <td>1.30999</td>\n      <td>103.835500</td>\n      <td>leasehold/103 years</td>\n      <td>2016.0</td>\n      <td>231.0</td>\n      <td>NaN</td>\n      <td>2021-10-17</td>\n      <td>2475000.0</td>\n    </tr>\n  </tbody>\n</table>\n</div>"
     },
     "execution_count": 137,
     "metadata": {},
     "output_type": "execute_result"
    }
   ],
   "source": [
    "dedup_data[dedup_data.area_size.isna()]"
   ],
   "metadata": {
    "collapsed": false,
    "pycharm": {
     "name": "#%%\n"
    }
   }
  },
  {
   "cell_type": "code",
   "execution_count": 143,
   "outputs": [
    {
     "ename": "ValueError",
     "evalue": "The truth value of a Series is ambiguous. Use a.empty, a.bool(), a.item(), a.any() or a.all().",
     "output_type": "error",
     "traceback": [
      "\u001B[0;31m---------------------------------------------------------------------------\u001B[0m",
      "\u001B[0;31mValueError\u001B[0m                                Traceback (most recent call last)",
      "\u001B[0;32m<ipython-input-143-e29160becd60>\u001B[0m in \u001B[0;36m<module>\u001B[0;34m\u001B[0m\n\u001B[1;32m      3\u001B[0m     \u001B[0mdf\u001B[0m\u001B[0;34m.\u001B[0m\u001B[0mloc\u001B[0m\u001B[0;34m[\u001B[0m\u001B[0mdf\u001B[0m\u001B[0;34m.\u001B[0m\u001B[0mname\u001B[0m\u001B[0;34m==\u001B[0m\u001B[0;34m\"the scotts tower\"\u001B[0m \u001B[0;32mand\u001B[0m \u001B[0mdf\u001B[0m\u001B[0;34m.\u001B[0m\u001B[0marea_size\u001B[0m\u001B[0;34m==\u001B[0m\u001B[0mnp\u001B[0m\u001B[0;34m.\u001B[0m\u001B[0mnan\u001B[0m\u001B[0;34m,\u001B[0m \u001B[0;34m\"area_size\"\u001B[0m\u001B[0;34m]\u001B[0m\u001B[0;34m=\u001B[0m \u001B[0;36m807.0\u001B[0m\u001B[0;34m\u001B[0m\u001B[0;34m\u001B[0m\u001B[0m\n\u001B[1;32m      4\u001B[0m     \u001B[0;32mreturn\u001B[0m \u001B[0mdf\u001B[0m\u001B[0;34m\u001B[0m\u001B[0;34m\u001B[0m\u001B[0m\n\u001B[0;32m----> 5\u001B[0;31m \u001B[0mdedup_data\u001B[0m \u001B[0;34m=\u001B[0m \u001B[0mcorrect_area_size\u001B[0m\u001B[0;34m(\u001B[0m\u001B[0mdedup_data\u001B[0m\u001B[0;34m)\u001B[0m\u001B[0;34m\u001B[0m\u001B[0;34m\u001B[0m\u001B[0m\n\u001B[0m",
      "\u001B[0;32m<ipython-input-143-e29160becd60>\u001B[0m in \u001B[0;36mcorrect_area_size\u001B[0;34m(df)\u001B[0m\n\u001B[1;32m      1\u001B[0m \u001B[0;32mdef\u001B[0m \u001B[0mcorrect_area_size\u001B[0m\u001B[0;34m(\u001B[0m\u001B[0mdf\u001B[0m\u001B[0;34m)\u001B[0m\u001B[0;34m:\u001B[0m\u001B[0;34m\u001B[0m\u001B[0;34m\u001B[0m\u001B[0m\n\u001B[0;32m----> 2\u001B[0;31m     \u001B[0mdf\u001B[0m\u001B[0;34m.\u001B[0m\u001B[0mloc\u001B[0m\u001B[0;34m[\u001B[0m\u001B[0;34m(\u001B[0m\u001B[0mdf\u001B[0m\u001B[0;34m[\u001B[0m\u001B[0;34m\"name\"\u001B[0m\u001B[0;34m]\u001B[0m\u001B[0;34m==\u001B[0m\u001B[0;34m\"guillemard road\"\u001B[0m\u001B[0;34m)\u001B[0m \u001B[0;32mand\u001B[0m \u001B[0;34m(\u001B[0m\u001B[0mdf\u001B[0m\u001B[0;34m.\u001B[0m\u001B[0marea_size\u001B[0m\u001B[0;34m==\u001B[0m\u001B[0mnp\u001B[0m\u001B[0;34m.\u001B[0m\u001B[0mnan\u001B[0m\u001B[0;34m)\u001B[0m\u001B[0;34m,\u001B[0m \u001B[0;34m\"area_size\"\u001B[0m\u001B[0;34m]\u001B[0m \u001B[0;34m=\u001B[0m \u001B[0;36m922.0\u001B[0m \u001B[0;31m# 810 for 2b3b plus 2x (549-495)\u001B[0m\u001B[0;34m\u001B[0m\u001B[0;34m\u001B[0m\u001B[0m\n\u001B[0m\u001B[1;32m      3\u001B[0m     \u001B[0mdf\u001B[0m\u001B[0;34m.\u001B[0m\u001B[0mloc\u001B[0m\u001B[0;34m[\u001B[0m\u001B[0mdf\u001B[0m\u001B[0;34m.\u001B[0m\u001B[0mname\u001B[0m\u001B[0;34m==\u001B[0m\u001B[0;34m\"the scotts tower\"\u001B[0m \u001B[0;32mand\u001B[0m \u001B[0mdf\u001B[0m\u001B[0;34m.\u001B[0m\u001B[0marea_size\u001B[0m\u001B[0;34m==\u001B[0m\u001B[0mnp\u001B[0m\u001B[0;34m.\u001B[0m\u001B[0mnan\u001B[0m\u001B[0;34m,\u001B[0m \u001B[0;34m\"area_size\"\u001B[0m\u001B[0;34m]\u001B[0m\u001B[0;34m=\u001B[0m \u001B[0;36m807.0\u001B[0m\u001B[0;34m\u001B[0m\u001B[0;34m\u001B[0m\u001B[0m\n\u001B[1;32m      4\u001B[0m     \u001B[0;32mreturn\u001B[0m \u001B[0mdf\u001B[0m\u001B[0;34m\u001B[0m\u001B[0;34m\u001B[0m\u001B[0m\n\u001B[1;32m      5\u001B[0m \u001B[0mdedup_data\u001B[0m \u001B[0;34m=\u001B[0m \u001B[0mcorrect_area_size\u001B[0m\u001B[0;34m(\u001B[0m\u001B[0mdedup_data\u001B[0m\u001B[0;34m)\u001B[0m\u001B[0;34m\u001B[0m\u001B[0;34m\u001B[0m\u001B[0m\n",
      "\u001B[0;32m~/miniconda/envs/CS5228/lib/python3.6/site-packages/pandas/core/generic.py\u001B[0m in \u001B[0;36m__nonzero__\u001B[0;34m(self)\u001B[0m\n\u001B[1;32m   1328\u001B[0m     \u001B[0;32mdef\u001B[0m \u001B[0m__nonzero__\u001B[0m\u001B[0;34m(\u001B[0m\u001B[0mself\u001B[0m\u001B[0;34m)\u001B[0m\u001B[0;34m:\u001B[0m\u001B[0;34m\u001B[0m\u001B[0;34m\u001B[0m\u001B[0m\n\u001B[1;32m   1329\u001B[0m         raise ValueError(\n\u001B[0;32m-> 1330\u001B[0;31m             \u001B[0;34mf\"The truth value of a {type(self).__name__} is ambiguous. \"\u001B[0m\u001B[0;34m\u001B[0m\u001B[0;34m\u001B[0m\u001B[0m\n\u001B[0m\u001B[1;32m   1331\u001B[0m             \u001B[0;34m\"Use a.empty, a.bool(), a.item(), a.any() or a.all().\"\u001B[0m\u001B[0;34m\u001B[0m\u001B[0;34m\u001B[0m\u001B[0m\n\u001B[1;32m   1332\u001B[0m         )\n",
      "\u001B[0;31mValueError\u001B[0m: The truth value of a Series is ambiguous. Use a.empty, a.bool(), a.item(), a.any() or a.all()."
     ]
    }
   ],
   "source": [
    "def correct_area_size(df):\n",
    "    df.loc[(df[\"name\"]==\"guillemard road\") and (df.area_size==np.nan), \"area_size\"] = 922.0 # 810 for 2b3b plus 2x (549-495)\n",
    "    df.loc[df.name==\"the scotts tower\" and df.area_size==np.nan, \"area_size\"]= 807.0\n",
    "    return df\n",
    "dedup_data = correct_area_size(dedup_data)"
   ],
   "metadata": {
    "collapsed": false,
    "pycharm": {
     "name": "#%%\n"
    }
   }
  },
  {
   "cell_type": "code",
   "execution_count": 150,
   "outputs": [
    {
     "data": {
      "text/plain": "       listing_id              name           street         type  \\\n2415      4426068   guillemard road  guillemard road  condominium   \n12891     8670725  the scotts tower  38 scotts road   condominium   \n\n             model bedrooms  bathrooms  district          region  \\\n2415           nan        4        NaN        14  central region   \n12891  condominium        2        2.0         9  central region   \n\n      planning_area   subszone      lat         lng               tenure  \\\n2415        geylang   aljunied  1.30879  103.876948                  nan   \n12891        newton  cairnhill  1.30999  103.835500  leasehold/103 years   \n\n       built_year  no_of_units  area_size date_listed      price  \n2415          NaN          NaN        NaN  2022-01-02  1320000.0  \n12891      2016.0        231.0        NaN  2021-10-17  2475000.0  ",
      "text/html": "<div>\n<style scoped>\n    .dataframe tbody tr th:only-of-type {\n        vertical-align: middle;\n    }\n\n    .dataframe tbody tr th {\n        vertical-align: top;\n    }\n\n    .dataframe thead th {\n        text-align: right;\n    }\n</style>\n<table border=\"1\" class=\"dataframe\">\n  <thead>\n    <tr style=\"text-align: right;\">\n      <th></th>\n      <th>listing_id</th>\n      <th>name</th>\n      <th>street</th>\n      <th>type</th>\n      <th>model</th>\n      <th>bedrooms</th>\n      <th>bathrooms</th>\n      <th>district</th>\n      <th>region</th>\n      <th>planning_area</th>\n      <th>subszone</th>\n      <th>lat</th>\n      <th>lng</th>\n      <th>tenure</th>\n      <th>built_year</th>\n      <th>no_of_units</th>\n      <th>area_size</th>\n      <th>date_listed</th>\n      <th>price</th>\n    </tr>\n  </thead>\n  <tbody>\n    <tr>\n      <th>2415</th>\n      <td>4426068</td>\n      <td>guillemard road</td>\n      <td>guillemard road</td>\n      <td>condominium</td>\n      <td>nan</td>\n      <td>4</td>\n      <td>NaN</td>\n      <td>14</td>\n      <td>central region</td>\n      <td>geylang</td>\n      <td>aljunied</td>\n      <td>1.30879</td>\n      <td>103.876948</td>\n      <td>nan</td>\n      <td>NaN</td>\n      <td>NaN</td>\n      <td>NaN</td>\n      <td>2022-01-02</td>\n      <td>1320000.0</td>\n    </tr>\n    <tr>\n      <th>12891</th>\n      <td>8670725</td>\n      <td>the scotts tower</td>\n      <td>38 scotts road</td>\n      <td>condominium</td>\n      <td>condominium</td>\n      <td>2</td>\n      <td>2.0</td>\n      <td>9</td>\n      <td>central region</td>\n      <td>newton</td>\n      <td>cairnhill</td>\n      <td>1.30999</td>\n      <td>103.835500</td>\n      <td>leasehold/103 years</td>\n      <td>2016.0</td>\n      <td>231.0</td>\n      <td>NaN</td>\n      <td>2021-10-17</td>\n      <td>2475000.0</td>\n    </tr>\n  </tbody>\n</table>\n</div>"
     },
     "execution_count": 150,
     "metadata": {},
     "output_type": "execute_result"
    }
   ],
   "source": [
    "dedup_data.loc[dedup_data.area_size.isna()]"
   ],
   "metadata": {
    "collapsed": false,
    "pycharm": {
     "name": "#%%\n"
    }
   }
  },
  {
   "cell_type": "code",
   "execution_count": null,
   "outputs": [],
   "source": [
    "nan_columns = [\"bathrooms\", \"built_year\", \"no_of_units\"]"
   ],
   "metadata": {
    "collapsed": false,
    "pycharm": {
     "name": "#%%\n"
    }
   }
  },
  {
   "cell_type": "code",
   "execution_count": 30,
   "outputs": [
    {
     "data": {
      "text/plain": "(24950, 17)"
     },
     "execution_count": 30,
     "metadata": {},
     "output_type": "execute_result"
    }
   ],
   "source": [
    "attribute_lookup_table = train_data.drop(columns=[\"listing_id\", \"price\"]).drop_duplicates()\n",
    "attribute_lookup_table.shape"
   ],
   "metadata": {
    "collapsed": false,
    "pycharm": {
     "name": "#%%\n"
    }
   }
  },
  {
   "cell_type": "code",
   "execution_count": 47,
   "outputs": [],
   "source": [
    "def fill_by_lookup(origin_df, attr_to_fill):\n",
    "    # look up by comparing to all other attributes\n",
    "    attr_to_compare = set(origin_df.columns)\n",
    "    attr_to_compare = attr_to_compare - {\"listing_id\", \"price\", attr_to_fill}\n",
    "\n",
    "    attr_to_compare = set(\"name\")\n",
    "    lookup_table = origin_df[origin_df[attr_to_fill].notnull()].drop_duplicates()\n",
    "    similar_addresses = (\n",
    "        origin_df.merge(lookup_table, how='left', on=\"name\", suffixes=['', '_new'])[attr_to_fill+\"_new\"]\n",
    "    )\n",
    "    origin_df[attr_to_fill] = origin_df[attr_to_fill].combine_first(similar_addresses)\n",
    "    return origin_df"
   ],
   "metadata": {
    "collapsed": false,
    "pycharm": {
     "name": "#%%\n"
    }
   }
  },
  {
   "cell_type": "code",
   "execution_count": 88,
   "outputs": [
    {
     "data": {
      "text/plain": "<bound method NDFrame.head of        listing_id                          name                    street  \\\n3         3071445               urban treasures          205 jalan eunos    \n4         9667539          infini at east coast           east coast road   \n5         5203525  the watergardens at canberra            canberra drive   \n6         6668762                       midwood             hillview rise   \n7         6273506     sengkang grand residences           compassvale bow   \n...           ...                           ...                       ...   \n26032     9446077            provence residence     37 canberra crescent    \n26037     7139386                   arthur road               arthur road   \n26039     2980771         affinity at serangoon  serangoon north avenue 1   \n26040     6487359      the woodleigh residences       bidadari park drive   \n26044     3161844                   dalvey haus          101 dalvey road    \n\n              type                  model bedrooms  bathrooms  district  \\\n3      condominium            condominium        3        2.0        14   \n4        apartment              apartment        3        3.0        15   \n5        apartment              apartment        2        1.0        27   \n6      condominium            condominium        4        3.0        23   \n7        apartment              apartment        3        2.0        19   \n...            ...                    ...      ...        ...       ...   \n26032  condominium  executive condominium        4        3.0        27   \n26037  condominium            condominium        1        1.0        15   \n26039    apartment              apartment        2        1.0        19   \n26040    apartment              apartment        3        3.0        13   \n26044  condominium            condominium        3        3.0        10   \n\n                  region  planning_area           subszone       lat  \\\n3            east region          bedok         kaki bukit  1.329367   \n4            east region          bedok            frankel  1.309176   \n5           north region      sembawang  sembawang springs  1.439199   \n6            west region    bukit batok           hillview  1.362862   \n7      north-east region       sengkang        compassvale  1.382388   \n...                  ...            ...                ...       ...   \n26032       north region      sembawang     sembawang east  1.448282   \n26037     central region  marine parade        mountbatten  1.305398   \n26039  north-east region      serangoon   serangoon garden  1.366295   \n26040     central region      toa payoh           bidadari  1.338214   \n26044     central region        tanglin             nassim  1.316263   \n\n              lng              tenure  built_year  no_of_units  area_size  \\\n3      103.905791            freehold         NaN        237.0      883.0   \n4      103.911352            freehold         NaN         36.0     1066.0   \n5      103.829104  leasehold/99 years         NaN        448.0      678.0   \n6      103.763434  leasehold/99 years         NaN        564.0     1249.0   \n7      103.892137  leasehold/99 years         NaN        680.0      936.0   \n...           ...                 ...         ...          ...        ...   \n26032  103.827628  leasehold/99 years         NaN        413.0     1399.0   \n26037  103.888846  leasehold/99 years         NaN          NaN      461.0   \n26039  103.874481  leasehold/99 years         NaN       1052.0      624.0   \n26040  103.872090  leasehold/99 years         NaN        667.0      958.0   \n26044  103.825190            freehold         NaN         17.0     1561.0   \n\n      date_listed      price  \n3      2022-01-02  1843600.0  \n4      2021-12-24  2262700.0  \n5      2022-01-04  1131900.0  \n6      2022-01-05  2189000.0  \n7      2021-12-17  1595000.0  \n...           ...        ...  \n26032  2021-12-28  1811700.0  \n26037  2022-01-02   976800.0  \n26039  2021-12-21  1151700.0  \n26040  2021-12-18  2090000.0  \n26044  2022-01-05  6449300.0  \n\n[9928 rows x 19 columns]>"
     },
     "execution_count": 88,
     "metadata": {},
     "output_type": "execute_result"
    }
   ],
   "source": [
    "dedup_data[dedup_data[\"built_year\"].isna()].head"
   ],
   "metadata": {
    "collapsed": false,
    "pycharm": {
     "name": "#%%\n"
    }
   }
  },
  {
   "cell_type": "code",
   "execution_count": 70,
   "outputs": [
    {
     "data": {
      "text/plain": "{'area_size',\n 'bathrooms',\n 'bedrooms',\n 'date_listed',\n 'district',\n 'lat',\n 'lng',\n 'model',\n 'name',\n 'no_of_units',\n 'planning_area',\n 'region',\n 'street',\n 'subszone',\n 'tenure',\n 'type'}"
     },
     "execution_count": 70,
     "metadata": {},
     "output_type": "execute_result"
    }
   ],
   "source": [
    "attr_to_compare = set(dedup_data.columns)\n",
    "attr_to_fill=\"built_year\"\n",
    "attr_to_compare = attr_to_compare - {\"listing_id\", \"price\", attr_to_fill}\n",
    "attr_to_compare"
   ],
   "metadata": {
    "collapsed": false,
    "pycharm": {
     "name": "#%%\n"
    }
   }
  },
  {
   "cell_type": "code",
   "execution_count": 73,
   "outputs": [],
   "source": [
    "lookup_table = dedup_data[dedup_data[attr_to_fill].notnull()].drop_duplicates(subset=attr_to_compare)"
   ],
   "metadata": {
    "collapsed": false,
    "pycharm": {
     "name": "#%%\n"
    }
   }
  },
  {
   "cell_type": "code",
   "execution_count": 80,
   "outputs": [
    {
     "data": {
      "text/plain": "(15513, 19)"
     },
     "execution_count": 80,
     "metadata": {},
     "output_type": "execute_result"
    }
   ],
   "source": [
    "lookup_table.shape"
   ],
   "metadata": {
    "collapsed": false,
    "pycharm": {
     "name": "#%%\n"
    }
   }
  },
  {
   "cell_type": "code",
   "execution_count": 48,
   "outputs": [],
   "source": [
    "dedup_data = fill_by_lookup(dedup_data, \"built_year\")"
   ],
   "metadata": {
    "collapsed": false,
    "pycharm": {
     "name": "#%%\n"
    }
   }
  },
  {
   "cell_type": "code",
   "execution_count": 77,
   "outputs": [
    {
     "ename": "KeyError",
     "evalue": "{'tenure', 'model', 'no_of_units', 'date_listed', 'district', 'lat', 'region', 'street', 'area_size', 'lng', 'bathrooms', 'planning_area', 'type', 'name', 'bedrooms', 'subszone'}",
     "output_type": "error",
     "traceback": [
      "\u001B[0;31m---------------------------------------------------------------------------\u001B[0m",
      "\u001B[0;31mKeyError\u001B[0m                                  Traceback (most recent call last)",
      "\u001B[0;32m<ipython-input-77-8c389cccc401>\u001B[0m in \u001B[0;36m<module>\u001B[0;34m\u001B[0m\n\u001B[1;32m      1\u001B[0m similar_addresses = (\n\u001B[0;32m----> 2\u001B[0;31m         \u001B[0mdedup_data\u001B[0m\u001B[0;34m.\u001B[0m\u001B[0mmerge\u001B[0m\u001B[0;34m(\u001B[0m\u001B[0mlookup_table\u001B[0m\u001B[0;34m,\u001B[0m \u001B[0mhow\u001B[0m\u001B[0;34m=\u001B[0m\u001B[0;34m'left'\u001B[0m\u001B[0;34m,\u001B[0m \u001B[0mon\u001B[0m\u001B[0;34m=\u001B[0m\u001B[0mattr_to_compare\u001B[0m\u001B[0;34m,\u001B[0m \u001B[0msuffixes\u001B[0m\u001B[0;34m=\u001B[0m\u001B[0;34m[\u001B[0m\u001B[0;34m''\u001B[0m\u001B[0;34m,\u001B[0m \u001B[0;34m'_new'\u001B[0m\u001B[0;34m]\u001B[0m\u001B[0;34m)\u001B[0m\u001B[0;34m[\u001B[0m\u001B[0mattr_to_fill\u001B[0m\u001B[0;34m+\u001B[0m\u001B[0;34m\"_new\"\u001B[0m\u001B[0;34m]\u001B[0m\u001B[0;34m\u001B[0m\u001B[0;34m\u001B[0m\u001B[0m\n\u001B[0m\u001B[1;32m      3\u001B[0m     )\n\u001B[1;32m      4\u001B[0m \u001B[0;31m# origin_df[attr_to_fill] = origin_df[attr_to_fill].combine_first(similar_addresses)\u001B[0m\u001B[0;34m\u001B[0m\u001B[0;34m\u001B[0m\u001B[0;34m\u001B[0m\u001B[0m\n",
      "\u001B[0;32m~/miniconda/envs/CS5228/lib/python3.6/site-packages/pandas/core/frame.py\u001B[0m in \u001B[0;36mmerge\u001B[0;34m(self, right, how, on, left_on, right_on, left_index, right_index, sort, suffixes, copy, indicator, validate)\u001B[0m\n\u001B[1;32m   7961\u001B[0m             \u001B[0mcopy\u001B[0m\u001B[0;34m=\u001B[0m\u001B[0mcopy\u001B[0m\u001B[0;34m,\u001B[0m\u001B[0;34m\u001B[0m\u001B[0;34m\u001B[0m\u001B[0m\n\u001B[1;32m   7962\u001B[0m             \u001B[0mindicator\u001B[0m\u001B[0;34m=\u001B[0m\u001B[0mindicator\u001B[0m\u001B[0;34m,\u001B[0m\u001B[0;34m\u001B[0m\u001B[0;34m\u001B[0m\u001B[0m\n\u001B[0;32m-> 7963\u001B[0;31m             \u001B[0mvalidate\u001B[0m\u001B[0;34m=\u001B[0m\u001B[0mvalidate\u001B[0m\u001B[0;34m,\u001B[0m\u001B[0;34m\u001B[0m\u001B[0;34m\u001B[0m\u001B[0m\n\u001B[0m\u001B[1;32m   7964\u001B[0m         )\n\u001B[1;32m   7965\u001B[0m \u001B[0;34m\u001B[0m\u001B[0m\n",
      "\u001B[0;32m~/miniconda/envs/CS5228/lib/python3.6/site-packages/pandas/core/reshape/merge.py\u001B[0m in \u001B[0;36mmerge\u001B[0;34m(left, right, how, on, left_on, right_on, left_index, right_index, sort, suffixes, copy, indicator, validate)\u001B[0m\n\u001B[1;32m     85\u001B[0m         \u001B[0mcopy\u001B[0m\u001B[0;34m=\u001B[0m\u001B[0mcopy\u001B[0m\u001B[0;34m,\u001B[0m\u001B[0;34m\u001B[0m\u001B[0;34m\u001B[0m\u001B[0m\n\u001B[1;32m     86\u001B[0m         \u001B[0mindicator\u001B[0m\u001B[0;34m=\u001B[0m\u001B[0mindicator\u001B[0m\u001B[0;34m,\u001B[0m\u001B[0;34m\u001B[0m\u001B[0;34m\u001B[0m\u001B[0m\n\u001B[0;32m---> 87\u001B[0;31m         \u001B[0mvalidate\u001B[0m\u001B[0;34m=\u001B[0m\u001B[0mvalidate\u001B[0m\u001B[0;34m,\u001B[0m\u001B[0;34m\u001B[0m\u001B[0;34m\u001B[0m\u001B[0m\n\u001B[0m\u001B[1;32m     88\u001B[0m     )\n\u001B[1;32m     89\u001B[0m     \u001B[0;32mreturn\u001B[0m \u001B[0mop\u001B[0m\u001B[0;34m.\u001B[0m\u001B[0mget_result\u001B[0m\u001B[0;34m(\u001B[0m\u001B[0;34m)\u001B[0m\u001B[0;34m\u001B[0m\u001B[0;34m\u001B[0m\u001B[0m\n",
      "\u001B[0;32m~/miniconda/envs/CS5228/lib/python3.6/site-packages/pandas/core/reshape/merge.py\u001B[0m in \u001B[0;36m__init__\u001B[0;34m(self, left, right, how, on, left_on, right_on, axis, left_index, right_index, sort, suffixes, copy, indicator, validate)\u001B[0m\n\u001B[1;32m    650\u001B[0m             \u001B[0mself\u001B[0m\u001B[0;34m.\u001B[0m\u001B[0mright_join_keys\u001B[0m\u001B[0;34m,\u001B[0m\u001B[0;34m\u001B[0m\u001B[0;34m\u001B[0m\u001B[0m\n\u001B[1;32m    651\u001B[0m             \u001B[0mself\u001B[0m\u001B[0;34m.\u001B[0m\u001B[0mjoin_names\u001B[0m\u001B[0;34m,\u001B[0m\u001B[0;34m\u001B[0m\u001B[0;34m\u001B[0m\u001B[0m\n\u001B[0;32m--> 652\u001B[0;31m         ) = self._get_merge_keys()\n\u001B[0m\u001B[1;32m    653\u001B[0m \u001B[0;34m\u001B[0m\u001B[0m\n\u001B[1;32m    654\u001B[0m         \u001B[0;31m# validate the merge keys dtypes. We may need to coerce\u001B[0m\u001B[0;34m\u001B[0m\u001B[0;34m\u001B[0m\u001B[0;34m\u001B[0m\u001B[0m\n",
      "\u001B[0;32m~/miniconda/envs/CS5228/lib/python3.6/site-packages/pandas/core/reshape/merge.py\u001B[0m in \u001B[0;36m_get_merge_keys\u001B[0;34m(self)\u001B[0m\n\u001B[1;32m   1003\u001B[0m                     \u001B[0;32mif\u001B[0m \u001B[0;32mnot\u001B[0m \u001B[0mis_rkey\u001B[0m\u001B[0;34m(\u001B[0m\u001B[0mrk\u001B[0m\u001B[0;34m)\u001B[0m\u001B[0;34m:\u001B[0m\u001B[0;34m\u001B[0m\u001B[0;34m\u001B[0m\u001B[0m\n\u001B[1;32m   1004\u001B[0m                         \u001B[0;32mif\u001B[0m \u001B[0mrk\u001B[0m \u001B[0;32mis\u001B[0m \u001B[0;32mnot\u001B[0m \u001B[0;32mNone\u001B[0m\u001B[0;34m:\u001B[0m\u001B[0;34m\u001B[0m\u001B[0;34m\u001B[0m\u001B[0m\n\u001B[0;32m-> 1005\u001B[0;31m                             \u001B[0mright_keys\u001B[0m\u001B[0;34m.\u001B[0m\u001B[0mappend\u001B[0m\u001B[0;34m(\u001B[0m\u001B[0mright\u001B[0m\u001B[0;34m.\u001B[0m\u001B[0m_get_label_or_level_values\u001B[0m\u001B[0;34m(\u001B[0m\u001B[0mrk\u001B[0m\u001B[0;34m)\u001B[0m\u001B[0;34m)\u001B[0m\u001B[0;34m\u001B[0m\u001B[0;34m\u001B[0m\u001B[0m\n\u001B[0m\u001B[1;32m   1006\u001B[0m                         \u001B[0;32melse\u001B[0m\u001B[0;34m:\u001B[0m\u001B[0;34m\u001B[0m\u001B[0;34m\u001B[0m\u001B[0m\n\u001B[1;32m   1007\u001B[0m                             \u001B[0;31m# work-around for merge_asof(right_index=True)\u001B[0m\u001B[0;34m\u001B[0m\u001B[0;34m\u001B[0m\u001B[0;34m\u001B[0m\u001B[0m\n",
      "\u001B[0;32m~/miniconda/envs/CS5228/lib/python3.6/site-packages/pandas/core/generic.py\u001B[0m in \u001B[0;36m_get_label_or_level_values\u001B[0;34m(self, key, axis)\u001B[0m\n\u001B[1;32m   1561\u001B[0m             \u001B[0mvalues\u001B[0m \u001B[0;34m=\u001B[0m \u001B[0mself\u001B[0m\u001B[0;34m.\u001B[0m\u001B[0maxes\u001B[0m\u001B[0;34m[\u001B[0m\u001B[0maxis\u001B[0m\u001B[0;34m]\u001B[0m\u001B[0;34m.\u001B[0m\u001B[0mget_level_values\u001B[0m\u001B[0;34m(\u001B[0m\u001B[0mkey\u001B[0m\u001B[0;34m)\u001B[0m\u001B[0;34m.\u001B[0m\u001B[0m_values\u001B[0m\u001B[0;34m\u001B[0m\u001B[0;34m\u001B[0m\u001B[0m\n\u001B[1;32m   1562\u001B[0m         \u001B[0;32melse\u001B[0m\u001B[0;34m:\u001B[0m\u001B[0;34m\u001B[0m\u001B[0;34m\u001B[0m\u001B[0m\n\u001B[0;32m-> 1563\u001B[0;31m             \u001B[0;32mraise\u001B[0m \u001B[0mKeyError\u001B[0m\u001B[0;34m(\u001B[0m\u001B[0mkey\u001B[0m\u001B[0;34m)\u001B[0m\u001B[0;34m\u001B[0m\u001B[0;34m\u001B[0m\u001B[0m\n\u001B[0m\u001B[1;32m   1564\u001B[0m \u001B[0;34m\u001B[0m\u001B[0m\n\u001B[1;32m   1565\u001B[0m         \u001B[0;31m# Check for duplicates\u001B[0m\u001B[0;34m\u001B[0m\u001B[0;34m\u001B[0m\u001B[0;34m\u001B[0m\u001B[0m\n",
      "\u001B[0;31mKeyError\u001B[0m: {'tenure', 'model', 'no_of_units', 'date_listed', 'district', 'lat', 'region', 'street', 'area_size', 'lng', 'bathrooms', 'planning_area', 'type', 'name', 'bedrooms', 'subszone'}"
     ]
    }
   ],
   "source": [
    "similar_addresses = (\n",
    "        dedup_data.merge(lookup_table, how='left', on=attr_to_compare, suffixes=['', '_new'])[attr_to_fill+\"_new\"]\n",
    "    )\n",
    "# origin_df[attr_to_fill] = origin_df[attr_to_fill].combine_first(similar_addresses)"
   ],
   "metadata": {
    "collapsed": false,
    "pycharm": {
     "name": "#%%\n"
    }
   }
  },
  {
   "cell_type": "code",
   "execution_count": 78,
   "outputs": [
    {
     "data": {
      "text/plain": "Index(['listing_id', 'name', 'street', 'type', 'model', 'bedrooms',\n       'bathrooms', 'district', 'region', 'planning_area', 'subszone', 'lat',\n       'lng', 'tenure', 'built_year', 'no_of_units', 'area_size',\n       'date_listed', 'price'],\n      dtype='object')"
     },
     "execution_count": 78,
     "metadata": {},
     "output_type": "execute_result"
    }
   ],
   "source": [
    "dedup_data.columns"
   ],
   "metadata": {
    "collapsed": false,
    "pycharm": {
     "name": "#%%\n"
    }
   }
  },
  {
   "cell_type": "code",
   "execution_count": 79,
   "outputs": [
    {
     "data": {
      "text/plain": "Index(['listing_id', 'name', 'street', 'type', 'model', 'bedrooms',\n       'bathrooms', 'district', 'region', 'planning_area', 'subszone', 'lat',\n       'lng', 'tenure', 'built_year', 'no_of_units', 'area_size',\n       'date_listed', 'price'],\n      dtype='object')"
     },
     "execution_count": 79,
     "metadata": {},
     "output_type": "execute_result"
    }
   ],
   "source": [
    "lookup_table.columns"
   ],
   "metadata": {
    "collapsed": false,
    "pycharm": {
     "name": "#%%\n"
    }
   }
  },
  {
   "cell_type": "code",
   "execution_count": 61,
   "outputs": [
    {
     "data": {
      "text/plain": "       listing_id     name             street         type        model  \\\n6         6668762  midwood      hillview rise  condominium  condominium   \n90        1769740  midwood      hillview rise  condominium  condominium   \n257       6360662  midwood  10 hillview rise   condominium  condominium   \n335       8803866  midwood      hillview rise  condominium  condominium   \n526       5270130  midwood      hillview rise  condominium  condominium   \n...           ...      ...                ...          ...          ...   \n25112     3536034  midwood      hillview rise  condominium  condominium   \n25149     4475603  midwood   8 hillview rise   condominium  condominium   \n25212     7756361  midwood      hillview rise  condominium  condominium   \n25508     3985111  midwood      hillview rise  condominium  condominium   \n25785     7284473  midwood   8 hillview rise   condominium          NaN   \n\n      bedrooms  bathrooms  district       region planning_area  subszone  \\\n6            4        3.0        23  west region   bukit batok  hillview   \n90           4        4.0        23  west region   bukit batok  hillview   \n257        4+1        4.0        23  west region   bukit batok  hillview   \n335          3        2.0        23  west region   bukit batok  hillview   \n526          2        1.0        23  west region   bukit batok  hillview   \n...        ...        ...       ...          ...           ...       ...   \n25112        3        2.0        23  west region   bukit batok  hillview   \n25149        3        3.0        23  west region   bukit batok  hillview   \n25212        3        2.0        23  west region   bukit batok  hillview   \n25508        2        2.0        23  west region   bukit batok  hillview   \n25785      3+1        2.0        23  west region   bukit batok  hillview   \n\n            lat         lng              tenure  built_year  no_of_units  \\\n6      1.362862  103.763434  leasehold/99 years      2011.0        564.0   \n90     1.362862  103.763434  leasehold/99 years      2011.0        564.0   \n257    1.364106  103.763671  leasehold/99 years      2014.0        564.0   \n335    1.362862  103.763434  leasehold/99 years      2014.0        564.0   \n526    1.362862  103.763434  leasehold/99 years      2016.0        564.0   \n...         ...         ...                 ...         ...          ...   \n25112  1.362862  103.763434  leasehold/99 years      2021.0        564.0   \n25149  1.362862  103.763434  leasehold/99 years      2021.0        564.0   \n25212  1.362862  103.763434  leasehold/99 years      2021.0        564.0   \n25508  1.362862  103.763434  leasehold/99 years      2017.0        564.0   \n25785  1.362862  103.763434  leasehold/99 years      2017.0        564.0   \n\n       area_size date_listed      price  \n6         1249.0  2022-01-05  2189000.0  \n90        1259.0  2021-12-11  2090000.0  \n257       1259.0  2021-12-29  2151600.0  \n335        893.0  2021-12-14  1596100.0  \n526        635.0  2021-12-08  1103300.0  \n...          ...         ...        ...  \n25112      990.0  2021-12-23  1760000.0  \n25149      990.0  2021-12-29  1764400.0  \n25212      904.0  2022-01-01  1515800.0  \n25508      689.0  2021-12-30  1214200.0  \n25785      904.0  2022-01-01  1507000.0  \n\n[136 rows x 19 columns]",
      "text/html": "<div>\n<style scoped>\n    .dataframe tbody tr th:only-of-type {\n        vertical-align: middle;\n    }\n\n    .dataframe tbody tr th {\n        vertical-align: top;\n    }\n\n    .dataframe thead th {\n        text-align: right;\n    }\n</style>\n<table border=\"1\" class=\"dataframe\">\n  <thead>\n    <tr style=\"text-align: right;\">\n      <th></th>\n      <th>listing_id</th>\n      <th>name</th>\n      <th>street</th>\n      <th>type</th>\n      <th>model</th>\n      <th>bedrooms</th>\n      <th>bathrooms</th>\n      <th>district</th>\n      <th>region</th>\n      <th>planning_area</th>\n      <th>subszone</th>\n      <th>lat</th>\n      <th>lng</th>\n      <th>tenure</th>\n      <th>built_year</th>\n      <th>no_of_units</th>\n      <th>area_size</th>\n      <th>date_listed</th>\n      <th>price</th>\n    </tr>\n  </thead>\n  <tbody>\n    <tr>\n      <th>6</th>\n      <td>6668762</td>\n      <td>midwood</td>\n      <td>hillview rise</td>\n      <td>condominium</td>\n      <td>condominium</td>\n      <td>4</td>\n      <td>3.0</td>\n      <td>23</td>\n      <td>west region</td>\n      <td>bukit batok</td>\n      <td>hillview</td>\n      <td>1.362862</td>\n      <td>103.763434</td>\n      <td>leasehold/99 years</td>\n      <td>2011.0</td>\n      <td>564.0</td>\n      <td>1249.0</td>\n      <td>2022-01-05</td>\n      <td>2189000.0</td>\n    </tr>\n    <tr>\n      <th>90</th>\n      <td>1769740</td>\n      <td>midwood</td>\n      <td>hillview rise</td>\n      <td>condominium</td>\n      <td>condominium</td>\n      <td>4</td>\n      <td>4.0</td>\n      <td>23</td>\n      <td>west region</td>\n      <td>bukit batok</td>\n      <td>hillview</td>\n      <td>1.362862</td>\n      <td>103.763434</td>\n      <td>leasehold/99 years</td>\n      <td>2011.0</td>\n      <td>564.0</td>\n      <td>1259.0</td>\n      <td>2021-12-11</td>\n      <td>2090000.0</td>\n    </tr>\n    <tr>\n      <th>257</th>\n      <td>6360662</td>\n      <td>midwood</td>\n      <td>10 hillview rise</td>\n      <td>condominium</td>\n      <td>condominium</td>\n      <td>4+1</td>\n      <td>4.0</td>\n      <td>23</td>\n      <td>west region</td>\n      <td>bukit batok</td>\n      <td>hillview</td>\n      <td>1.364106</td>\n      <td>103.763671</td>\n      <td>leasehold/99 years</td>\n      <td>2014.0</td>\n      <td>564.0</td>\n      <td>1259.0</td>\n      <td>2021-12-29</td>\n      <td>2151600.0</td>\n    </tr>\n    <tr>\n      <th>335</th>\n      <td>8803866</td>\n      <td>midwood</td>\n      <td>hillview rise</td>\n      <td>condominium</td>\n      <td>condominium</td>\n      <td>3</td>\n      <td>2.0</td>\n      <td>23</td>\n      <td>west region</td>\n      <td>bukit batok</td>\n      <td>hillview</td>\n      <td>1.362862</td>\n      <td>103.763434</td>\n      <td>leasehold/99 years</td>\n      <td>2014.0</td>\n      <td>564.0</td>\n      <td>893.0</td>\n      <td>2021-12-14</td>\n      <td>1596100.0</td>\n    </tr>\n    <tr>\n      <th>526</th>\n      <td>5270130</td>\n      <td>midwood</td>\n      <td>hillview rise</td>\n      <td>condominium</td>\n      <td>condominium</td>\n      <td>2</td>\n      <td>1.0</td>\n      <td>23</td>\n      <td>west region</td>\n      <td>bukit batok</td>\n      <td>hillview</td>\n      <td>1.362862</td>\n      <td>103.763434</td>\n      <td>leasehold/99 years</td>\n      <td>2016.0</td>\n      <td>564.0</td>\n      <td>635.0</td>\n      <td>2021-12-08</td>\n      <td>1103300.0</td>\n    </tr>\n    <tr>\n      <th>...</th>\n      <td>...</td>\n      <td>...</td>\n      <td>...</td>\n      <td>...</td>\n      <td>...</td>\n      <td>...</td>\n      <td>...</td>\n      <td>...</td>\n      <td>...</td>\n      <td>...</td>\n      <td>...</td>\n      <td>...</td>\n      <td>...</td>\n      <td>...</td>\n      <td>...</td>\n      <td>...</td>\n      <td>...</td>\n      <td>...</td>\n      <td>...</td>\n    </tr>\n    <tr>\n      <th>25112</th>\n      <td>3536034</td>\n      <td>midwood</td>\n      <td>hillview rise</td>\n      <td>condominium</td>\n      <td>condominium</td>\n      <td>3</td>\n      <td>2.0</td>\n      <td>23</td>\n      <td>west region</td>\n      <td>bukit batok</td>\n      <td>hillview</td>\n      <td>1.362862</td>\n      <td>103.763434</td>\n      <td>leasehold/99 years</td>\n      <td>2021.0</td>\n      <td>564.0</td>\n      <td>990.0</td>\n      <td>2021-12-23</td>\n      <td>1760000.0</td>\n    </tr>\n    <tr>\n      <th>25149</th>\n      <td>4475603</td>\n      <td>midwood</td>\n      <td>8 hillview rise</td>\n      <td>condominium</td>\n      <td>condominium</td>\n      <td>3</td>\n      <td>3.0</td>\n      <td>23</td>\n      <td>west region</td>\n      <td>bukit batok</td>\n      <td>hillview</td>\n      <td>1.362862</td>\n      <td>103.763434</td>\n      <td>leasehold/99 years</td>\n      <td>2021.0</td>\n      <td>564.0</td>\n      <td>990.0</td>\n      <td>2021-12-29</td>\n      <td>1764400.0</td>\n    </tr>\n    <tr>\n      <th>25212</th>\n      <td>7756361</td>\n      <td>midwood</td>\n      <td>hillview rise</td>\n      <td>condominium</td>\n      <td>condominium</td>\n      <td>3</td>\n      <td>2.0</td>\n      <td>23</td>\n      <td>west region</td>\n      <td>bukit batok</td>\n      <td>hillview</td>\n      <td>1.362862</td>\n      <td>103.763434</td>\n      <td>leasehold/99 years</td>\n      <td>2021.0</td>\n      <td>564.0</td>\n      <td>904.0</td>\n      <td>2022-01-01</td>\n      <td>1515800.0</td>\n    </tr>\n    <tr>\n      <th>25508</th>\n      <td>3985111</td>\n      <td>midwood</td>\n      <td>hillview rise</td>\n      <td>condominium</td>\n      <td>condominium</td>\n      <td>2</td>\n      <td>2.0</td>\n      <td>23</td>\n      <td>west region</td>\n      <td>bukit batok</td>\n      <td>hillview</td>\n      <td>1.362862</td>\n      <td>103.763434</td>\n      <td>leasehold/99 years</td>\n      <td>2017.0</td>\n      <td>564.0</td>\n      <td>689.0</td>\n      <td>2021-12-30</td>\n      <td>1214200.0</td>\n    </tr>\n    <tr>\n      <th>25785</th>\n      <td>7284473</td>\n      <td>midwood</td>\n      <td>8 hillview rise</td>\n      <td>condominium</td>\n      <td>NaN</td>\n      <td>3+1</td>\n      <td>2.0</td>\n      <td>23</td>\n      <td>west region</td>\n      <td>bukit batok</td>\n      <td>hillview</td>\n      <td>1.362862</td>\n      <td>103.763434</td>\n      <td>leasehold/99 years</td>\n      <td>2017.0</td>\n      <td>564.0</td>\n      <td>904.0</td>\n      <td>2022-01-01</td>\n      <td>1507000.0</td>\n    </tr>\n  </tbody>\n</table>\n<p>136 rows × 19 columns</p>\n</div>"
     },
     "execution_count": 61,
     "metadata": {},
     "output_type": "execute_result"
    }
   ],
   "source": [
    "dedup_data[dedup_data.name==\"midwood\"]"
   ],
   "metadata": {
    "collapsed": false,
    "pycharm": {
     "name": "#%%\n"
    }
   }
  },
  {
   "cell_type": "markdown",
   "source": [
    "## 2.2 Convert to approprate data types"
   ],
   "metadata": {
    "collapsed": false
   }
  }
 ],
 "metadata": {
  "kernelspec": {
   "display_name": "Python 3 (ipykernel)",
   "language": "python",
   "name": "python3"
  },
  "language_info": {
   "codemirror_mode": {
    "name": "ipython",
    "version": 3
   },
   "file_extension": ".py",
   "mimetype": "text/x-python",
   "name": "python",
   "nbconvert_exporter": "python",
   "pygments_lexer": "ipython3",
   "version": "3.9.7"
  }
 },
 "nbformat": 4,
 "nbformat_minor": 5
}