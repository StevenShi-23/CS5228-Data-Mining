{
 "cells": [
  {
   "cell_type": "code",
   "execution_count": 3,
   "id": "41b0fc59",
   "metadata": {},
   "outputs": [
    {
     "name": "stdout",
     "output_type": "stream",
     "text": [
      "Python version: 3.9.7 (default, Sep 16 2021, 08:50:36) \n",
      "[Clang 10.0.0 ]\n",
      "pandas version: 1.3.4\n",
      "matplotlib version: 3.4.3\n",
      "NumPy version: 1.20.3\n",
      "SciPy version: 1.7.1\n",
      "IPython version: 7.29.0\n",
      "scikit-learn version: 0.24.2\n",
      "-------------------------\n"
     ]
    }
   ],
   "source": [
    "#load packages\n",
    "import sys #access to system parameters https://docs.python.org/3/library/sys.html\n",
    "print(\"Python version: {}\". format(sys.version))\n",
    "\n",
    "import pandas as pd #collection of functions for data processing and analysis modeled after R dataframes with SQL like features\n",
    "print(\"pandas version: {}\". format(pd.__version__))\n",
    "\n",
    "import matplotlib #collection of functions for scientific and publication-ready visualization\n",
    "print(\"matplotlib version: {}\". format(matplotlib.__version__))\n",
    "\n",
    "import numpy as np #foundational package for scientific computing\n",
    "print(\"NumPy version: {}\". format(np.__version__))\n",
    "\n",
    "import scipy as sp #collection of functions for scientific computing and advance mathematics\n",
    "print(\"SciPy version: {}\". format(sp.__version__)) \n",
    "\n",
    "import IPython\n",
    "from IPython import display #pretty printing of dataframes in Jupyter notebook\n",
    "print(\"IPython version: {}\". format(IPython.__version__)) \n",
    "\n",
    "import sklearn #collection of machine learning algorithms\n",
    "print(\"scikit-learn version: {}\". format(sklearn.__version__))\n",
    "\n",
    "#misc libraries\n",
    "import random\n",
    "import time\n",
    "\n",
    "\n",
    "#ignore warnings\n",
    "import warnings\n",
    "warnings.filterwarnings('ignore')\n",
    "print('-'*25)"
   ]
  },
  {
   "cell_type": "code",
   "execution_count": 4,
   "id": "8bb922c1",
   "metadata": {},
   "outputs": [],
   "source": [
    "#Common Model Algorithms\n",
    "from sklearn import svm, tree, linear_model, neighbors, naive_bayes, ensemble, discriminant_analysis, gaussian_process\n",
    "from xgboost import XGBClassifier\n",
    "\n",
    "#Common Model Helpers\n",
    "from sklearn.preprocessing import OneHotEncoder, LabelEncoder\n",
    "from sklearn import feature_selection\n",
    "from sklearn import model_selection\n",
    "from sklearn import metrics\n",
    "\n",
    "#Visualization\n",
    "import matplotlib as mpl\n",
    "import matplotlib.pyplot as plt\n",
    "import matplotlib.pylab as pylab\n",
    "import seaborn as sns\n",
    "from pandas.plotting import scatter_matrix\n",
    "\n",
    "#Configure Visualization Defaults\n",
    "#%matplotlib inline = show plots in Jupyter Notebook browser\n",
    "%matplotlib inline\n",
    "mpl.style.use('ggplot')\n",
    "sns.set_style('white')\n",
    "pylab.rcParams['figure.figsize'] = 12,8"
   ]
  },
  {
   "cell_type": "code",
   "execution_count": 5,
   "id": "564bd8c1",
   "metadata": {},
   "outputs": [
    {
     "name": "stdout",
     "output_type": "stream",
     "text": [
      "<class 'pandas.core.frame.DataFrame'>\n",
      "RangeIndex: 26048 entries, 0 to 26047\n",
      "Data columns (total 23 columns):\n",
      " #   Column          Non-Null Count  Dtype  \n",
      "---  ------          --------------  -----  \n",
      " 0   listing_id      26048 non-null  int64  \n",
      " 1   name            26048 non-null  object \n",
      " 2   street          26048 non-null  object \n",
      " 3   type            26048 non-null  object \n",
      " 4   model           24768 non-null  object \n",
      " 5   market_segment  26048 non-null  object \n",
      " 6   type_of_area    26048 non-null  object \n",
      " 7   bedrooms        25644 non-null  object \n",
      " 8   bathrooms       24812 non-null  float64\n",
      " 9   district        26048 non-null  int64  \n",
      " 10  region          26048 non-null  object \n",
      " 11  planning_area   26048 non-null  object \n",
      " 12  subszone        26048 non-null  object \n",
      " 13  lat             26048 non-null  float64\n",
      " 14  lng             26048 non-null  float64\n",
      " 15  tenure          25761 non-null  object \n",
      " 16  built_year      16005 non-null  float64\n",
      " 17  no_of_units     25006 non-null  float64\n",
      " 18  area_size       26046 non-null  float64\n",
      " 19  eco_category    26048 non-null  object \n",
      " 20  accessibility   26048 non-null  object \n",
      " 21  date_listed     26048 non-null  object \n",
      " 22  price           26048 non-null  float64\n",
      "dtypes: float64(7), int64(2), object(14)\n",
      "memory usage: 4.6+ MB\n",
      "None\n"
     ]
    }
   ],
   "source": [
    "data_raw = pd.read_csv('train.csv')\n",
    "\n",
    "data_val  = pd.read_csv('test.csv')\n",
    "\n",
    "\n",
    "#to play with our data we'll create a copy\n",
    "#remember python assignment or equal passes by reference vs values, so we use the copy function: https://stackoverflow.com/questions/46327494/python-pandas-dataframe-copydeep-false-vs-copydeep-true-vs\n",
    "data1 = data_raw.copy(deep = True)\n",
    "\n",
    "#however passing by reference is convenient, because we can clean both datasets at once\n",
    "data_cleaner = [data1, data_val]\n",
    "\n",
    "#preview data\n",
    "print (data_raw.info())"
   ]
  },
  {
   "cell_type": "code",
   "execution_count": 98,
   "id": "5a4c2076",
   "metadata": {
    "scrolled": true
   },
   "outputs": [
    {
     "name": "stdout",
     "output_type": "stream",
     "text": [
      "Train columns with null values:\n",
      " listing_id            0\n",
      "name                  0\n",
      "street                0\n",
      "type                  0\n",
      "model              1280\n",
      "market_segment        0\n",
      "type_of_area          0\n",
      "bedrooms            404\n",
      "bathrooms          1236\n",
      "district              0\n",
      "region                0\n",
      "planning_area         0\n",
      "subszone              0\n",
      "lat                   0\n",
      "lng                   0\n",
      "tenure              287\n",
      "built_year        10043\n",
      "no_of_units        1042\n",
      "area_size             2\n",
      "eco_category          0\n",
      "accessibility         0\n",
      "date_listed           0\n",
      "price                 0\n",
      "dtype: int64\n",
      "----------\n",
      "Test/Validation columns with null values:\n",
      " listing_id           0\n",
      "name                 0\n",
      "street               0\n",
      "type                 0\n",
      "model              388\n",
      "market_segment       0\n",
      "type_of_area         0\n",
      "bedrooms           118\n",
      "bathrooms          337\n",
      "district             0\n",
      "region               0\n",
      "planning_area        0\n",
      "subszone             0\n",
      "lat                  0\n",
      "lng                  0\n",
      "tenure              85\n",
      "built_year        2875\n",
      "no_of_units        326\n",
      "area_size            0\n",
      "eco_category         0\n",
      "accessibility        0\n",
      "date_listed          0\n",
      "dtype: int64\n",
      "----------\n"
     ]
    },
    {
     "data": {
      "text/html": [
       "<div>\n",
       "<style scoped>\n",
       "    .dataframe tbody tr th:only-of-type {\n",
       "        vertical-align: middle;\n",
       "    }\n",
       "\n",
       "    .dataframe tbody tr th {\n",
       "        vertical-align: top;\n",
       "    }\n",
       "\n",
       "    .dataframe thead th {\n",
       "        text-align: right;\n",
       "    }\n",
       "</style>\n",
       "<table border=\"1\" class=\"dataframe\">\n",
       "  <thead>\n",
       "    <tr style=\"text-align: right;\">\n",
       "      <th></th>\n",
       "      <th>listing_id</th>\n",
       "      <th>name</th>\n",
       "      <th>street</th>\n",
       "      <th>type</th>\n",
       "      <th>model</th>\n",
       "      <th>market_segment</th>\n",
       "      <th>type_of_area</th>\n",
       "      <th>bedrooms</th>\n",
       "      <th>bathrooms</th>\n",
       "      <th>district</th>\n",
       "      <th>...</th>\n",
       "      <th>lat</th>\n",
       "      <th>lng</th>\n",
       "      <th>tenure</th>\n",
       "      <th>built_year</th>\n",
       "      <th>no_of_units</th>\n",
       "      <th>area_size</th>\n",
       "      <th>eco_category</th>\n",
       "      <th>accessibility</th>\n",
       "      <th>date_listed</th>\n",
       "      <th>price</th>\n",
       "    </tr>\n",
       "  </thead>\n",
       "  <tbody>\n",
       "    <tr>\n",
       "      <th>count</th>\n",
       "      <td>2.604800e+04</td>\n",
       "      <td>26048</td>\n",
       "      <td>26048</td>\n",
       "      <td>26048</td>\n",
       "      <td>24768</td>\n",
       "      <td>26048</td>\n",
       "      <td>26048</td>\n",
       "      <td>25644</td>\n",
       "      <td>24812.000000</td>\n",
       "      <td>26048.000000</td>\n",
       "      <td>...</td>\n",
       "      <td>26048.000000</td>\n",
       "      <td>26048.000000</td>\n",
       "      <td>25761</td>\n",
       "      <td>16005.000000</td>\n",
       "      <td>25006.000000</td>\n",
       "      <td>26046.000000</td>\n",
       "      <td>26048</td>\n",
       "      <td>26048</td>\n",
       "      <td>26048</td>\n",
       "      <td>2.604800e+04</td>\n",
       "    </tr>\n",
       "    <tr>\n",
       "      <th>unique</th>\n",
       "      <td>NaN</td>\n",
       "      <td>1650</td>\n",
       "      <td>3442</td>\n",
       "      <td>2</td>\n",
       "      <td>14</td>\n",
       "      <td>1</td>\n",
       "      <td>1</td>\n",
       "      <td>17</td>\n",
       "      <td>NaN</td>\n",
       "      <td>NaN</td>\n",
       "      <td>...</td>\n",
       "      <td>NaN</td>\n",
       "      <td>NaN</td>\n",
       "      <td>53</td>\n",
       "      <td>NaN</td>\n",
       "      <td>NaN</td>\n",
       "      <td>NaN</td>\n",
       "      <td>1</td>\n",
       "      <td>1</td>\n",
       "      <td>359</td>\n",
       "      <td>NaN</td>\n",
       "    </tr>\n",
       "    <tr>\n",
       "      <th>top</th>\n",
       "      <td>NaN</td>\n",
       "      <td>marina one residences</td>\n",
       "      <td>23 marina way</td>\n",
       "      <td>apartment</td>\n",
       "      <td>apartment</td>\n",
       "      <td>ocr</td>\n",
       "      <td>strata</td>\n",
       "      <td>3</td>\n",
       "      <td>NaN</td>\n",
       "      <td>NaN</td>\n",
       "      <td>...</td>\n",
       "      <td>NaN</td>\n",
       "      <td>NaN</td>\n",
       "      <td>leasehold/99 years</td>\n",
       "      <td>NaN</td>\n",
       "      <td>NaN</td>\n",
       "      <td>NaN</td>\n",
       "      <td>uncategorized</td>\n",
       "      <td>guarded</td>\n",
       "      <td>2021-10-12</td>\n",
       "      <td>NaN</td>\n",
       "    </tr>\n",
       "    <tr>\n",
       "      <th>freq</th>\n",
       "      <td>NaN</td>\n",
       "      <td>668</td>\n",
       "      <td>274</td>\n",
       "      <td>13958</td>\n",
       "      <td>13306</td>\n",
       "      <td>26048</td>\n",
       "      <td>26048</td>\n",
       "      <td>7306</td>\n",
       "      <td>NaN</td>\n",
       "      <td>NaN</td>\n",
       "      <td>...</td>\n",
       "      <td>NaN</td>\n",
       "      <td>NaN</td>\n",
       "      <td>15300</td>\n",
       "      <td>NaN</td>\n",
       "      <td>NaN</td>\n",
       "      <td>NaN</td>\n",
       "      <td>26048</td>\n",
       "      <td>26048</td>\n",
       "      <td>1728</td>\n",
       "      <td>NaN</td>\n",
       "    </tr>\n",
       "    <tr>\n",
       "      <th>mean</th>\n",
       "      <td>5.495573e+06</td>\n",
       "      <td>NaN</td>\n",
       "      <td>NaN</td>\n",
       "      <td>NaN</td>\n",
       "      <td>NaN</td>\n",
       "      <td>NaN</td>\n",
       "      <td>NaN</td>\n",
       "      <td>NaN</td>\n",
       "      <td>2.278091</td>\n",
       "      <td>12.211609</td>\n",
       "      <td>...</td>\n",
       "      <td>1.321145</td>\n",
       "      <td>103.846138</td>\n",
       "      <td>NaN</td>\n",
       "      <td>2010.926398</td>\n",
       "      <td>462.350636</td>\n",
       "      <td>1248.902096</td>\n",
       "      <td>NaN</td>\n",
       "      <td>NaN</td>\n",
       "      <td>NaN</td>\n",
       "      <td>2.994669e+06</td>\n",
       "    </tr>\n",
       "    <tr>\n",
       "      <th>std</th>\n",
       "      <td>2.608064e+06</td>\n",
       "      <td>NaN</td>\n",
       "      <td>NaN</td>\n",
       "      <td>NaN</td>\n",
       "      <td>NaN</td>\n",
       "      <td>NaN</td>\n",
       "      <td>NaN</td>\n",
       "      <td>NaN</td>\n",
       "      <td>1.147204</td>\n",
       "      <td>7.020134</td>\n",
       "      <td>...</td>\n",
       "      <td>0.038569</td>\n",
       "      <td>0.049865</td>\n",
       "      <td>NaN</td>\n",
       "      <td>11.915875</td>\n",
       "      <td>423.476259</td>\n",
       "      <td>1066.102020</td>\n",
       "      <td>NaN</td>\n",
       "      <td>NaN</td>\n",
       "      <td>NaN</td>\n",
       "      <td>4.324294e+06</td>\n",
       "    </tr>\n",
       "    <tr>\n",
       "      <th>min</th>\n",
       "      <td>1.000122e+06</td>\n",
       "      <td>NaN</td>\n",
       "      <td>NaN</td>\n",
       "      <td>NaN</td>\n",
       "      <td>NaN</td>\n",
       "      <td>NaN</td>\n",
       "      <td>NaN</td>\n",
       "      <td>NaN</td>\n",
       "      <td>1.000000</td>\n",
       "      <td>1.000000</td>\n",
       "      <td>...</td>\n",
       "      <td>1.239337</td>\n",
       "      <td>103.696215</td>\n",
       "      <td>NaN</td>\n",
       "      <td>1799.000000</td>\n",
       "      <td>1.000000</td>\n",
       "      <td>226.000000</td>\n",
       "      <td>NaN</td>\n",
       "      <td>NaN</td>\n",
       "      <td>NaN</td>\n",
       "      <td>5.566000e+05</td>\n",
       "    </tr>\n",
       "    <tr>\n",
       "      <th>25%</th>\n",
       "      <td>3.229224e+06</td>\n",
       "      <td>NaN</td>\n",
       "      <td>NaN</td>\n",
       "      <td>NaN</td>\n",
       "      <td>NaN</td>\n",
       "      <td>NaN</td>\n",
       "      <td>NaN</td>\n",
       "      <td>NaN</td>\n",
       "      <td>1.000000</td>\n",
       "      <td>7.000000</td>\n",
       "      <td>...</td>\n",
       "      <td>1.296472</td>\n",
       "      <td>103.820262</td>\n",
       "      <td>NaN</td>\n",
       "      <td>2010.000000</td>\n",
       "      <td>130.000000</td>\n",
       "      <td>678.000000</td>\n",
       "      <td>NaN</td>\n",
       "      <td>NaN</td>\n",
       "      <td>NaN</td>\n",
       "      <td>1.331000e+06</td>\n",
       "    </tr>\n",
       "    <tr>\n",
       "      <th>50%</th>\n",
       "      <td>5.486808e+06</td>\n",
       "      <td>NaN</td>\n",
       "      <td>NaN</td>\n",
       "      <td>NaN</td>\n",
       "      <td>NaN</td>\n",
       "      <td>NaN</td>\n",
       "      <td>NaN</td>\n",
       "      <td>NaN</td>\n",
       "      <td>2.000000</td>\n",
       "      <td>11.000000</td>\n",
       "      <td>...</td>\n",
       "      <td>1.313384</td>\n",
       "      <td>103.843081</td>\n",
       "      <td>NaN</td>\n",
       "      <td>2014.000000</td>\n",
       "      <td>366.000000</td>\n",
       "      <td>958.000000</td>\n",
       "      <td>NaN</td>\n",
       "      <td>NaN</td>\n",
       "      <td>NaN</td>\n",
       "      <td>1.851800e+06</td>\n",
       "    </tr>\n",
       "    <tr>\n",
       "      <th>75%</th>\n",
       "      <td>7.764926e+06</td>\n",
       "      <td>NaN</td>\n",
       "      <td>NaN</td>\n",
       "      <td>NaN</td>\n",
       "      <td>NaN</td>\n",
       "      <td>NaN</td>\n",
       "      <td>NaN</td>\n",
       "      <td>NaN</td>\n",
       "      <td>3.000000</td>\n",
       "      <td>18.000000</td>\n",
       "      <td>...</td>\n",
       "      <td>1.341210</td>\n",
       "      <td>103.879673</td>\n",
       "      <td>NaN</td>\n",
       "      <td>2016.000000</td>\n",
       "      <td>646.000000</td>\n",
       "      <td>1356.000000</td>\n",
       "      <td>NaN</td>\n",
       "      <td>NaN</td>\n",
       "      <td>NaN</td>\n",
       "      <td>2.948000e+06</td>\n",
       "    </tr>\n",
       "    <tr>\n",
       "      <th>max</th>\n",
       "      <td>9.999807e+06</td>\n",
       "      <td>NaN</td>\n",
       "      <td>NaN</td>\n",
       "      <td>NaN</td>\n",
       "      <td>NaN</td>\n",
       "      <td>NaN</td>\n",
       "      <td>NaN</td>\n",
       "      <td>NaN</td>\n",
       "      <td>10.000000</td>\n",
       "      <td>28.000000</td>\n",
       "      <td>...</td>\n",
       "      <td>1.456436</td>\n",
       "      <td>103.976016</td>\n",
       "      <td>NaN</td>\n",
       "      <td>2021.000000</td>\n",
       "      <td>2203.000000</td>\n",
       "      <td>15000.000000</td>\n",
       "      <td>NaN</td>\n",
       "      <td>NaN</td>\n",
       "      <td>NaN</td>\n",
       "      <td>7.480000e+07</td>\n",
       "    </tr>\n",
       "  </tbody>\n",
       "</table>\n",
       "<p>11 rows × 23 columns</p>\n",
       "</div>"
      ],
      "text/plain": [
       "          listing_id                   name          street       type  \\\n",
       "count   2.604800e+04                  26048           26048      26048   \n",
       "unique           NaN                   1650            3442          2   \n",
       "top              NaN  marina one residences  23 marina way   apartment   \n",
       "freq             NaN                    668             274      13958   \n",
       "mean    5.495573e+06                    NaN             NaN        NaN   \n",
       "std     2.608064e+06                    NaN             NaN        NaN   \n",
       "min     1.000122e+06                    NaN             NaN        NaN   \n",
       "25%     3.229224e+06                    NaN             NaN        NaN   \n",
       "50%     5.486808e+06                    NaN             NaN        NaN   \n",
       "75%     7.764926e+06                    NaN             NaN        NaN   \n",
       "max     9.999807e+06                    NaN             NaN        NaN   \n",
       "\n",
       "            model market_segment type_of_area bedrooms     bathrooms  \\\n",
       "count       24768          26048        26048    25644  24812.000000   \n",
       "unique         14              1            1       17           NaN   \n",
       "top     apartment            ocr       strata        3           NaN   \n",
       "freq        13306          26048        26048     7306           NaN   \n",
       "mean          NaN            NaN          NaN      NaN      2.278091   \n",
       "std           NaN            NaN          NaN      NaN      1.147204   \n",
       "min           NaN            NaN          NaN      NaN      1.000000   \n",
       "25%           NaN            NaN          NaN      NaN      1.000000   \n",
       "50%           NaN            NaN          NaN      NaN      2.000000   \n",
       "75%           NaN            NaN          NaN      NaN      3.000000   \n",
       "max           NaN            NaN          NaN      NaN     10.000000   \n",
       "\n",
       "            district  ...           lat           lng              tenure  \\\n",
       "count   26048.000000  ...  26048.000000  26048.000000               25761   \n",
       "unique           NaN  ...           NaN           NaN                  53   \n",
       "top              NaN  ...           NaN           NaN  leasehold/99 years   \n",
       "freq             NaN  ...           NaN           NaN               15300   \n",
       "mean       12.211609  ...      1.321145    103.846138                 NaN   \n",
       "std         7.020134  ...      0.038569      0.049865                 NaN   \n",
       "min         1.000000  ...      1.239337    103.696215                 NaN   \n",
       "25%         7.000000  ...      1.296472    103.820262                 NaN   \n",
       "50%        11.000000  ...      1.313384    103.843081                 NaN   \n",
       "75%        18.000000  ...      1.341210    103.879673                 NaN   \n",
       "max        28.000000  ...      1.456436    103.976016                 NaN   \n",
       "\n",
       "          built_year   no_of_units     area_size   eco_category  \\\n",
       "count   16005.000000  25006.000000  26046.000000          26048   \n",
       "unique           NaN           NaN           NaN              1   \n",
       "top              NaN           NaN           NaN  uncategorized   \n",
       "freq             NaN           NaN           NaN          26048   \n",
       "mean     2010.926398    462.350636   1248.902096            NaN   \n",
       "std        11.915875    423.476259   1066.102020            NaN   \n",
       "min      1799.000000      1.000000    226.000000            NaN   \n",
       "25%      2010.000000    130.000000    678.000000            NaN   \n",
       "50%      2014.000000    366.000000    958.000000            NaN   \n",
       "75%      2016.000000    646.000000   1356.000000            NaN   \n",
       "max      2021.000000   2203.000000  15000.000000            NaN   \n",
       "\n",
       "        accessibility  date_listed         price  \n",
       "count           26048        26048  2.604800e+04  \n",
       "unique              1          359           NaN  \n",
       "top           guarded   2021-10-12           NaN  \n",
       "freq            26048         1728           NaN  \n",
       "mean              NaN          NaN  2.994669e+06  \n",
       "std               NaN          NaN  4.324294e+06  \n",
       "min               NaN          NaN  5.566000e+05  \n",
       "25%               NaN          NaN  1.331000e+06  \n",
       "50%               NaN          NaN  1.851800e+06  \n",
       "75%               NaN          NaN  2.948000e+06  \n",
       "max               NaN          NaN  7.480000e+07  \n",
       "\n",
       "[11 rows x 23 columns]"
      ]
     },
     "execution_count": 98,
     "metadata": {},
     "output_type": "execute_result"
    }
   ],
   "source": [
    "print('Train columns with null values:\\n', data1.isnull().sum())\n",
    "print(\"-\"*10)\n",
    "\n",
    "print('Test/Validation columns with null values:\\n', data_val.isnull().sum())\n",
    "print(\"-\"*10)\n",
    "\n",
    "data_raw.describe(include = 'all')"
   ]
  },
  {
   "cell_type": "markdown",
   "id": "e2feba8c",
   "metadata": {},
   "source": [
    "## 缺失值"
   ]
  },
  {
   "cell_type": "markdown",
   "id": "31f7d48c",
   "metadata": {},
   "source": [
    "## built_year:10043,model 1280, bathrooms 1236,no_of_units:1042,bedrooms 404,tenure 287"
   ]
  },
  {
   "cell_type": "markdown",
   "id": "c33b3d3b",
   "metadata": {},
   "source": [
    "## 怎么填补缺失值？"
   ]
  },
  {
   "cell_type": "markdown",
   "id": "ca2bbdb6",
   "metadata": {},
   "source": [
    "built_year和no_of_units可以用公寓名称等定位出来，有没有有数据的，进行填补\n",
    "或者众数or 中位数？ \n",
    "\n",
    "model是type的细分，type没有缺失，可以用相应的type来填补model?\n",
    "\n",
    "bedrooms可以用面积推理出来，或者再加上公寓名称什么的\n",
    "\n",
    "tenure可以看公寓名称？或者公寓类型？"
   ]
  },
  {
   "cell_type": "markdown",
   "id": "93f359ec",
   "metadata": {},
   "source": [
    "to do: built_year变成leasing date-built year\n",
    "\n",
    "to do: model和type的关系"
   ]
  },
  {
   "cell_type": "markdown",
   "id": "47008b3c",
   "metadata": {},
   "source": [
    "## 通过unique发现值只有一个的变量，没有意义：market_segment,type_of_area,eco_category,accessibility可以舍去"
   ]
  },
  {
   "cell_type": "code",
   "execution_count": 99,
   "id": "9f7d31e2",
   "metadata": {},
   "outputs": [
    {
     "data": {
      "text/plain": [
       "listing_id        26048\n",
       "name               1650\n",
       "street             3442\n",
       "type                  2\n",
       "model                14\n",
       "market_segment        1\n",
       "type_of_area          1\n",
       "bedrooms             17\n",
       "bathrooms             9\n",
       "district             27\n",
       "region                5\n",
       "planning_area        38\n",
       "subszone            193\n",
       "lat                3118\n",
       "lng                3118\n",
       "tenure               53\n",
       "built_year           60\n",
       "no_of_units         526\n",
       "area_size          1178\n",
       "eco_category          1\n",
       "accessibility         1\n",
       "date_listed         359\n",
       "price              4704\n",
       "dtype: int64"
      ]
     },
     "execution_count": 99,
     "metadata": {},
     "output_type": "execute_result"
    }
   ],
   "source": [
    "data_raw.nunique()"
   ]
  },
  {
   "cell_type": "code",
   "execution_count": 8,
   "id": "49cb0ba5",
   "metadata": {},
   "outputs": [
    {
     "data": {
      "text/plain": [
       "array(['57 cove way ', '10 moulmein rise ', '2 suffolk walk ', ...,\n",
       "       '71 oxley rise ', '301 jalan bukit ho swee ',\n",
       "       '12b cairnhill rise '], dtype=object)"
      ]
     },
     "execution_count": 8,
     "metadata": {},
     "output_type": "execute_result"
    }
   ],
   "source": [
    "data_raw['street'].unique()"
   ]
  },
  {
   "cell_type": "markdown",
   "id": "6e4ef991",
   "metadata": {},
   "source": [
    "street很多，有意义吗？怎么处理？"
   ]
  },
  {
   "cell_type": "code",
   "execution_count": 44,
   "id": "56139ca2",
   "metadata": {},
   "outputs": [
    {
     "data": {
      "text/plain": [
       "array(['condominium', 'apartment'], dtype=object)"
      ]
     },
     "execution_count": 44,
     "metadata": {},
     "output_type": "execute_result"
    }
   ],
   "source": [
    "data_raw['type'].unique()"
   ]
  },
  {
   "cell_type": "markdown",
   "id": "9608ad14",
   "metadata": {},
   "source": [
    "type名义变量，可以One-hot"
   ]
  },
  {
   "cell_type": "code",
   "execution_count": 45,
   "id": "21743f3b",
   "metadata": {
    "scrolled": false
   },
   "outputs": [
    {
     "data": {
      "text/plain": [
       "array(['condominium', 'apartment', 'executive condominium', nan,\n",
       "       'walk-up apt', 'townhouse', 'soho', 'penthouse', 'duplex',\n",
       "       'high rise', 'residential with commercial on level 1', 'with pool',\n",
       "       'low rise', 'shophouse', 'strata terrace'], dtype=object)"
      ]
     },
     "execution_count": 45,
     "metadata": {},
     "output_type": "execute_result"
    }
   ],
   "source": [
    "data_raw['model'].unique()"
   ]
  },
  {
   "cell_type": "markdown",
   "id": "0641ecaa",
   "metadata": {},
   "source": [
    "先看分布,null补全，decision-tree"
   ]
  },
  {
   "cell_type": "markdown",
   "id": "c8ed8c5c",
   "metadata": {},
   "source": [
    "model是type的细分，怎么处理？"
   ]
  },
  {
   "cell_type": "code",
   "execution_count": 46,
   "id": "8750e9f5",
   "metadata": {},
   "outputs": [
    {
     "data": {
      "text/plain": [
       "array(['ocr'], dtype=object)"
      ]
     },
     "execution_count": 46,
     "metadata": {},
     "output_type": "execute_result"
    }
   ],
   "source": [
    "data_raw['market_segment'].unique()"
   ]
  },
  {
   "cell_type": "code",
   "execution_count": 47,
   "id": "79760f2d",
   "metadata": {},
   "outputs": [
    {
     "data": {
      "text/plain": [
       "array(['ocr'], dtype=object)"
      ]
     },
     "execution_count": 47,
     "metadata": {},
     "output_type": "execute_result"
    }
   ],
   "source": [
    "data_val['market_segment'].unique()"
   ]
  },
  {
   "cell_type": "markdown",
   "id": "6cb4019b",
   "metadata": {},
   "source": [
    "market_segment只有ocr，没有意义"
   ]
  },
  {
   "cell_type": "code",
   "execution_count": 48,
   "id": "b2124818",
   "metadata": {
    "scrolled": true
   },
   "outputs": [
    {
     "data": {
      "text/plain": [
       "array(['strata'], dtype=object)"
      ]
     },
     "execution_count": 48,
     "metadata": {},
     "output_type": "execute_result"
    }
   ],
   "source": [
    "data_raw['type_of_area'].unique()"
   ]
  },
  {
   "cell_type": "code",
   "execution_count": 49,
   "id": "d4c1b201",
   "metadata": {},
   "outputs": [
    {
     "data": {
      "text/plain": [
       "array(['strata'], dtype=object)"
      ]
     },
     "execution_count": 49,
     "metadata": {},
     "output_type": "execute_result"
    }
   ],
   "source": [
    "data_val['type_of_area'].unique()"
   ]
  },
  {
   "cell_type": "markdown",
   "id": "b57febbd",
   "metadata": {},
   "source": [
    "type_of_area只有strata，没有意义"
   ]
  },
  {
   "cell_type": "code",
   "execution_count": 50,
   "id": "2fee2bab",
   "metadata": {
    "scrolled": true
   },
   "outputs": [
    {
     "data": {
      "text/plain": [
       "array(['3', '4', '2', '1', '3+1', '1+1', '2+1', nan, '5', '4+1', '7',\n",
       "       '5+1', '6', '3+2', '2+2', '9', '8', '4+2'], dtype=object)"
      ]
     },
     "execution_count": 50,
     "metadata": {},
     "output_type": "execute_result"
    }
   ],
   "source": [
    "data_raw['bedrooms'].unique()"
   ]
  },
  {
   "cell_type": "markdown",
   "id": "33e70908",
   "metadata": {},
   "source": [
    "to do:具体看3+1的表示"
   ]
  },
  {
   "cell_type": "code",
   "execution_count": 51,
   "id": "12a574f3",
   "metadata": {},
   "outputs": [
    {
     "data": {
      "text/plain": [
       "str"
      ]
     },
     "execution_count": 51,
     "metadata": {},
     "output_type": "execute_result"
    }
   ],
   "source": [
    "type(data_raw['bedrooms'][0])"
   ]
  },
  {
   "cell_type": "markdown",
   "id": "b6d5a75a",
   "metadata": {},
   "source": [
    "'bedrooms' string先进行数据处理2+1是什么意思？然后变成分段变量"
   ]
  },
  {
   "cell_type": "code",
   "execution_count": 52,
   "id": "4fd793e6",
   "metadata": {
    "scrolled": true
   },
   "outputs": [
    {
     "data": {
      "text/plain": [
       "array([ 4.,  3.,  2.,  1., nan,  5.,  6.,  7.,  8., 10.])"
      ]
     },
     "execution_count": 52,
     "metadata": {},
     "output_type": "execute_result"
    }
   ],
   "source": [
    "data_raw['bathrooms'].unique()"
   ]
  },
  {
   "cell_type": "code",
   "execution_count": 53,
   "id": "15fb6d84",
   "metadata": {},
   "outputs": [
    {
     "data": {
      "text/plain": [
       "numpy.float64"
      ]
     },
     "execution_count": 53,
     "metadata": {},
     "output_type": "execute_result"
    }
   ],
   "source": [
    "type(data_raw['bathrooms'][0])"
   ]
  },
  {
   "cell_type": "markdown",
   "id": "4c2646ee",
   "metadata": {},
   "source": [
    "float变成Int"
   ]
  },
  {
   "cell_type": "code",
   "execution_count": 54,
   "id": "0ea5b401",
   "metadata": {
    "scrolled": true
   },
   "outputs": [
    {
     "data": {
      "text/plain": [
       "array([ 4, 11, 14, 15, 27, 23, 19,  7,  2, 10, 18, 16,  1,  6,  3,  5,  9,\n",
       "       28, 13, 21, 17,  8, 22, 12, 20, 25, 26])"
      ]
     },
     "execution_count": 54,
     "metadata": {},
     "output_type": "execute_result"
    }
   ],
   "source": [
    "data_raw['district'].unique()"
   ]
  },
  {
   "cell_type": "code",
   "execution_count": 55,
   "id": "03521f64",
   "metadata": {
    "scrolled": false
   },
   "outputs": [
    {
     "data": {
      "text/plain": [
       "numpy.int64"
      ]
     },
     "execution_count": 55,
     "metadata": {},
     "output_type": "execute_result"
    }
   ],
   "source": [
    "type(data_raw['district'][0])"
   ]
  },
  {
   "cell_type": "code",
   "execution_count": 56,
   "id": "32085a93",
   "metadata": {},
   "outputs": [
    {
     "data": {
      "text/plain": [
       "array(['central region', 'east region', 'north region', 'west region',\n",
       "       'north-east region'], dtype=object)"
      ]
     },
     "execution_count": 56,
     "metadata": {},
     "output_type": "execute_result"
    }
   ],
   "source": [
    "data_raw['region'].unique()"
   ]
  },
  {
   "cell_type": "code",
   "execution_count": 57,
   "id": "616b5357",
   "metadata": {
    "scrolled": true
   },
   "outputs": [
    {
     "data": {
      "text/plain": [
       "array(['southern islands', 'novena', 'bedok', 'sembawang', 'bukit batok',\n",
       "       'sengkang', 'downtown core', 'newton', 'tampines', 'kallang',\n",
       "       'bukit merah', 'choa chu kang', 'bukit timah', 'outram',\n",
       "       'queenstown', 'river valley', 'singapore river', 'toa payoh',\n",
       "       'hougang', 'tanglin', 'pasir ris', 'geylang', 'museum', 'clementi',\n",
       "       'serangoon', 'jurong east', 'orchard', 'yishun', 'marine parade',\n",
       "       'bukit panjang', 'jurong west', 'ang mo kio', 'rochor', 'bishan',\n",
       "       'punggol', 'woodlands', 'mandai', 'changi'], dtype=object)"
      ]
     },
     "execution_count": 57,
     "metadata": {},
     "output_type": "execute_result"
    }
   ],
   "source": [
    "data_raw['planning_area'].unique()"
   ]
  },
  {
   "cell_type": "code",
   "execution_count": 97,
   "id": "8f981bb2",
   "metadata": {},
   "outputs": [
    {
     "data": {
      "text/plain": [
       "array(['sentosa', 'moulmein', 'kaki bukit', 'frankel',\n",
       "       'sembawang springs', 'hillview', 'compassvale', 'city hall',\n",
       "       'anson', 'orange grove'], dtype=object)"
      ]
     },
     "execution_count": 97,
     "metadata": {},
     "output_type": "execute_result"
    }
   ],
   "source": [
    "data_raw['subszone'].unique()[:10]"
   ]
  },
  {
   "cell_type": "code",
   "execution_count": 59,
   "id": "8364cc64",
   "metadata": {},
   "outputs": [
    {
     "data": {
      "text/plain": [
       "array([1.23933663, 1.31953349, 1.31565586, ..., 1.28162632, 1.34241264,\n",
       "       1.30899132])"
      ]
     },
     "execution_count": 59,
     "metadata": {},
     "output_type": "execute_result"
    }
   ],
   "source": [
    "data_raw['lat'].unique()"
   ]
  },
  {
   "cell_type": "code",
   "execution_count": 60,
   "id": "654c944b",
   "metadata": {
    "scrolled": false
   },
   "outputs": [
    {
     "data": {
      "text/plain": [
       "array([103.83748719, 103.84702986, 103.84444472, ..., 103.78486945,\n",
       "       103.77653939, 103.83828467])"
      ]
     },
     "execution_count": 60,
     "metadata": {},
     "output_type": "execute_result"
    }
   ],
   "source": [
    "data_raw['lng'].unique()"
   ]
  },
  {
   "cell_type": "code",
   "execution_count": 61,
   "id": "f8f8e5be",
   "metadata": {},
   "outputs": [
    {
     "data": {
      "text/plain": [
       "numpy.float64"
      ]
     },
     "execution_count": 61,
     "metadata": {},
     "output_type": "execute_result"
    }
   ],
   "source": [
    "type(data_raw['lng'][0])"
   ]
  },
  {
   "cell_type": "markdown",
   "id": "365ba265",
   "metadata": {},
   "source": [
    "上面这几个都是描述地理位置的"
   ]
  },
  {
   "cell_type": "code",
   "execution_count": 62,
   "id": "47e806c8",
   "metadata": {},
   "outputs": [
    {
     "data": {
      "text/plain": [
       "array(['leasehold/99 years', 'freehold', nan, '999 years',\n",
       "       '99 years from 18/04/2016', '956 years from 27/05/1928',\n",
       "       '99 years from 12/08/2002', 'leasehold/60 years',\n",
       "       '99 years from 14/08/2018', '9999 years from 02/06/1995',\n",
       "       '99 years from 09/03/2016', 'leasehold/103 years',\n",
       "       '99 years from 10/07/2013', '99 years from 25/06/2008',\n",
       "       '99 years from 03/07/2019', '99 years from 12/07/2018',\n",
       "       '946 years from 01/01/1938', '99 years',\n",
       "       '99 years from 29/06/2015', '99 years from 16/04/2012',\n",
       "       '99 years from 19/03/2001', '99 years from 04/12/2012',\n",
       "       '99 years from 27/03/2018', '110 years from 01/11/2017',\n",
       "       '99 years from 11/02/2009', '99 years from 10/12/2018',\n",
       "       '99 years from 24/12/2018', '947 years from 05/10/1934',\n",
       "       '998 years from 12/10/1885', '99 years from 01/09/1991',\n",
       "       '99 years from 01/03/1991', '99 years from 21/03/2006',\n",
       "       '947 years from 15/05/1937', '99 years from 13/03/2017',\n",
       "       '99 years from 23/07/1991', '99 years from 23/04/2014',\n",
       "       '99 years from 03/08/2010', '929 years from 01/01/1953',\n",
       "       '946 years from 27/11/1937', '99 years from 01/12/1991',\n",
       "       '99 years from 04/06/2012', '99 years from 12/08/1996',\n",
       "       '99 years from 15/06/2011', '99 years from 10/01/2011',\n",
       "       '99 years from 03/10/2011', '99 years from 22/11/2002',\n",
       "       '99 years from 28/06/2011', '100 years from 01/02/1986',\n",
       "       '99 years from 16/12/1997', '99 years from 01/12/1994',\n",
       "       '99 years from 11/07/2011', '99 years from 02/02/1998',\n",
       "       '99 years from 01/12/1997', '99 years from 27/12/2010'],\n",
       "      dtype=object)"
      ]
     },
     "execution_count": 62,
     "metadata": {},
     "output_type": "execute_result"
    }
   ],
   "source": [
    "data_raw['tenure'].unique()"
   ]
  },
  {
   "cell_type": "code",
   "execution_count": 63,
   "id": "7fe998c1",
   "metadata": {
    "scrolled": true
   },
   "outputs": [
    {
     "data": {
      "text/plain": [
       "str"
      ]
     },
     "execution_count": 63,
     "metadata": {},
     "output_type": "execute_result"
    }
   ],
   "source": [
    "type(data_raw['tenure'][0])"
   ]
  },
  {
   "cell_type": "markdown",
   "id": "4dd345a1",
   "metadata": {},
   "source": [
    "929 years from 01/01/1953但是建造年限是1997，要进行相应的转化，提取出from的字段减去建造年份的间隔，得到新的tenure.但是大体上可以分成\n",
    "99年，999年，freehold，可以聚类？"
   ]
  },
  {
   "cell_type": "markdown",
   "id": "36a7a856",
   "metadata": {},
   "source": [
    "to do:tenure的年份到底是啥关系？"
   ]
  },
  {
   "cell_type": "code",
   "execution_count": 64,
   "id": "1c5d9c04",
   "metadata": {},
   "outputs": [
    {
     "data": {
      "text/plain": [
       "array([2011., 1999., 2012.,   nan, 2014., 2020., 2002., 2016., 2008.,\n",
       "       2018., 2017., 2009., 1978., 1993., 2019., 2015., 2013., 2007.,\n",
       "       2010., 1989., 1996., 1930., 1985., 2021., 1998., 1995., 2005.,\n",
       "       2000., 1974., 2004., 2003., 2001., 1997., 2006., 1937., 1994.,\n",
       "       1986., 1977., 1984., 1970., 1976., 1990., 1992., 1981., 1988.,\n",
       "       1991., 1966., 1983., 1975., 1979., 1980., 1960., 1972., 1982.,\n",
       "       1799., 1971., 1967., 1910., 1965., 1987., 1968.])"
      ]
     },
     "execution_count": 64,
     "metadata": {},
     "output_type": "execute_result"
    }
   ],
   "source": [
    "data_raw['built_year'].unique()"
   ]
  },
  {
   "cell_type": "code",
   "execution_count": 65,
   "id": "c1743719",
   "metadata": {},
   "outputs": [
    {
     "data": {
      "text/plain": [
       "numpy.float64"
      ]
     },
     "execution_count": 65,
     "metadata": {},
     "output_type": "execute_result"
    }
   ],
   "source": [
    "type(data_raw['built_year'][0])"
   ]
  },
  {
   "cell_type": "markdown",
   "id": "aefb87da",
   "metadata": {},
   "source": [
    "float64变成int"
   ]
  },
  {
   "cell_type": "code",
   "execution_count": 68,
   "id": "89ad5211",
   "metadata": {},
   "outputs": [
    {
     "data": {
      "text/plain": [
       "numpy.float64"
      ]
     },
     "execution_count": 68,
     "metadata": {},
     "output_type": "execute_result"
    }
   ],
   "source": [
    "type(data_raw['no_of_units'][0])"
   ]
  },
  {
   "cell_type": "code",
   "execution_count": 95,
   "id": "c878e70b",
   "metadata": {},
   "outputs": [
    {
     "data": {
      "text/plain": [
       "array([151.,  24., 235., 237.,  36.])"
      ]
     },
     "execution_count": 95,
     "metadata": {},
     "output_type": "execute_result"
    }
   ],
   "source": [
    "data_raw['no_of_units'].unique()[:5]"
   ]
  },
  {
   "cell_type": "markdown",
   "id": "75060856",
   "metadata": {},
   "source": [
    "no_of_units - 公寓中的单元总数,描述这个公寓大不大，可以聚类或者分段？"
   ]
  },
  {
   "cell_type": "markdown",
   "id": "7e3f9700",
   "metadata": {},
   "source": [
    "to do:分段？decision tree决定要不要分段，不需手动，看分布：平均？"
   ]
  },
  {
   "cell_type": "code",
   "execution_count": 72,
   "id": "06e91331",
   "metadata": {},
   "outputs": [
    {
     "data": {
      "text/plain": [
       "array([2336., 1259., 1959., ..., 2880.,  833., 5743.])"
      ]
     },
     "execution_count": 72,
     "metadata": {},
     "output_type": "execute_result"
    }
   ],
   "source": [
    "data_raw['area_size'].unique()"
   ]
  },
  {
   "cell_type": "code",
   "execution_count": 73,
   "id": "404d465f",
   "metadata": {},
   "outputs": [
    {
     "data": {
      "text/plain": [
       "numpy.float64"
      ]
     },
     "execution_count": 73,
     "metadata": {},
     "output_type": "execute_result"
    }
   ],
   "source": [
    "type(data_raw['area_size'][0])"
   ]
  },
  {
   "cell_type": "code",
   "execution_count": 74,
   "id": "d1e3ae36",
   "metadata": {
    "scrolled": false
   },
   "outputs": [
    {
     "data": {
      "text/plain": [
       "array(['uncategorized'], dtype=object)"
      ]
     },
     "execution_count": 74,
     "metadata": {},
     "output_type": "execute_result"
    }
   ],
   "source": [
    "data_raw['eco_category'].unique()"
   ]
  },
  {
   "cell_type": "code",
   "execution_count": 75,
   "id": "4265ecb1",
   "metadata": {
    "scrolled": false
   },
   "outputs": [
    {
     "data": {
      "text/plain": [
       "array(['uncategorized'], dtype=object)"
      ]
     },
     "execution_count": 75,
     "metadata": {},
     "output_type": "execute_result"
    }
   ],
   "source": [
    "data_val['eco_category'].unique()"
   ]
  },
  {
   "cell_type": "markdown",
   "id": "9f6316fe",
   "metadata": {},
   "source": [
    "eco_category,没用,或者自己找数据补充进去"
   ]
  },
  {
   "cell_type": "markdown",
   "id": "70d48167",
   "metadata": {},
   "source": [
    "to do:eco_category去掉"
   ]
  },
  {
   "cell_type": "code",
   "execution_count": 76,
   "id": "aa8fffca",
   "metadata": {},
   "outputs": [
    {
     "data": {
      "text/plain": [
       "array(['guarded'], dtype=object)"
      ]
     },
     "execution_count": 76,
     "metadata": {},
     "output_type": "execute_result"
    }
   ],
   "source": [
    "data_raw['accessibility'].unique()"
   ]
  },
  {
   "cell_type": "code",
   "execution_count": 77,
   "id": "a215f4bd",
   "metadata": {},
   "outputs": [
    {
     "data": {
      "text/plain": [
       "array(['guarded'], dtype=object)"
      ]
     },
     "execution_count": 77,
     "metadata": {},
     "output_type": "execute_result"
    }
   ],
   "source": [
    "data_val['accessibility'].unique()"
   ]
  },
  {
   "cell_type": "markdown",
   "id": "30b1d502",
   "metadata": {},
   "source": [
    "accessibility 都是guarded，没用"
   ]
  },
  {
   "cell_type": "code",
   "execution_count": 96,
   "id": "0f819418",
   "metadata": {
    "scrolled": true
   },
   "outputs": [
    {
     "data": {
      "text/plain": [
       "array(['2021-05-04', '2021-05-07', '2021-06-30', '2022-01-02',\n",
       "       '2021-12-24', '2022-01-04', '2022-01-05', '2021-12-17',\n",
       "       '2021-12-25', '2021-09-24'], dtype=object)"
      ]
     },
     "execution_count": 96,
     "metadata": {},
     "output_type": "execute_result"
    }
   ],
   "source": [
    "data_raw['date_listed'].unique()[:10]"
   ]
  },
  {
   "cell_type": "markdown",
   "id": "efbe05a6",
   "metadata": {},
   "source": [
    "在 SRX 上发布的日期，格式变成timestamp?"
   ]
  },
  {
   "cell_type": "markdown",
   "id": "4a949382",
   "metadata": {},
   "source": [
    "to do:大部分时间是21年1月份以后，长尾效应。受经济影响不大"
   ]
  },
  {
   "cell_type": "code",
   "execution_count": 78,
   "id": "4a651c6b",
   "metadata": {},
   "outputs": [
    {
     "data": {
      "text/plain": [
       "array([5390000., 2310000., 5279500., ..., 1230500., 2383100., 4160000.])"
      ]
     },
     "execution_count": 78,
     "metadata": {},
     "output_type": "execute_result"
    }
   ],
   "source": [
    "data_raw['price'].unique()"
   ]
  },
  {
   "cell_type": "code",
   "execution_count": 79,
   "id": "32e8ed19",
   "metadata": {},
   "outputs": [
    {
     "data": {
      "text/plain": [
       "numpy.float64"
      ]
     },
     "execution_count": 79,
     "metadata": {},
     "output_type": "execute_result"
    }
   ],
   "source": [
    "type(data_raw['price'][0])"
   ]
  },
  {
   "cell_type": "markdown",
   "id": "5d9dd178",
   "metadata": {},
   "source": [
    "## 关于其他数据的讨论"
   ]
  },
  {
   "cell_type": "markdown",
   "id": "e80b52f7",
   "metadata": {},
   "source": [
    "15分钟生活圈，可以试一下数据1km-3km，统计里面学校/商圈的个数，可以用球面数据https://www.movable-type.co.uk/scripts/latlong.html"
   ]
  },
  {
   "cell_type": "markdown",
   "id": "985db2b1",
   "metadata": {},
   "source": [
    "数据的补全"
   ]
  },
  {
   "cell_type": "markdown",
   "id": "c40254fe",
   "metadata": {},
   "source": [
    "type model关系探索"
   ]
  },
  {
   "cell_type": "markdown",
   "id": "6f868978",
   "metadata": {},
   "source": [
    "bedroom 3+1这种怎么处理"
   ]
  },
  {
   "cell_type": "markdown",
   "id": "1549892c",
   "metadata": {},
   "source": [
    "地理位置各种变量怎么用？"
   ]
  },
  {
   "cell_type": "markdown",
   "id": "510a2533",
   "metadata": {},
   "source": [
    "看一下test数据集跟train数据集的overlap，如果公寓名称等能对应起来，就直接出来价格--short cut"
   ]
  },
  {
   "cell_type": "code",
   "execution_count": null,
   "id": "08de78f5",
   "metadata": {},
   "outputs": [],
   "source": []
  }
 ],
 "metadata": {
  "kernelspec": {
   "display_name": "Python 3 (ipykernel)",
   "language": "python",
   "name": "python3"
  },
  "language_info": {
   "codemirror_mode": {
    "name": "ipython",
    "version": 3
   },
   "file_extension": ".py",
   "mimetype": "text/x-python",
   "name": "python",
   "nbconvert_exporter": "python",
   "pygments_lexer": "ipython3",
   "version": "3.9.7"
  }
 },
 "nbformat": 4,
 "nbformat_minor": 5
}
