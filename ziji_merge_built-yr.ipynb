{
 "cells": [
  {
   "cell_type": "code",
   "execution_count": 2,
   "metadata": {
    "collapsed": true
   },
   "outputs": [],
   "source": [
    "import pandas as pd\n",
    "import numpy as np\n",
    "import csv"
   ]
  },
  {
   "cell_type": "code",
   "execution_count": 14,
   "outputs": [],
   "source": [
    "props = {}\n",
    "with open(\"property_to_correct.csv\", 'r') as fin:\n",
    "    lines = fin.readlines()\n",
    "    for line in lines:\n",
    "        props[line.rstrip()]=0"
   ],
   "metadata": {
    "collapsed": false,
    "pycharm": {
     "name": "#%%\n"
    }
   }
  },
  {
   "cell_type": "code",
   "execution_count": 15,
   "outputs": [
    {
     "data": {
      "text/plain": "221"
     },
     "execution_count": 15,
     "metadata": {},
     "output_type": "execute_result"
    }
   ],
   "source": [
    "len(props.keys())"
   ],
   "metadata": {
    "collapsed": false,
    "pycharm": {
     "name": "#%%\n"
    }
   }
  },
  {
   "cell_type": "code",
   "execution_count": 18,
   "outputs": [
    {
     "name": "stdout",
     "output_type": "stream",
     "text": [
      "flanders square,\n",
      "\n",
      "1208 upper boon keng road,\n",
      "\n",
      "punggol central,\n",
      "\n",
      "geylang road,\n",
      "\n",
      "clarke quay,\n",
      "\n",
      "cairnhill road,\n",
      "\n",
      "chancery lane,\n",
      "\n",
      "horne road,\n",
      "\n",
      "river valley close,\n",
      "\n",
      "harbourfront place,\n",
      "\n",
      "upper changi road north,\n",
      "\n",
      "hume avenue,\n",
      "\n",
      "parkway apartment,\n",
      "\n",
      "almond avenue,\n",
      "\n",
      "dublin road,\n",
      "\n",
      "jalan lapang,\n",
      "\n",
      "72\n"
     ]
    }
   ],
   "source": [
    "cnt=0\n",
    "with open(\"tmp/property_to_correct_149_211.txt\", 'r') as fin:\n",
    "    lines = fin.readlines()\n",
    "    for line in lines:\n",
    "        if ',' in line:\n",
    "            p = line.split(',')[0].rstrip()\n",
    "            if len(line.split(','))<2:\n",
    "                y = np.nan\n",
    "            else:\n",
    "                try:\n",
    "                    y = int(line.split(',')[1])\n",
    "                except ValueError:\n",
    "                    print(line)\n",
    "                    y = np.nan\n",
    "            if p in props.keys():\n",
    "                props[p]=y\n",
    "                cnt+=1\n",
    "print(cnt)"
   ],
   "metadata": {
    "collapsed": false,
    "pycharm": {
     "name": "#%%\n"
    }
   }
  },
  {
   "cell_type": "code",
   "execution_count": 19,
   "outputs": [
    {
     "data": {
      "text/plain": "{'infini at east coast': 0,\n 'sengkang grand residences': 0,\n 'tampines street 11': 0,\n 'van holland': 0,\n 'one-north eden': 0,\n 'provence residence': 0,\n 'affinity at serangoon': 0,\n 'sims avenue': 0,\n 'bartley vue': 0,\n 'the avenir': 0,\n 'boulevard 88': 0,\n 'mori': 0,\n 'lorong 34 geylang': 0,\n 'residence twenty-two': 0,\n '39 flower road': 0,\n 'riverfront residences': 0,\n 'peak residence': 0,\n '35 gilstead': 0,\n 'holland grove road': 0,\n 'brookvale drive': 0,\n 'parc central residences': 0,\n 'perfect ten': 0,\n 'parc greenwich': 0,\n 'wilshire residences': 0,\n 'the arden': 0,\n 'fernvale link': 0,\n 'shunfu road': 0,\n 'jadescape': 0,\n 'fernvale road': 0,\n 'the tre ver': 0,\n 'phoenix residences': 0,\n 'the antares': 0,\n 'beach road': 0,\n 'hougang avenue 7': 0,\n 'jalan lempeng': 0,\n 'ikigai': 0,\n 'pasir ris heights': 0,\n 'yishun close': 0,\n 'the commodore': 0,\n 'river valley road': 0,\n 'upper boon keng road': 0,\n '77 @ east coast': 0,\n 'lattice one': 0,\n 'jalan kemaman': 0,\n 'canberra walk': 0,\n 'haus on handy': 0,\n '19 nassim': 0,\n 'phoenix road': 0,\n 'shenton way': 0,\n 'harbour view gardens': 0,\n 'rv altitude': 0,\n 'phoenix garden': 0,\n 'yong siak street': 0,\n 'westwood avenue': 0,\n 'balestier road': 0,\n 'choa chu kang avenue 4': 0,\n 'cairnhill 16': 0,\n 'm suites': 0,\n 'yishun ring road': 0,\n 'jalan molek': 0,\n 'west coast crescent': 0,\n 'amber sea': 0,\n 'serangoon north avenue 1': 0,\n 'rochester drive': 0,\n 'upper changi road east': 0,\n 'punggol field': 0,\n 'tampines street 45': 0,\n 'royal hallmark': 0,\n 'serangoon central drive': 0,\n 'hillside drive': 0,\n 'hougang central': 0,\n 'the linq @ beauty world': 0,\n 'belgravia drive': 0,\n 'arthur road': 0,\n 'lorong 6 toa payoh': 0,\n 'parc esta': 0,\n 'eu tong sen street': 0,\n 'guillemard road': 0,\n 'canberra street': 0,\n 'laurel tree': 0,\n 'balmoral park': 0,\n 'chestnut crescent': 0,\n 'swiss view': 0,\n 'dunearn 386': 0,\n 'edgedale plains': 0,\n 'lew lian vale': 0,\n 'piermont grand': 0,\n 'slim barracks rise': 0,\n 'olloi': 0,\n 'phoenix avenue': 0,\n 'tanah merah kechil ridge': 0,\n 'mount sophia': 0,\n 'dalvey estate': 0,\n 'sumang walk': 0,\n 'broadrick road': 0,\n 'liv @ mb': 0,\n 'victoria street': 0,\n 'fraser street': 0,\n 'simon lane': 0,\n 'punggol walk': 0,\n 'jalan bunga rampai': 0,\n 'highgate crescent': 0,\n 'marne road': 0,\n 'how sun road': 0,\n 'hindhede drive': 0,\n 'fifth avenue': 0,\n 'jalan remaja': 0,\n 'lorong 40 geylang': 0,\n 'toh tuck road': 0,\n 'marine drive': 0,\n 'changi road': 0,\n 'jalan rendang': 0,\n 'lewis road': 0,\n 'noma': 0,\n 'punggol drive': 0,\n 'les maisons nassim': 0,\n 'tanjong katong road': 0,\n 'cashew road': 0,\n 'jervois road': 0,\n 'perumal road': 0,\n 'pasir ris central street 3': 0,\n 'makeway avenue': 0,\n 'bencoolen house': 0,\n 'rezi 24': 0,\n 'yishun avenue 1': 0,\n 'bukit timah road': 0,\n 'jurong west central 3': 0,\n 'prince charles crescent': 0,\n 'margate road': 0,\n 'foo kim lin road': 0,\n \"saint patrick's road\": 0,\n 'lorong h telok kurau': 0,\n 'draycott park': 0,\n 'buangkok crescent': 0,\n 'ang mo kio avenue 2': 0,\n 'toh tuck drive': 0,\n 'king albert park': 0,\n 'scotts road': 0,\n 'compassvale bow': 0,\n 'dundee road': 0,\n 'upper bukit timah road': 0,\n 'loyang view': 0,\n 'simei street 1': 0,\n 'draycott drive': 0,\n 'tanglin hill': 0,\n 'fernvale lane': 0,\n 'sin ming avenue': 0,\n 'jalan suka': 0,\n 'lorong marzuki': 1984,\n 'mount echo park': 1987,\n 'richards avenue': 1976,\n 'flanders square': nan,\n 'leedon heights': 1984,\n 'amber gardens': 1986,\n 'opal crescent': 2012,\n 'balmoral road': 2014,\n 'thomson road': 1964,\n 'jalan intan': 2002,\n 'sophia road': 2001,\n '1208 upper boon keng road': nan,\n 'ps100': 2015,\n 'north gaia': 2029,\n 'sing joo walk': 1955,\n 'carpmael thirty-eight': 2020,\n 'hougang avenue 3': 1983,\n 'eng hoon street': 1937,\n 'punggol central': nan,\n 'geylang road': nan,\n 'joo chiat place': 1954,\n 'clarke quay': nan,\n 'compassvale road': 1998,\n 'farrer road': 1973,\n 'hougang avenue 2': 1985,\n 'anchorvale link': 2000,\n 'moulmein rise': 2003,\n 'cairnhill road': nan,\n 'rivervale drive': 1998,\n 'lorong k telok kurau': 1988,\n 'macpherson road': 1968,\n 'lorong 1a toa payoh': 2012,\n 'oxley road': 1973,\n 'sycamore tree': 2016,\n 'chancery lane': nan,\n 'horne road': nan,\n 'river valley close': nan,\n 'harbourfront place': nan,\n 'how sun close': 1975,\n 'upper changi road north': nan,\n 'hume avenue': nan,\n 'jalan layang layang': 1992,\n 'toa payoh north': 1973,\n 'east coast road': 2002,\n 'the rochester': 2011,\n 'arena residences': 2022,\n 'lorong l telok kurau': 1995,\n 'fernvale close': 2018,\n 'west coast walk': 1991,\n 'parkway apartment': nan,\n 'almond avenue': nan,\n 'lloyd road': 2016,\n 'toh tuck place': 1984,\n 'dyson road': 1996,\n 'chwee chian view': 1991,\n 'trevose crescent': 2001,\n 'tan quee lan street': 2005,\n 'woodlands drive 16': 0,\n 'joo chiat road': 1985,\n 'alexandra road': 1938,\n 'woodgrove avenue': 1998,\n 'dublin road': nan,\n 'seraya lane': 2009,\n 'yishun central': 1987,\n 'stirling road': 1970,\n 'ellington square': 1965,\n 'gerald drive': 1989,\n 'jalan lapang': nan,\n 'telok kurau road': 1994,\n 'dairy farm heights': 1989,\n 'neu at novena': 2023,\n 'cuscaden reserve': 2022,\n 'parc clematis': 2023}"
     },
     "execution_count": 19,
     "metadata": {},
     "output_type": "execute_result"
    }
   ],
   "source": [
    "props"
   ],
   "metadata": {
    "collapsed": false,
    "pycharm": {
     "name": "#%%\n"
    }
   }
  },
  {
   "cell_type": "code",
   "execution_count": 22,
   "outputs": [
    {
     "name": "stdout",
     "output_type": "stream",
     "text": [
      "tanjong katong road,1965\n",
      "\n",
      "perfect ten,2025\n",
      "\n",
      "jervois treasures,2022\n",
      "\n",
      "upper bukit timah road,1845\n",
      "\n",
      "one draycott,2022\n",
      "\n",
      "rezi 24,2022\n",
      "\n",
      "trevose crescent,2001\n",
      "\n",
      "almond avenue,1998\n",
      "\n",
      "parkwood residences,2026\n",
      "\n",
      "phoenix avenue,2024\n",
      "\n",
      "uptown @ farrer,2021\n",
      "\n",
      "the avenir,2028\n",
      "\n",
      "bukit timah road,1845\n",
      "\n",
      "77 @ east coast,2022\n",
      "\n",
      "the rochester,2011\n",
      "\n",
      "the linq @ beauty world,2025\n",
      "\n",
      "10 evelyn,2022\n",
      "\n",
      "royal hallmark,2025\n",
      "\n",
      "shenton way,2011\n",
      "\n",
      "jalan lempeng\n",
      "\n",
      "19 nassim,2023\n",
      "\n",
      "irwell hill residences,2026\n",
      "\n",
      "king albert park,2017\n",
      "\n",
      "jalan bunga rampai\n",
      "\n",
      "draycott drive,2002\n",
      "\n",
      "fourth avenue residences,1986\n",
      "\n",
      "ps100,2015\n",
      "\n",
      "treasure at tampines,2023\n",
      "\n",
      "makeway avenue\n",
      "\n",
      "swiss view,1994\n",
      "\n",
      "lorong k telok kurau\n",
      "\n",
      "normanton park,1977\n",
      "\n",
      "westwood avenue,2002\n",
      "\n",
      "marine drive,1975\n",
      "\n",
      "the draycott,1980\n",
      "\n",
      "cairnhill road\n",
      "\n",
      "yishun ring road,1988\n",
      "\n",
      "pasir ris central street 3\n",
      "\n",
      "compassvale road,1998\n",
      "\n",
      "the tre ver,2022\n",
      "\n",
      "margate road\n",
      "\n",
      "mount sophia,2007\n",
      "\n",
      "whistler grand,2022\n",
      "\n",
      "slim barracks rise\n",
      "\n",
      "jalan besar,1932\n",
      "\n",
      "sing joo walk,1955\n",
      "\n",
      "west coast walk,2010\n",
      "\n",
      "thomson road,1964\n",
      "\n",
      "lorong l telok kurau,2014\n",
      "\n",
      "kopar at newton,2023\n",
      "\n",
      "wilshire residences,2024\n",
      "\n",
      "sky everton,2023\n",
      "\n",
      "sin ming avenue\n",
      "\n",
      "choa chu kang avenue 4\n",
      "\n",
      "changi road,1983\n",
      "\n",
      "jalan kemaman,1993\n",
      "\n",
      "tiong bahru estate,1930\n",
      "\n",
      "seraya lane,2009\n",
      "\n",
      "eng hoon street,1937\n",
      "\n",
      "arena residences,2022\n",
      "\n",
      "fifth avenue,1998\n",
      "\n",
      "lorong 40 geylang\n",
      "\n",
      "olloi,2022\n",
      "\n",
      "balmoral road\n",
      "\n",
      "holland grove road\n",
      "\n",
      "dyson road\n",
      "\n",
      "ola,2023\n",
      "\n",
      "toh tuck place,1977\n",
      "\n",
      "jalan remaja,1990\n",
      "\n",
      "harbourfront place,2002\n",
      "\n",
      "affinity at serangoon,2024\n",
      "\n",
      "the arden,2025\n",
      "\n",
      "the hyde,2022\n",
      "42\n"
     ]
    }
   ],
   "source": [
    "cnt=0\n",
    "with open(\"tmp/property_to_correct_76_148.txt\", 'r') as fin:\n",
    "    lines = fin.readlines()\n",
    "    for line in lines:\n",
    "        line = line.replace(\"\\\"\", \"\")\n",
    "        print(line)\n",
    "        if ',' in line:\n",
    "            p = line.split(',')[0].rstrip()\n",
    "            if len(line.split(','))<2:\n",
    "                y = np.nan\n",
    "            else:\n",
    "                try:\n",
    "                    y = int(line.split(',')[1])\n",
    "                except ValueError:\n",
    "                    print(line)\n",
    "                    y = np.nan\n",
    "            if p in props.keys():\n",
    "                props[p]=y\n",
    "                cnt+=1\n",
    "print(cnt)"
   ],
   "metadata": {
    "collapsed": false,
    "pycharm": {
     "name": "#%%\n"
    }
   }
  },
  {
   "cell_type": "code",
   "execution_count": 3,
   "outputs": [],
   "source": [
    "props = {'infini at east coast': 2022, 'sengkang grand residences': 2023, 'tampines street 11': 1982, 'van holland': 2023, 'one-north eden': 2025, 'provence residence': 2026, 'affinity at serangoon': 2024, 'sims avenue': 1985, 'bartley vue': 2026, 'the avenir': 2023, 'boulevard 88': 2023, 'mori': 2026, 'lorong 34 geylang': 2001, 'residence twenty-two': 2021, '39 flower road': 1998, 'riverfront residences': 2024, 'peak residence': 2025, '35 gilstead': 2022, 'holland grove road': 1997, 'brookvale drive': 2024, 'parc central residences': 2023, 'perfect ten': 2026, 'parc greenwich': 2026, 'wilshire residences': 2024, 'the arden': 2025, 'fernvale link': 2015, 'shunfu road': 1985, 'jadescape': 2023, 'fernvale road': 2013, 'the tre ver': 2022, 'phoenix residences': 2024, 'the antares': 2022, 'beach road': np.nan, 'hougang avenue 7': 2000, 'jalan lempeng': np.nan, 'ikigai': 2025, 'pasir ris heights': 2017, 'yishun close': 2018, 'the commodore': 2024, 'river valley road': 1995, 'upper boon keng road': np.nan, '77 @ east coast': 2022, 'lattice one': 2022, 'jalan kemaman': 1993, 'canberra walk': 2023, 'haus on handy': 2023, '19 nassim': 2023, 'phoenix road': 2016, 'shenton way': 2011, 'harbour view gardens': 2021, 'rv altitude': 2022, 'phoenix garden': np.nan, 'yong siak street': 1973, 'westwood avenue': 2002, 'balestier road': 1995, 'choa chu kang avenue 4': 2019, 'cairnhill 16': 2023, 'm suites': 2024, 'yishun ring road': 1988, 'jalan molek': 2026, 'west coast crescent': 2005, 'amber sea': 2027, 'serangoon north avenue 1': 2024, 'rochester drive': 2011, 'upper changi road east': 1999, 'punggol field': 2016, 'tampines street 45': 1995, 'royal hallmark': 2025, 'serangoon central drive': 1987, 'hillside drive': 2001, 'hougang central': 2005, 'the linq @ beauty world': 2025, 'belgravia drive': 2024, 'arthur road': 2006, 'lorong 6 toa payoh': 2020, 'parc esta': 2022, 'eu tong sen street': 2007, 'guillemard road': 1994, 'canberra street': 2019, 'laurel tree': 2016, 'balmoral park': 1983, 'chestnut crescent': 1998, 'swiss view': 1994, 'dunearn 386': 2025, 'edgedale plains': 2017, 'lew lian vale': 2017, 'piermont grand': 2022, 'slim barracks rise': 2009, 'olloi': 2022, 'phoenix avenue': 2024, 'tanah merah kechil ridge': 2000, 'mount sophia': 2007, 'dalvey estate': 2005, 'sumang walk': 2023, 'broadrick road': 2014, 'liv @ mb': 2024, 'victoria street': np.nan, 'fraser street': 2017, 'simon lane': 2015, 'punggol walk': 2015, 'jalan bunga rampai': 2025, 'highgate crescent': 1995, 'marne road': np.nan, 'how sun road': 2021, 'hindhede drive': 2000, 'fifth avenue': 1998, 'jalan remaja': 1990, 'lorong 40 geylang': 1998, 'toh tuck road': 1995, 'marine drive': 1975, 'changi road': 1983, 'jalan rendang': 1984, 'lewis road': 2011, 'noma': 2024, 'punggol drive': 2013, 'les maisons nassim': 2023, 'tanjong katong road': 1965, 'cashew road': 1992, 'jervois road': np.nan, 'perumal road': 2021, 'pasir ris central street 3': 2021, 'makeway avenue': 2011, 'bencoolen house': 1998, 'rezi 24': 2022, 'yishun avenue 1': 2013, 'bukit timah road': np.nan, 'jurong west central 3': np.nan, 'prince charles crescent': 2017, 'margate road': 2009, 'foo kim lin road': 2016, \"saint patrick's road\": 2013, 'lorong h telok kurau': 1991, 'draycott park': np.nan, 'buangkok crescent': 2012, 'ang mo kio avenue 2': 2017, 'toh tuck drive': 1995, 'king albert park': 2017, 'scotts road': 2011, 'compassvale bow': 2013, 'dundee road': 2020, 'upper bukit timah road': np.nan, 'loyang view': 1996, 'simei street 1': 1996, 'draycott drive': 2002, 'tanglin hill': 1982, 'fernvale lane': 2016, 'sin ming avenue': 1996, 'jalan suka': 2024, 'lorong marzuki': 1984, 'mount echo park': 1987, 'richards avenue': 1976, 'flanders square': np.nan, 'leedon heights': 1984, 'amber gardens': 1986, 'opal crescent': 2012, 'balmoral road': 2014, 'thomson road': 1964, 'jalan intan': 2002, 'sophia road': 2001, '1208 upper boon keng road': np.nan, 'ps100': 2015, 'north gaia': 2029, 'sing joo walk': 1955, 'carpmael thirty-eight': 2020, 'hougang avenue 3': 1983, 'eng hoon street': 1937, 'punggol central': np.nan, 'geylang road': np.nan, 'joo chiat place': 1954, 'clarke quay': np.nan, 'compassvale road': 1998, 'farrer road': 1973, 'hougang avenue 2': 1985, 'anchorvale link': 2000, 'moulmein rise': 2003, 'cairnhill road': np.nan, 'rivervale drive': 1998, 'lorong k telok kurau': 1988, 'macpherson road': 1968, 'lorong 1a toa payoh': 2012, 'oxley road': 1973, 'sycamore tree': 2016, 'chancery lane': np.nan, 'horne road': np.nan, 'river valley close': np.nan, 'harbourfront place': 2002, 'how sun close': 1975, 'upper changi road north': np.nan, 'hume avenue': np.nan, 'jalan layang layang': 1992, 'toa payoh north': 1973, 'east coast road': 2002, 'the rochester': 2011, 'arena residences': 2022, 'lorong l telok kurau': 2014, 'fernvale close': 2018, 'west coast walk': 2010, 'parkway apartment': np.nan, 'almond avenue': 1998, 'lloyd road': 2016, 'toh tuck place': 1977, 'dyson road': 1996, 'chwee chian view': 1991, 'trevose crescent': 2001, 'tan quee lan street': 2005, 'woodlands drive 16': 2016, 'joo chiat road': 1985, 'alexandra road': 1938, 'woodgrove avenue': 1998, 'dublin road': np.nan, 'seraya lane': 2009, 'yishun central': 1987, 'stirling road': 1970, 'ellington square': 1965, 'gerald drive': 1989, 'jalan lapang': np.nan, 'telok kurau road': 1994, 'dairy farm heights': 1989, 'neu at novena': 2023, 'cuscaden reserve': 2022, 'parc clematis': 2023}"
   ],
   "metadata": {
    "collapsed": false,
    "pycharm": {
     "name": "#%%\n"
    }
   }
  },
  {
   "cell_type": "code",
   "execution_count": 32,
   "outputs": [
    {
     "name": "stdout",
     "output_type": "stream",
     "text": [
      "25\n"
     ]
    }
   ],
   "source": [
    "count=0\n",
    "for i in props.keys():\n",
    "    if props[i] is np.nan:\n",
    "        count+=1\n",
    "print(count)"
   ],
   "metadata": {
    "collapsed": false,
    "pycharm": {
     "name": "#%%\n"
    }
   }
  },
  {
   "cell_type": "code",
   "execution_count": 9,
   "outputs": [],
   "source": [
    "df_zj= pd.read_csv(\"dataset/train_ziji_feb27.csv\")\n"
   ],
   "metadata": {
    "collapsed": false,
    "pycharm": {
     "name": "#%%\n"
    }
   }
  },
  {
   "cell_type": "code",
   "execution_count": 7,
   "outputs": [],
   "source": [
    "def check_missing_values(df):\n",
    "    print(\"Stats for missing values:\")\n",
    "    print(\"-\"*15)\n",
    "    for col in df:\n",
    "        print(f\"{col}: \", df[col].isna().sum())"
   ],
   "metadata": {
    "collapsed": false,
    "pycharm": {
     "name": "#%%\n"
    }
   }
  },
  {
   "cell_type": "code",
   "execution_count": 10,
   "outputs": [
    {
     "name": "stdout",
     "output_type": "stream",
     "text": [
      "Stats for missing values:\n",
      "---------------\n",
      "Unnamed: 0:  0\n",
      "listing_id:  0\n",
      "name:  0\n",
      "street:  0\n",
      "type:  0\n",
      "model:  1277\n",
      "bedrooms:  397\n",
      "bathrooms:  1234\n",
      "district:  0\n",
      "region:  0\n",
      "planning_area:  0\n",
      "subszone:  0\n",
      "lat:  0\n",
      "lng:  0\n",
      "tenure:  285\n",
      "built_year:  2643\n",
      "no_of_units:  1038\n",
      "area_size:  0\n",
      "date_listed:  0\n",
      "price:  0\n"
     ]
    }
   ],
   "source": [
    "check_missing_values(df_zj)"
   ],
   "metadata": {
    "collapsed": false,
    "pycharm": {
     "name": "#%%\n"
    }
   }
  },
  {
   "cell_type": "code",
   "execution_count": 35,
   "outputs": [],
   "source": [
    "for k in props.keys():\n",
    "    train_data.at[train_data.name==k, 'built_year'] = props[k]"
   ],
   "metadata": {
    "collapsed": false,
    "pycharm": {
     "name": "#%%\n"
    }
   }
  },
  {
   "cell_type": "code",
   "execution_count": 36,
   "outputs": [
    {
     "name": "stdout",
     "output_type": "stream",
     "text": [
      "Stats for missing values:\n",
      "---------------\n",
      "Unnamed: 0:  0\n",
      "listing_id:  0\n",
      "name:  0\n",
      "street:  0\n",
      "type:  0\n",
      "model:  1277\n",
      "bedrooms:  397\n",
      "bathrooms:  1234\n",
      "district:  0\n",
      "region:  0\n",
      "planning_area:  0\n",
      "subszone:  0\n",
      "lat:  0\n",
      "lng:  0\n",
      "tenure:  285\n",
      "built_year:  73\n",
      "no_of_units:  1038\n",
      "area_size:  0\n",
      "date_listed:  0\n",
      "price:  0\n"
     ]
    }
   ],
   "source": [
    "check_missing_values(train_data)"
   ],
   "metadata": {
    "collapsed": false,
    "pycharm": {
     "name": "#%%\n"
    }
   }
  },
  {
   "cell_type": "code",
   "execution_count": 37,
   "outputs": [],
   "source": [
    "train_data.to_csv(\"dataset/train_ziji_mar26.csv\")"
   ],
   "metadata": {
    "collapsed": false,
    "pycharm": {
     "name": "#%%\n"
    }
   }
  },
  {
   "cell_type": "code",
   "execution_count": 4,
   "outputs": [],
   "source": [
    "df_rh = pd.read_csv(\"dataset/ronghua.txt\")\n"
   ],
   "metadata": {
    "collapsed": false,
    "pycharm": {
     "name": "#%%\n"
    }
   }
  },
  {
   "cell_type": "code",
   "execution_count": 8,
   "outputs": [
    {
     "name": "stdout",
     "output_type": "stream",
     "text": [
      "Stats for missing values:\n",
      "---------------\n",
      "Unnamed: 0:  0\n",
      "index:  0\n",
      "listing_id:  0\n",
      "name:  0\n",
      "street:  0\n",
      "type:  0\n",
      "bedrooms:  396\n",
      "bathrooms:  1234\n",
      "district:  0\n",
      "region:  0\n",
      "planning_area:  0\n",
      "subszone:  0\n",
      "lat:  0\n",
      "lng:  0\n",
      "tenure:  285\n",
      "built_year:  9927\n",
      "no_of_units:  1038\n",
      "area_size:  2\n",
      "date_listed:  0\n",
      "price:  0\n",
      "bedrooms_1:  0\n",
      "time_period:  0\n",
      "tenure_change:  0\n"
     ]
    }
   ],
   "source": [
    "check_missing_values(df_rh)"
   ],
   "metadata": {
    "collapsed": false,
    "pycharm": {
     "name": "#%%\n"
    }
   }
  },
  {
   "cell_type": "code",
   "execution_count": 11,
   "outputs": [],
   "source": [
    "for k in props.keys():\n",
    "    df_rh.at[df_rh.name==k, 'built_year'] = props[k]"
   ],
   "metadata": {
    "collapsed": false,
    "pycharm": {
     "name": "#%%\n"
    }
   }
  },
  {
   "cell_type": "code",
   "execution_count": 12,
   "outputs": [
    {
     "name": "stdout",
     "output_type": "stream",
     "text": [
      "Stats for missing values:\n",
      "---------------\n",
      "Unnamed: 0:  0\n",
      "index:  0\n",
      "listing_id:  0\n",
      "name:  0\n",
      "street:  0\n",
      "type:  0\n",
      "bedrooms:  396\n",
      "bathrooms:  1234\n",
      "district:  0\n",
      "region:  0\n",
      "planning_area:  0\n",
      "subszone:  0\n",
      "lat:  0\n",
      "lng:  0\n",
      "tenure:  285\n",
      "built_year:  7127\n",
      "no_of_units:  1038\n",
      "area_size:  2\n",
      "date_listed:  0\n",
      "price:  0\n",
      "bedrooms_1:  0\n",
      "time_period:  0\n",
      "tenure_change:  0\n"
     ]
    }
   ],
   "source": [
    "check_missing_values(df_rh)"
   ],
   "metadata": {
    "collapsed": false,
    "pycharm": {
     "name": "#%%\n"
    }
   }
  },
  {
   "cell_type": "markdown",
   "source": [],
   "metadata": {
    "collapsed": false
   }
  }
 ],
 "metadata": {
  "kernelspec": {
   "display_name": "Python 3",
   "language": "python",
   "name": "python3"
  },
  "language_info": {
   "codemirror_mode": {
    "name": "ipython",
    "version": 2
   },
   "file_extension": ".py",
   "mimetype": "text/x-python",
   "name": "python",
   "nbconvert_exporter": "python",
   "pygments_lexer": "ipython2",
   "version": "2.7.6"
  }
 },
 "nbformat": 4,
 "nbformat_minor": 0
}